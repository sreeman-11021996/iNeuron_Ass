{
 "cells": [
  {
   "cell_type": "code",
   "execution_count": 42,
   "id": "3b9961e0",
   "metadata": {},
   "outputs": [],
   "source": [
    "class A:\n",
    "    def __init__ (self,**kwargs):\n",
    "        self.name = kwargs[\"name\"]\n",
    "        self.age = kwargs[\"age\"]\n",
    "    \n",
    "    def __str__ (self):\n",
    "        disp_str = \"Name: \" + str(self.name) + \"\\n\" + \"Age: \" + str(self.age)\n",
    "        return disp_str\n",
    "    \n",
    "class B(A):\n",
    "    def __init__ (self,**kwargs):\n",
    "        super(B,self).__init__(**kwargs)\n",
    "        # same as super().__init__(**kwargs)"
   ]
  },
  {
   "cell_type": "code",
   "execution_count": 43,
   "id": "17200801",
   "metadata": {},
   "outputs": [
    {
     "name": "stdout",
     "output_type": "stream",
     "text": [
      "Name: Srinivaas\n",
      "Age: 26\n"
     ]
    }
   ],
   "source": [
    "obj = B(name = \"Srinivaas\",age = 26)\n",
    "print(obj)"
   ]
  },
  {
   "cell_type": "code",
   "execution_count": null,
   "id": "2b44271f",
   "metadata": {},
   "outputs": [],
   "source": []
  }
 ],
 "metadata": {
  "kernelspec": {
   "display_name": "Python 3",
   "language": "python",
   "name": "python3"
  },
  "language_info": {
   "codemirror_mode": {
    "name": "ipython",
    "version": 3
   },
   "file_extension": ".py",
   "mimetype": "text/x-python",
   "name": "python",
   "nbconvert_exporter": "python",
   "pygments_lexer": "ipython3",
   "version": "3.8.8"
  }
 },
 "nbformat": 4,
 "nbformat_minor": 5
}
