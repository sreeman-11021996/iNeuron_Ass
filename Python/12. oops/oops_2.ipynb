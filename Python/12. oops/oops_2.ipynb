{
 "cells": [
  {
   "cell_type": "code",
   "execution_count": 1,
   "id": "bb08b71c",
   "metadata": {},
   "outputs": [],
   "source": [
    "import my_dict"
   ]
  },
  {
   "cell_type": "code",
   "execution_count": 3,
   "id": "45e2b22c",
   "metadata": {},
   "outputs": [],
   "source": [
    "d = my_dict.dict_parser({\"k1\":\"v1\",\"k2\":\"v2\",\"k3\":\"v3\"})"
   ]
  },
  {
   "cell_type": "code",
   "execution_count": 4,
   "id": "67c4bfa5",
   "metadata": {},
   "outputs": [
    {
     "name": "stdout",
     "output_type": "stream",
     "text": [
      "{'k1': 'v1', 'k2': 'v2', 'k3': 'v3'}\n"
     ]
    }
   ],
   "source": [
    "d.display()"
   ]
  },
  {
   "cell_type": "code",
   "execution_count": null,
   "id": "b2997302",
   "metadata": {},
   "outputs": [],
   "source": []
  },
  {
   "cell_type": "code",
   "execution_count": null,
   "id": "a6da3fdc",
   "metadata": {},
   "outputs": [],
   "source": []
  },
  {
   "cell_type": "code",
   "execution_count": 5,
   "id": "7fdd870f",
   "metadata": {},
   "outputs": [],
   "source": [
    "# q1 -> create your own package for all the list functions\n",
    "# q2 -> create your own package for all the tuple functions\n",
    "# q3 -> create your own package for all the dictionary functions\n",
    "# q4 -> create your own package for all the set functions\n"
   ]
  },
  {
   "cell_type": "code",
   "execution_count": 11,
   "id": "215bb208",
   "metadata": {},
   "outputs": [],
   "source": [
    "# restriction :\n",
    "    # -> always use exception handling\n",
    "    # -> never use \"print\" statement\n",
    "    # -> always use logging while writing a code \n",
    "    # and log every activity performed by code in respective logging file\n",
    "# By next sunday -> before 30th Jan 10 AM IST\n",
    "# sudhanshu@ineuron.ai"
   ]
  },
  {
   "cell_type": "code",
   "execution_count": null,
   "id": "4e72ca44",
   "metadata": {},
   "outputs": [],
   "source": []
  },
  {
   "cell_type": "code",
   "execution_count": 7,
   "id": "68e06a00",
   "metadata": {},
   "outputs": [],
   "source": [
    "l = (1,2,3,4,5,6)"
   ]
  },
  {
   "cell_type": "code",
   "execution_count": null,
   "id": "353b9f27",
   "metadata": {},
   "outputs": [],
   "source": [
    "l."
   ]
  }
 ],
 "metadata": {
  "kernelspec": {
   "display_name": "Python 3",
   "language": "python",
   "name": "python3"
  },
  "language_info": {
   "codemirror_mode": {
    "name": "ipython",
    "version": 3
   },
   "file_extension": ".py",
   "mimetype": "text/x-python",
   "name": "python",
   "nbconvert_exporter": "python",
   "pygments_lexer": "ipython3",
   "version": "3.8.8"
  }
 },
 "nbformat": 4,
 "nbformat_minor": 5
}
