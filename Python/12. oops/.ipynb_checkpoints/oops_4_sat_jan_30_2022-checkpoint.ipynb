{
 "cells": [
  {
   "cell_type": "markdown",
   "id": "de94a473",
   "metadata": {},
   "source": [
    "### Polymorphism"
   ]
  },
  {
   "cell_type": "code",
   "execution_count": 1,
   "id": "89395f20",
   "metadata": {},
   "outputs": [],
   "source": [
    "def test (a,b):\n",
    "    return a + b"
   ]
  },
  {
   "cell_type": "code",
   "execution_count": 2,
   "id": "ca12dd22",
   "metadata": {},
   "outputs": [
    {
     "data": {
      "text/plain": [
       "7"
      ]
     },
     "execution_count": 2,
     "metadata": {},
     "output_type": "execute_result"
    }
   ],
   "source": [
    "test(3,4)"
   ]
  },
  {
   "cell_type": "code",
   "execution_count": 3,
   "id": "2199812a",
   "metadata": {},
   "outputs": [
    {
     "data": {
      "text/plain": [
       "'madapoosi balaji srinivaas'"
      ]
     },
     "execution_count": 3,
     "metadata": {},
     "output_type": "execute_result"
    }
   ],
   "source": [
    "test(\"madapoosi balaji \",\"srinivaas\")"
   ]
  },
  {
   "cell_type": "code",
   "execution_count": 4,
   "id": "ee4b17aa",
   "metadata": {},
   "outputs": [],
   "source": [
    "# method & operators are same but by passing different\n",
    "# type of data, it will give different result"
   ]
  },
  {
   "cell_type": "code",
   "execution_count": 5,
   "id": "2728de37",
   "metadata": {},
   "outputs": [],
   "source": [
    "class instagram:\n",
    "    def share_stories (self):\n",
    "        print(\"Share my instagram story\")\n",
    "    \n",
    "class facebook:\n",
    "    def share_stories (self):\n",
    "        print(\"Share my facebook story\")"
   ]
  },
  {
   "cell_type": "code",
   "execution_count": 9,
   "id": "f5ca79f7",
   "metadata": {},
   "outputs": [],
   "source": [
    "def sharestories(app):\n",
    "    app.share_stories()"
   ]
  },
  {
   "cell_type": "code",
   "execution_count": 10,
   "id": "5ca901d1",
   "metadata": {},
   "outputs": [],
   "source": [
    "i = instagram()\n",
    "f = facebook()"
   ]
  },
  {
   "cell_type": "code",
   "execution_count": 11,
   "id": "1ea24d42",
   "metadata": {
    "scrolled": true
   },
   "outputs": [
    {
     "name": "stdout",
     "output_type": "stream",
     "text": [
      "Share my instagram story\n"
     ]
    }
   ],
   "source": [
    "sharestories(i)"
   ]
  },
  {
   "cell_type": "code",
   "execution_count": null,
   "id": "ee31cbd8",
   "metadata": {},
   "outputs": [],
   "source": []
  },
  {
   "cell_type": "code",
   "execution_count": 12,
   "id": "ffee4fa4",
   "metadata": {},
   "outputs": [
    {
     "name": "stdout",
     "output_type": "stream",
     "text": [
      "Share my facebook story\n"
     ]
    }
   ],
   "source": [
    "sharestories(f)"
   ]
  },
  {
   "cell_type": "code",
   "execution_count": 13,
   "id": "e8288b45",
   "metadata": {},
   "outputs": [],
   "source": [
    "# implement polymorphism with inheritence"
   ]
  },
  {
   "cell_type": "code",
   "execution_count": 15,
   "id": "54b85fcb",
   "metadata": {},
   "outputs": [],
   "source": [
    "class social_media:\n",
    "    def share_stories(self):\n",
    "        print(\"share a story\")\n",
    "    def upload_pic (self):\n",
    "        print(\"this will help you to upload\"\n",
    "              \"pic on social media\")\n",
    "\n",
    "class facebook (social_media):\n",
    "    def share_stories(self):\n",
    "        print(\"this is fun to share stories on \"\n",
    "             \"facebook\")\n",
    "\n",
    "class instagram (social_media):\n",
    "    def share_stories(self):\n",
    "        print(\"this is fun to share stories on \"\n",
    "             \"instagram\")\n"
   ]
  },
  {
   "cell_type": "code",
   "execution_count": 16,
   "id": "7746e800",
   "metadata": {},
   "outputs": [],
   "source": [
    "f = facebook()\n",
    "i = instagram()"
   ]
  },
  {
   "cell_type": "code",
   "execution_count": 17,
   "id": "994ed102",
   "metadata": {},
   "outputs": [
    {
     "name": "stdout",
     "output_type": "stream",
     "text": [
      "this is fun to share stories on facebook\n"
     ]
    }
   ],
   "source": [
    "f.share_stories()"
   ]
  },
  {
   "cell_type": "code",
   "execution_count": 18,
   "id": "b21d52be",
   "metadata": {},
   "outputs": [
    {
     "name": "stdout",
     "output_type": "stream",
     "text": [
      "this is fun to share stories on instagram\n"
     ]
    }
   ],
   "source": [
    "i.share_stories()"
   ]
  },
  {
   "cell_type": "code",
   "execution_count": 19,
   "id": "6879cdac",
   "metadata": {},
   "outputs": [
    {
     "name": "stdout",
     "output_type": "stream",
     "text": [
      "this will help you to uploadpic on social media\n"
     ]
    }
   ],
   "source": [
    "f.upload_pic()"
   ]
  },
  {
   "cell_type": "code",
   "execution_count": null,
   "id": "5ce26b8f",
   "metadata": {},
   "outputs": [],
   "source": []
  },
  {
   "cell_type": "markdown",
   "id": "3f830c28",
   "metadata": {},
   "source": [
    "### Custom Class:"
   ]
  },
  {
   "cell_type": "code",
   "execution_count": 41,
   "id": "3be0ce34",
   "metadata": {},
   "outputs": [],
   "source": [
    "# Exception Handling:"
   ]
  },
  {
   "cell_type": "code",
   "execution_count": 44,
   "id": "48234c15",
   "metadata": {},
   "outputs": [],
   "source": [
    "class test(Exception):\n",
    "    def __init__ (self, msg,myval):\n",
    "        self.msg = msg\n",
    "        self.myval = myval"
   ]
  },
  {
   "cell_type": "code",
   "execution_count": 47,
   "id": "598e95ed",
   "metadata": {},
   "outputs": [
    {
     "name": "stdout",
     "output_type": "stream",
     "text": [
      "('this is my own exception class', 5)\n"
     ]
    }
   ],
   "source": [
    "try:\n",
    "    raise test(\"this is my own exception class\",5)\n",
    "except test as t:\n",
    "    print(t)"
   ]
  },
  {
   "cell_type": "code",
   "execution_count": 36,
   "id": "0f320625",
   "metadata": {},
   "outputs": [
    {
     "ename": "ZeroDivisionError",
     "evalue": "division by zero",
     "output_type": "error",
     "traceback": [
      "\u001b[1;31m---------------------------------------------------------------------------\u001b[0m",
      "\u001b[1;31mZeroDivisionError\u001b[0m                         Traceback (most recent call last)",
      "\u001b[1;32m<ipython-input-36-e61b48b0813b>\u001b[0m in \u001b[0;36m<module>\u001b[1;34m\u001b[0m\n\u001b[0;32m      1\u001b[0m \u001b[1;32mtry\u001b[0m\u001b[1;33m:\u001b[0m\u001b[1;33m\u001b[0m\u001b[1;33m\u001b[0m\u001b[0m\n\u001b[1;32m----> 2\u001b[1;33m     \u001b[1;36m5\u001b[0m\u001b[1;33m/\u001b[0m\u001b[1;36m0\u001b[0m\u001b[1;33m\u001b[0m\u001b[1;33m\u001b[0m\u001b[0m\n\u001b[0m\u001b[0;32m      3\u001b[0m     \u001b[1;32mraise\u001b[0m \u001b[0mtest\u001b[0m\u001b[1;33m(\u001b[0m\u001b[1;34m\"this is my own exception class\"\u001b[0m\u001b[1;33m)\u001b[0m\u001b[1;33m\u001b[0m\u001b[1;33m\u001b[0m\u001b[0m\n\u001b[0;32m      4\u001b[0m \u001b[1;32mexcept\u001b[0m \u001b[0mtest\u001b[0m \u001b[1;32mas\u001b[0m \u001b[0mt\u001b[0m\u001b[1;33m:\u001b[0m\u001b[1;33m\u001b[0m\u001b[1;33m\u001b[0m\u001b[0m\n\u001b[0;32m      5\u001b[0m     \u001b[0mprint\u001b[0m\u001b[1;33m(\u001b[0m\u001b[0mt\u001b[0m\u001b[1;33m)\u001b[0m\u001b[1;33m\u001b[0m\u001b[1;33m\u001b[0m\u001b[0m\n",
      "\u001b[1;31mZeroDivisionError\u001b[0m: division by zero"
     ]
    }
   ],
   "source": [
    "try:\n",
    "    5/0\n",
    "    raise test(\"this is my own exception class\")\n",
    "except test as t:\n",
    "    print(t)"
   ]
  },
  {
   "cell_type": "code",
   "execution_count": null,
   "id": "e877447b",
   "metadata": {},
   "outputs": [],
   "source": []
  },
  {
   "cell_type": "code",
   "execution_count": 48,
   "id": "ef075a8d",
   "metadata": {},
   "outputs": [],
   "source": [
    "# q1 -> create your own class for to achieve multiple,\n",
    "# multilevel inheritence\n",
    "# q2 -> create your own class to represent polymorphism\n",
    "# q3 -> create own class for custom exception\n",
    "# q4 -> create your own class to achieve encapsulation\n",
    "# q5 -> create your own class to achieve method overloading\n",
    "# and overriding"
   ]
  },
  {
   "cell_type": "code",
   "execution_count": null,
   "id": "69d69462",
   "metadata": {},
   "outputs": [],
   "source": []
  },
  {
   "cell_type": "code",
   "execution_count": 49,
   "id": "3d09656a",
   "metadata": {},
   "outputs": [],
   "source": [
    "#q1 -> multiple, multilevel inheritence"
   ]
  },
  {
   "cell_type": "code",
   "execution_count": 50,
   "id": "d2788143",
   "metadata": {},
   "outputs": [],
   "source": [
    "class college:\n",
    "    def __init__ (self,name):\n",
    "        self.col_name = name\n",
    "    def details(self):\n",
    "        print(self.col_name)\n",
    "        \n",
    "class student(college):\n",
    "    def __init__ (self,col_name,name,branch):\n",
    "        self.branch = branch\n",
    "        self.st_name = name\n",
    "        college.__init__(self,col_name)\n",
    "    \n",
    "    def details (self):\n",
    "        print(self.st_name)\n",
    "        print(self.branch)\n",
    "        college.details(self)\n",
    "        \n",
    "class teacher(college):\n",
    "    def __init__ (self,col_name,name,dept):\n",
    "        self.dept = dept\n",
    "        self.tc_name = name\n",
    "        college.__init__(self,col_name)\n",
    "        \n",
    "    def details (self):\n",
    "        print(self.tc_name)\n",
    "        print(self.dept)\n",
    "        college.details(self)"
   ]
  },
  {
   "cell_type": "code",
   "execution_count": 72,
   "id": "2eee25e4",
   "metadata": {},
   "outputs": [
    {
     "name": "stdout",
     "output_type": "stream",
     "text": [
      "Batch :  45\n",
      "Course :  bob\n"
     ]
    }
   ],
   "source": [
    "class Batch_number:\n",
    "    batchnumber = \"\"\n",
    "    def __init__ (self,a,b,c):\n",
    "        self.a = a\n",
    "        self.b = b \n",
    "        self.c = c\n",
    "        \n",
    "    def batch (self):\n",
    "        print(self.batchnumber)\n",
    "\n",
    "class course_name:\n",
    "    cname = \"\"\n",
    "    def course(self):\n",
    "        print(self.cname)\n",
    "\n",
    "class Student (Batch_number,course_name):\n",
    "    def details (self):\n",
    "        print(\"Batch : \",self.batchnumber)\n",
    "        print(\"Course : \",self.cname)\n",
    "\n",
    "s1 = Student(1,2,3)\n",
    "s1.batchnumber = \"45\"\n",
    "s1.cname = \"bob\"\n",
    "s1.details()"
   ]
  },
  {
   "cell_type": "code",
   "execution_count": 68,
   "id": "0d9ee690",
   "metadata": {},
   "outputs": [],
   "source": [
    "bn1 = Batch_number(4,5,6)"
   ]
  },
  {
   "cell_type": "code",
   "execution_count": 69,
   "id": "b6922d8a",
   "metadata": {},
   "outputs": [],
   "source": [
    "bn = Batch_number(1,2,3)"
   ]
  },
  {
   "cell_type": "code",
   "execution_count": 63,
   "id": "bf42a10d",
   "metadata": {},
   "outputs": [
    {
     "data": {
      "text/plain": [
       "'srinivaas'"
      ]
     },
     "execution_count": 63,
     "metadata": {},
     "output_type": "execute_result"
    }
   ],
   "source": [
    "# this changes batchnumber for bn only\n",
    "bn.batchnumber = \"srinivaas\"\n",
    "bn.batchnumber"
   ]
  },
  {
   "cell_type": "code",
   "execution_count": 70,
   "id": "ba14970e",
   "metadata": {},
   "outputs": [
    {
     "data": {
      "text/plain": [
       "'common'"
      ]
     },
     "execution_count": 70,
     "metadata": {},
     "output_type": "execute_result"
    }
   ],
   "source": [
    "bn1.batchnumber"
   ]
  },
  {
   "cell_type": "code",
   "execution_count": 67,
   "id": "29ec9854",
   "metadata": {},
   "outputs": [],
   "source": [
    "# this changes batchnumber for all instances\n",
    "Batch_number.batchnumber = \"common\""
   ]
  },
  {
   "cell_type": "code",
   "execution_count": 71,
   "id": "b42e2f38",
   "metadata": {},
   "outputs": [
    {
     "data": {
      "text/plain": [
       "'common'"
      ]
     },
     "execution_count": 71,
     "metadata": {},
     "output_type": "execute_result"
    }
   ],
   "source": [
    "bn.batchnumber"
   ]
  },
  {
   "cell_type": "markdown",
   "id": "6a2d16a3",
   "metadata": {},
   "source": [
    "### Static variable and method"
   ]
  },
  {
   "cell_type": "code",
   "execution_count": 108,
   "id": "c3bb50bf",
   "metadata": {},
   "outputs": [],
   "source": [
    "class Batch_number:\n",
    "    batchnumber = \"\"\n",
    "    def __init__ (self,a,b,c):\n",
    "        self.a = a\n",
    "        self.b = b \n",
    "        self.c = c\n",
    "    # static function or utility function\n",
    "    @staticmethod    \n",
    "    def batch ():\n",
    "        print(\"static method\")\n",
    "        \n",
    "    def batch1(self):\n",
    "        print(\"instance method\")"
   ]
  },
  {
   "cell_type": "code",
   "execution_count": 109,
   "id": "1e8aac39",
   "metadata": {},
   "outputs": [
    {
     "name": "stdout",
     "output_type": "stream",
     "text": [
      "static method\n"
     ]
    }
   ],
   "source": [
    "Batch_number.batch()"
   ]
  },
  {
   "cell_type": "code",
   "execution_count": 110,
   "id": "4e6e69b4",
   "metadata": {},
   "outputs": [
    {
     "ename": "TypeError",
     "evalue": "batch1() missing 1 required positional argument: 'self'",
     "output_type": "error",
     "traceback": [
      "\u001b[1;31m---------------------------------------------------------------------------\u001b[0m",
      "\u001b[1;31mTypeError\u001b[0m                                 Traceback (most recent call last)",
      "\u001b[1;32m<ipython-input-110-375e9f5672c3>\u001b[0m in \u001b[0;36m<module>\u001b[1;34m\u001b[0m\n\u001b[1;32m----> 1\u001b[1;33m \u001b[0mBatch_number\u001b[0m\u001b[1;33m.\u001b[0m\u001b[0mbatch1\u001b[0m\u001b[1;33m(\u001b[0m\u001b[1;33m)\u001b[0m\u001b[1;33m\u001b[0m\u001b[1;33m\u001b[0m\u001b[0m\n\u001b[0m",
      "\u001b[1;31mTypeError\u001b[0m: batch1() missing 1 required positional argument: 'self'"
     ]
    }
   ],
   "source": [
    "Batch_number.batch1()"
   ]
  },
  {
   "cell_type": "code",
   "execution_count": 111,
   "id": "deadc3bd",
   "metadata": {},
   "outputs": [
    {
     "name": "stdout",
     "output_type": "stream",
     "text": [
      "instance method\n"
     ]
    }
   ],
   "source": [
    "b = Batch_number(4,5,6)\n",
    "b.batch1()"
   ]
  },
  {
   "cell_type": "code",
   "execution_count": 104,
   "id": "e68e0be1",
   "metadata": {},
   "outputs": [],
   "source": [
    "bn = Batch_number(3,4,5)"
   ]
  },
  {
   "cell_type": "code",
   "execution_count": 105,
   "id": "90b4e9c1",
   "metadata": {},
   "outputs": [
    {
     "name": "stdout",
     "output_type": "stream",
     "text": [
      "static method\n"
     ]
    }
   ],
   "source": [
    "# acess via class without creating object\n",
    "Batch_number.batch()"
   ]
  },
  {
   "cell_type": "code",
   "execution_count": 106,
   "id": "f216e471",
   "metadata": {},
   "outputs": [
    {
     "name": "stdout",
     "output_type": "stream",
     "text": [
      "static method\n"
     ]
    }
   ],
   "source": [
    "bn.batch()"
   ]
  },
  {
   "cell_type": "code",
   "execution_count": null,
   "id": "0ee47d48",
   "metadata": {},
   "outputs": [],
   "source": []
  },
  {
   "cell_type": "code",
   "execution_count": 112,
   "id": "ac3f4853",
   "metadata": {},
   "outputs": [],
   "source": [
    "class accountdetail:\n",
    "    account_no = \"5464843118642\"\n",
    "    def __init__ (self, amount):\n",
    "        self.amount = amount\n",
    "        \n",
    "    def show_balance (self, deduction):\n",
    "        self.amount = self.amount - deduction\n",
    "        return self.amount, account_no"
   ]
  },
  {
   "cell_type": "code",
   "execution_count": null,
   "id": "f2b4269e",
   "metadata": {},
   "outputs": [],
   "source": []
  },
  {
   "cell_type": "markdown",
   "id": "18781729",
   "metadata": {},
   "source": [
    "### Abstraction:"
   ]
  },
  {
   "cell_type": "code",
   "execution_count": 113,
   "id": "f54256cb",
   "metadata": {},
   "outputs": [],
   "source": [
    "class abc:\n",
    "    pass"
   ]
  },
  {
   "cell_type": "code",
   "execution_count": 117,
   "id": "3c0d26bf",
   "metadata": {},
   "outputs": [],
   "source": [
    "from abc import abstractmethod\n",
    "\n",
    "class data_project:\n",
    "    \n",
    "    @abstractmethod\n",
    "    def read_file (self):\n",
    "        pass\n",
    "    \n",
    "    def validate_file_name (self):\n",
    "        pass\n",
    "    \n",
    "    def validate_datatype (self):\n",
    "        pass\n",
    "    \n",
    "    def validate_db_conn (self):\n",
    "        pass\n",
    "    \n",
    "    def create_conn (self):\n",
    "        pass\n",
    "    \n",
    "    def insert_data (self):\n",
    "        pass\n",
    "        \n",
    "    def delete_data (self):\n",
    "        pass\n",
    "    \n",
    "    def update_data (self):\n",
    "        pass\n",
    "                     \n",
    "    def perform_stats (self):\n",
    "        pass\n",
    "    \n",
    "    def perform_eda (self):\n",
    "        pass"
   ]
  },
  {
   "cell_type": "code",
   "execution_count": 118,
   "id": "acd29e1b",
   "metadata": {},
   "outputs": [],
   "source": [
    "class db_operation (data_project):\n",
    "    pass"
   ]
  },
  {
   "cell_type": "code",
   "execution_count": null,
   "id": "38ff62ae",
   "metadata": {},
   "outputs": [],
   "source": []
  },
  {
   "cell_type": "markdown",
   "id": "a044f72f",
   "metadata": {},
   "source": [
    "### Overloading vs Overriding"
   ]
  },
  {
   "cell_type": "code",
   "execution_count": 125,
   "id": "38063e8e",
   "metadata": {},
   "outputs": [],
   "source": [
    "\n",
    "class test:\n",
    "    def fun (self):\n",
    "        print(\"this is my sample class\")\n",
    "    \n",
    "    #Overload \n",
    "    def __str__ (self):\n",
    "        return str(\"function called at object print\")"
   ]
  },
  {
   "cell_type": "code",
   "execution_count": 126,
   "id": "40ec417f",
   "metadata": {},
   "outputs": [],
   "source": [
    "t = test()"
   ]
  },
  {
   "cell_type": "code",
   "execution_count": 127,
   "id": "6af842f3",
   "metadata": {},
   "outputs": [
    {
     "name": "stdout",
     "output_type": "stream",
     "text": [
      "function called at object print\n"
     ]
    }
   ],
   "source": [
    "print(t)"
   ]
  },
  {
   "cell_type": "code",
   "execution_count": 128,
   "id": "d9a24a7f",
   "metadata": {},
   "outputs": [
    {
     "data": {
      "text/plain": [
       "<__main__.test at 0x2361700a2b0>"
      ]
     },
     "execution_count": 128,
     "metadata": {},
     "output_type": "execute_result"
    }
   ],
   "source": [
    "t"
   ]
  },
  {
   "cell_type": "code",
   "execution_count": null,
   "id": "85c84978",
   "metadata": {},
   "outputs": [],
   "source": []
  },
  {
   "cell_type": "code",
   "execution_count": 129,
   "id": "9eabbbc2",
   "metadata": {},
   "outputs": [],
   "source": [
    "# mongo db atlas login\n",
    "# cassandra -> datastax cassandra\n",
    "# mysql workbench -> install - done"
   ]
  },
  {
   "cell_type": "code",
   "execution_count": null,
   "id": "c4b2349f",
   "metadata": {},
   "outputs": [],
   "source": []
  }
 ],
 "metadata": {
  "kernelspec": {
   "display_name": "Python 3",
   "language": "python",
   "name": "python3"
  },
  "language_info": {
   "codemirror_mode": {
    "name": "ipython",
    "version": 3
   },
   "file_extension": ".py",
   "mimetype": "text/x-python",
   "name": "python",
   "nbconvert_exporter": "python",
   "pygments_lexer": "ipython3",
   "version": "3.8.8"
  }
 },
 "nbformat": 4,
 "nbformat_minor": 5
}
