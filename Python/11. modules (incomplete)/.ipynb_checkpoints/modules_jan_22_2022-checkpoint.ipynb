{
 "cells": [
  {
   "cell_type": "code",
   "execution_count": 11,
   "id": "6d6bc67a",
   "metadata": {},
   "outputs": [
    {
     "name": "stdout",
     "output_type": "stream",
     "text": [
      " Volume in drive C is OS\n",
      " Volume Serial Number is 5C3F-BBFA\n",
      "\n",
      " Directory of C:\\Users\\SREEMAN\\iNeuron\\Python\\11. modules\n",
      "\n",
      "22-01-2022  10:28    <DIR>          .\n",
      "22-01-2022  10:07    <DIR>          ..\n",
      "22-01-2022  10:08    <DIR>          .ipynb_checkpoints\n",
      "22-01-2022  10:26                 0 module_1.py\n",
      "22-01-2022  10:21             1,192 modules_jan_22_2022.ipynb\n",
      "               2 File(s)          1,192 bytes\n",
      "               3 Dir(s)  182,203,707,392 bytes free\n"
     ]
    }
   ],
   "source": [
    "ls"
   ]
  },
  {
   "cell_type": "code",
   "execution_count": null,
   "id": "62a766ba",
   "metadata": {},
   "outputs": [],
   "source": []
  }
 ],
 "metadata": {
  "kernelspec": {
   "display_name": "Python 3",
   "language": "python",
   "name": "python3"
  },
  "language_info": {
   "codemirror_mode": {
    "name": "ipython",
    "version": 3
   },
   "file_extension": ".py",
   "mimetype": "text/x-python",
   "name": "python",
   "nbconvert_exporter": "python",
   "pygments_lexer": "ipython3",
   "version": "3.8.8"
  }
 },
 "nbformat": 4,
 "nbformat_minor": 5
}
