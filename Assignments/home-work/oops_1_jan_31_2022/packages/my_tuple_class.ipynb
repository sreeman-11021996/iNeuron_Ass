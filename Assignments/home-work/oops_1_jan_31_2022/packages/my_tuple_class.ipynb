{
 "cells": [
  {
   "cell_type": "code",
   "execution_count": 4,
   "id": "6a8680e8",
   "metadata": {},
   "outputs": [],
   "source": [
    "# q2 -> create your own package for all the tuple functions"
   ]
  },
  {
   "cell_type": "code",
   "execution_count": 5,
   "id": "d522652b",
   "metadata": {},
   "outputs": [],
   "source": [
    "# restriction :\n",
    "    # -> always use exception handling\n",
    "    # -> never use \"print\" statement\n",
    "    # -> always use logging while writing a code \n",
    "    # and log every activity performed by code in respective logging file\n",
    "# By next sunday -> before 30th Jan 10 AM IST\n",
    "# sudhanshu@ineuron.ai"
   ]
  },
  {
   "cell_type": "code",
   "execution_count": 6,
   "id": "016b8f64",
   "metadata": {},
   "outputs": [],
   "source": [
    "# 1. count\n",
    "# 2. index"
   ]
  },
  {
   "cell_type": "code",
   "execution_count": 23,
   "id": "5b63a698",
   "metadata": {},
   "outputs": [],
   "source": [
    "import logging"
   ]
  },
  {
   "cell_type": "code",
   "execution_count": 24,
   "id": "0e66c81e",
   "metadata": {},
   "outputs": [],
   "source": [
    "logging.basicConfig(filename = \"log_my_tuple.log\", level = logging.INFO, \n",
    "                   format = '%(asctime)s %(levelname)s %(message)s')"
   ]
  },
  {
   "cell_type": "code",
   "execution_count": null,
   "id": "8b856657",
   "metadata": {},
   "outputs": [],
   "source": []
  },
  {
   "cell_type": "code",
   "execution_count": 25,
   "id": "e9f8c72f",
   "metadata": {},
   "outputs": [],
   "source": [
    "class my_tuple:\n",
    "    def __init__ (self,my_tuple):\n",
    "        self.my_tuple = my_tuple\n",
    "        logging.info(\"my_tuple object created and initialized\")\n",
    "        \n",
    "    # index -> to get the first occurence index of the value in the tuple\n",
    "    def my_index (self,val):\n",
    "        flag = False\n",
    "        # condition for empty tuple:\n",
    "        if len(self.my_tuple) == 0:\n",
    "            flag = True\n",
    "            \n",
    "        for i in range(len(self.my_tuple)):\n",
    "            # check each velue\n",
    "            if self.my_tuple[i] == val:\n",
    "                index = i\n",
    "                logging.info(\"Index of \",value, \" in the tuple returned\")\n",
    "                break\n",
    "            elif i == (len(self.my_tuple) - 1):\n",
    "                flag = True\n",
    "            \n",
    "        # value not found Error\n",
    "        if flag:\n",
    "            try:\n",
    "                raise Exception(val,\" - Value not found in Tuple\")\n",
    "            except Exception as e:\n",
    "                logging.error(e)\n",
    "                index = None\n",
    "        \n",
    "        return index\n",
    "    \n",
    "    # count -> it counts the number of occurences of a particular value in the list\n",
    "    def my_count (self,val):\n",
    "        # checks the first occurence of the value\n",
    "        index = self.my_index(val)\n",
    "        if not index:\n",
    "            count = 0\n",
    "        else:\n",
    "            count = 1\n",
    "            # run a for loop from the index position after the first occurence index\n",
    "            for i in range(index+1,len(self.my_tuple)):\n",
    "                if self.my_tuple[i] == val:\n",
    "                    count+=1\n",
    "            #logging.info(\"Count of \", value, \" in the Tuple is returned\")\n",
    "        return count\n",
    "    "
   ]
  },
  {
   "cell_type": "code",
   "execution_count": 26,
   "id": "214be055",
   "metadata": {},
   "outputs": [],
   "source": [
    "t1 = my_tuple(())"
   ]
  },
  {
   "cell_type": "code",
   "execution_count": 27,
   "id": "119b0b42",
   "metadata": {},
   "outputs": [
    {
     "data": {
      "text/plain": [
       "()"
      ]
     },
     "execution_count": 27,
     "metadata": {},
     "output_type": "execute_result"
    }
   ],
   "source": [
    "t1.my_tuple"
   ]
  },
  {
   "cell_type": "code",
   "execution_count": 28,
   "id": "e15485f4",
   "metadata": {},
   "outputs": [
    {
     "data": {
      "text/plain": [
       "0"
      ]
     },
     "execution_count": 28,
     "metadata": {},
     "output_type": "execute_result"
    }
   ],
   "source": [
    "t1.my_count(40)"
   ]
  },
  {
   "cell_type": "code",
   "execution_count": 29,
   "id": "b89fde2d",
   "metadata": {},
   "outputs": [],
   "source": [
    "t1.my_index(13)"
   ]
  },
  {
   "cell_type": "code",
   "execution_count": null,
   "id": "47739d0e",
   "metadata": {},
   "outputs": [],
   "source": []
  }
 ],
 "metadata": {
  "kernelspec": {
   "display_name": "Python 3",
   "language": "python",
   "name": "python3"
  },
  "language_info": {
   "codemirror_mode": {
    "name": "ipython",
    "version": 3
   },
   "file_extension": ".py",
   "mimetype": "text/x-python",
   "name": "python",
   "nbconvert_exporter": "python",
   "pygments_lexer": "ipython3",
   "version": "3.8.8"
  }
 },
 "nbformat": 4,
 "nbformat_minor": 5
}
