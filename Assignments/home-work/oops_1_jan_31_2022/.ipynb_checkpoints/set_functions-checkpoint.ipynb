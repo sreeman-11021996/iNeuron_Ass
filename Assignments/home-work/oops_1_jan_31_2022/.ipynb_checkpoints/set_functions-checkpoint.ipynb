{
 "cells": [
  {
   "cell_type": "code",
   "execution_count": 1,
   "id": "275be2f2",
   "metadata": {},
   "outputs": [],
   "source": [
    "# q4 -> create your own package for all the set functions"
   ]
  },
  {
   "cell_type": "code",
   "execution_count": 2,
   "id": "2da22520",
   "metadata": {},
   "outputs": [],
   "source": [
    "# restriction :\n",
    "    # -> always use exception handling\n",
    "    # -> never use \"print\" statement\n",
    "    # -> always use logging while writing a code \n",
    "    # and log every activity performed by code in respective logging file\n",
    "# By next sunday -> before 30th Jan 10 AM IST\n",
    "# sudhanshu@ineuron.ai"
   ]
  },
  {
   "cell_type": "code",
   "execution_count": 5,
   "id": "68d66508",
   "metadata": {},
   "outputs": [],
   "source": [
    "# 1. add\n",
    "# 2. clear\n",
    "# 3. copy\n",
    "# 4. difference\n",
    "# 5. difference_update\n",
    "# 6. discard\n",
    "# 7. intersection\n",
    "# 8. intersection_update\n",
    "# 9. isdisjoint\n",
    "# 10. issubset\n",
    "# 11. issuperset\n",
    "# 12. pop\n",
    "# 13. remove\n",
    "# 14. symmetric_difference\n",
    "# 15. symmetric_difference_update\n",
    "# 16. union\n",
    "# 17. update"
   ]
  },
  {
   "cell_type": "code",
   "execution_count": null,
   "id": "f0523a4a",
   "metadata": {},
   "outputs": [],
   "source": []
  },
  {
   "cell_type": "code",
   "execution_count": 3,
   "id": "eb19e61d",
   "metadata": {},
   "outputs": [],
   "source": [
    "s = {1,2,3,4,5,6,6,6}"
   ]
  },
  {
   "cell_type": "code",
   "execution_count": 6,
   "id": "585a82ac",
   "metadata": {},
   "outputs": [],
   "source": [
    "# 1. add"
   ]
  },
  {
   "cell_type": "code",
   "execution_count": 7,
   "id": "54ec2bb9",
   "metadata": {},
   "outputs": [],
   "source": [
    "s.add(7)"
   ]
  },
  {
   "cell_type": "code",
   "execution_count": 8,
   "id": "dcde4505",
   "metadata": {},
   "outputs": [
    {
     "data": {
      "text/plain": [
       "{1, 2, 3, 4, 5, 6, 7}"
      ]
     },
     "execution_count": 8,
     "metadata": {},
     "output_type": "execute_result"
    }
   ],
   "source": [
    "s"
   ]
  },
  {
   "cell_type": "code",
   "execution_count": 17,
   "id": "d57760ca",
   "metadata": {},
   "outputs": [],
   "source": [
    "s.add(\"sudh\")"
   ]
  },
  {
   "cell_type": "code",
   "execution_count": 18,
   "id": "b38c17d0",
   "metadata": {},
   "outputs": [
    {
     "data": {
      "text/plain": [
       "{(1, 2), 1, 2, 3, 4, 5, 6, 7, 'sudh'}"
      ]
     },
     "execution_count": 18,
     "metadata": {},
     "output_type": "execute_result"
    }
   ],
   "source": [
    "s"
   ]
  },
  {
   "cell_type": "code",
   "execution_count": null,
   "id": "81d35a04",
   "metadata": {},
   "outputs": [],
   "source": []
  },
  {
   "cell_type": "code",
   "execution_count": null,
   "id": "38167cbc",
   "metadata": {},
   "outputs": [],
   "source": []
  },
  {
   "cell_type": "code",
   "execution_count": null,
   "id": "f1fe92b8",
   "metadata": {},
   "outputs": [],
   "source": [
    "class set:\n",
    "    \n",
    "    def __init__ (self,*args):\n",
    "        self._dict = {}\n",
    "        for arg in args:\n",
    "            self.my_add(arg)\n",
    "            \n",
    "    def my_add (self,item):\n",
    "        self._dict[item] = item\n",
    "    \n",
    "    def __str__ (self):\n",
    "        "
   ]
  },
  {
   "cell_type": "code",
   "execution_count": null,
   "id": "84751633",
   "metadata": {},
   "outputs": [],
   "source": []
  },
  {
   "cell_type": "code",
   "execution_count": null,
   "id": "29ec98e7",
   "metadata": {},
   "outputs": [],
   "source": []
  }
 ],
 "metadata": {
  "kernelspec": {
   "display_name": "Python 3",
   "language": "python",
   "name": "python3"
  },
  "language_info": {
   "codemirror_mode": {
    "name": "ipython",
    "version": 3
   },
   "file_extension": ".py",
   "mimetype": "text/x-python",
   "name": "python",
   "nbconvert_exporter": "python",
   "pygments_lexer": "ipython3",
   "version": "3.8.8"
  }
 },
 "nbformat": 4,
 "nbformat_minor": 5
}
