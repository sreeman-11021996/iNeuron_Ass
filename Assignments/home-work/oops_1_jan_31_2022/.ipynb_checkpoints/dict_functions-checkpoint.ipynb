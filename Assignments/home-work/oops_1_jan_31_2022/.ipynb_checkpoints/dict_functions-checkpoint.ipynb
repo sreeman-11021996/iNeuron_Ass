{
 "cells": [
  {
   "cell_type": "code",
   "execution_count": 1,
   "id": "b1ae55eb",
   "metadata": {},
   "outputs": [],
   "source": [
    "# q3 -> create your own package for all the dictionary functions"
   ]
  },
  {
   "cell_type": "code",
   "execution_count": 2,
   "id": "365d333d",
   "metadata": {},
   "outputs": [],
   "source": [
    "# restriction :\n",
    "    # -> always use exception handling\n",
    "    # -> never use \"print\" statement\n",
    "    # -> always use logging while writing a code \n",
    "    # and log every activity performed by code in respective logging file\n",
    "# By next sunday -> before 30th Jan 10 AM IST\n",
    "# sudhanshu@ineuron.ai"
   ]
  },
  {
   "cell_type": "code",
   "execution_count": 3,
   "id": "b9ecba8e",
   "metadata": {},
   "outputs": [],
   "source": [
    "# 1. clear\n",
    "# 2. copy\n",
    "# -------------\n",
    "# 3. fromkeys -/\n",
    "# 4. get -/ \n",
    "# 5. items -/\n",
    "# 6. keys -/\n",
    "# 7. pop -/\n",
    "# 8. popitem -/\n",
    "# 9. setdefault -/\n",
    "# 10. update -/\n",
    "# 11. values\n",
    "## for loop iteration enable:"
   ]
  },
  {
   "cell_type": "code",
   "execution_count": 4,
   "id": "1bb78c47",
   "metadata": {},
   "outputs": [],
   "source": [
    "d = {\"k1\":1,\"k2\":2,\"k3\":3}"
   ]
  },
  {
   "cell_type": "code",
   "execution_count": 5,
   "id": "51d6fc16",
   "metadata": {},
   "outputs": [],
   "source": [
    "# 3. fromkeys"
   ]
  },
  {
   "cell_type": "code",
   "execution_count": 6,
   "id": "811beb13",
   "metadata": {},
   "outputs": [],
   "source": [
    "seq = [\"a\",\"b\",\"c\",\"d\",\"e\"]\n",
    "list1 = [1,2]"
   ]
  },
  {
   "cell_type": "code",
   "execution_count": 7,
   "id": "a260f033",
   "metadata": {},
   "outputs": [
    {
     "data": {
      "text/plain": [
       "{'a': [1, 2], 'b': [1, 2], 'c': [1, 2], 'd': [1, 2], 'e': [1, 2]}"
      ]
     },
     "execution_count": 7,
     "metadata": {},
     "output_type": "execute_result"
    }
   ],
   "source": [
    "d = dict.fromkeys(seq,list1)\n",
    "d"
   ]
  },
  {
   "cell_type": "code",
   "execution_count": 8,
   "id": "93aef2e4",
   "metadata": {},
   "outputs": [],
   "source": [
    "list1.append(5)"
   ]
  },
  {
   "cell_type": "code",
   "execution_count": 9,
   "id": "44778503",
   "metadata": {},
   "outputs": [
    {
     "data": {
      "text/plain": [
       "{'a': [1, 2, 5],\n",
       " 'b': [1, 2, 5],\n",
       " 'c': [1, 2, 5],\n",
       " 'd': [1, 2, 5],\n",
       " 'e': [1, 2, 5]}"
      ]
     },
     "execution_count": 9,
     "metadata": {},
     "output_type": "execute_result"
    }
   ],
   "source": [
    "d"
   ]
  },
  {
   "cell_type": "code",
   "execution_count": 10,
   "id": "ce1003b2",
   "metadata": {},
   "outputs": [],
   "source": [
    "from my_list_class import my_list"
   ]
  },
  {
   "cell_type": "code",
   "execution_count": 11,
   "id": "e01ad079",
   "metadata": {},
   "outputs": [],
   "source": [
    "def my_fromkeys (seq,value=None):\n",
    "    new_dict = dict()\n",
    "    for i in seq:\n",
    "        new_dict[i] = value\n",
    "    return new_dict"
   ]
  },
  {
   "cell_type": "code",
   "execution_count": 12,
   "id": "b05d99f8",
   "metadata": {},
   "outputs": [],
   "source": [
    "# if you want to use my_list object as value\n",
    "def display_my_list (d_t):\n",
    "    str_ = \"\"\n",
    "    for i in d_t:\n",
    "        str_ = str_ + str(i) + \" : \" + str(d_t[i].my_list) + \" , \"\n",
    "    str_ = str_[:-3]\n",
    "    return \"{\" + str_ + \"}\""
   ]
  },
  {
   "cell_type": "code",
   "execution_count": 13,
   "id": "d287acd7",
   "metadata": {},
   "outputs": [],
   "source": [
    "seq_t = [\"a\",\"b\",\"c\",\"d\",\"e\"]\n",
    "list1_t = my_list([1,2])"
   ]
  },
  {
   "cell_type": "code",
   "execution_count": 14,
   "id": "b8377a9b",
   "metadata": {},
   "outputs": [],
   "source": [
    "seq_t = range(4)\n",
    "list1_t = my_list([])"
   ]
  },
  {
   "cell_type": "code",
   "execution_count": 15,
   "id": "d4547db1",
   "metadata": {},
   "outputs": [
    {
     "data": {
      "text/plain": [
       "'{0 : [] , 1 : [] , 2 : [] , 3 : []}'"
      ]
     },
     "execution_count": 15,
     "metadata": {},
     "output_type": "execute_result"
    }
   ],
   "source": [
    "d_t = my_fromkeys(seq_t,list1_t)\n",
    "display_my_list(d_t)"
   ]
  },
  {
   "cell_type": "code",
   "execution_count": 16,
   "id": "ec250c69",
   "metadata": {},
   "outputs": [
    {
     "name": "stderr",
     "output_type": "stream",
     "text": [
      "--- Logging error ---\n",
      "Traceback (most recent call last):\n",
      "  File \"C:\\Users\\SREEMAN\\anaconda3\\lib\\logging\\__init__.py\", line 1081, in emit\n",
      "    msg = self.format(record)\n",
      "  File \"C:\\Users\\SREEMAN\\anaconda3\\lib\\logging\\__init__.py\", line 925, in format\n",
      "    return fmt.format(record)\n",
      "  File \"C:\\Users\\SREEMAN\\anaconda3\\lib\\logging\\__init__.py\", line 664, in format\n",
      "    record.message = record.getMessage()\n",
      "  File \"C:\\Users\\SREEMAN\\anaconda3\\lib\\logging\\__init__.py\", line 369, in getMessage\n",
      "    msg = msg % self.args\n",
      "TypeError: not all arguments converted during string formatting\n",
      "Call stack:\n",
      "  File \"C:\\Users\\SREEMAN\\anaconda3\\lib\\runpy.py\", line 194, in _run_module_as_main\n",
      "    return _run_code(code, main_globals, None,\n",
      "  File \"C:\\Users\\SREEMAN\\anaconda3\\lib\\runpy.py\", line 87, in _run_code\n",
      "    exec(code, run_globals)\n",
      "  File \"C:\\Users\\SREEMAN\\anaconda3\\lib\\site-packages\\ipykernel_launcher.py\", line 16, in <module>\n",
      "    app.launch_new_instance()\n",
      "  File \"C:\\Users\\SREEMAN\\anaconda3\\lib\\site-packages\\traitlets\\config\\application.py\", line 845, in launch_instance\n",
      "    app.start()\n",
      "  File \"C:\\Users\\SREEMAN\\anaconda3\\lib\\site-packages\\ipykernel\\kernelapp.py\", line 612, in start\n",
      "    self.io_loop.start()\n",
      "  File \"C:\\Users\\SREEMAN\\anaconda3\\lib\\site-packages\\tornado\\platform\\asyncio.py\", line 199, in start\n",
      "    self.asyncio_loop.run_forever()\n",
      "  File \"C:\\Users\\SREEMAN\\anaconda3\\lib\\asyncio\\base_events.py\", line 570, in run_forever\n",
      "    self._run_once()\n",
      "  File \"C:\\Users\\SREEMAN\\anaconda3\\lib\\asyncio\\base_events.py\", line 1859, in _run_once\n",
      "    handle._run()\n",
      "  File \"C:\\Users\\SREEMAN\\anaconda3\\lib\\asyncio\\events.py\", line 81, in _run\n",
      "    self._context.run(self._callback, *self._args)\n",
      "  File \"C:\\Users\\SREEMAN\\anaconda3\\lib\\site-packages\\tornado\\ioloop.py\", line 688, in <lambda>\n",
      "    lambda f: self._run_callback(functools.partial(callback, future))\n",
      "  File \"C:\\Users\\SREEMAN\\anaconda3\\lib\\site-packages\\tornado\\ioloop.py\", line 741, in _run_callback\n",
      "    ret = callback()\n",
      "  File \"C:\\Users\\SREEMAN\\anaconda3\\lib\\site-packages\\tornado\\gen.py\", line 814, in inner\n",
      "    self.ctx_run(self.run)\n",
      "  File \"C:\\Users\\SREEMAN\\anaconda3\\lib\\site-packages\\tornado\\gen.py\", line 775, in run\n",
      "    yielded = self.gen.send(value)\n",
      "  File \"C:\\Users\\SREEMAN\\anaconda3\\lib\\site-packages\\ipykernel\\kernelbase.py\", line 365, in process_one\n",
      "    yield gen.maybe_future(dispatch(*args))\n",
      "  File \"C:\\Users\\SREEMAN\\anaconda3\\lib\\site-packages\\tornado\\gen.py\", line 234, in wrapper\n",
      "    yielded = ctx_run(next, result)\n",
      "  File \"C:\\Users\\SREEMAN\\anaconda3\\lib\\site-packages\\ipykernel\\kernelbase.py\", line 268, in dispatch_shell\n",
      "    yield gen.maybe_future(handler(stream, idents, msg))\n",
      "  File \"C:\\Users\\SREEMAN\\anaconda3\\lib\\site-packages\\tornado\\gen.py\", line 234, in wrapper\n",
      "    yielded = ctx_run(next, result)\n",
      "  File \"C:\\Users\\SREEMAN\\anaconda3\\lib\\site-packages\\ipykernel\\kernelbase.py\", line 543, in execute_request\n",
      "    self.do_execute(\n",
      "  File \"C:\\Users\\SREEMAN\\anaconda3\\lib\\site-packages\\tornado\\gen.py\", line 234, in wrapper\n",
      "    yielded = ctx_run(next, result)\n",
      "  File \"C:\\Users\\SREEMAN\\anaconda3\\lib\\site-packages\\ipykernel\\ipkernel.py\", line 306, in do_execute\n",
      "    res = shell.run_cell(code, store_history=store_history, silent=silent)\n",
      "  File \"C:\\Users\\SREEMAN\\anaconda3\\lib\\site-packages\\ipykernel\\zmqshell.py\", line 536, in run_cell\n",
      "    return super(ZMQInteractiveShell, self).run_cell(*args, **kwargs)\n",
      "  File \"C:\\Users\\SREEMAN\\anaconda3\\lib\\site-packages\\IPython\\core\\interactiveshell.py\", line 2894, in run_cell\n",
      "    result = self._run_cell(\n",
      "  File \"C:\\Users\\SREEMAN\\anaconda3\\lib\\site-packages\\IPython\\core\\interactiveshell.py\", line 2940, in _run_cell\n",
      "    return runner(coro)\n",
      "  File \"C:\\Users\\SREEMAN\\anaconda3\\lib\\site-packages\\IPython\\core\\async_helpers.py\", line 68, in _pseudo_sync_runner\n",
      "    coro.send(None)\n",
      "  File \"C:\\Users\\SREEMAN\\anaconda3\\lib\\site-packages\\IPython\\core\\interactiveshell.py\", line 3165, in run_cell_async\n",
      "    has_raised = await self.run_ast_nodes(code_ast.body, cell_name,\n",
      "  File \"C:\\Users\\SREEMAN\\anaconda3\\lib\\site-packages\\IPython\\core\\interactiveshell.py\", line 3357, in run_ast_nodes\n",
      "    if (await self.run_code(code, result,  async_=asy)):\n",
      "  File \"C:\\Users\\SREEMAN\\anaconda3\\lib\\site-packages\\IPython\\core\\interactiveshell.py\", line 3437, in run_code\n",
      "    exec(code_obj, self.user_global_ns, self.user_ns)\n",
      "  File \"<ipython-input-16-de7eebe5f951>\", line 1, in <module>\n",
      "    list1_t.my_append(4)\n",
      "  File \"C:\\Users\\SREEMAN\\iNeuron\\Assignments\\home-work\\oops_1_jan_31_2022\\my_list_class.py\", line 23, in my_append\n",
      "    logging.info(val, \" appended to the list \")\n",
      "Message: 4\n",
      "Arguments: (' appended to the list ',)\n"
     ]
    }
   ],
   "source": [
    "list1_t.my_append(4)"
   ]
  },
  {
   "cell_type": "code",
   "execution_count": 17,
   "id": "9c95ebe3",
   "metadata": {},
   "outputs": [
    {
     "data": {
      "text/plain": [
       "{0: <my_list_class.my_list at 0x2f1cff31340>,\n",
       " 1: <my_list_class.my_list at 0x2f1cff31340>,\n",
       " 2: <my_list_class.my_list at 0x2f1cff31340>,\n",
       " 3: <my_list_class.my_list at 0x2f1cff31340>}"
      ]
     },
     "metadata": {},
     "output_type": "display_data"
    }
   ],
   "source": [
    "display(d_t)"
   ]
  },
  {
   "cell_type": "code",
   "execution_count": 18,
   "id": "f95fcc35",
   "metadata": {},
   "outputs": [
    {
     "data": {
      "text/plain": [
       "{0: <my_list_class.my_list at 0x2f1cff31340>,\n",
       " 1: <my_list_class.my_list at 0x2f1cff31340>,\n",
       " 2: <my_list_class.my_list at 0x2f1cff31340>,\n",
       " 3: <my_list_class.my_list at 0x2f1cff31340>}"
      ]
     },
     "execution_count": 18,
     "metadata": {},
     "output_type": "execute_result"
    }
   ],
   "source": [
    "d_t"
   ]
  },
  {
   "cell_type": "code",
   "execution_count": null,
   "id": "ac2fb585",
   "metadata": {},
   "outputs": [],
   "source": []
  },
  {
   "cell_type": "code",
   "execution_count": 19,
   "id": "98081d8a",
   "metadata": {},
   "outputs": [],
   "source": [
    "# 4. get"
   ]
  },
  {
   "cell_type": "code",
   "execution_count": 20,
   "id": "1ec979ba",
   "metadata": {},
   "outputs": [],
   "source": [
    "d = {\"k1\":1,\"k2\":2,\"k3\":3}"
   ]
  },
  {
   "cell_type": "code",
   "execution_count": 21,
   "id": "5670491a",
   "metadata": {},
   "outputs": [
    {
     "data": {
      "text/plain": [
       "0"
      ]
     },
     "execution_count": 21,
     "metadata": {},
     "output_type": "execute_result"
    }
   ],
   "source": [
    "d.get(\"k4\",0)"
   ]
  },
  {
   "cell_type": "code",
   "execution_count": 22,
   "id": "036bcf51",
   "metadata": {},
   "outputs": [],
   "source": [
    "def my_get (my_dict, key, default = None):\n",
    "    try:\n",
    "        value = my_dict[key]\n",
    "        return value\n",
    "    except KeyError as ke:\n",
    "        print(ke,\" - Not present in dictionary\")\n",
    "        return default"
   ]
  },
  {
   "cell_type": "code",
   "execution_count": 23,
   "id": "b5bf3d4e",
   "metadata": {},
   "outputs": [
    {
     "name": "stdout",
     "output_type": "stream",
     "text": [
      "'k4'  - Not present in dictionary\n"
     ]
    },
    {
     "data": {
      "text/plain": [
       "0"
      ]
     },
     "execution_count": 23,
     "metadata": {},
     "output_type": "execute_result"
    }
   ],
   "source": [
    "my_get(d,\"k4\", 0)"
   ]
  },
  {
   "cell_type": "code",
   "execution_count": 24,
   "id": "92b2dd04",
   "metadata": {},
   "outputs": [],
   "source": [
    "# 5. items"
   ]
  },
  {
   "cell_type": "code",
   "execution_count": 25,
   "id": "7700c2f3",
   "metadata": {},
   "outputs": [
    {
     "data": {
      "text/plain": [
       "dict_items([])"
      ]
     },
     "execution_count": 25,
     "metadata": {},
     "output_type": "execute_result"
    }
   ],
   "source": [
    "{}.items()"
   ]
  },
  {
   "cell_type": "code",
   "execution_count": 26,
   "id": "fbf90648",
   "metadata": {},
   "outputs": [],
   "source": [
    "def my_items (my_dict):\n",
    "    return dict_items(my_dict)"
   ]
  },
  {
   "cell_type": "code",
   "execution_count": 27,
   "id": "c0c7b19d",
   "metadata": {},
   "outputs": [],
   "source": [
    "class dict_items:\n",
    "    def __init__ (self,my_dict):\n",
    "        dict_items = list()\n",
    "        for key in my_dict:\n",
    "            dict_items.append((key,my_dict[key]))\n",
    "        self.dict_items =  dict_items\n",
    "        \n",
    "    def __str__ (self):\n",
    "        display_str = \"dict_items(\"+str(self.dict_items)+\")\"\n",
    "        return display_str"
   ]
  },
  {
   "cell_type": "code",
   "execution_count": 28,
   "id": "f942ea69",
   "metadata": {},
   "outputs": [],
   "source": [
    "ex = my_items({})"
   ]
  },
  {
   "cell_type": "code",
   "execution_count": 29,
   "id": "ddc7bc7b",
   "metadata": {},
   "outputs": [
    {
     "name": "stdout",
     "output_type": "stream",
     "text": [
      "dict_items([])\n",
      "<class '__main__.dict_items'>\n"
     ]
    }
   ],
   "source": [
    "print(ex)\n",
    "print(type(ex))"
   ]
  },
  {
   "cell_type": "code",
   "execution_count": 30,
   "id": "c840958f",
   "metadata": {},
   "outputs": [],
   "source": [
    "# 6. keys"
   ]
  },
  {
   "cell_type": "code",
   "execution_count": 31,
   "id": "2e043998",
   "metadata": {},
   "outputs": [
    {
     "data": {
      "text/plain": [
       "dict_keys(['k1', 'k2', 'k3'])"
      ]
     },
     "execution_count": 31,
     "metadata": {},
     "output_type": "execute_result"
    }
   ],
   "source": [
    "d.keys()"
   ]
  },
  {
   "cell_type": "code",
   "execution_count": 32,
   "id": "314469aa",
   "metadata": {},
   "outputs": [],
   "source": [
    "def my_keys (my_dict):\n",
    "    return dict_keys(my_dict)"
   ]
  },
  {
   "cell_type": "code",
   "execution_count": 33,
   "id": "e071fac5",
   "metadata": {},
   "outputs": [],
   "source": [
    "class dict_keys:\n",
    "    def __init__ (self,my_dict):\n",
    "        dict_keys = list()\n",
    "        for key in my_dict:\n",
    "            dict_keys.append(key)\n",
    "        self.dict_keys = dict_keys\n",
    "    \n",
    "    def __str__ (self):\n",
    "        display_str = \"dict_keys(\"+str(self.dict_keys)+\")\"\n",
    "        return display_str"
   ]
  },
  {
   "cell_type": "code",
   "execution_count": 34,
   "id": "fb2e3639",
   "metadata": {},
   "outputs": [
    {
     "name": "stdout",
     "output_type": "stream",
     "text": [
      "dict_keys(['k1', 'k2', 'k3'])\n",
      "<class '__main__.dict_keys'>\n"
     ]
    }
   ],
   "source": [
    "d_keys = my_keys(d)\n",
    "print(d_keys)\n",
    "print(type(d_keys))"
   ]
  },
  {
   "cell_type": "code",
   "execution_count": 35,
   "id": "4b6988f9",
   "metadata": {},
   "outputs": [],
   "source": [
    "# 7. pop -> if no default value is given - KeyError is raised for unknown keys"
   ]
  },
  {
   "cell_type": "code",
   "execution_count": 36,
   "id": "b2a1ca99",
   "metadata": {},
   "outputs": [],
   "source": [
    "d = {\"k1\":1,\"k2\":2,\"k3\":3}"
   ]
  },
  {
   "cell_type": "code",
   "execution_count": 37,
   "id": "f89ba3c1",
   "metadata": {},
   "outputs": [
    {
     "data": {
      "text/plain": [
       "3"
      ]
     },
     "execution_count": 37,
     "metadata": {},
     "output_type": "execute_result"
    }
   ],
   "source": [
    "d.pop(\"k3\",0)"
   ]
  },
  {
   "cell_type": "code",
   "execution_count": 38,
   "id": "e877e05c",
   "metadata": {},
   "outputs": [
    {
     "data": {
      "text/plain": [
       "{'k1': 1, 'k2': 2}"
      ]
     },
     "execution_count": 38,
     "metadata": {},
     "output_type": "execute_result"
    }
   ],
   "source": [
    "d"
   ]
  },
  {
   "cell_type": "code",
   "execution_count": 39,
   "id": "e5f308f3",
   "metadata": {},
   "outputs": [],
   "source": [
    "def key_error (my_dict,key):\n",
    "    try:\n",
    "        value = my_dict[key]\n",
    "        return None,value\n",
    "    except Exception as e:\n",
    "        return e,None"
   ]
  },
  {
   "cell_type": "code",
   "execution_count": 40,
   "id": "4b2c94c9",
   "metadata": {},
   "outputs": [],
   "source": [
    "def my_pop (my_dict,key,default=None):\n",
    "    # check if key exists inside dictionary\n",
    "    exp,value = key_error(my_dict,key)\n",
    "    if exp:\n",
    "        if default is None:\n",
    "            print(exp, \" - Key not in dictionary\")\n",
    "            return \n",
    "        else:\n",
    "            return default\n",
    "    # do pop\n",
    "    new_dict = dict()\n",
    "    for k in my_dict:\n",
    "        if k is not key:\n",
    "            new_dict[k] = my_dict[k]\n",
    "            \n",
    "    return value,new_dict"
   ]
  },
  {
   "cell_type": "code",
   "execution_count": 41,
   "id": "4b550914",
   "metadata": {},
   "outputs": [],
   "source": [
    "d = {\"k1\":1,\"k2\":2,\"k3\":3}"
   ]
  },
  {
   "cell_type": "code",
   "execution_count": 42,
   "id": "09a6a04f",
   "metadata": {},
   "outputs": [],
   "source": [
    "pop,d = my_pop(d,\"k3\")"
   ]
  },
  {
   "cell_type": "code",
   "execution_count": 43,
   "id": "2ab8fee4",
   "metadata": {},
   "outputs": [
    {
     "name": "stdout",
     "output_type": "stream",
     "text": [
      "{'k1': 1, 'k2': 2}\n",
      "3\n"
     ]
    }
   ],
   "source": [
    "print(d)\n",
    "print(pop)"
   ]
  },
  {
   "cell_type": "code",
   "execution_count": 44,
   "id": "a8d88cc2",
   "metadata": {},
   "outputs": [
    {
     "data": {
      "text/plain": [
       "1"
      ]
     },
     "execution_count": 44,
     "metadata": {},
     "output_type": "execute_result"
    }
   ],
   "source": [
    "my_pop(d,\"k4\",1)"
   ]
  },
  {
   "cell_type": "code",
   "execution_count": 45,
   "id": "1a22b956",
   "metadata": {},
   "outputs": [
    {
     "data": {
      "text/plain": [
       "{'k1': 1, 'k2': 2}"
      ]
     },
     "execution_count": 45,
     "metadata": {},
     "output_type": "execute_result"
    }
   ],
   "source": [
    "d"
   ]
  },
  {
   "cell_type": "code",
   "execution_count": 46,
   "id": "3c40ee8e",
   "metadata": {},
   "outputs": [
    {
     "name": "stdout",
     "output_type": "stream",
     "text": [
      "'k4'  - Key not in dictionary\n"
     ]
    }
   ],
   "source": [
    "my_pop(d,\"k4\")"
   ]
  },
  {
   "cell_type": "code",
   "execution_count": 47,
   "id": "b56514c0",
   "metadata": {},
   "outputs": [
    {
     "data": {
      "text/plain": [
       "{'k1': 1, 'k2': 2}"
      ]
     },
     "execution_count": 47,
     "metadata": {},
     "output_type": "execute_result"
    }
   ],
   "source": [
    "d"
   ]
  },
  {
   "cell_type": "code",
   "execution_count": 48,
   "id": "0238eb6d",
   "metadata": {},
   "outputs": [],
   "source": [
    "# 8. popitem"
   ]
  },
  {
   "cell_type": "code",
   "execution_count": 49,
   "id": "34297788",
   "metadata": {},
   "outputs": [],
   "source": [
    "d = {\"k1\":1,\"k2\":2,\"k3\":3}\n",
    "d[\"k4\"] = 0"
   ]
  },
  {
   "cell_type": "code",
   "execution_count": 50,
   "id": "8ba95b1f",
   "metadata": {},
   "outputs": [
    {
     "data": {
      "text/plain": [
       "{'k1': 1, 'k2': 2, 'k3': 3, 'k4': 0}"
      ]
     },
     "execution_count": 50,
     "metadata": {},
     "output_type": "execute_result"
    }
   ],
   "source": [
    "d"
   ]
  },
  {
   "cell_type": "code",
   "execution_count": 51,
   "id": "75a448b6",
   "metadata": {},
   "outputs": [
    {
     "data": {
      "text/plain": [
       "('k4', 0)"
      ]
     },
     "execution_count": 51,
     "metadata": {},
     "output_type": "execute_result"
    }
   ],
   "source": [
    "d.popitem()"
   ]
  },
  {
   "cell_type": "code",
   "execution_count": 52,
   "id": "4af96bfc",
   "metadata": {},
   "outputs": [],
   "source": [
    "# LiFo\n",
    "# key error - if dict is empty"
   ]
  },
  {
   "cell_type": "code",
   "execution_count": 53,
   "id": "fc3114ea",
   "metadata": {},
   "outputs": [],
   "source": [
    "def __is_empty (my_dict):\n",
    "    try:\n",
    "        if not my_dict:\n",
    "            raise Exception (my_dict, \" - Dictionary is empty\")\n",
    "    except Exception as e:\n",
    "        print(e)\n",
    "        return True\n",
    "    "
   ]
  },
  {
   "cell_type": "code",
   "execution_count": 54,
   "id": "8c0494ec",
   "metadata": {},
   "outputs": [],
   "source": [
    "# self.keys -> list\n",
    "# self.values -> list\n",
    "def my_popitem (my_dict):\n",
    "    # we can modify this step in class\n",
    "    if __is_empty(my_dict):\n",
    "        return None,my_dict\n",
    "        \n",
    "    last_key = list(my_dict)[-1]\n",
    "    pop_value,new_dict  = my_pop(my_dict,last_key)\n",
    "    popitem = (last_key,pop_value)\n",
    "    return popitem,new_dict"
   ]
  },
  {
   "cell_type": "code",
   "execution_count": 55,
   "id": "e8c2a0e5",
   "metadata": {},
   "outputs": [],
   "source": [
    "d = {\"k1\":1,\"k2\":2,\"k3\":3}"
   ]
  },
  {
   "cell_type": "code",
   "execution_count": 56,
   "id": "2f8618f0",
   "metadata": {},
   "outputs": [
    {
     "data": {
      "text/plain": [
       "(('k3', 3), {'k1': 1, 'k2': 2})"
      ]
     },
     "execution_count": 56,
     "metadata": {},
     "output_type": "execute_result"
    }
   ],
   "source": [
    "my_popitem(d)"
   ]
  },
  {
   "cell_type": "code",
   "execution_count": 57,
   "id": "dbcb1a18",
   "metadata": {},
   "outputs": [],
   "source": [
    "# 9. setdefault"
   ]
  },
  {
   "cell_type": "code",
   "execution_count": 58,
   "id": "8e8fbe75",
   "metadata": {},
   "outputs": [],
   "source": [
    "d = {\"k1\":1,\"k2\":2,\"k3\":3}"
   ]
  },
  {
   "cell_type": "code",
   "execution_count": 59,
   "id": "7cd1bdf3",
   "metadata": {},
   "outputs": [
    {
     "data": {
      "text/plain": [
       "1"
      ]
     },
     "execution_count": 59,
     "metadata": {},
     "output_type": "execute_result"
    }
   ],
   "source": [
    "d.setdefault(\"k1\",0)"
   ]
  },
  {
   "cell_type": "code",
   "execution_count": 60,
   "id": "f76fb0c3",
   "metadata": {},
   "outputs": [
    {
     "name": "stdout",
     "output_type": "stream",
     "text": [
      "None\n"
     ]
    }
   ],
   "source": [
    "print(d.setdefault(\"k4\"))"
   ]
  },
  {
   "cell_type": "code",
   "execution_count": 61,
   "id": "e240891f",
   "metadata": {},
   "outputs": [
    {
     "data": {
      "text/plain": [
       "{'k1': 1, 'k2': 2, 'k3': 3, 'k4': None}"
      ]
     },
     "execution_count": 61,
     "metadata": {},
     "output_type": "execute_result"
    }
   ],
   "source": [
    "d"
   ]
  },
  {
   "cell_type": "code",
   "execution_count": 62,
   "id": "5ee941c7",
   "metadata": {},
   "outputs": [
    {
     "data": {
      "text/plain": [
       "0"
      ]
     },
     "execution_count": 62,
     "metadata": {},
     "output_type": "execute_result"
    }
   ],
   "source": [
    "d.setdefault(\"k5\",0)"
   ]
  },
  {
   "cell_type": "code",
   "execution_count": 63,
   "id": "1a12d8fc",
   "metadata": {},
   "outputs": [
    {
     "data": {
      "text/plain": [
       "{'k1': 1, 'k2': 2, 'k3': 3, 'k4': None, 'k5': 0}"
      ]
     },
     "execution_count": 63,
     "metadata": {},
     "output_type": "execute_result"
    }
   ],
   "source": [
    "d"
   ]
  },
  {
   "cell_type": "code",
   "execution_count": 64,
   "id": "dee08c58",
   "metadata": {},
   "outputs": [],
   "source": [
    "def my_setdefault(my_dict,key,default=None):\n",
    "    # check if key exists inside dictionary\n",
    "    exp,value = key_error(my_dict,key)\n",
    "    if exp:\n",
    "        value = default\n",
    "        my_dict[key] = value\n",
    "    \n",
    "    return value,my_dict\n",
    "        "
   ]
  },
  {
   "cell_type": "code",
   "execution_count": 65,
   "id": "1ab5026a",
   "metadata": {},
   "outputs": [],
   "source": [
    "d = {\"k1\":1,\"k2\":2,\"k3\":3}"
   ]
  },
  {
   "cell_type": "code",
   "execution_count": 66,
   "id": "872b496b",
   "metadata": {},
   "outputs": [
    {
     "data": {
      "text/plain": [
       "(2, {'k1': 1, 'k2': 2, 'k3': 3})"
      ]
     },
     "execution_count": 66,
     "metadata": {},
     "output_type": "execute_result"
    }
   ],
   "source": [
    "my_setdefault(d,\"k2\",1)"
   ]
  },
  {
   "cell_type": "code",
   "execution_count": 67,
   "id": "39d111c1",
   "metadata": {},
   "outputs": [
    {
     "data": {
      "text/plain": [
       "(1, {'k1': 1, 'k2': 2, 'k3': 3, 'k4': 1})"
      ]
     },
     "execution_count": 67,
     "metadata": {},
     "output_type": "execute_result"
    }
   ],
   "source": [
    "my_setdefault(d,\"k4\",1)"
   ]
  },
  {
   "cell_type": "code",
   "execution_count": 68,
   "id": "05782b54",
   "metadata": {},
   "outputs": [
    {
     "data": {
      "text/plain": [
       "(None, {'k1': 1, 'k2': 2, 'k3': 3, 'k4': 1, 'k5': None})"
      ]
     },
     "execution_count": 68,
     "metadata": {},
     "output_type": "execute_result"
    }
   ],
   "source": [
    "my_setdefault(d,\"k5\")"
   ]
  },
  {
   "cell_type": "code",
   "execution_count": 69,
   "id": "8b890b08",
   "metadata": {},
   "outputs": [],
   "source": [
    "# 10. update - \n",
    "# dictionary.update(dictionary_new/iterable)\n"
   ]
  },
  {
   "cell_type": "code",
   "execution_count": 70,
   "id": "4e0a9cce",
   "metadata": {},
   "outputs": [],
   "source": [
    "d = {\"k1\":1,\"k2\":2,\"k3\":3}"
   ]
  },
  {
   "cell_type": "code",
   "execution_count": 72,
   "id": "1337d70d",
   "metadata": {},
   "outputs": [],
   "source": [
    "up = {\"k1\":5,\"k4\":6}"
   ]
  },
  {
   "cell_type": "code",
   "execution_count": 73,
   "id": "659ace8a",
   "metadata": {},
   "outputs": [],
   "source": [
    "d.update(up)"
   ]
  },
  {
   "cell_type": "code",
   "execution_count": 74,
   "id": "7408525b",
   "metadata": {},
   "outputs": [
    {
     "data": {
      "text/plain": [
       "{'k1': 5, 'k2': 2, 'k3': 3, 'k4': 6}"
      ]
     },
     "execution_count": 74,
     "metadata": {},
     "output_type": "execute_result"
    }
   ],
   "source": [
    "d"
   ]
  },
  {
   "cell_type": "code",
   "execution_count": 75,
   "id": "be8cc328",
   "metadata": {},
   "outputs": [
    {
     "data": {
      "text/plain": [
       "{'k1': 5, 'k2': 7, 'k3': 3, 'k4': 6, 'k5': 8}"
      ]
     },
     "execution_count": 75,
     "metadata": {},
     "output_type": "execute_result"
    }
   ],
   "source": [
    "d.update(k2 = 7,k5 = 8)\n",
    "d"
   ]
  },
  {
   "cell_type": "code",
   "execution_count": 147,
   "id": "a0f2641a",
   "metadata": {},
   "outputs": [],
   "source": [
    "# use either dictionary ot iterables\n",
    "def my_update (my_dict,up_dict=None,**kwargs):\n",
    "    if up_dict:\n",
    "        for key in up_dict:\n",
    "            my_dict[key] = up_dict[key]\n",
    "    else:\n",
    "        for key,value in kwargs.items():\n",
    "            my_dict[key] = value\n",
    "    return my_dict"
   ]
  },
  {
   "cell_type": "code",
   "execution_count": 148,
   "id": "a6f632bb",
   "metadata": {},
   "outputs": [],
   "source": [
    "d = {\"k1\":1,\"k2\":2,\"k3\":3}\n",
    "up = {\"k1\":5,\"k4\":6}"
   ]
  },
  {
   "cell_type": "code",
   "execution_count": 149,
   "id": "c3ba90c7",
   "metadata": {},
   "outputs": [
    {
     "data": {
      "text/plain": [
       "{'k1': 5, 'k2': 2, 'k3': 3, 'k4': 6}"
      ]
     },
     "execution_count": 149,
     "metadata": {},
     "output_type": "execute_result"
    }
   ],
   "source": [
    "my_update(d,k1 = 5,k4 = 6)"
   ]
  },
  {
   "cell_type": "code",
   "execution_count": 150,
   "id": "e681c0d0",
   "metadata": {},
   "outputs": [],
   "source": [
    "# 11. values"
   ]
  },
  {
   "cell_type": "code",
   "execution_count": 151,
   "id": "5f18689f",
   "metadata": {},
   "outputs": [],
   "source": [
    "d = {\"k1\":1,\"k2\":2,\"k3\":3}"
   ]
  },
  {
   "cell_type": "code",
   "execution_count": 152,
   "id": "a1a46c5c",
   "metadata": {},
   "outputs": [
    {
     "data": {
      "text/plain": [
       "dict_values([1, 2, 3])"
      ]
     },
     "execution_count": 152,
     "metadata": {},
     "output_type": "execute_result"
    }
   ],
   "source": [
    "d.values()"
   ]
  },
  {
   "cell_type": "code",
   "execution_count": 154,
   "id": "78f38355",
   "metadata": {},
   "outputs": [],
   "source": [
    "def my_values (my_dict):\n",
    "    return dict_values(my_dict)"
   ]
  },
  {
   "cell_type": "code",
   "execution_count": 155,
   "id": "297b3428",
   "metadata": {},
   "outputs": [],
   "source": [
    "class dict_values:\n",
    "    def __init__ (self,my_dict):\n",
    "        dict_values = list()\n",
    "        for key in my_dict:\n",
    "            dict_values.append(my_dict[key])\n",
    "        self.dict_values = dict_values\n",
    "    \n",
    "    def __str__ (self):\n",
    "        display_str = \"dict_values(\"+str(self.dict_values)+\")\"\n",
    "        return display_str"
   ]
  },
  {
   "cell_type": "code",
   "execution_count": 157,
   "id": "c0a8342f",
   "metadata": {},
   "outputs": [
    {
     "name": "stdout",
     "output_type": "stream",
     "text": [
      "dict_values([1, 2, 3])\n"
     ]
    }
   ],
   "source": [
    "print(my_values(d))"
   ]
  },
  {
   "cell_type": "code",
   "execution_count": null,
   "id": "77592ad0",
   "metadata": {},
   "outputs": [],
   "source": []
  },
  {
   "cell_type": "code",
   "execution_count": null,
   "id": "f54a17e9",
   "metadata": {},
   "outputs": [],
   "source": []
  },
  {
   "cell_type": "code",
   "execution_count": 15,
   "id": "48cc9641",
   "metadata": {},
   "outputs": [],
   "source": [
    "class dict_items:\n",
    "    def __init__ (self,my_dict):\n",
    "        dict_items = list()\n",
    "        for key in my_dict:\n",
    "            dict_items.append((key,my_dict[key]))\n",
    "        self.dict_items =  dict_items\n",
    "        \n",
    "    def __str__ (self):\n",
    "        display_str = \"dict_items(\"+str(self.dict_items)+\")\"\n",
    "        return display_str\n",
    "    \n",
    "    \"\"\"def __iter__ (self):\n",
    "        return self\"\"\""
   ]
  },
  {
   "cell_type": "code",
   "execution_count": 16,
   "id": "1d6b4620",
   "metadata": {},
   "outputs": [],
   "source": [
    "class dict_keys:\n",
    "    def __init__ (self,my_dict):\n",
    "        dict_keys = list()\n",
    "        for key in my_dict:\n",
    "            dict_keys.append(key)\n",
    "        self.dict_keys = dict_keys\n",
    "    \n",
    "    def __str__ (self):\n",
    "        display_str = \"dict_keys(\"+str(self.dict_keys)+\")\"\n",
    "        return display_str"
   ]
  },
  {
   "cell_type": "code",
   "execution_count": 17,
   "id": "68dffa9b",
   "metadata": {},
   "outputs": [],
   "source": [
    "class dict_values:\n",
    "    def __init__ (self,my_dict):\n",
    "        dict_values = list()\n",
    "        for key in my_dict:\n",
    "            dict_values.append(my_dict[key])\n",
    "        self.dict_values = dict_values\n",
    "    \n",
    "    def __str__ (self):\n",
    "        display_str = \"dict_values(\"+str(self.dict_values)+\")\"\n",
    "        return display_str"
   ]
  },
  {
   "cell_type": "code",
   "execution_count": 18,
   "id": "fcca8a64",
   "metadata": {},
   "outputs": [],
   "source": [
    "class my_dict:\n",
    "    def __init__ (self,my_dict):\n",
    "        self.my_dict = my_dict\n",
    "        #self.keys = \n",
    "    \n",
    "    def __str__ (self):\n",
    "        return str(self.my_dict)\n",
    "        \n",
    "    # classmethod -\n",
    "    def my_fromkeys (seq,value=None):\n",
    "        new_dict = dict()\n",
    "        for i in seq:\n",
    "            new_dict[i] = value\n",
    "        new_dict_obj = my_dict(new_dict)\n",
    "        return new_dict_obj\n",
    "    \n",
    "    # if you want to use my_list object as value\n",
    "    def display_my_list(self):\n",
    "        str_ = \"\"\n",
    "        for i in self.my_dict:\n",
    "            str_ = str_ + str(i) + \" : \" + str(self.my_dict[i].my_list) + \" , \"\n",
    "        str_ = str_[:-3]\n",
    "        to_display = \"{\" + str_ + \"}\"\n",
    "        return to_display\n",
    "    \n",
    "    def my_get (self, key, default = None):\n",
    "        try:\n",
    "            value = self.my_dict[key]\n",
    "            return value\n",
    "        except KeyError as ke:\n",
    "            print(ke,\" - Not present in dictionary\")\n",
    "            return default\n",
    "        \n",
    "    def my_items (self):\n",
    "        my_items = dict_items(self.my_dict)\n",
    "        return my_items\n",
    "    \n",
    "    def my_keys (self):\n",
    "        return dict_keys(self.my_dict)\n",
    "    \n",
    "    def key_error (self,key):\n",
    "        try:\n",
    "            value = self.my_dict[key]\n",
    "            return None,value\n",
    "        except Exception as e:\n",
    "            return e,None\n",
    "    \n",
    "    def my_pop (self,key,default=None):\n",
    "        # check if key exists inside dictionary\n",
    "        exp,value = self.key_error(key)\n",
    "        if exp:\n",
    "            if default is None:\n",
    "                print(exp, \" - Key not in dictionary\")\n",
    "                return \n",
    "            else:\n",
    "                return default\n",
    "        # do pop\n",
    "        new_dict = dict()\n",
    "        for k in self.my_dict:\n",
    "            if k is not key:\n",
    "                new_dict[k] = self.my_dict[k]\n",
    "        self.my_dict = new_dict\n",
    "        return value\n",
    "    \n",
    "    def __is_empty (self):\n",
    "        try:\n",
    "            if not self.my_dict:\n",
    "                raise Exception (self.my_dict, \" - Dictionary is empty\")\n",
    "        except Exception as e:\n",
    "            print(e)\n",
    "            return True\n",
    "        \n",
    "    # self.keys -> list\n",
    "    # self.values -> list\n",
    "    def my_popitem (self):\n",
    "        # we can modify this step in class\n",
    "        if self.__is_empty():\n",
    "            return None\n",
    "\n",
    "        last_key = list(self.my_dict)[-1]\n",
    "        pop_value  = self.my_pop(last_key)\n",
    "        popitem = (last_key,pop_value)\n",
    "        return popitem\n",
    "    \n",
    "    def my_setdefault(self,key,default=None):\n",
    "        # check if key exists inside dictionary\n",
    "        exp,value = self.key_error(key)\n",
    "        if exp:\n",
    "            value = default\n",
    "            self.my_dict[key] = value\n",
    "\n",
    "        return value\n",
    "    \n",
    "    # use either dictionary ot iterables\n",
    "    def my_update (self,up_dict=None,**kwargs):\n",
    "        if up_dict:\n",
    "            for key in up_dict:\n",
    "                self.my_dict[key] = up_dict[key]\n",
    "        else:\n",
    "            for key,value in kwargs.items():\n",
    "                self.my_dict[key] = value\n",
    "                \n",
    "    def my_values (self):\n",
    "        return dict_values(self.my_dict)"
   ]
  },
  {
   "cell_type": "code",
   "execution_count": 19,
   "id": "d1761688",
   "metadata": {},
   "outputs": [],
   "source": [
    "d = {\"k1\":1,\"k2\":2,\"k3\":3}\n",
    "d_obj = my_dict(d)"
   ]
  },
  {
   "cell_type": "code",
   "execution_count": 21,
   "id": "e08a594c",
   "metadata": {},
   "outputs": [
    {
     "name": "stdout",
     "output_type": "stream",
     "text": [
      "dict_values([1, 2, 3])\n"
     ]
    }
   ],
   "source": [
    "print(d_obj.my_values())"
   ]
  },
  {
   "cell_type": "code",
   "execution_count": null,
   "id": "8f02bdca",
   "metadata": {},
   "outputs": [],
   "source": []
  },
  {
   "cell_type": "code",
   "execution_count": 3,
   "id": "cab1961a",
   "metadata": {},
   "outputs": [],
   "source": [
    "up_d = {\"k1\":5}"
   ]
  },
  {
   "cell_type": "code",
   "execution_count": 4,
   "id": "483ccb6b",
   "metadata": {},
   "outputs": [],
   "source": [
    "d_obj.my_update(up_d)"
   ]
  },
  {
   "cell_type": "code",
   "execution_count": 5,
   "id": "9be6c7a3",
   "metadata": {},
   "outputs": [
    {
     "name": "stdout",
     "output_type": "stream",
     "text": [
      "{'k1': 5, 'k2': 2, 'k3': 3}\n"
     ]
    }
   ],
   "source": [
    "print(d_obj)"
   ]
  },
  {
   "cell_type": "code",
   "execution_count": 6,
   "id": "24fc2cab",
   "metadata": {},
   "outputs": [],
   "source": [
    "d_obj.my_update({\"k5\":6})"
   ]
  },
  {
   "cell_type": "code",
   "execution_count": 7,
   "id": "9c34853d",
   "metadata": {},
   "outputs": [
    {
     "name": "stdout",
     "output_type": "stream",
     "text": [
      "{'k1': 5, 'k2': 2, 'k3': 3, 'k5': 6}\n"
     ]
    }
   ],
   "source": [
    "print(d_obj)"
   ]
  },
  {
   "cell_type": "code",
   "execution_count": 8,
   "id": "e19e4721",
   "metadata": {},
   "outputs": [],
   "source": [
    "d_obj.my_update(k1 = 8)"
   ]
  },
  {
   "cell_type": "code",
   "execution_count": 9,
   "id": "92a77c61",
   "metadata": {},
   "outputs": [
    {
     "name": "stdout",
     "output_type": "stream",
     "text": [
      "{'k1': 8, 'k2': 2, 'k3': 3, 'k5': 6}\n"
     ]
    }
   ],
   "source": [
    "print(d_obj)"
   ]
  },
  {
   "cell_type": "code",
   "execution_count": 10,
   "id": "fbb7759e",
   "metadata": {},
   "outputs": [],
   "source": [
    "d_obj.my_update(k6 = 10, k7 = 15)"
   ]
  },
  {
   "cell_type": "code",
   "execution_count": 11,
   "id": "f3fc62ca",
   "metadata": {},
   "outputs": [
    {
     "name": "stdout",
     "output_type": "stream",
     "text": [
      "{'k1': 8, 'k2': 2, 'k3': 3, 'k5': 6, 'k6': 10, 'k7': 15}\n"
     ]
    }
   ],
   "source": [
    "print(d_obj)"
   ]
  },
  {
   "cell_type": "code",
   "execution_count": null,
   "id": "cb50cf80",
   "metadata": {},
   "outputs": [],
   "source": []
  },
  {
   "cell_type": "code",
   "execution_count": 336,
   "id": "15d0780c",
   "metadata": {},
   "outputs": [],
   "source": [
    "d_obj.my_setdefault(\"k5\")"
   ]
  },
  {
   "cell_type": "code",
   "execution_count": 337,
   "id": "0559de60",
   "metadata": {},
   "outputs": [
    {
     "name": "stdout",
     "output_type": "stream",
     "text": [
      "{'k1': 1, 'k2': 2, 'k3': 3, 'k5': None}\n"
     ]
    }
   ],
   "source": [
    "print(d_obj)"
   ]
  },
  {
   "cell_type": "code",
   "execution_count": null,
   "id": "5c0e3eb0",
   "metadata": {},
   "outputs": [],
   "source": []
  },
  {
   "cell_type": "code",
   "execution_count": 305,
   "id": "c745ad9a",
   "metadata": {},
   "outputs": [
    {
     "data": {
      "text/plain": [
       "1"
      ]
     },
     "execution_count": 305,
     "metadata": {},
     "output_type": "execute_result"
    }
   ],
   "source": [
    "d_obj.my_get(\"k1\",45)"
   ]
  },
  {
   "cell_type": "code",
   "execution_count": 306,
   "id": "24db1327",
   "metadata": {},
   "outputs": [
    {
     "name": "stdout",
     "output_type": "stream",
     "text": [
      "'k5'  - Not present in dictionary\n"
     ]
    }
   ],
   "source": [
    "d_obj.my_get(\"k5\")"
   ]
  },
  {
   "cell_type": "code",
   "execution_count": 307,
   "id": "29b108b9",
   "metadata": {},
   "outputs": [
    {
     "name": "stdout",
     "output_type": "stream",
     "text": [
      "'k5'  - Not present in dictionary\n"
     ]
    },
    {
     "data": {
      "text/plain": [
       "45"
      ]
     },
     "execution_count": 307,
     "metadata": {},
     "output_type": "execute_result"
    }
   ],
   "source": [
    "d_obj.my_get(\"k5\",45)"
   ]
  },
  {
   "cell_type": "code",
   "execution_count": 308,
   "id": "e5819f44",
   "metadata": {},
   "outputs": [
    {
     "name": "stdout",
     "output_type": "stream",
     "text": [
      "k1 1\n",
      "k2 2\n",
      "k3 3\n"
     ]
    }
   ],
   "source": [
    "for k,v in d.items():\n",
    "    print(k,v)"
   ]
  },
  {
   "cell_type": "code",
   "execution_count": 309,
   "id": "98b11f7a",
   "metadata": {},
   "outputs": [
    {
     "name": "stdout",
     "output_type": "stream",
     "text": [
      "dict_items([('k1', 1), ('k2', 2), ('k3', 3)])\n"
     ]
    }
   ],
   "source": [
    "print(d_obj.my_items())"
   ]
  },
  {
   "cell_type": "code",
   "execution_count": 310,
   "id": "44812b38",
   "metadata": {},
   "outputs": [
    {
     "name": "stdout",
     "output_type": "stream",
     "text": [
      "dict_keys(['k1', 'k2', 'k3'])\n"
     ]
    }
   ],
   "source": [
    "print(d_obj.my_keys())"
   ]
  },
  {
   "cell_type": "code",
   "execution_count": 311,
   "id": "6f63b731",
   "metadata": {},
   "outputs": [
    {
     "data": {
      "text/plain": [
       "3"
      ]
     },
     "execution_count": 311,
     "metadata": {},
     "output_type": "execute_result"
    }
   ],
   "source": [
    "d_obj.my_pop(\"k3\")"
   ]
  },
  {
   "cell_type": "code",
   "execution_count": 321,
   "id": "2cb3bad7",
   "metadata": {},
   "outputs": [
    {
     "name": "stdout",
     "output_type": "stream",
     "text": [
      "{}\n"
     ]
    }
   ],
   "source": [
    "print(d_obj)"
   ]
  },
  {
   "cell_type": "code",
   "execution_count": 326,
   "id": "f115bee0",
   "metadata": {},
   "outputs": [
    {
     "data": {
      "text/plain": [
       "0"
      ]
     },
     "execution_count": 326,
     "metadata": {},
     "output_type": "execute_result"
    }
   ],
   "source": [
    "d_obj.my_pop(\"k3\",0)"
   ]
  },
  {
   "cell_type": "code",
   "execution_count": 314,
   "id": "f7dba5d9",
   "metadata": {},
   "outputs": [
    {
     "name": "stdout",
     "output_type": "stream",
     "text": [
      "{'k1': 1, 'k2': 2}\n"
     ]
    }
   ],
   "source": [
    "print(d_obj)"
   ]
  },
  {
   "cell_type": "code",
   "execution_count": 319,
   "id": "1a39e180",
   "metadata": {},
   "outputs": [
    {
     "name": "stdout",
     "output_type": "stream",
     "text": [
      "({}, ' - Dictionary is empty')\n"
     ]
    }
   ],
   "source": [
    "d_obj.my_popitem()"
   ]
  },
  {
   "cell_type": "code",
   "execution_count": 320,
   "id": "ec05db35",
   "metadata": {},
   "outputs": [
    {
     "name": "stdout",
     "output_type": "stream",
     "text": [
      "{}\n"
     ]
    }
   ],
   "source": [
    "print(d_obj)"
   ]
  },
  {
   "cell_type": "code",
   "execution_count": null,
   "id": "0a6b9a3e",
   "metadata": {},
   "outputs": [],
   "source": []
  },
  {
   "cell_type": "code",
   "execution_count": null,
   "id": "8ea899fd",
   "metadata": {},
   "outputs": [],
   "source": []
  },
  {
   "cell_type": "code",
   "execution_count": null,
   "id": "1f17c3e1",
   "metadata": {},
   "outputs": [],
   "source": []
  },
  {
   "cell_type": "code",
   "execution_count": null,
   "id": "3b2fb630",
   "metadata": {},
   "outputs": [],
   "source": []
  },
  {
   "cell_type": "code",
   "execution_count": 245,
   "id": "2df0fb7a",
   "metadata": {},
   "outputs": [],
   "source": [
    "from my_list_class import my_list"
   ]
  },
  {
   "cell_type": "code",
   "execution_count": 135,
   "id": "bd7b857c",
   "metadata": {},
   "outputs": [],
   "source": [
    "seq_t = [\"a\",\"b\",\"c\",\"d\",\"e\"]\n",
    "list1_t = my_list([1,2])\n",
    "list_t = [1,2]"
   ]
  },
  {
   "cell_type": "code",
   "execution_count": 138,
   "id": "af75861c",
   "metadata": {},
   "outputs": [
    {
     "data": {
      "text/plain": [
       "__main__.my_dict"
      ]
     },
     "execution_count": 138,
     "metadata": {},
     "output_type": "execute_result"
    }
   ],
   "source": [
    "d_obj = my_dict.my_fromkeys(seq_t,list1_t)\n",
    "type(d_obj)"
   ]
  },
  {
   "cell_type": "code",
   "execution_count": null,
   "id": "1bd96403",
   "metadata": {},
   "outputs": [],
   "source": [
    "list1_t.my_append(4)"
   ]
  },
  {
   "cell_type": "code",
   "execution_count": 83,
   "id": "362b3968",
   "metadata": {},
   "outputs": [
    {
     "data": {
      "text/plain": [
       "'{a : [1, 2, 4] , b : [1, 2, 4] , c : [1, 2, 4] , d : [1, 2, 4] , e : [1, 2, 4]}'"
      ]
     },
     "execution_count": 83,
     "metadata": {},
     "output_type": "execute_result"
    }
   ],
   "source": [
    "d_obj.display_my_list()"
   ]
  },
  {
   "cell_type": "code",
   "execution_count": null,
   "id": "e8bb59f4",
   "metadata": {},
   "outputs": [],
   "source": []
  }
 ],
 "metadata": {
  "kernelspec": {
   "display_name": "Python 3",
   "language": "python",
   "name": "python3"
  },
  "language_info": {
   "codemirror_mode": {
    "name": "ipython",
    "version": 3
   },
   "file_extension": ".py",
   "mimetype": "text/x-python",
   "name": "python",
   "nbconvert_exporter": "python",
   "pygments_lexer": "ipython3",
   "version": "3.8.8"
  }
 },
 "nbformat": 4,
 "nbformat_minor": 5
}
