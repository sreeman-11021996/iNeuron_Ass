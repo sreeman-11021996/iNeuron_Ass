{
 "cells": [
  {
   "cell_type": "code",
   "execution_count": 1,
   "id": "275be2f2",
   "metadata": {},
   "outputs": [],
   "source": [
    "# q4 -> create your own package for all the set functions"
   ]
  },
  {
   "cell_type": "code",
   "execution_count": 1,
   "id": "2da22520",
   "metadata": {},
   "outputs": [],
   "source": [
    "# restriction :\n",
    "    # -> always use exception handling\n",
    "    # -> never use \"print\" statement\n",
    "    # -> always use logging while writing a code \n",
    "    # and log every activity performed by code in respective logging file\n",
    "# By next sunday -> before 30th Jan 10 AM IST\n",
    "# sudhanshu@ineuron.ai"
   ]
  },
  {
   "cell_type": "code",
   "execution_count": 2,
   "id": "68d66508",
   "metadata": {},
   "outputs": [],
   "source": [
    "# 1. add -/\n",
    "# 2. clear -/\n",
    "# 3. copy -/\n",
    "# 4. difference -/\n",
    "# 5. difference_update -/\n",
    "# 6. discard -/\n",
    "# 7. intersection -/\n",
    "# 8. intersection_update -/\n",
    "# 9. isdisjoint\n",
    "# 10. issubset\n",
    "# 11. issuperset\n",
    "# 12. pop\n",
    "# 13. remove\n",
    "# 14. symmetric_difference\n",
    "# 15. symmetric_difference_update\n",
    "# 16. union\n",
    "# 17. update"
   ]
  },
  {
   "cell_type": "code",
   "execution_count": null,
   "id": "f0523a4a",
   "metadata": {},
   "outputs": [],
   "source": []
  },
  {
   "cell_type": "code",
   "execution_count": 3,
   "id": "eb19e61d",
   "metadata": {},
   "outputs": [],
   "source": [
    "s = {1,2,3,4,5,6,6,6}"
   ]
  },
  {
   "cell_type": "code",
   "execution_count": 4,
   "id": "585a82ac",
   "metadata": {},
   "outputs": [],
   "source": [
    "# 1. add"
   ]
  },
  {
   "cell_type": "code",
   "execution_count": 5,
   "id": "54ec2bb9",
   "metadata": {},
   "outputs": [],
   "source": [
    "s.add(7)"
   ]
  },
  {
   "cell_type": "code",
   "execution_count": 6,
   "id": "dcde4505",
   "metadata": {},
   "outputs": [
    {
     "data": {
      "text/plain": [
       "{1, 2, 3, 4, 5, 6, 7}"
      ]
     },
     "execution_count": 6,
     "metadata": {},
     "output_type": "execute_result"
    }
   ],
   "source": [
    "s"
   ]
  },
  {
   "cell_type": "code",
   "execution_count": 7,
   "id": "d57760ca",
   "metadata": {},
   "outputs": [],
   "source": [
    "s.add(\"sudh\")"
   ]
  },
  {
   "cell_type": "code",
   "execution_count": 8,
   "id": "b38c17d0",
   "metadata": {},
   "outputs": [
    {
     "data": {
      "text/plain": [
       "{1, 2, 3, 4, 5, 6, 7, 'sudh'}"
      ]
     },
     "execution_count": 8,
     "metadata": {},
     "output_type": "execute_result"
    }
   ],
   "source": [
    "s"
   ]
  },
  {
   "cell_type": "code",
   "execution_count": null,
   "id": "81d35a04",
   "metadata": {},
   "outputs": [],
   "source": []
  },
  {
   "cell_type": "code",
   "execution_count": 690,
   "id": "f1fe92b8",
   "metadata": {},
   "outputs": [],
   "source": [
    "class my_set:\n",
    "    \n",
    "    def __init__ (self,iterable = ()):\n",
    "        self._dict = {}\n",
    "        self._set_items = []\n",
    "        self.index = 0\n",
    "        for item in iterable:\n",
    "            self.my_add(item)\n",
    "            \n",
    "    def my_add (self,item):\n",
    "        self._dict[item] = item\n",
    "        self._dict = {item:item for item in sorted(self._dict)}\n",
    "        if item not in self._set_items:\n",
    "            self._set_items = list(self._dict)\n",
    "        \n",
    "    def __is_empty (self):\n",
    "        try:\n",
    "            if not self._dict:\n",
    "                raise Exception (self._dict, \" - Set is empty\")\n",
    "        except Exception as e:\n",
    "            return e\n",
    "    \n",
    "    def __str__ (self):\n",
    "        # if set is empty -> \n",
    "        if self.__is_empty():\n",
    "            display = \"set()\"\n",
    "        else:\n",
    "            display = \"\"\n",
    "            delimiter = \", \"\n",
    "            for val in (self._dict):\n",
    "                display += str(val) + delimiter\n",
    "            display = \"{\" + display[:-(len(delimiter))] + \"}\"\n",
    "    \n",
    "        return display\n",
    "    \n",
    "    def my_clear (self):\n",
    "        self._dict = {}\n",
    "        \n",
    "    def my_copy (self):\n",
    "        # create a new object:\n",
    "        new_obj = my_set(elements = tuple(self._dict))\n",
    "        return new_obj\n",
    "    \n",
    "    def __iter__ (self):\n",
    "        return self\n",
    "    \n",
    "    def __next__ (self):\n",
    "        if self.index >= len(self._set_items):\n",
    "            self.index = 0\n",
    "            raise StopIteration\n",
    "        index = self.index\n",
    "        self.index +=1\n",
    "        set_value = self._set_items[index]\n",
    "        return  set_value\n",
    "        \n",
    "    def my_difference (self,set_comp):\n",
    "        s_out = my_set()\n",
    "        for val in self:\n",
    "            if val not in set_comp:\n",
    "                s_out.my_add(val)\n",
    "        return s_out\n",
    "    \n",
    "    def my_difference_update (self,set_comp):\n",
    "        s_out = self.my_difference(set_comp)\n",
    "        if not s_out:\n",
    "            return\n",
    "        self._dict = s_out._dict\n",
    "        self._set_items = s_out._set_items\n",
    "        \n",
    "    def my_discard(self,item):\n",
    "        new_dict ={}\n",
    "        for val in self._dict:\n",
    "            if val is not item:\n",
    "                new_dict[val] = val\n",
    "        self._dict = new_dict\n",
    "        self._set_items = list(self._dict)\n",
    "        \n",
    "    def my_intersection (self,*set_comps):\n",
    "        for set_comp in set_comps:\n",
    "            s_out = my_set()\n",
    "            for val in self:\n",
    "                if val in set_comp:\n",
    "                    s_out.my_add(val)\n",
    "        return s_out\n",
    "    \n",
    "    def my_intersection_update (self,set_comp):\n",
    "        s_out = self.my_intersection(set_comp)\n",
    "        if not s_out:\n",
    "            return\n",
    "        self._dict = s_out._dict\n",
    "        self._set_items = s_out._set_items"
   ]
  },
  {
   "cell_type": "code",
   "execution_count": 685,
   "id": "4ed48807",
   "metadata": {},
   "outputs": [],
   "source": [
    "s_1 = my_set([2,3,4,5])"
   ]
  },
  {
   "cell_type": "code",
   "execution_count": 664,
   "id": "a5625c8d",
   "metadata": {},
   "outputs": [],
   "source": [
    "s_1.my_discard(1)"
   ]
  },
  {
   "cell_type": "code",
   "execution_count": 665,
   "id": "0c6d2be6",
   "metadata": {},
   "outputs": [
    {
     "name": "stdout",
     "output_type": "stream",
     "text": [
      "{2, 3, 4, 5}\n"
     ]
    }
   ],
   "source": [
    "print(s_1)"
   ]
  },
  {
   "cell_type": "code",
   "execution_count": 666,
   "id": "6b4e7383",
   "metadata": {},
   "outputs": [
    {
     "data": {
      "text/plain": [
       "[2, 3, 4, 5]"
      ]
     },
     "execution_count": 666,
     "metadata": {},
     "output_type": "execute_result"
    }
   ],
   "source": [
    "s_1._set_items"
   ]
  },
  {
   "cell_type": "code",
   "execution_count": 625,
   "id": "de2b7db5",
   "metadata": {},
   "outputs": [],
   "source": [
    "s_1 = my_set([1,2,3,4,5])\n",
    "s_2 = my_set((11,2,3,4,55))"
   ]
  },
  {
   "cell_type": "code",
   "execution_count": 621,
   "id": "c57dfc19",
   "metadata": {},
   "outputs": [
    {
     "name": "stdout",
     "output_type": "stream",
     "text": [
      "{1, 5}\n"
     ]
    }
   ],
   "source": [
    "print(s_1.my_difference(s_2))"
   ]
  },
  {
   "cell_type": "code",
   "execution_count": 622,
   "id": "2b5eb699",
   "metadata": {},
   "outputs": [
    {
     "name": "stdout",
     "output_type": "stream",
     "text": [
      "{1, 2, 3, 4, 5}\n"
     ]
    }
   ],
   "source": [
    "print(s_1)"
   ]
  },
  {
   "cell_type": "code",
   "execution_count": 611,
   "id": "36edc65b",
   "metadata": {},
   "outputs": [],
   "source": [
    "s_1.my_difference_update(s_2)"
   ]
  },
  {
   "cell_type": "code",
   "execution_count": 612,
   "id": "c6342e90",
   "metadata": {},
   "outputs": [
    {
     "name": "stdout",
     "output_type": "stream",
     "text": [
      "set()\n"
     ]
    }
   ],
   "source": [
    "print(s_1)"
   ]
  },
  {
   "cell_type": "code",
   "execution_count": 605,
   "id": "eedbfa7a",
   "metadata": {},
   "outputs": [],
   "source": [
    "s1 = {1,2,3,4,5}\n",
    "s2 = set()"
   ]
  },
  {
   "cell_type": "code",
   "execution_count": 606,
   "id": "46cce39f",
   "metadata": {},
   "outputs": [
    {
     "data": {
      "text/plain": [
       "set()"
      ]
     },
     "execution_count": 606,
     "metadata": {},
     "output_type": "execute_result"
    }
   ],
   "source": [
    "s2.difference(s1)"
   ]
  },
  {
   "cell_type": "code",
   "execution_count": null,
   "id": "8c0eeacc",
   "metadata": {},
   "outputs": [],
   "source": []
  },
  {
   "cell_type": "code",
   "execution_count": null,
   "id": "acb11f1d",
   "metadata": {},
   "outputs": [],
   "source": []
  },
  {
   "cell_type": "code",
   "execution_count": 440,
   "id": "a3ea0f23",
   "metadata": {},
   "outputs": [
    {
     "data": {
      "text/plain": [
       "{1: 1, 2: 2, 9: 9}"
      ]
     },
     "execution_count": 440,
     "metadata": {},
     "output_type": "execute_result"
    }
   ],
   "source": [
    "{val:val for val in sorted({1:1,9:9,2:2})}"
   ]
  },
  {
   "cell_type": "code",
   "execution_count": 441,
   "id": "84751633",
   "metadata": {},
   "outputs": [],
   "source": [
    "s = my_set((1,2,5,9,4,4,6))"
   ]
  },
  {
   "cell_type": "code",
   "execution_count": 442,
   "id": "441c0ba3",
   "metadata": {},
   "outputs": [
    {
     "name": "stdout",
     "output_type": "stream",
     "text": [
      "{1, 2, 4, 5, 6, 9}\n"
     ]
    }
   ],
   "source": [
    "print(s)"
   ]
  },
  {
   "cell_type": "code",
   "execution_count": 443,
   "id": "7269322f",
   "metadata": {},
   "outputs": [
    {
     "data": {
      "text/plain": [
       "[1, 2, 4, 5, 6, 9]"
      ]
     },
     "execution_count": 443,
     "metadata": {},
     "output_type": "execute_result"
    }
   ],
   "source": [
    "s._set_items"
   ]
  },
  {
   "cell_type": "code",
   "execution_count": 444,
   "id": "94e01854",
   "metadata": {},
   "outputs": [],
   "source": [
    "s.my_add(4)"
   ]
  },
  {
   "cell_type": "code",
   "execution_count": 445,
   "id": "29ec98e7",
   "metadata": {},
   "outputs": [
    {
     "name": "stdout",
     "output_type": "stream",
     "text": [
      "{1, 2, 4, 5, 6, 9}\n"
     ]
    }
   ],
   "source": [
    "print(s)"
   ]
  },
  {
   "cell_type": "code",
   "execution_count": 446,
   "id": "d6fb5b79",
   "metadata": {},
   "outputs": [
    {
     "name": "stdout",
     "output_type": "stream",
     "text": [
      "1\n",
      "2\n",
      "4\n",
      "5\n",
      "6\n",
      "9\n"
     ]
    }
   ],
   "source": [
    "for val in s:\n",
    "    print(val)"
   ]
  },
  {
   "cell_type": "code",
   "execution_count": null,
   "id": "4f396848",
   "metadata": {},
   "outputs": [],
   "source": []
  },
  {
   "cell_type": "code",
   "execution_count": 447,
   "id": "b51cea63",
   "metadata": {},
   "outputs": [],
   "source": [
    "# clear\n",
    "s1 = {1,2,3,3}"
   ]
  },
  {
   "cell_type": "code",
   "execution_count": 448,
   "id": "21722f62",
   "metadata": {},
   "outputs": [
    {
     "name": "stdout",
     "output_type": "stream",
     "text": [
      "set()\n"
     ]
    }
   ],
   "source": [
    "s1.clear()\n",
    "print(s1)"
   ]
  },
  {
   "cell_type": "code",
   "execution_count": 449,
   "id": "bda428a8",
   "metadata": {},
   "outputs": [],
   "source": [
    "s.my_clear()"
   ]
  },
  {
   "cell_type": "code",
   "execution_count": 450,
   "id": "04a51f13",
   "metadata": {},
   "outputs": [
    {
     "name": "stdout",
     "output_type": "stream",
     "text": [
      "set()\n"
     ]
    }
   ],
   "source": [
    "print(s)"
   ]
  },
  {
   "cell_type": "code",
   "execution_count": 451,
   "id": "4cca8f74",
   "metadata": {},
   "outputs": [],
   "source": [
    "# copy\n",
    "s1 = {1,2,3,4,5}"
   ]
  },
  {
   "cell_type": "code",
   "execution_count": 452,
   "id": "c0905475",
   "metadata": {},
   "outputs": [],
   "source": [
    "s2 = s1.copy()"
   ]
  },
  {
   "cell_type": "code",
   "execution_count": 453,
   "id": "f6dab5ba",
   "metadata": {},
   "outputs": [
    {
     "name": "stdout",
     "output_type": "stream",
     "text": [
      "s2 -  {1, 2, 3, 4, 5, 6}\n",
      "s1 -  {1, 2, 3, 4, 5}\n"
     ]
    }
   ],
   "source": [
    "s2.add(6)\n",
    "print(\"s2 - \",s2)\n",
    "print(\"s1 - \",s1)"
   ]
  },
  {
   "cell_type": "code",
   "execution_count": 454,
   "id": "57730eb5",
   "metadata": {},
   "outputs": [
    {
     "name": "stdout",
     "output_type": "stream",
     "text": [
      "{1, 2, 3, 4, 5}\n"
     ]
    }
   ],
   "source": [
    "s_t = set({1,5,2,3,4})\n",
    "print(s_t)"
   ]
  },
  {
   "cell_type": "code",
   "execution_count": 455,
   "id": "bc474e12",
   "metadata": {},
   "outputs": [],
   "source": [
    "s = my_set((1,5,2,3,4))"
   ]
  },
  {
   "cell_type": "code",
   "execution_count": 456,
   "id": "49ce476f",
   "metadata": {},
   "outputs": [
    {
     "name": "stdout",
     "output_type": "stream",
     "text": [
      "{1, 2, 3, 4, 5}\n"
     ]
    }
   ],
   "source": [
    "print(s)"
   ]
  },
  {
   "cell_type": "code",
   "execution_count": 457,
   "id": "2483b806",
   "metadata": {},
   "outputs": [],
   "source": [
    "s_2 = s.my_copy()\n",
    "s_2.my_add(0)"
   ]
  },
  {
   "cell_type": "code",
   "execution_count": 458,
   "id": "12e546ca",
   "metadata": {},
   "outputs": [
    {
     "name": "stdout",
     "output_type": "stream",
     "text": [
      "s -  {1, 2, 3, 4, 5}\n",
      "s_2 -  {0, 1, 2, 3, 4, 5}\n"
     ]
    }
   ],
   "source": [
    "print(\"s - \",s)\n",
    "print(\"s_2 - \",s_2)"
   ]
  },
  {
   "cell_type": "code",
   "execution_count": null,
   "id": "8509a7e4",
   "metadata": {},
   "outputs": [],
   "source": []
  },
  {
   "cell_type": "code",
   "execution_count": 534,
   "id": "e0d4785e",
   "metadata": {},
   "outputs": [],
   "source": [
    "# difference -> set_of_interest.difference(comp._set)\n",
    "s1 = {1,2,3,4,5}\n",
    "s2 = {11,2,3,4,55}"
   ]
  },
  {
   "cell_type": "code",
   "execution_count": 529,
   "id": "5a87c502",
   "metadata": {},
   "outputs": [],
   "source": [
    "# s1.difference(s2)\n",
    "def diff (s1,s2):\n",
    "    s_out = set()\n",
    "    for val in s1:\n",
    "        if val not in s2:\n",
    "            s_out.add(val)\n",
    "    return s_out"
   ]
  },
  {
   "cell_type": "code",
   "execution_count": 530,
   "id": "509a0204",
   "metadata": {},
   "outputs": [
    {
     "data": {
      "text/plain": [
       "{1, 5}"
      ]
     },
     "execution_count": 530,
     "metadata": {},
     "output_type": "execute_result"
    }
   ],
   "source": [
    "diff(s1,s2)"
   ]
  },
  {
   "cell_type": "code",
   "execution_count": 535,
   "id": "a24a3cc0",
   "metadata": {},
   "outputs": [
    {
     "ename": "AttributeError",
     "evalue": "'dict' object has no attribute 'difference'",
     "output_type": "error",
     "traceback": [
      "\u001b[1;31m---------------------------------------------------------------------------\u001b[0m",
      "\u001b[1;31mAttributeError\u001b[0m                            Traceback (most recent call last)",
      "\u001b[1;32m<ipython-input-535-e0a0c090b0ab>\u001b[0m in \u001b[0;36m<module>\u001b[1;34m\u001b[0m\n\u001b[1;32m----> 1\u001b[1;33m \u001b[0ms2\u001b[0m\u001b[1;33m.\u001b[0m\u001b[0mdifference\u001b[0m\u001b[1;33m(\u001b[0m\u001b[0ms1\u001b[0m\u001b[1;33m)\u001b[0m\u001b[1;33m\u001b[0m\u001b[1;33m\u001b[0m\u001b[0m\n\u001b[0m",
      "\u001b[1;31mAttributeError\u001b[0m: 'dict' object has no attribute 'difference'"
     ]
    }
   ],
   "source": [
    "s2.difference(s1)"
   ]
  },
  {
   "cell_type": "code",
   "execution_count": 463,
   "id": "99d3b90e",
   "metadata": {},
   "outputs": [
    {
     "name": "stdout",
     "output_type": "stream",
     "text": [
      "{1, 2, 3, 4, 5}\n",
      "{0, 1, 2, 3, 4, 5}\n"
     ]
    }
   ],
   "source": [
    "print(s)\n",
    "print(s_2)"
   ]
  },
  {
   "cell_type": "code",
   "execution_count": 464,
   "id": "1dbbdfce",
   "metadata": {},
   "outputs": [
    {
     "name": "stdout",
     "output_type": "stream",
     "text": [
      "{0}\n"
     ]
    }
   ],
   "source": [
    "print(s_2.my_difference(s))"
   ]
  },
  {
   "cell_type": "code",
   "execution_count": 691,
   "id": "b81bb92a",
   "metadata": {},
   "outputs": [],
   "source": [
    "s_1 = my_set((1, 2, 3, 4, 5))\n",
    "s_2 = my_set((11,2,3,4,55))"
   ]
  },
  {
   "cell_type": "code",
   "execution_count": 692,
   "id": "1c9cbc87",
   "metadata": {},
   "outputs": [],
   "source": [
    "s_diff = s_1.my_difference(s_2)"
   ]
  },
  {
   "cell_type": "code",
   "execution_count": 693,
   "id": "2a4c1844",
   "metadata": {},
   "outputs": [
    {
     "name": "stdout",
     "output_type": "stream",
     "text": [
      "{1, 5}\n"
     ]
    }
   ],
   "source": [
    "print(s_diff)"
   ]
  },
  {
   "cell_type": "code",
   "execution_count": 468,
   "id": "83f7b041",
   "metadata": {},
   "outputs": [],
   "source": [
    "# difference_update"
   ]
  },
  {
   "cell_type": "code",
   "execution_count": 526,
   "id": "ec8cee58",
   "metadata": {},
   "outputs": [],
   "source": [
    "s1 = {1,2,3,4,5}\n",
    "s2 = {11,2,3,4,55}"
   ]
  },
  {
   "cell_type": "code",
   "execution_count": 527,
   "id": "c1b6ccc0",
   "metadata": {},
   "outputs": [],
   "source": [
    "s1.difference_update(s2)"
   ]
  },
  {
   "cell_type": "code",
   "execution_count": 502,
   "id": "8eb9e3a6",
   "metadata": {},
   "outputs": [
    {
     "data": {
      "text/plain": [
       "{1, 5}"
      ]
     },
     "execution_count": 502,
     "metadata": {},
     "output_type": "execute_result"
    }
   ],
   "source": [
    "s1"
   ]
  },
  {
   "cell_type": "code",
   "execution_count": 694,
   "id": "044f112b",
   "metadata": {},
   "outputs": [],
   "source": [
    "s_1.my_difference_update(s_2)"
   ]
  },
  {
   "cell_type": "code",
   "execution_count": 695,
   "id": "9612c95a",
   "metadata": {},
   "outputs": [
    {
     "name": "stdout",
     "output_type": "stream",
     "text": [
      "{1, 5}\n"
     ]
    }
   ],
   "source": [
    "print(s_1)"
   ]
  },
  {
   "cell_type": "code",
   "execution_count": null,
   "id": "4c4075ce",
   "metadata": {},
   "outputs": [],
   "source": []
  },
  {
   "cell_type": "code",
   "execution_count": 506,
   "id": "e8e85284",
   "metadata": {},
   "outputs": [],
   "source": [
    "# discard"
   ]
  },
  {
   "cell_type": "code",
   "execution_count": 644,
   "id": "3020d352",
   "metadata": {},
   "outputs": [],
   "source": [
    "s1 = set((1,2,3))"
   ]
  },
  {
   "cell_type": "code",
   "execution_count": 645,
   "id": "8c580b3f",
   "metadata": {},
   "outputs": [],
   "source": [
    "s1.discard(4)"
   ]
  },
  {
   "cell_type": "code",
   "execution_count": 646,
   "id": "d8b2581a",
   "metadata": {},
   "outputs": [
    {
     "data": {
      "text/plain": [
       "{1, 2, 3}"
      ]
     },
     "execution_count": 646,
     "metadata": {},
     "output_type": "execute_result"
    }
   ],
   "source": [
    "s1"
   ]
  },
  {
   "cell_type": "code",
   "execution_count": null,
   "id": "9728fa9d",
   "metadata": {},
   "outputs": [],
   "source": []
  },
  {
   "cell_type": "code",
   "execution_count": 668,
   "id": "44cd8bed",
   "metadata": {},
   "outputs": [],
   "source": [
    "# intersection:"
   ]
  },
  {
   "cell_type": "code",
   "execution_count": 669,
   "id": "26dc2409",
   "metadata": {},
   "outputs": [],
   "source": [
    "s1 = set([1,2,3,4,5])\n",
    "s2 = set((11,2,3,4,55))"
   ]
  },
  {
   "cell_type": "code",
   "execution_count": 670,
   "id": "8ffd8a75",
   "metadata": {},
   "outputs": [
    {
     "data": {
      "text/plain": [
       "{2, 3, 4}"
      ]
     },
     "execution_count": 670,
     "metadata": {},
     "output_type": "execute_result"
    }
   ],
   "source": [
    "s1.intersection(s2)"
   ]
  },
  {
   "cell_type": "code",
   "execution_count": 671,
   "id": "a30ea345",
   "metadata": {},
   "outputs": [],
   "source": [
    "s1.intersection_update(s2)"
   ]
  },
  {
   "cell_type": "code",
   "execution_count": 672,
   "id": "da53a568",
   "metadata": {},
   "outputs": [
    {
     "name": "stdout",
     "output_type": "stream",
     "text": [
      "{2, 3, 4}\n"
     ]
    }
   ],
   "source": [
    "print(s1)"
   ]
  },
  {
   "cell_type": "code",
   "execution_count": 696,
   "id": "46f93038",
   "metadata": {},
   "outputs": [],
   "source": [
    "s_1 = my_set([1,2,3,4,5])\n",
    "s_2 = my_set((11,2,3,4,55))"
   ]
  },
  {
   "cell_type": "code",
   "execution_count": 697,
   "id": "ff2436c4",
   "metadata": {},
   "outputs": [
    {
     "name": "stdout",
     "output_type": "stream",
     "text": [
      "{2, 3, 4}\n"
     ]
    }
   ],
   "source": [
    "print(s_1.my_intersection(s_2))"
   ]
  },
  {
   "cell_type": "code",
   "execution_count": 698,
   "id": "da793396",
   "metadata": {},
   "outputs": [
    {
     "name": "stdout",
     "output_type": "stream",
     "text": [
      "{1, 2, 3, 4, 5}\n"
     ]
    }
   ],
   "source": [
    "print(s_1)"
   ]
  },
  {
   "cell_type": "code",
   "execution_count": 699,
   "id": "d053127c",
   "metadata": {},
   "outputs": [],
   "source": [
    "s_1.my_intersection_update(s_2)"
   ]
  },
  {
   "cell_type": "code",
   "execution_count": 700,
   "id": "95d8cf89",
   "metadata": {},
   "outputs": [
    {
     "name": "stdout",
     "output_type": "stream",
     "text": [
      "{2, 3, 4}\n"
     ]
    }
   ],
   "source": [
    "print(s_1)"
   ]
  },
  {
   "cell_type": "code",
   "execution_count": null,
   "id": "e3ebb301",
   "metadata": {},
   "outputs": [],
   "source": []
  },
  {
   "cell_type": "code",
   "execution_count": 701,
   "id": "dcf864c8",
   "metadata": {},
   "outputs": [],
   "source": [
    "# isdisjoint"
   ]
  },
  {
   "cell_type": "code",
   "execution_count": null,
   "id": "d80e5293",
   "metadata": {},
   "outputs": [],
   "source": []
  }
 ],
 "metadata": {
  "kernelspec": {
   "display_name": "Python 3",
   "language": "python",
   "name": "python3"
  },
  "language_info": {
   "codemirror_mode": {
    "name": "ipython",
    "version": 3
   },
   "file_extension": ".py",
   "mimetype": "text/x-python",
   "name": "python",
   "nbconvert_exporter": "python",
   "pygments_lexer": "ipython3",
   "version": "3.8.8"
  }
 },
 "nbformat": 4,
 "nbformat_minor": 5
}
