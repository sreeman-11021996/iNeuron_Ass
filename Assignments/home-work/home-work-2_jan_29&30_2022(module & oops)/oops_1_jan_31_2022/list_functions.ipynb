{
 "cells": [
  {
   "cell_type": "code",
   "execution_count": 1,
   "id": "7ad6839a",
   "metadata": {},
   "outputs": [],
   "source": [
    "# q1 -> create your own package for all the list functions"
   ]
  },
  {
   "cell_type": "code",
   "execution_count": 2,
   "id": "fac750c7",
   "metadata": {},
   "outputs": [],
   "source": [
    "# restriction :\n",
    "    # -> always use exception handling\n",
    "    # -> never use \"print\" statement\n",
    "    # -> always use logging while writing a code \n",
    "    # and log every activity performed by code in respective logging file\n",
    "# By next sunday -> before 30th Jan 10 AM IST\n",
    "# sudhanshu@ineuron.ai"
   ]
  },
  {
   "cell_type": "code",
   "execution_count": 3,
   "id": "60b2328d",
   "metadata": {},
   "outputs": [],
   "source": [
    "# 1. append -/\n",
    "# 2. clear -/ \n",
    "# 3. copy -/\n",
    "# 4. count -/\n",
    "# 5. extend -/\n",
    "# 6. index -/\n",
    "# 7. insert -/\n",
    "# 8. pop -/\n",
    "# 9. remove -/ \n",
    "# 10. reverse -/\n",
    "# 11. sort"
   ]
  },
  {
   "cell_type": "code",
   "execution_count": 4,
   "id": "863b4c81",
   "metadata": {},
   "outputs": [],
   "source": [
    "l = [1,2,3,4,5,6,7]"
   ]
  },
  {
   "cell_type": "code",
   "execution_count": 5,
   "id": "a6456dc4",
   "metadata": {},
   "outputs": [
    {
     "data": {
      "text/plain": [
       "[1, 2, 3, 4, 5, 6, 7, [10, 11, 12]]"
      ]
     },
     "execution_count": 5,
     "metadata": {},
     "output_type": "execute_result"
    }
   ],
   "source": [
    "l.append([10,11,12])\n",
    "l"
   ]
  },
  {
   "cell_type": "code",
   "execution_count": 6,
   "id": "7aeee1a2",
   "metadata": {},
   "outputs": [
    {
     "data": {
      "text/plain": [
       "[10, 11, 12]"
      ]
     },
     "execution_count": 6,
     "metadata": {},
     "output_type": "execute_result"
    }
   ],
   "source": [
    "l[-1]"
   ]
  },
  {
   "cell_type": "code",
   "execution_count": 7,
   "id": "6ebd2dbc",
   "metadata": {},
   "outputs": [],
   "source": [
    "# 1. append:\n",
    "def my_append (my_list,val):\n",
    "    \n",
    "    new_list = [None]*(len(my_list)+1)\n",
    "    \n",
    "    new_list[:-1] = my_list\n",
    "    new_list[-1] = val\n",
    "    \n",
    "    return new_list"
   ]
  },
  {
   "cell_type": "code",
   "execution_count": 8,
   "id": "bbd02643",
   "metadata": {},
   "outputs": [
    {
     "data": {
      "text/plain": [
       "[1, 2, 3, 4, 5, 6, 7, [10, 11, 12], [10, 11, 12]]"
      ]
     },
     "execution_count": 8,
     "metadata": {},
     "output_type": "execute_result"
    }
   ],
   "source": [
    "my_append(l,[10,11,12])"
   ]
  },
  {
   "cell_type": "code",
   "execution_count": null,
   "id": "a1dbd775",
   "metadata": {},
   "outputs": [],
   "source": []
  },
  {
   "cell_type": "code",
   "execution_count": 9,
   "id": "e5ebe4ec",
   "metadata": {},
   "outputs": [],
   "source": [
    "l.clear()"
   ]
  },
  {
   "cell_type": "code",
   "execution_count": 10,
   "id": "d24134dc",
   "metadata": {},
   "outputs": [
    {
     "data": {
      "text/plain": [
       "[]"
      ]
     },
     "execution_count": 10,
     "metadata": {},
     "output_type": "execute_result"
    }
   ],
   "source": [
    "l"
   ]
  },
  {
   "cell_type": "code",
   "execution_count": 11,
   "id": "2fb33f24",
   "metadata": {},
   "outputs": [],
   "source": [
    "# 2. clear\n",
    "def my_clear (my_list):\n",
    "    new_list = []\n",
    "    return new_list"
   ]
  },
  {
   "cell_type": "code",
   "execution_count": 12,
   "id": "c2b507ce",
   "metadata": {},
   "outputs": [
    {
     "data": {
      "text/plain": [
       "[1, 2, 3, 4, 5]"
      ]
     },
     "execution_count": 12,
     "metadata": {},
     "output_type": "execute_result"
    }
   ],
   "source": [
    "l = [1,2,3,4,5]\n",
    "l"
   ]
  },
  {
   "cell_type": "code",
   "execution_count": 13,
   "id": "fbe0210b",
   "metadata": {},
   "outputs": [
    {
     "data": {
      "text/plain": [
       "[]"
      ]
     },
     "execution_count": 13,
     "metadata": {},
     "output_type": "execute_result"
    }
   ],
   "source": [
    "l = my_clear(l)\n",
    "l"
   ]
  },
  {
   "cell_type": "code",
   "execution_count": 14,
   "id": "9e09206b",
   "metadata": {},
   "outputs": [
    {
     "data": {
      "text/plain": [
       "[]"
      ]
     },
     "execution_count": 14,
     "metadata": {},
     "output_type": "execute_result"
    }
   ],
   "source": [
    "r = l.copy()\n",
    "r.append(6)\n",
    "l"
   ]
  },
  {
   "cell_type": "code",
   "execution_count": 15,
   "id": "2b284771",
   "metadata": {},
   "outputs": [
    {
     "data": {
      "text/plain": [
       "[0]"
      ]
     },
     "execution_count": 15,
     "metadata": {},
     "output_type": "execute_result"
    }
   ],
   "source": [
    "s = l\n",
    "s.append(0)\n",
    "l"
   ]
  },
  {
   "cell_type": "code",
   "execution_count": 16,
   "id": "d9021496",
   "metadata": {},
   "outputs": [],
   "source": [
    "# 3. copy -> it returns a new copy of the list which can be modified without making changes in the \n",
    "# original list\n",
    "def my_copy (my_list):\n",
    "    new_list = [None]*len(my_list)\n",
    "    for i in range(len(my_list)):\n",
    "        new_list[i] = my_list[i]\n",
    "    return new_list"
   ]
  },
  {
   "cell_type": "code",
   "execution_count": 17,
   "id": "29cb4fd7",
   "metadata": {},
   "outputs": [],
   "source": [
    "l = [4,5,6]"
   ]
  },
  {
   "cell_type": "code",
   "execution_count": 18,
   "id": "2338893e",
   "metadata": {},
   "outputs": [
    {
     "name": "stdout",
     "output_type": "stream",
     "text": [
      "[4, 5, 6]\n",
      "s -  [4, 5, 6, 8]\n"
     ]
    }
   ],
   "source": [
    "s = my_copy(l)\n",
    "s.append(8)\n",
    "print(l)\n",
    "print(\"s - \",s)"
   ]
  },
  {
   "cell_type": "code",
   "execution_count": 19,
   "id": "bc2d3e7b",
   "metadata": {},
   "outputs": [
    {
     "data": {
      "text/plain": [
       "6"
      ]
     },
     "execution_count": 19,
     "metadata": {},
     "output_type": "execute_result"
    }
   ],
   "source": [
    "l = [1,2,3,87,4,78,87,87,4,5,6,87,87,4,87]\n",
    "l.count(87)"
   ]
  },
  {
   "cell_type": "code",
   "execution_count": 20,
   "id": "23c1a6c8",
   "metadata": {},
   "outputs": [
    {
     "data": {
      "text/plain": [
       "3"
      ]
     },
     "execution_count": 20,
     "metadata": {},
     "output_type": "execute_result"
    }
   ],
   "source": [
    "l.index(87)"
   ]
  },
  {
   "cell_type": "code",
   "execution_count": 21,
   "id": "2337c7d7",
   "metadata": {},
   "outputs": [],
   "source": [
    "# 6. index -> to get the first occurence index of the value in the list\n",
    "def my_index (my_list,val):\n",
    "    index = None\n",
    "    \n",
    "    for i in range(len(my_list)):\n",
    "        try:\n",
    "            if my_list[i] == val:\n",
    "                index = i\n",
    "                break\n",
    "            elif i == (len(my_list) - 1):\n",
    "                raise Exception(val,\" - Value not found in List\")\n",
    "            else:\n",
    "                continue\n",
    "        except Exception as e:\n",
    "            print(e)\n",
    "\n",
    "    return index"
   ]
  },
  {
   "cell_type": "code",
   "execution_count": 22,
   "id": "351583ff",
   "metadata": {},
   "outputs": [],
   "source": [
    "# 4. count -> it counts the number of occurences of a particular value in the list\n",
    "# !! note it uses index function from list - need to change this to own function\n",
    "def my_count (my_list,val):\n",
    "    if val not in my_list:\n",
    "        return 0\n",
    "    else:\n",
    "        count = 1\n",
    "        # run a for loop from the index position after the first occurence index\n",
    "        for i in range(my_index(my_list,val)+1,len(my_list)):\n",
    "            if my_list[i] == val:\n",
    "                count+=1\n",
    "        return count"
   ]
  },
  {
   "cell_type": "code",
   "execution_count": 23,
   "id": "7336a345",
   "metadata": {},
   "outputs": [
    {
     "data": {
      "text/plain": [
       "3"
      ]
     },
     "execution_count": 23,
     "metadata": {},
     "output_type": "execute_result"
    }
   ],
   "source": [
    "my_count(l,4)"
   ]
  },
  {
   "cell_type": "code",
   "execution_count": 24,
   "id": "3c91a44b",
   "metadata": {},
   "outputs": [],
   "source": [
    "l = [1,2,3,4,5]\n",
    "s = (7,8,9)"
   ]
  },
  {
   "cell_type": "code",
   "execution_count": 25,
   "id": "5e8c184f",
   "metadata": {},
   "outputs": [
    {
     "name": "stdout",
     "output_type": "stream",
     "text": [
      "l ->  [1, 2, 3, 4, 5, 7, 8, 9]\n",
      "s ->  (7, 8, 9)\n"
     ]
    }
   ],
   "source": [
    "l.extend(s)\n",
    "print(\"l -> \",l)\n",
    "print(\"s -> \",s)"
   ]
  },
  {
   "cell_type": "code",
   "execution_count": 26,
   "id": "49ed8f07",
   "metadata": {},
   "outputs": [],
   "source": [
    "# 5. extend -> to add the given list with another list and replace it with the first list\n",
    "def my_extend (my_list,ext_list):\n",
    "    \n",
    "    newlen = len(my_list) + len(ext_list)\n",
    "    new_list = [None]*newlen\n",
    "    \n",
    "    new_list[:len(my_list)] = my_list\n",
    "    new_list[len(my_list):] = ext_list\n",
    "    \n",
    "    return new_list"
   ]
  },
  {
   "cell_type": "code",
   "execution_count": 27,
   "id": "b8bc3bb2",
   "metadata": {},
   "outputs": [],
   "source": [
    "l = [1,2,3,4,5]\n",
    "s = {7,8,9,9}"
   ]
  },
  {
   "cell_type": "code",
   "execution_count": 28,
   "id": "71990cae",
   "metadata": {},
   "outputs": [],
   "source": [
    "l= my_extend(l,s)"
   ]
  },
  {
   "cell_type": "code",
   "execution_count": 29,
   "id": "eab18e35",
   "metadata": {},
   "outputs": [
    {
     "name": "stdout",
     "output_type": "stream",
     "text": [
      "l ->  [1, 2, 3, 4, 5, 8, 9, 7]\n",
      "s ->  {8, 9, 7}\n"
     ]
    }
   ],
   "source": [
    "print(\"l -> \",l)\n",
    "print(\"s -> \",s)"
   ]
  },
  {
   "cell_type": "code",
   "execution_count": 30,
   "id": "73db0679",
   "metadata": {},
   "outputs": [
    {
     "data": {
      "text/plain": [
       "3"
      ]
     },
     "execution_count": 30,
     "metadata": {},
     "output_type": "execute_result"
    }
   ],
   "source": [
    "l = [1,2,3,87,4,78,87,87,4,5,6,87,87,4,87]\n",
    "l.index(87)"
   ]
  },
  {
   "cell_type": "code",
   "execution_count": 31,
   "id": "f59a1840",
   "metadata": {},
   "outputs": [],
   "source": [
    "# 6. index -> to get the first occurence index of the value in the list\n",
    "def my_index (my_list,val):\n",
    "    index = None\n",
    "    \n",
    "    for i in range(len(my_list)):\n",
    "        try:\n",
    "            if my_list[i] == val:\n",
    "                index = i\n",
    "                break\n",
    "            elif i == (len(my_list) - 1):\n",
    "                raise Exception(val,\" - Value not found in List\")\n",
    "            else:\n",
    "                continue\n",
    "        except Exception as e:\n",
    "            print(e)\n",
    "\n",
    "    return index"
   ]
  },
  {
   "cell_type": "code",
   "execution_count": 32,
   "id": "b565d1ca",
   "metadata": {
    "scrolled": true
   },
   "outputs": [
    {
     "name": "stdout",
     "output_type": "stream",
     "text": [
      "(54, ' - Value not found in List')\n"
     ]
    }
   ],
   "source": [
    "my_index(l,54)"
   ]
  },
  {
   "cell_type": "code",
   "execution_count": 33,
   "id": "eb3d9471",
   "metadata": {},
   "outputs": [
    {
     "data": {
      "text/plain": [
       "[1, 2, 3, 10, 4, 5, 6, 7, 8]"
      ]
     },
     "execution_count": 33,
     "metadata": {},
     "output_type": "execute_result"
    }
   ],
   "source": [
    "l = [1,2,3,4,5,6,7,8]\n",
    "l.insert(3,10)\n",
    "l"
   ]
  },
  {
   "cell_type": "code",
   "execution_count": 34,
   "id": "2b0d341b",
   "metadata": {},
   "outputs": [
    {
     "data": {
      "text/plain": [
       "[1, 2, 3, 10]"
      ]
     },
     "execution_count": 34,
     "metadata": {},
     "output_type": "execute_result"
    }
   ],
   "source": [
    "l[:4]"
   ]
  },
  {
   "cell_type": "code",
   "execution_count": 35,
   "id": "67e777c5",
   "metadata": {},
   "outputs": [],
   "source": [
    "def out_of_range (my_list,index):\n",
    "    try:\n",
    "        if index >= len(my_list):\n",
    "            raise Exception(index,\" -> Out of Bounds of the list\")\n",
    "        else: \n",
    "            return False\n",
    "    except Exception as e:\n",
    "        print(e)\n",
    "        return True"
   ]
  },
  {
   "cell_type": "code",
   "execution_count": 36,
   "id": "591da973",
   "metadata": {},
   "outputs": [],
   "source": [
    "# 7. insert -> syntax (list.insert(index,value))\n",
    "def my_insert (my_list,index,value):\n",
    "    # check out of bounds error\n",
    "    if out_of_range(my_list,index):\n",
    "        return my_list\n",
    "    \n",
    "    new_list = [None]*(len(my_list)+1)\n",
    "    \n",
    "    new_list[:index] = my_list[:index]\n",
    "    new_list[index] = value\n",
    "    new_list[index+1:] = my_list[index:]\n",
    "    \n",
    "    return new_list"
   ]
  },
  {
   "cell_type": "code",
   "execution_count": null,
   "id": "cdc54405",
   "metadata": {},
   "outputs": [],
   "source": []
  },
  {
   "cell_type": "code",
   "execution_count": 37,
   "id": "61349718",
   "metadata": {},
   "outputs": [],
   "source": [
    "l = [1,2,3,4,5,6,7,8]"
   ]
  },
  {
   "cell_type": "code",
   "execution_count": 38,
   "id": "4aa56d04",
   "metadata": {},
   "outputs": [
    {
     "data": {
      "text/plain": [
       "[1, 2, 3, 4, 5, 54, 6, 7, 8]"
      ]
     },
     "execution_count": 38,
     "metadata": {},
     "output_type": "execute_result"
    }
   ],
   "source": [
    "l.insert(5,54)\n",
    "l"
   ]
  },
  {
   "cell_type": "code",
   "execution_count": 39,
   "id": "f2625257",
   "metadata": {},
   "outputs": [
    {
     "name": "stdout",
     "output_type": "stream",
     "text": [
      "(125, ' -> Out of Bounds of the list')\n"
     ]
    },
    {
     "data": {
      "text/plain": [
       "[1, 2, 3, 4, 5, 54, 6, 7, 8]"
      ]
     },
     "execution_count": 39,
     "metadata": {},
     "output_type": "execute_result"
    }
   ],
   "source": [
    "my_insert(l,125,54)"
   ]
  },
  {
   "cell_type": "code",
   "execution_count": 40,
   "id": "4a4aefdd",
   "metadata": {},
   "outputs": [
    {
     "data": {
      "text/plain": [
       "54"
      ]
     },
     "execution_count": 40,
     "metadata": {},
     "output_type": "execute_result"
    }
   ],
   "source": [
    "l.pop(5)"
   ]
  },
  {
   "cell_type": "code",
   "execution_count": 41,
   "id": "e8b82095",
   "metadata": {},
   "outputs": [
    {
     "data": {
      "text/plain": [
       "[1, 2, 3, 4, 5, 6, 7, 8]"
      ]
     },
     "execution_count": 41,
     "metadata": {},
     "output_type": "execute_result"
    }
   ],
   "source": [
    "l"
   ]
  },
  {
   "cell_type": "code",
   "execution_count": 42,
   "id": "6b06d7d2",
   "metadata": {},
   "outputs": [],
   "source": [
    "# empty list Error:\n",
    "def is_empty (my_list):\n",
    "    try:\n",
    "        if not my_list:\n",
    "            raise Exception(my_list,\" -> List is Empty\")\n",
    "    except Exception as e:\n",
    "        return e"
   ]
  },
  {
   "cell_type": "code",
   "execution_count": 43,
   "id": "37a69de8",
   "metadata": {},
   "outputs": [],
   "source": [
    "# 8. pop -> syntax (list.pop(index)) -> it returns the element at the index & removes it from \n",
    "# the list\n",
    "def my_pop(my_list,index = -1): \n",
    "    # index = -1 to pop last value\n",
    "    \n",
    "    # Error 1 -> check out of bounds error\n",
    "    if out_of_range(my_list,index):\n",
    "        return None,my_list\n",
    "    # Error 2 -> check if list is empty\n",
    "    exc = is_empty(my_list)\n",
    "    if exc:\n",
    "        print(exc)\n",
    "        return None,my_list\n",
    "    \n",
    "    pop_val = my_list[index]\n",
    "    new_list = [None]*(len(my_list)-1)\n",
    "    \n",
    "    # filling the new list\n",
    "    if index == -1:\n",
    "        new_list = my_list[:index]\n",
    "    else:\n",
    "        new_list[:index] = my_list[:index]\n",
    "        new_list[index:] = my_list[index+1:]\n",
    "\n",
    "    return pop_val,new_list"
   ]
  },
  {
   "cell_type": "code",
   "execution_count": null,
   "id": "55ec6fba",
   "metadata": {},
   "outputs": [],
   "source": []
  },
  {
   "cell_type": "code",
   "execution_count": 44,
   "id": "79dc81ef",
   "metadata": {},
   "outputs": [],
   "source": [
    "l = [1,2,3,4,5,6,7,8]"
   ]
  },
  {
   "cell_type": "code",
   "execution_count": 45,
   "id": "5c9b22ba",
   "metadata": {},
   "outputs": [
    {
     "name": "stdout",
     "output_type": "stream",
     "text": [
      "Pop element -  8\n",
      "New List -  [1, 2, 3, 4, 5, 6, 7]\n"
     ]
    }
   ],
   "source": [
    "pop,l = my_pop(l)\n",
    "print(\"Pop element - \", pop)\n",
    "print(\"New List - \", l)"
   ]
  },
  {
   "cell_type": "code",
   "execution_count": 46,
   "id": "3846502a",
   "metadata": {},
   "outputs": [
    {
     "name": "stdout",
     "output_type": "stream",
     "text": [
      "(50, ' -> Out of Bounds of the list')\n",
      "Pop element -  None\n",
      "New List -  [1, 2, 3, 4, 5, 6, 7]\n"
     ]
    }
   ],
   "source": [
    "pop,l = my_pop(l,50)\n",
    "print(\"Pop element - \", pop)\n",
    "print(\"New List - \", l)"
   ]
  },
  {
   "cell_type": "code",
   "execution_count": 47,
   "id": "b76a6006",
   "metadata": {},
   "outputs": [
    {
     "name": "stdout",
     "output_type": "stream",
     "text": [
      "Pop element -  6\n",
      "New List -  [1, 2, 3, 4, 5, 7]\n"
     ]
    }
   ],
   "source": [
    "pop,l = my_pop(l,5)\n",
    "print(\"Pop element - \", pop)\n",
    "print(\"New List - \", l)"
   ]
  },
  {
   "cell_type": "code",
   "execution_count": 48,
   "id": "45579f90",
   "metadata": {},
   "outputs": [],
   "source": [
    "l = [1,2,3,4,2,2,5,6,8]"
   ]
  },
  {
   "cell_type": "code",
   "execution_count": 49,
   "id": "6e295556",
   "metadata": {},
   "outputs": [
    {
     "data": {
      "text/plain": [
       "[1, 3, 4, 2, 2, 5, 6, 8]"
      ]
     },
     "execution_count": 49,
     "metadata": {},
     "output_type": "execute_result"
    }
   ],
   "source": [
    "l.remove(2)\n",
    "l"
   ]
  },
  {
   "cell_type": "code",
   "execution_count": 50,
   "id": "af69ac6f",
   "metadata": {},
   "outputs": [],
   "source": [
    "# 9. remove by value -(first occurance only)\n",
    "def my_remove (my_list,value):\n",
    "    # find index and pop but don't return the value\n",
    "    index = my_index(my_list,value)\n",
    "    if index:\n",
    "        pop,new_list = my_pop(my_list,index)\n",
    "        return new_list\n",
    "    # forgot to check for empty list"
   ]
  },
  {
   "cell_type": "code",
   "execution_count": 51,
   "id": "a541ff8b",
   "metadata": {},
   "outputs": [],
   "source": [
    "l = [1,2,3,4,4,4,4,5]"
   ]
  },
  {
   "cell_type": "code",
   "execution_count": 52,
   "id": "adab6f26",
   "metadata": {},
   "outputs": [
    {
     "name": "stdout",
     "output_type": "stream",
     "text": [
      "(40, ' - Value not found in List')\n"
     ]
    }
   ],
   "source": [
    "my_remove(l,40)"
   ]
  },
  {
   "cell_type": "code",
   "execution_count": 53,
   "id": "3657ca1c",
   "metadata": {},
   "outputs": [
    {
     "data": {
      "text/plain": [
       "[56, 4, 3, 2, 1, 89]"
      ]
     },
     "execution_count": 53,
     "metadata": {},
     "output_type": "execute_result"
    }
   ],
   "source": [
    "l = [89,1,2,3,4,56]\n",
    "l.reverse()\n",
    "l"
   ]
  },
  {
   "cell_type": "code",
   "execution_count": null,
   "id": "a87c2160",
   "metadata": {},
   "outputs": [],
   "source": []
  },
  {
   "cell_type": "code",
   "execution_count": 54,
   "id": "cc277491",
   "metadata": {},
   "outputs": [],
   "source": [
    "# 10. reverse -> reverses the list (in_place)\n",
    "def my_reverse (my_list):\n",
    "    for i in range(round(len(my_list)/2)):\n",
    "        my_list[i],my_list[(len(my_list)-1)-i] = my_list[(len(my_list)-1)-i],my_list[i]\n",
    "    return my_list"
   ]
  },
  {
   "cell_type": "code",
   "execution_count": 55,
   "id": "e2d6e124",
   "metadata": {},
   "outputs": [
    {
     "data": {
      "text/plain": [
       "[]"
      ]
     },
     "execution_count": 55,
     "metadata": {},
     "output_type": "execute_result"
    }
   ],
   "source": [
    "l = []\n",
    "my_reverse(l)"
   ]
  },
  {
   "cell_type": "code",
   "execution_count": 90,
   "id": "bcd58ec2",
   "metadata": {},
   "outputs": [
    {
     "ename": "TypeError",
     "evalue": "'<' not supported between instances of 'str' and 'int'",
     "output_type": "error",
     "traceback": [
      "\u001b[1;31m---------------------------------------------------------------------------\u001b[0m",
      "\u001b[1;31mTypeError\u001b[0m                                 Traceback (most recent call last)",
      "\u001b[1;32m<ipython-input-90-b973e6fc09e4>\u001b[0m in \u001b[0;36m<module>\u001b[1;34m\u001b[0m\n\u001b[0;32m      1\u001b[0m \u001b[0ml\u001b[0m \u001b[1;33m=\u001b[0m \u001b[1;33m[\u001b[0m\u001b[1;36m1\u001b[0m\u001b[1;33m,\u001b[0m\u001b[1;36m2\u001b[0m\u001b[1;33m,\u001b[0m\u001b[1;36m3\u001b[0m\u001b[1;33m,\u001b[0m\u001b[1;34m\"a\"\u001b[0m\u001b[1;33m]\u001b[0m\u001b[1;33m\u001b[0m\u001b[1;33m\u001b[0m\u001b[0m\n\u001b[1;32m----> 2\u001b[1;33m \u001b[0ml\u001b[0m\u001b[1;33m.\u001b[0m\u001b[0msort\u001b[0m\u001b[1;33m(\u001b[0m\u001b[1;33m)\u001b[0m\u001b[1;33m\u001b[0m\u001b[1;33m\u001b[0m\u001b[0m\n\u001b[0m\u001b[0;32m      3\u001b[0m \u001b[0ml\u001b[0m\u001b[1;33m\u001b[0m\u001b[1;33m\u001b[0m\u001b[0m\n",
      "\u001b[1;31mTypeError\u001b[0m: '<' not supported between instances of 'str' and 'int'"
     ]
    }
   ],
   "source": [
    "l = [1,2,3,\"a\"]\n",
    "l.sort()\n",
    "l"
   ]
  },
  {
   "cell_type": "code",
   "execution_count": null,
   "id": "6edf096e",
   "metadata": {},
   "outputs": [],
   "source": []
  },
  {
   "cell_type": "code",
   "execution_count": 106,
   "id": "7607ca65",
   "metadata": {},
   "outputs": [],
   "source": [
    "def check_int (my_list):\n",
    "    for val in my_list:\n",
    "        try:\n",
    "            if not isinstance(val,int) | isinstance(val,float) :\n",
    "                raise Exception (my_list,\" - '<' not supported between instances of 'str' and \"\n",
    "                                 \"'int'\")\n",
    "        except Exception as e:\n",
    "            print(e)\n",
    "            return False\n",
    "    return True"
   ]
  },
  {
   "cell_type": "code",
   "execution_count": null,
   "id": "4e20b494",
   "metadata": {},
   "outputs": [],
   "source": [
    "def insertion_sort(array):\n",
    "    # Loop from the second element of the array until\n",
    "    # the last element\n",
    "    for i in range(1, len(array)):\n",
    "        # This is the element we want to position in its\n",
    "        # correct place\n",
    "        key_item = array[i]\n",
    "\n",
    "        # Initialize the variable that will be used to\n",
    "        # find the correct position of the element referenced\n",
    "        # by `key_item`\n",
    "        j = i - 1\n",
    "\n",
    "        # Run through the list of items (the left\n",
    "        # portion of the array) and find the correct position\n",
    "        # of the element referenced by `key_item`. Do this only\n",
    "        # if `key_item` is smaller than its adjacent values.\n",
    "        while j >= 0 and array[j] > key_item:\n",
    "            # Shift the value one position to the left\n",
    "            # and reposition j to point to the next element\n",
    "            # (from right to left)\n",
    "            array[j + 1] = array[j]\n",
    "            j -= 1\n",
    "\n",
    "        # When you finish shifting the elements, you can position\n",
    "        # `key_item` in its correct location\n",
    "        array[j + 1] = key_item\n",
    "\n",
    "    return array"
   ]
  },
  {
   "cell_type": "code",
   "execution_count": 107,
   "id": "35c22271",
   "metadata": {},
   "outputs": [],
   "source": [
    "# 11. sort - syntax -> list.sort(reverse = False(True/False),keys = ..)\n",
    "# reverse = True - sorted in descending order\n",
    "def my_sort (my_list,reverse = False):\n",
    "    # sorting algorithm\n",
    "    # 1. primitive dtype\n",
    "    \n",
    "    ## int or float values\n",
    "    if check_int(my_list):\n",
    "        # sort by int \n",
    "        \n",
    "    else:\n",
    "        return"
   ]
  },
  {
   "cell_type": "code",
   "execution_count": 108,
   "id": "c8c0b1b5",
   "metadata": {},
   "outputs": [],
   "source": [
    "my_sort([1,2,3.5])"
   ]
  },
  {
   "cell_type": "code",
   "execution_count": null,
   "id": "b68419fe",
   "metadata": {},
   "outputs": [],
   "source": []
  },
  {
   "cell_type": "code",
   "execution_count": null,
   "id": "9daf5be8",
   "metadata": {},
   "outputs": [],
   "source": []
  },
  {
   "cell_type": "code",
   "execution_count": null,
   "id": "4b7709e1",
   "metadata": {},
   "outputs": [],
   "source": []
  },
  {
   "cell_type": "code",
   "execution_count": 76,
   "id": "933e422b",
   "metadata": {},
   "outputs": [],
   "source": [
    "class my_list:\n",
    "    \n",
    "    def __init__ (self,my_list):\n",
    "        self.my_list = my_list\n",
    "    \n",
    "    def my_append (self,val):\n",
    "        new_list = [None]*(len(self.my_list)+1)\n",
    "        # populate the new list\n",
    "        new_list[:-1] = self.my_list\n",
    "        new_list[-1] = val\n",
    "        # copy it to class var.\n",
    "        self.my_list = new_list\n",
    "    \n",
    "    def my_clear (self):\n",
    "        self.my_list = []\n",
    "        \n",
    "    # 3. copy -> it returns a new copy of the list which can be modified without making changes \n",
    "    # in the original list\n",
    "    def my_copy (self):\n",
    "        # create a new object:\n",
    "        new_obj = my_list(self.my_list)\n",
    "        return new_obj\n",
    "    \n",
    "    # index -> to get the first occurence index of the value in the list\n",
    "    def my_index (self,val):\n",
    "        flag = False\n",
    "        # condition for empty list:\n",
    "        if len(self.my_list) == 0:\n",
    "            flag = True\n",
    "            \n",
    "        for i in range(len(self.my_list)):\n",
    "            # check each velue\n",
    "            if self.my_list[i] == val:\n",
    "                index = i\n",
    "                break\n",
    "            elif i == (len(self.my_list) - 1):\n",
    "                flag = True\n",
    "            \n",
    "        # value not found Error\n",
    "        if flag:\n",
    "            try:\n",
    "                raise Exception(val,\" - Value not found in List\")\n",
    "            except Exception as e:\n",
    "                print(e)\n",
    "                index = None\n",
    "        return index\n",
    "    \n",
    "    # count -> it counts the number of occurences of a particular value in the list\n",
    "    def my_count (self,val):\n",
    "        # checks the first occurence of the value\n",
    "        index = self.my_index(val)\n",
    "        if not index:\n",
    "            return 0\n",
    "        else:\n",
    "            count = 1\n",
    "            # run a for loop from the index position after the first occurence index\n",
    "            for i in range(index+1,len(self.my_list)):\n",
    "                if self.my_list[i] == val:\n",
    "                    count+=1\n",
    "            return count\n",
    "    # 5. extend -> to add the given list with another list and replace it with the first list\n",
    "    def my_extend (self,ext_list):\n",
    "\n",
    "        newlen = len(self.my_list) + len(ext_list)\n",
    "        new_list = [None]*newlen\n",
    "\n",
    "        new_list[:len(self.my_list)] = self.my_list\n",
    "        new_list[len(self.my_list):] = ext_list\n",
    "\n",
    "        self.my_list = new_list\n",
    "        \n",
    "    def __out_of_range (self,index):\n",
    "        try:\n",
    "            if index >= len(self.my_list):\n",
    "                raise Exception(index,\" -> Out of Bounds of the list\")\n",
    "            else: \n",
    "                return False\n",
    "        except Exception as e:\n",
    "            print(e)\n",
    "            return True\n",
    "        \n",
    "    # 7. insert -> syntax (list.insert(index,value))\n",
    "    def my_insert (self,index,value):\n",
    "        # check out of bounds error\n",
    "        if (len(self.my_list))>0:\n",
    "            if self.__out_of_range(index):\n",
    "                return\n",
    "        else:\n",
    "            index = 0\n",
    "\n",
    "        new_list = [None]*(len(self.my_list)+1)\n",
    "\n",
    "        new_list[:index] = self.my_list[:index]\n",
    "        new_list[index] = value\n",
    "        new_list[index+1:] = self.my_list[index:]\n",
    "\n",
    "        self.my_list = new_list\n",
    "        \n",
    "    # empty list Error:\n",
    "    def __is_empty (self):\n",
    "        try:\n",
    "            if not self.my_list:\n",
    "                raise Exception(self.my_list,\" -> List is Empty\")\n",
    "        except Exception as e:\n",
    "            print(e)\n",
    "            return True\n",
    "    \n",
    "    # 8. pop -> syntax (list.pop(index)) -> it returns the element at the index & removes it from \n",
    "    # the list\n",
    "    def my_pop(self,index = -1): \n",
    "        # index = -1 to pop last value\n",
    "\n",
    "        # Error 1 -> check out of bounds error\n",
    "        if self.__out_of_range(index):\n",
    "            return None\n",
    "        # Error 2 -> check if list is empty\n",
    "        if self.__is_empty():\n",
    "            return None\n",
    "\n",
    "        pop_val = self.my_list[index]\n",
    "        new_list = [None]*(len(self.my_list)-1)\n",
    "\n",
    "        # filling the new list\n",
    "        if index == -1:\n",
    "            new_list = self.my_list[:index]\n",
    "        else:\n",
    "            new_list[:index] = self.my_list[:index]\n",
    "            new_list[index:] = self.my_list[index+1:]\n",
    "        self.my_list = new_list\n",
    "        return pop_val\n",
    "    \n",
    "    # 9. remove by value -(first occurance only)\n",
    "    def my_remove (self,value):\n",
    "        # find index and pop but don't return the value\n",
    "        index = self.my_index(value)\n",
    "        if index is not None:\n",
    "            pop = self.my_pop(index)\n",
    "    \n",
    "    # 10. reverse -> reverses the list (in_place)\n",
    "    def my_reverse (self):\n",
    "        for i in range(round(len(self.my_list)/2)):\n",
    "            self.my_list[i],self.my_list[(len(self.my_list)-1)-i] = self.my_list[(len(self.my_list)-1)-i],self.my_list[i]"
   ]
  },
  {
   "cell_type": "code",
   "execution_count": 77,
   "id": "4a875585",
   "metadata": {},
   "outputs": [
    {
     "name": "stdout",
     "output_type": "stream",
     "text": [
      "(12, ' -> Out of Bounds of the list')\n"
     ]
    },
    {
     "data": {
      "text/plain": [
       "[1, 2, 3]"
      ]
     },
     "execution_count": 77,
     "metadata": {},
     "output_type": "execute_result"
    }
   ],
   "source": [
    "l = my_list([1,2,3])\n",
    "l.my_insert(12,45)\n",
    "l.my_list"
   ]
  },
  {
   "cell_type": "code",
   "execution_count": null,
   "id": "b8ca9596",
   "metadata": {},
   "outputs": [],
   "source": []
  },
  {
   "cell_type": "code",
   "execution_count": null,
   "id": "23953f1b",
   "metadata": {},
   "outputs": [],
   "source": []
  },
  {
   "cell_type": "code",
   "execution_count": 74,
   "id": "8e867016",
   "metadata": {},
   "outputs": [],
   "source": [
    "l = my_list([])"
   ]
  },
  {
   "cell_type": "code",
   "execution_count": 58,
   "id": "6b377738",
   "metadata": {},
   "outputs": [
    {
     "name": "stdout",
     "output_type": "stream",
     "text": [
      "(4, ' - Value not found in List')\n"
     ]
    }
   ],
   "source": [
    "l.my_index(4)"
   ]
  },
  {
   "cell_type": "code",
   "execution_count": 30,
   "id": "27b212ef",
   "metadata": {},
   "outputs": [
    {
     "data": {
      "text/plain": [
       "0"
      ]
     },
     "execution_count": 30,
     "metadata": {},
     "output_type": "execute_result"
    }
   ],
   "source": [
    "len(l.my_list)"
   ]
  },
  {
   "cell_type": "code",
   "execution_count": 72,
   "id": "e8ab93d5",
   "metadata": {},
   "outputs": [
    {
     "data": {
      "text/plain": [
       "[45]"
      ]
     },
     "execution_count": 72,
     "metadata": {},
     "output_type": "execute_result"
    }
   ],
   "source": [
    "l.my_insert(45,45)\n",
    "l.my_list"
   ]
  },
  {
   "cell_type": "code",
   "execution_count": null,
   "id": "51bb1e0c",
   "metadata": {},
   "outputs": [],
   "source": []
  },
  {
   "cell_type": "code",
   "execution_count": 105,
   "id": "c6120668",
   "metadata": {},
   "outputs": [],
   "source": [
    "l.my_append(9)"
   ]
  },
  {
   "cell_type": "code",
   "execution_count": 106,
   "id": "aafe8ca5",
   "metadata": {},
   "outputs": [
    {
     "data": {
      "text/plain": [
       "[9]"
      ]
     },
     "execution_count": 106,
     "metadata": {},
     "output_type": "execute_result"
    }
   ],
   "source": [
    "l.my_list"
   ]
  },
  {
   "cell_type": "code",
   "execution_count": 60,
   "id": "3712e835",
   "metadata": {},
   "outputs": [],
   "source": [
    "l = my_list([])"
   ]
  },
  {
   "cell_type": "code",
   "execution_count": 71,
   "id": "4b6a2198",
   "metadata": {},
   "outputs": [
    {
     "name": "stdout",
     "output_type": "stream",
     "text": [
      "[]\n"
     ]
    }
   ],
   "source": [
    "s = l.my_copy()\n",
    "print(s.my_list)"
   ]
  },
  {
   "cell_type": "code",
   "execution_count": 70,
   "id": "12133de4",
   "metadata": {},
   "outputs": [
    {
     "name": "stdout",
     "output_type": "stream",
     "text": [
      "(54, ' - Value not found in List')\n"
     ]
    },
    {
     "data": {
      "text/plain": [
       "0"
      ]
     },
     "execution_count": 70,
     "metadata": {},
     "output_type": "execute_result"
    }
   ],
   "source": [
    "l.my_count(54)"
   ]
  },
  {
   "cell_type": "code",
   "execution_count": 32,
   "id": "399132fe",
   "metadata": {},
   "outputs": [
    {
     "ename": "ValueError",
     "evalue": "45 is not in list",
     "output_type": "error",
     "traceback": [
      "\u001b[1;31m---------------------------------------------------------------------------\u001b[0m",
      "\u001b[1;31mValueError\u001b[0m                                Traceback (most recent call last)",
      "\u001b[1;32m<ipython-input-32-88b7147ba9e1>\u001b[0m in \u001b[0;36m<module>\u001b[1;34m\u001b[0m\n\u001b[0;32m      1\u001b[0m \u001b[0msam\u001b[0m \u001b[1;33m=\u001b[0m \u001b[1;33m[\u001b[0m\u001b[1;33m]\u001b[0m\u001b[1;33m\u001b[0m\u001b[1;33m\u001b[0m\u001b[0m\n\u001b[1;32m----> 2\u001b[1;33m \u001b[0msam\u001b[0m\u001b[1;33m.\u001b[0m\u001b[0mindex\u001b[0m\u001b[1;33m(\u001b[0m\u001b[1;36m45\u001b[0m\u001b[1;33m)\u001b[0m\u001b[1;33m\u001b[0m\u001b[1;33m\u001b[0m\u001b[0m\n\u001b[0m",
      "\u001b[1;31mValueError\u001b[0m: 45 is not in list"
     ]
    }
   ],
   "source": [
    "sam = []\n",
    "sam.index(45)"
   ]
  },
  {
   "cell_type": "code",
   "execution_count": 21,
   "id": "d4d2c9b3",
   "metadata": {},
   "outputs": [
    {
     "data": {
      "text/plain": [
       "0"
      ]
     },
     "execution_count": 21,
     "metadata": {},
     "output_type": "execute_result"
    }
   ],
   "source": [
    "sam = []\n",
    "sam.count(45)"
   ]
  },
  {
   "cell_type": "code",
   "execution_count": 68,
   "id": "d86983cd",
   "metadata": {},
   "outputs": [
    {
     "data": {
      "text/plain": [
       "[1, 2, 3]"
      ]
     },
     "execution_count": 68,
     "metadata": {},
     "output_type": "execute_result"
    }
   ],
   "source": [
    "l.my_extend((1,2,3))\n",
    "l.my_list"
   ]
  },
  {
   "cell_type": "code",
   "execution_count": 69,
   "id": "07a9f77f",
   "metadata": {},
   "outputs": [
    {
     "data": {
      "text/plain": [
       "[]"
      ]
     },
     "execution_count": 69,
     "metadata": {},
     "output_type": "execute_result"
    }
   ],
   "source": [
    "l.my_clear()\n",
    "l.my_list"
   ]
  },
  {
   "cell_type": "code",
   "execution_count": 67,
   "id": "d77908e0",
   "metadata": {},
   "outputs": [
    {
     "name": "stdout",
     "output_type": "stream",
     "text": [
      "(4, ' - Value not found in List')\n"
     ]
    }
   ],
   "source": [
    "l.my_index(4)"
   ]
  },
  {
   "cell_type": "code",
   "execution_count": 119,
   "id": "f7053540",
   "metadata": {},
   "outputs": [
    {
     "name": "stdout",
     "output_type": "stream",
     "text": [
      "([], ' -> List is Empty')\n"
     ]
    },
    {
     "data": {
      "text/plain": [
       "[45]"
      ]
     },
     "execution_count": 119,
     "metadata": {},
     "output_type": "execute_result"
    }
   ],
   "source": [
    "l.my_insert(45,45)\n",
    "l.my_list"
   ]
  },
  {
   "cell_type": "code",
   "execution_count": 66,
   "id": "59273d68",
   "metadata": {},
   "outputs": [
    {
     "name": "stdout",
     "output_type": "stream",
     "text": [
      "([], ' -> List is Empty')\n"
     ]
    }
   ],
   "source": [
    "l.my_pop()"
   ]
  },
  {
   "cell_type": "code",
   "execution_count": 64,
   "id": "a142ff71",
   "metadata": {},
   "outputs": [
    {
     "name": "stdout",
     "output_type": "stream",
     "text": [
      "(45, ' - Value not found in List')\n"
     ]
    }
   ],
   "source": [
    "l.my_remove(45)"
   ]
  },
  {
   "cell_type": "code",
   "execution_count": 124,
   "id": "c571883e",
   "metadata": {},
   "outputs": [
    {
     "ename": "ValueError",
     "evalue": "list.remove(x): x not in list",
     "output_type": "error",
     "traceback": [
      "\u001b[1;31m---------------------------------------------------------------------------\u001b[0m",
      "\u001b[1;31mValueError\u001b[0m                                Traceback (most recent call last)",
      "\u001b[1;32m<ipython-input-124-0bae88df8fbd>\u001b[0m in \u001b[0;36m<module>\u001b[1;34m\u001b[0m\n\u001b[0;32m      1\u001b[0m \u001b[0msam\u001b[0m \u001b[1;33m=\u001b[0m \u001b[1;33m[\u001b[0m\u001b[1;33m]\u001b[0m\u001b[1;33m\u001b[0m\u001b[1;33m\u001b[0m\u001b[0m\n\u001b[1;32m----> 2\u001b[1;33m \u001b[0msam\u001b[0m\u001b[1;33m.\u001b[0m\u001b[0mremove\u001b[0m\u001b[1;33m(\u001b[0m\u001b[1;36m45\u001b[0m\u001b[1;33m)\u001b[0m\u001b[1;33m\u001b[0m\u001b[1;33m\u001b[0m\u001b[0m\n\u001b[0m",
      "\u001b[1;31mValueError\u001b[0m: list.remove(x): x not in list"
     ]
    }
   ],
   "source": [
    "sam = []\n",
    "sam.remove(45)"
   ]
  },
  {
   "cell_type": "code",
   "execution_count": 65,
   "id": "b8ca2c2f",
   "metadata": {},
   "outputs": [
    {
     "data": {
      "text/plain": [
       "[]"
      ]
     },
     "execution_count": 65,
     "metadata": {},
     "output_type": "execute_result"
    }
   ],
   "source": [
    "l.my_reverse()\n",
    "l.my_list"
   ]
  },
  {
   "cell_type": "code",
   "execution_count": null,
   "id": "1ba238b4",
   "metadata": {},
   "outputs": [],
   "source": []
  },
  {
   "cell_type": "code",
   "execution_count": 59,
   "id": "23abc363",
   "metadata": {},
   "outputs": [
    {
     "data": {
      "text/plain": [
       "[2, 1]"
      ]
     },
     "execution_count": 59,
     "metadata": {},
     "output_type": "execute_result"
    }
   ],
   "source": [
    "l = my_list([1,2])\n",
    "l.my_reverse()\n",
    "l.my_list"
   ]
  },
  {
   "cell_type": "code",
   "execution_count": 60,
   "id": "5f1a82a8",
   "metadata": {},
   "outputs": [
    {
     "data": {
      "text/plain": [
       "[2, 1]"
      ]
     },
     "execution_count": 60,
     "metadata": {},
     "output_type": "execute_result"
    }
   ],
   "source": [
    "l.my_list"
   ]
  },
  {
   "cell_type": "code",
   "execution_count": 61,
   "id": "0e7d3dfe",
   "metadata": {},
   "outputs": [],
   "source": [
    "l = my_list([1,2,3,4,5])\n",
    "l.my_append(7)"
   ]
  },
  {
   "cell_type": "code",
   "execution_count": 62,
   "id": "0875e5c2",
   "metadata": {},
   "outputs": [
    {
     "data": {
      "text/plain": [
       "[1, 2, 3, 4, 5, 7]"
      ]
     },
     "execution_count": 62,
     "metadata": {},
     "output_type": "execute_result"
    }
   ],
   "source": [
    "l.my_list"
   ]
  },
  {
   "cell_type": "code",
   "execution_count": 63,
   "id": "b62b5201",
   "metadata": {},
   "outputs": [
    {
     "data": {
      "text/plain": [
       "[]"
      ]
     },
     "execution_count": 63,
     "metadata": {},
     "output_type": "execute_result"
    }
   ],
   "source": [
    "l.my_clear()\n",
    "l.my_list"
   ]
  },
  {
   "cell_type": "code",
   "execution_count": 64,
   "id": "88efe04c",
   "metadata": {},
   "outputs": [],
   "source": [
    "new = l.my_copy()"
   ]
  },
  {
   "cell_type": "code",
   "execution_count": 65,
   "id": "1bfc67a9",
   "metadata": {},
   "outputs": [
    {
     "data": {
      "text/plain": [
       "[10]"
      ]
     },
     "execution_count": 65,
     "metadata": {},
     "output_type": "execute_result"
    }
   ],
   "source": [
    "new.my_append(10)\n",
    "new.my_list"
   ]
  },
  {
   "cell_type": "code",
   "execution_count": 70,
   "id": "e6b4e215",
   "metadata": {},
   "outputs": [
    {
     "data": {
      "text/plain": [
       "[]"
      ]
     },
     "execution_count": 70,
     "metadata": {},
     "output_type": "execute_result"
    }
   ],
   "source": [
    "l.my_list"
   ]
  },
  {
   "cell_type": "code",
   "execution_count": 67,
   "id": "58f9aa06",
   "metadata": {},
   "outputs": [
    {
     "ename": "UnboundLocalError",
     "evalue": "local variable 'index' referenced before assignment",
     "output_type": "error",
     "traceback": [
      "\u001b[1;31m---------------------------------------------------------------------------\u001b[0m",
      "\u001b[1;31mUnboundLocalError\u001b[0m                         Traceback (most recent call last)",
      "\u001b[1;32m<ipython-input-67-5f560fb97b1c>\u001b[0m in \u001b[0;36m<module>\u001b[1;34m\u001b[0m\n\u001b[1;32m----> 1\u001b[1;33m \u001b[0ml\u001b[0m\u001b[1;33m.\u001b[0m\u001b[0mmy_index\u001b[0m\u001b[1;33m(\u001b[0m\u001b[1;36m54\u001b[0m\u001b[1;33m)\u001b[0m\u001b[1;33m\u001b[0m\u001b[1;33m\u001b[0m\u001b[0m\n\u001b[0m",
      "\u001b[1;32m<ipython-input-58-48fbec751e58>\u001b[0m in \u001b[0;36mmy_index\u001b[1;34m(self, val)\u001b[0m\n\u001b[0;32m     40\u001b[0m                 \u001b[0mprint\u001b[0m\u001b[1;33m(\u001b[0m\u001b[0me\u001b[0m\u001b[1;33m)\u001b[0m\u001b[1;33m\u001b[0m\u001b[1;33m\u001b[0m\u001b[0m\n\u001b[0;32m     41\u001b[0m                 \u001b[0mindex\u001b[0m \u001b[1;33m=\u001b[0m \u001b[1;32mNone\u001b[0m\u001b[1;33m\u001b[0m\u001b[1;33m\u001b[0m\u001b[0m\n\u001b[1;32m---> 42\u001b[1;33m         \u001b[1;32mreturn\u001b[0m \u001b[0mindex\u001b[0m\u001b[1;33m\u001b[0m\u001b[1;33m\u001b[0m\u001b[0m\n\u001b[0m\u001b[0;32m     43\u001b[0m \u001b[1;33m\u001b[0m\u001b[0m\n\u001b[0;32m     44\u001b[0m     \u001b[1;31m# count -> it counts the number of occurences of a particular value in the list\u001b[0m\u001b[1;33m\u001b[0m\u001b[1;33m\u001b[0m\u001b[1;33m\u001b[0m\u001b[0m\n",
      "\u001b[1;31mUnboundLocalError\u001b[0m: local variable 'index' referenced before assignment"
     ]
    }
   ],
   "source": [
    "l.my_index(54)"
   ]
  },
  {
   "cell_type": "code",
   "execution_count": null,
   "id": "0d8108b4",
   "metadata": {},
   "outputs": [],
   "source": [
    "l = my_list([1,2,3,5,5,4])\n",
    "l.my_count(54)"
   ]
  },
  {
   "cell_type": "code",
   "execution_count": null,
   "id": "6e546279",
   "metadata": {},
   "outputs": [],
   "source": [
    "l.my_extend(([4,5],6))"
   ]
  },
  {
   "cell_type": "code",
   "execution_count": 68,
   "id": "a8b879fd",
   "metadata": {},
   "outputs": [
    {
     "data": {
      "text/plain": [
       "[]"
      ]
     },
     "execution_count": 68,
     "metadata": {},
     "output_type": "execute_result"
    }
   ],
   "source": [
    "l.my_list"
   ]
  },
  {
   "cell_type": "code",
   "execution_count": 69,
   "id": "ac2400d8",
   "metadata": {},
   "outputs": [
    {
     "name": "stdout",
     "output_type": "stream",
     "text": [
      "(3, ' -> Out of Bounds of the list')\n"
     ]
    },
    {
     "ename": "IndexError",
     "evalue": "list assignment index out of range",
     "output_type": "error",
     "traceback": [
      "\u001b[1;31m---------------------------------------------------------------------------\u001b[0m",
      "\u001b[1;31mIndexError\u001b[0m                                Traceback (most recent call last)",
      "\u001b[1;32m<ipython-input-69-4874ea485ca4>\u001b[0m in \u001b[0;36m<module>\u001b[1;34m\u001b[0m\n\u001b[1;32m----> 1\u001b[1;33m \u001b[0ml\u001b[0m\u001b[1;33m.\u001b[0m\u001b[0mmy_insert\u001b[0m\u001b[1;33m(\u001b[0m\u001b[1;36m3\u001b[0m\u001b[1;33m,\u001b[0m\u001b[1;36m78\u001b[0m\u001b[1;33m)\u001b[0m\u001b[1;33m\u001b[0m\u001b[1;33m\u001b[0m\u001b[0m\n\u001b[0m",
      "\u001b[1;32m<ipython-input-58-48fbec751e58>\u001b[0m in \u001b[0;36mmy_insert\u001b[1;34m(self, index, value)\u001b[0m\n\u001b[0;32m     85\u001b[0m \u001b[1;33m\u001b[0m\u001b[0m\n\u001b[0;32m     86\u001b[0m         \u001b[0mnew_list\u001b[0m\u001b[1;33m[\u001b[0m\u001b[1;33m:\u001b[0m\u001b[0mindex\u001b[0m\u001b[1;33m]\u001b[0m \u001b[1;33m=\u001b[0m \u001b[0mself\u001b[0m\u001b[1;33m.\u001b[0m\u001b[0mmy_list\u001b[0m\u001b[1;33m[\u001b[0m\u001b[1;33m:\u001b[0m\u001b[0mindex\u001b[0m\u001b[1;33m]\u001b[0m\u001b[1;33m\u001b[0m\u001b[1;33m\u001b[0m\u001b[0m\n\u001b[1;32m---> 87\u001b[1;33m         \u001b[0mnew_list\u001b[0m\u001b[1;33m[\u001b[0m\u001b[0mindex\u001b[0m\u001b[1;33m]\u001b[0m \u001b[1;33m=\u001b[0m \u001b[0mvalue\u001b[0m\u001b[1;33m\u001b[0m\u001b[1;33m\u001b[0m\u001b[0m\n\u001b[0m\u001b[0;32m     88\u001b[0m         \u001b[0mnew_list\u001b[0m\u001b[1;33m[\u001b[0m\u001b[0mindex\u001b[0m\u001b[1;33m+\u001b[0m\u001b[1;36m1\u001b[0m\u001b[1;33m:\u001b[0m\u001b[1;33m]\u001b[0m \u001b[1;33m=\u001b[0m \u001b[0mself\u001b[0m\u001b[1;33m.\u001b[0m\u001b[0mmy_list\u001b[0m\u001b[1;33m[\u001b[0m\u001b[0mindex\u001b[0m\u001b[1;33m:\u001b[0m\u001b[1;33m]\u001b[0m\u001b[1;33m\u001b[0m\u001b[1;33m\u001b[0m\u001b[0m\n\u001b[0;32m     89\u001b[0m \u001b[1;33m\u001b[0m\u001b[0m\n",
      "\u001b[1;31mIndexError\u001b[0m: list assignment index out of range"
     ]
    }
   ],
   "source": [
    "l.my_insert(3,78)"
   ]
  },
  {
   "cell_type": "code",
   "execution_count": 315,
   "id": "5ad0dc81",
   "metadata": {},
   "outputs": [
    {
     "data": {
      "text/plain": [
       "[]"
      ]
     },
     "execution_count": 315,
     "metadata": {},
     "output_type": "execute_result"
    }
   ],
   "source": [
    "l.my_list"
   ]
  },
  {
   "cell_type": "code",
   "execution_count": 291,
   "id": "852bf4ac",
   "metadata": {},
   "outputs": [
    {
     "data": {
      "text/plain": [
       "[1, 2, 3, 5, 5, 4]"
      ]
     },
     "execution_count": 291,
     "metadata": {},
     "output_type": "execute_result"
    }
   ],
   "source": [
    "l.my_list"
   ]
  },
  {
   "cell_type": "code",
   "execution_count": 288,
   "id": "f17ead32",
   "metadata": {},
   "outputs": [
    {
     "name": "stdout",
     "output_type": "stream",
     "text": [
      "([], ' -> List is Empty')\n"
     ]
    }
   ],
   "source": [
    "l.my_pop()"
   ]
  },
  {
   "cell_type": "code",
   "execution_count": 323,
   "id": "ec46eec8",
   "metadata": {},
   "outputs": [],
   "source": [
    "l = my_list([1,2])"
   ]
  },
  {
   "cell_type": "code",
   "execution_count": 324,
   "id": "9380421b",
   "metadata": {},
   "outputs": [],
   "source": [
    "l.my_remove(1)"
   ]
  },
  {
   "cell_type": "code",
   "execution_count": 325,
   "id": "07d64e0a",
   "metadata": {},
   "outputs": [
    {
     "data": {
      "text/plain": [
       "[1, 2]"
      ]
     },
     "execution_count": 325,
     "metadata": {},
     "output_type": "execute_result"
    }
   ],
   "source": [
    "l.my_list"
   ]
  },
  {
   "cell_type": "code",
   "execution_count": null,
   "id": "b21cb3df",
   "metadata": {},
   "outputs": [],
   "source": []
  }
 ],
 "metadata": {
  "kernelspec": {
   "display_name": "Python 3",
   "language": "python",
   "name": "python3"
  },
  "language_info": {
   "codemirror_mode": {
    "name": "ipython",
    "version": 3
   },
   "file_extension": ".py",
   "mimetype": "text/x-python",
   "name": "python",
   "nbconvert_exporter": "python",
   "pygments_lexer": "ipython3",
   "version": "3.8.8"
  }
 },
 "nbformat": 4,
 "nbformat_minor": 5
}
