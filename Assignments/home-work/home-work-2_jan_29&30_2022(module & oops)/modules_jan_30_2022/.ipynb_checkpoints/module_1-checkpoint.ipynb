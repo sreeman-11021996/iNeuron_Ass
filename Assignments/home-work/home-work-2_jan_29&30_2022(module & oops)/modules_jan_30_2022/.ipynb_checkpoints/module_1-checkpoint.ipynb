{
 "cells": [
  {
   "cell_type": "code",
   "execution_count": null,
   "id": "5b4bcde4",
   "metadata": {},
   "outputs": [],
   "source": []
  },
  {
   "cell_type": "code",
   "execution_count": 1,
   "id": "a440d8e9",
   "metadata": {},
   "outputs": [],
   "source": [
    "#create a kind of tool by which you will be able to browse each and everything\n",
    "\n",
    "#-> list down all the files\n",
    "#-> find wether in the current directory, we have pdf or not\n",
    "#-> if pdf = 0, do nothing\n",
    "#-> if pdf > 0, merge all pdf's\n",
    "\n",
    "#by using tkinter, kivy library\n",
    "#kivy is the best\n",
    "\n",
    "#RESTRICTION:\n",
    "#use logging\n",
    "#use modular coding\n",
    "#use exception handling"
   ]
  },
  {
   "cell_type": "code",
   "execution_count": null,
   "id": "2ab87bba",
   "metadata": {},
   "outputs": [],
   "source": []
  }
 ],
 "metadata": {
  "kernelspec": {
   "display_name": "Python 3",
   "language": "python",
   "name": "python3"
  },
  "language_info": {
   "codemirror_mode": {
    "name": "ipython",
    "version": 3
   },
   "file_extension": ".py",
   "mimetype": "text/x-python",
   "name": "python",
   "nbconvert_exporter": "python",
   "pygments_lexer": "ipython3",
   "version": "3.8.8"
  }
 },
 "nbformat": 4,
 "nbformat_minor": 5
}
