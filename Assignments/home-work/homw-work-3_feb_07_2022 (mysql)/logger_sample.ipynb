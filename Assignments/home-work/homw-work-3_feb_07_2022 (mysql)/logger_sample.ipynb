{
 "cells": [
  {
   "cell_type": "code",
   "execution_count": 6,
   "id": "433ce1a5",
   "metadata": {},
   "outputs": [],
   "source": [
    "import logging"
   ]
  },
  {
   "cell_type": "code",
   "execution_count": 17,
   "id": "d9d40d9c",
   "metadata": {},
   "outputs": [],
   "source": [
    "class log:\n",
    "    def __init__ (self,file_name = \"sql.log\",level = \"info\",format = '%(asctime)s %(levelname)s %(message)s'):\n",
    "        self.__file_name = file_name\n",
    "        self.__level = level\n",
    "        self.__format = format\n",
    "        self.__basic()\n",
    "        \n",
    "    def __basic(self):\n",
    "        try:\n",
    "            if self.__level == \"info\":\n",
    "                logging.basicConfig(filename = self.__file_name,level = logging.INFO,\n",
    "                                    format = self.__format)\n",
    "        except Exception as e:\n",
    "            print(e)\n",
    "    \n",
    "    def __check_msg (self,message):\n",
    "        if not isinstance(message,str):\n",
    "            raise Exception(\"Please enter a string message\")\n",
    "    \n",
    "    def error (self,message):\n",
    "        # check the message \n",
    "        self.__check_msg(message)\n",
    "        logging.error(message)\n",
    "    \n",
    "    def warning (self,message):\n",
    "        # check the message \n",
    "        self.__check_msg(message)\n",
    "        logging.warning(message)\n",
    "    \n",
    "    def info (self,message):\n",
    "        # check the message \n",
    "        self.__check_msg(message)\n",
    "        logging.info(message)"
   ]
  },
  {
   "cell_type": "code",
   "execution_count": 18,
   "id": "9e5f0e2d",
   "metadata": {},
   "outputs": [],
   "source": [
    "log = log()"
   ]
  },
  {
   "cell_type": "code",
   "execution_count": 19,
   "id": "0f0657a3",
   "metadata": {},
   "outputs": [],
   "source": [
    "log.warning(\"this is a warning\")"
   ]
  },
  {
   "cell_type": "code",
   "execution_count": null,
   "id": "4e2a2452",
   "metadata": {},
   "outputs": [],
   "source": []
  }
 ],
 "metadata": {
  "kernelspec": {
   "display_name": "Python 3",
   "language": "python",
   "name": "python3"
  },
  "language_info": {
   "codemirror_mode": {
    "name": "ipython",
    "version": 3
   },
   "file_extension": ".py",
   "mimetype": "text/x-python",
   "name": "python",
   "nbconvert_exporter": "python",
   "pygments_lexer": "ipython3",
   "version": "3.8.8"
  }
 },
 "nbformat": 4,
 "nbformat_minor": 5
}
