{
 "cells": [
  {
   "cell_type": "code",
   "execution_count": 1,
   "id": "9535ea1c",
   "metadata": {},
   "outputs": [],
   "source": [
    "# 1. Write a Python program to Extract Unique values dictionary values?\n",
    "# meaning perform the extraction of only unique values from dictionary values list"
   ]
  },
  {
   "cell_type": "code",
   "execution_count": 22,
   "id": "b42243ea",
   "metadata": {},
   "outputs": [],
   "source": [
    "test_dict = {'gfg' : [5, 6, 7, 8],'is' : [10, 11, 7, 5],'best' : [6, 12, 10, 8],\n",
    "             'for' : [1, 2, 5]}"
   ]
  },
  {
   "cell_type": "code",
   "execution_count": 7,
   "id": "c152a5f6",
   "metadata": {},
   "outputs": [
    {
     "data": {
      "text/plain": [
       "{'gfg': [5, 6, 7, 8],\n",
       " 'is': [10, 11, 7, 5],\n",
       " 'best': [6, 12, 10, 8],\n",
       " 'for': [1, 2, 5]}"
      ]
     },
     "execution_count": 7,
     "metadata": {},
     "output_type": "execute_result"
    }
   ],
   "source": [
    "test_dict"
   ]
  },
  {
   "cell_type": "code",
   "execution_count": 106,
   "id": "38924aec",
   "metadata": {},
   "outputs": [],
   "source": [
    "def unq_dict_val (test_dict):\n",
    "    unq = set()\n",
    "    for v in test_dict.values():\n",
    "        if type(v) == list or type(v) == tuple:\n",
    "            unq = lst_r_tuple(v,unq)\n",
    "        else:\n",
    "            unq.add(v)\n",
    "    return sorted(unq)"
   ]
  },
  {
   "cell_type": "code",
   "execution_count": 107,
   "id": "d88d93ed",
   "metadata": {},
   "outputs": [],
   "source": [
    "def lst_r_tuple (test,unq):\n",
    "    if type(test) == set:\n",
    "        test = list(test)\n",
    "    for i in test:\n",
    "        if type(i) == list or type(i) == tuple:\n",
    "            unq = lst_r_tuple(i,unq)\n",
    "        else:\n",
    "            unq.add(i)\n",
    "    return unq"
   ]
  },
  {
   "cell_type": "code",
   "execution_count": 110,
   "id": "abec7967",
   "metadata": {},
   "outputs": [],
   "source": [
    "test_dict_exp = {'gfg' : [5, [6, 7], 8],'is' : [10, (11, 7), 5],'best' : (6, 12,[ 10, 8]),\n",
    "             'for' : [1, [2, 5]]}"
   ]
  },
  {
   "cell_type": "code",
   "execution_count": 111,
   "id": "4e5e4140",
   "metadata": {},
   "outputs": [
    {
     "data": {
      "text/plain": [
       "[1, 2, 5, 6, 7, 8, 10, 11, 12]"
      ]
     },
     "execution_count": 111,
     "metadata": {},
     "output_type": "execute_result"
    }
   ],
   "source": [
    "unq_dict_val(test_dict_exp)"
   ]
  },
  {
   "cell_type": "code",
   "execution_count": 31,
   "id": "e919d396",
   "metadata": {},
   "outputs": [],
   "source": [
    "test = {'a':1,'b':1,'c':1,'d':2,'e':2,'f':2}\n",
    "test_dict = {'gfg' : [5, 6, 7, 8],'is' : [10, 11, 7, 5],'best' : [6, 12, 10, 8],\n",
    "             'for' : [1, 2, 5]}"
   ]
  },
  {
   "cell_type": "code",
   "execution_count": 28,
   "id": "46e9fd0b",
   "metadata": {},
   "outputs": [
    {
     "data": {
      "text/plain": [
       "[1, 2]"
      ]
     },
     "execution_count": 28,
     "metadata": {},
     "output_type": "execute_result"
    }
   ],
   "source": [
    "unq_dict_val(test)"
   ]
  },
  {
   "cell_type": "code",
   "execution_count": 32,
   "id": "0adf81fe",
   "metadata": {},
   "outputs": [
    {
     "data": {
      "text/plain": [
       "[1, 2, 5, 6, 7, 8, 10, 11, 12]"
      ]
     },
     "execution_count": 32,
     "metadata": {},
     "output_type": "execute_result"
    }
   ],
   "source": [
    "unq_dict_val(test_dict)"
   ]
  },
  {
   "cell_type": "code",
   "execution_count": null,
   "id": "44762b34",
   "metadata": {},
   "outputs": [],
   "source": []
  },
  {
   "cell_type": "code",
   "execution_count": 21,
   "id": "80952cb7",
   "metadata": {},
   "outputs": [],
   "source": [
    "# 2. Write a Python program to find the sum of all items in a dictionary?"
   ]
  },
  {
   "cell_type": "code",
   "execution_count": 112,
   "id": "754aa97d",
   "metadata": {},
   "outputs": [],
   "source": [
    "test_2 = {'a':1,'b':2,'c':3,'d':'sr','e':5,'f':10}"
   ]
  },
  {
   "cell_type": "code",
   "execution_count": 113,
   "id": "59c2ec5f",
   "metadata": {},
   "outputs": [],
   "source": [
    "def sum_dict_item (test_dict):\n",
    "    sum = 0\n",
    "    for v in test_dict.values():\n",
    "        if type(v) == str:\n",
    "            continue\n",
    "        else:\n",
    "            sum+=v\n",
    "    return sum"
   ]
  },
  {
   "cell_type": "code",
   "execution_count": 114,
   "id": "74b5f878",
   "metadata": {},
   "outputs": [],
   "source": [
    "# the above func cant handle lists , sets or nested dicts"
   ]
  },
  {
   "cell_type": "code",
   "execution_count": 115,
   "id": "e57cbb6c",
   "metadata": {},
   "outputs": [
    {
     "data": {
      "text/plain": [
       "21"
      ]
     },
     "execution_count": 115,
     "metadata": {},
     "output_type": "execute_result"
    }
   ],
   "source": [
    "sum_dict_item(test_2)"
   ]
  },
  {
   "cell_type": "code",
   "execution_count": 46,
   "id": "8f9f7fff",
   "metadata": {},
   "outputs": [],
   "source": []
  },
  {
   "cell_type": "code",
   "execution_count": 116,
   "id": "63f6cdd7",
   "metadata": {},
   "outputs": [],
   "source": [
    "# 3. Write a Python program to Merging two Dictionaries?"
   ]
  },
  {
   "cell_type": "code",
   "execution_count": 117,
   "id": "dde23236",
   "metadata": {},
   "outputs": [],
   "source": [
    "test_a = {'a':1,'b':2}\n",
    "test_b = {'c':5,'d':7}"
   ]
  },
  {
   "cell_type": "code",
   "execution_count": 120,
   "id": "368bf39c",
   "metadata": {},
   "outputs": [
    {
     "data": {
      "text/plain": [
       "{'a': 1, 'b': 2, 'c': 5, 'd': 7}"
      ]
     },
     "execution_count": 120,
     "metadata": {},
     "output_type": "execute_result"
    }
   ],
   "source": [
    "test_a.update(test_b)\n",
    "test_a"
   ]
  },
  {
   "cell_type": "code",
   "execution_count": null,
   "id": "509ea1c5",
   "metadata": {},
   "outputs": [],
   "source": []
  },
  {
   "cell_type": "code",
   "execution_count": 121,
   "id": "bc802b23",
   "metadata": {},
   "outputs": [],
   "source": [
    "# 4. Write a Python program to convert key-values list to flat dictionary?\n",
    "# The original dictionary is : {‘name’: [‘Jan’, ‘Feb’, ‘March’], ‘month’: [1, 2, 3]}\n",
    "# Flattened dictionary : {1: ‘Jan’, 2: ‘Feb’, 3: ‘March’}"
   ]
  },
  {
   "cell_type": "code",
   "execution_count": 124,
   "id": "e0c9d8f3",
   "metadata": {},
   "outputs": [],
   "source": [
    "org_dict = {'name': ['Jan', 'Feb', 'March'], 'month': [1, 2, 3]}"
   ]
  },
  {
   "cell_type": "code",
   "execution_count": 142,
   "id": "11b56072",
   "metadata": {},
   "outputs": [],
   "source": [
    "def flat_dict (test_dict):\n",
    "    key = list(test_dict.keys())\n",
    "    f_dict = dict(zip(test_dict[key[1]],test_dict[key[0]]))\n",
    "    return f_dict"
   ]
  },
  {
   "cell_type": "code",
   "execution_count": 143,
   "id": "e771d2a3",
   "metadata": {},
   "outputs": [
    {
     "data": {
      "text/plain": [
       "{1: 'Jan', 2: 'Feb', 3: 'March'}"
      ]
     },
     "execution_count": 143,
     "metadata": {},
     "output_type": "execute_result"
    }
   ],
   "source": [
    "flat_dict(org_dict)"
   ]
  },
  {
   "cell_type": "code",
   "execution_count": null,
   "id": "fc4ce5c7",
   "metadata": {},
   "outputs": [],
   "source": []
  },
  {
   "cell_type": "code",
   "execution_count": 144,
   "id": "d6f7de38",
   "metadata": {},
   "outputs": [],
   "source": [
    "# 5. Write a Python program to insertion at the beginning in OrderedDict?\n",
    "\"\"\" Input: \n",
    "original_dict = {'a':1, 'b':2}\n",
    "item to be inserted ('c', 3)\n",
    "\n",
    "Output:  {'c':3, 'a':1, 'b':2}\n",
    "\n",
    "Input: \n",
    "original_dict = {'akshat':1, 'manjeet':2}\n",
    "item to be inserted ('nikhil', 3)\n",
    "\n",
    "Output:  {'nikhil':3, 'akshat':1, 'manjeet':2}\"\"\""
   ]
  },
  {
   "cell_type": "code",
   "execution_count": 145,
   "id": "c717b5f7",
   "metadata": {},
   "outputs": [],
   "source": [
    "test_3 = {'a':1,'b':2,'c':3,'d':'sr','e':5,'f':10}"
   ]
  },
  {
   "cell_type": "code",
   "execution_count": 151,
   "id": "1517fef9",
   "metadata": {},
   "outputs": [],
   "source": [
    "from collections import OrderedDict"
   ]
  },
  {
   "cell_type": "code",
   "execution_count": 1,
   "id": "4b335224",
   "metadata": {},
   "outputs": [
    {
     "data": {
      "text/plain": [
       "{'a': 1, 'b': 2}"
      ]
     },
     "execution_count": 1,
     "metadata": {},
     "output_type": "execute_result"
    }
   ],
   "source": [
    "original_dict = {'a':1, 'b':2}\n",
    "original_dict"
   ]
  },
  {
   "cell_type": "code",
   "execution_count": 4,
   "id": "68cfe9f3",
   "metadata": {},
   "outputs": [],
   "source": [
    "from collections import OrderedDict"
   ]
  },
  {
   "cell_type": "code",
   "execution_count": 5,
   "id": "2303e465",
   "metadata": {},
   "outputs": [],
   "source": [
    "def val_front (test_dict):\n",
    "    original_dict = OrderedDict(test_dict)\n",
    "    k,v = input(\"Enter Key and value: \").split()\n",
    "    original_dict.update({k:v})\n",
    "    original_dict.move_to_end(k,last=False)\n",
    "    return original_dict"
   ]
  },
  {
   "cell_type": "code",
   "execution_count": 6,
   "id": "05f9689d",
   "metadata": {},
   "outputs": [
    {
     "name": "stdout",
     "output_type": "stream",
     "text": [
      "Enter Key and value: f 4\n"
     ]
    },
    {
     "data": {
      "text/plain": [
       "OrderedDict([('f', '4'), ('a', 1), ('b', 2)])"
      ]
     },
     "execution_count": 6,
     "metadata": {},
     "output_type": "execute_result"
    }
   ],
   "source": [
    "val_front(original_dict)"
   ]
  },
  {
   "cell_type": "code",
   "execution_count": null,
   "id": "8e81374e",
   "metadata": {},
   "outputs": [],
   "source": []
  },
  {
   "cell_type": "code",
   "execution_count": 7,
   "id": "c856eed8",
   "metadata": {},
   "outputs": [],
   "source": [
    "# 6. Write a Python program to check order of character in string using OrderedDict()?\n",
    "\"\"\"\n",
    "Input: \n",
    "string = \"engineers rock\"\n",
    "pattern = \"er\";\n",
    "Output: true\n",
    "Explanation: \n",
    "All 'e' in the input string are before all 'r'.\n",
    "\n",
    "Input: \n",
    "string = \"engineers rock\"\n",
    "pattern = \"egr\";\n",
    "Output: false\n",
    "Explanation: \n",
    "There are two 'e' after 'g' in the input string.\n",
    "\n",
    "Input: \n",
    "string = \"engineers rock\"\n",
    "pattern = \"gsr\";\n",
    "Output: false\n",
    "Explanation:\n",
    "There are one 'r' before 's' in the input string.\n",
    "\n",
    "\"\"\""
   ]
  },
  {
   "cell_type": "code",
   "execution_count": 59,
   "id": "212581a2",
   "metadata": {},
   "outputs": [],
   "source": [
    "from collections import OrderedDict"
   ]
  },
  {
   "cell_type": "code",
   "execution_count": 101,
   "id": "4ee1564e",
   "metadata": {},
   "outputs": [],
   "source": [
    "def checkOrder(sample, pattern):  \n",
    "    test_dict = OrderedDict.fromkeys(sample) \n",
    "    ptlen = 0\n",
    "    for key,value in test_dict.items(): \n",
    "        if (key == pattern[ptlen]): \n",
    "            ptlen = ptlen + 1\n",
    "        if (ptlen == (len(pattern))): \n",
    "            return 'true'\n",
    "    return 'false'\n",
    "  "
   ]
  },
  {
   "cell_type": "code",
   "execution_count": 104,
   "id": "7544e099",
   "metadata": {},
   "outputs": [],
   "source": [
    "sample = 'srinivaas'\n",
    "pattern = 'va'"
   ]
  },
  {
   "cell_type": "code",
   "execution_count": 105,
   "id": "34b7e529",
   "metadata": {},
   "outputs": [
    {
     "data": {
      "text/plain": [
       "'true'"
      ]
     },
     "execution_count": 105,
     "metadata": {},
     "output_type": "execute_result"
    }
   ],
   "source": [
    "checkOrder(sample,pattern)"
   ]
  },
  {
   "cell_type": "code",
   "execution_count": null,
   "id": "db0dcf5a",
   "metadata": {},
   "outputs": [],
   "source": []
  },
  {
   "cell_type": "code",
   "execution_count": 106,
   "id": "c69acd0c",
   "metadata": {},
   "outputs": [],
   "source": [
    "# 7. Write a Python program to sort Python Dictionaries by Key or Value?"
   ]
  },
  {
   "cell_type": "code",
   "execution_count": null,
   "id": "2dd87fbd",
   "metadata": {},
   "outputs": [],
   "source": []
  }
 ],
 "metadata": {
  "kernelspec": {
   "display_name": "Python 3",
   "language": "python",
   "name": "python3"
  },
  "language_info": {
   "codemirror_mode": {
    "name": "ipython",
    "version": 3
   },
   "file_extension": ".py",
   "mimetype": "text/x-python",
   "name": "python",
   "nbconvert_exporter": "python",
   "pygments_lexer": "ipython3",
   "version": "3.8.8"
  }
 },
 "nbformat": 4,
 "nbformat_minor": 5
}
