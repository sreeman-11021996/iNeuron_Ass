{
 "cells": [
  {
   "cell_type": "code",
   "execution_count": 6,
   "id": "433ce1a5",
   "metadata": {},
   "outputs": [],
   "source": [
    "import logging"
   ]
  },
  {
   "cell_type": "code",
   "execution_count": 13,
   "id": "d9d40d9c",
   "metadata": {},
   "outputs": [],
   "source": [
    "class log:\n",
    "    def __init__ (self,file_name = \"sql.log\",level = \"info\",format = '%(asctime)s %(levelname)s %(message)s'):\n",
    "        self.__file_name = file_name\n",
    "        self.__level = level\n",
    "        self.__format = format\n",
    "        self.__basic()\n",
    "        \n",
    "    def __basic(self):\n",
    "        try:\n",
    "            if self.__level == \"info\":\n",
    "                logging.basicConfig(filename = self.__file_name,level = logging.INFO,\n",
    "                                    format = self.__format)\n",
    "        except Exception as e:\n",
    "            print(e)\n",
    "    \n",
    "    def __check_msg (self,message):\n",
    "        if not isinstance(message,str):\n",
    "            raise Exception(\"Please enter a string message\")\n",
    "    \n",
    "    def error (self,message):\n",
    "        # check the message \n",
    "        self.__check_msg(message)\n",
    "        logging.error(message)\n",
    "    \n",
    "    def warning (self,message):\n",
    "        # check the message \n",
    "        self.__check_mesg(message)\n",
    "        logging.warning(message)\n",
    "    \n",
    "    def info (self,message):\n",
    "        # check the message \n",
    "        self.__check_msg(message)\n",
    "        logging.info(message)"
   ]
  },
  {
   "cell_type": "code",
   "execution_count": 11,
   "id": "e990ba1c",
   "metadata": {},
   "outputs": [],
   "source": [
    "log = log()"
   ]
  },
  {
   "cell_type": "code",
   "execution_count": 12,
   "id": "e96aee50",
   "metadata": {},
   "outputs": [
    {
     "ename": "NameError",
     "evalue": "name '_log__check_mesg' is not defined",
     "output_type": "error",
     "traceback": [
      "\u001b[1;31m---------------------------------------------------------------------------\u001b[0m",
      "\u001b[1;31mNameError\u001b[0m                                 Traceback (most recent call last)",
      "\u001b[1;32m<ipython-input-12-be0907e527b4>\u001b[0m in \u001b[0;36m<module>\u001b[1;34m\u001b[0m\n\u001b[1;32m----> 1\u001b[1;33m \u001b[0mlog\u001b[0m\u001b[1;33m.\u001b[0m\u001b[0mwarning\u001b[0m\u001b[1;33m(\u001b[0m\u001b[1;34m\"this is a warning\"\u001b[0m\u001b[1;33m)\u001b[0m\u001b[1;33m\u001b[0m\u001b[1;33m\u001b[0m\u001b[0m\n\u001b[0m",
      "\u001b[1;32m<ipython-input-10-4b5125493a57>\u001b[0m in \u001b[0;36mwarning\u001b[1;34m(self, message)\u001b[0m\n\u001b[0;32m     25\u001b[0m     \u001b[1;32mdef\u001b[0m \u001b[0mwarning\u001b[0m \u001b[1;33m(\u001b[0m\u001b[0mself\u001b[0m\u001b[1;33m,\u001b[0m\u001b[0mmessage\u001b[0m\u001b[1;33m)\u001b[0m\u001b[1;33m:\u001b[0m\u001b[1;33m\u001b[0m\u001b[1;33m\u001b[0m\u001b[0m\n\u001b[0;32m     26\u001b[0m         \u001b[1;31m# check the message\u001b[0m\u001b[1;33m\u001b[0m\u001b[1;33m\u001b[0m\u001b[1;33m\u001b[0m\u001b[0m\n\u001b[1;32m---> 27\u001b[1;33m         \u001b[0m__check_mesg\u001b[0m\u001b[1;33m(\u001b[0m\u001b[0mmessage\u001b[0m\u001b[1;33m)\u001b[0m\u001b[1;33m\u001b[0m\u001b[1;33m\u001b[0m\u001b[0m\n\u001b[0m\u001b[0;32m     28\u001b[0m         \u001b[0mlogging\u001b[0m\u001b[1;33m.\u001b[0m\u001b[0mwarning\u001b[0m\u001b[1;33m(\u001b[0m\u001b[0mmessage\u001b[0m\u001b[1;33m)\u001b[0m\u001b[1;33m\u001b[0m\u001b[1;33m\u001b[0m\u001b[0m\n\u001b[0;32m     29\u001b[0m \u001b[1;33m\u001b[0m\u001b[0m\n",
      "\u001b[1;31mNameError\u001b[0m: name '_log__check_mesg' is not defined"
     ]
    }
   ],
   "source": [
    "log.warning(\"this is a warning\")"
   ]
  },
  {
   "cell_type": "code",
   "execution_count": null,
   "id": "f0c7fc68",
   "metadata": {},
   "outputs": [],
   "source": []
  }
 ],
 "metadata": {
  "kernelspec": {
   "display_name": "Python 3",
   "language": "python",
   "name": "python3"
  },
  "language_info": {
   "codemirror_mode": {
    "name": "ipython",
    "version": 3
   },
   "file_extension": ".py",
   "mimetype": "text/x-python",
   "name": "python",
   "nbconvert_exporter": "python",
   "pygments_lexer": "ipython3",
   "version": "3.8.8"
  }
 },
 "nbformat": 4,
 "nbformat_minor": 5
}
