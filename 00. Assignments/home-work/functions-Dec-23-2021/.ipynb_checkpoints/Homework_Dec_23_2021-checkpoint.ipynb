{
 "cells": [
  {
   "cell_type": "code",
   "execution_count": 1,
   "id": "33ec755b",
   "metadata": {},
   "outputs": [],
   "source": [
    "# Question-1\n",
    "# 1 . you have to write a fun which will take string and return a len of \n",
    "# it without using a inbuilt fun len"
   ]
  },
  {
   "cell_type": "code",
   "execution_count": 2,
   "id": "3ec4ea9e",
   "metadata": {},
   "outputs": [],
   "source": [
    "def len_str (string):\n",
    "    \"\"\"\n",
    "    It takes in a string and return its length\"\"\"\n",
    "    if type(string) == str:\n",
    "        count = 0\n",
    "        for i in string:\n",
    "            count+=1\n",
    "        return count\n",
    "    else:\n",
    "        return TypeError(\"Please pass a String\")"
   ]
  },
  {
   "cell_type": "code",
   "execution_count": 3,
   "id": "2543860b",
   "metadata": {},
   "outputs": [
    {
     "data": {
      "text/plain": [
       "5"
      ]
     },
     "execution_count": 3,
     "metadata": {},
     "output_type": "execute_result"
    }
   ],
   "source": [
    "len_str(\"sarah\")"
   ]
  },
  {
   "cell_type": "code",
   "execution_count": 4,
   "id": "441c8744",
   "metadata": {},
   "outputs": [
    {
     "data": {
      "text/plain": [
       "TypeError('Please pass a String')"
      ]
     },
     "execution_count": 4,
     "metadata": {},
     "output_type": "execute_result"
    }
   ],
   "source": [
    "len_str([\"sarah\"])"
   ]
  },
  {
   "cell_type": "code",
   "execution_count": null,
   "id": "8521500f",
   "metadata": {},
   "outputs": [],
   "source": []
  },
  {
   "cell_type": "code",
   "execution_count": 5,
   "id": "4f51a0fc",
   "metadata": {},
   "outputs": [],
   "source": [
    "# Question-2\n",
    "# 2 . write a fun which will be able to print an index of all premitive element which you \n",
    "# will pass "
   ]
  },
  {
   "cell_type": "code",
   "execution_count": 6,
   "id": "c724d821",
   "metadata": {},
   "outputs": [],
   "source": [
    "def ind_cont (cont):\n",
    "    \"\"\"\n",
    "    Arguments: a set or tuple or list\n",
    "    Function prints the indexes and its values\"\"\"\n",
    "    if type(cont) == set:\n",
    "        cont = list(cont)\n",
    "    if type(cont) == list or type(cont) == tuple or type(cont) == str:\n",
    "        for i in range(len(cont)):\n",
    "            print(i,\" - \",cont[i])"
   ]
  },
  {
   "cell_type": "code",
   "execution_count": 7,
   "id": "9b4213e5",
   "metadata": {},
   "outputs": [
    {
     "name": "stdout",
     "output_type": "stream",
     "text": [
      "0  -  s\n",
      "1  -  a\n",
      "2  -  r\n",
      "3  -  a\n",
      "4  -  h\n"
     ]
    }
   ],
   "source": [
    "ind_cont(\"sarah\")"
   ]
  },
  {
   "cell_type": "code",
   "execution_count": null,
   "id": "ca8eead3",
   "metadata": {},
   "outputs": [],
   "source": []
  },
  {
   "cell_type": "code",
   "execution_count": 8,
   "id": "89598c87",
   "metadata": {},
   "outputs": [],
   "source": [
    "# Question - 3\n",
    "# 3 . Write a fun which will take input as a dict and give me out as a list of all the values \n",
    "# even in case of 2 level nesting it should work . "
   ]
  },
  {
   "cell_type": "code",
   "execution_count": 9,
   "id": "226f7872",
   "metadata": {},
   "outputs": [],
   "source": [
    "def list_values (test_list):\n",
    "    return list(test_list)"
   ]
  },
  {
   "cell_type": "code",
   "execution_count": 10,
   "id": "aa07a09b",
   "metadata": {},
   "outputs": [],
   "source": [
    "def dict_values (test_dict):\n",
    "    temp = []\n",
    "    if type(test_dict) == dict:\n",
    "        for v in test_dict.values():\n",
    "            if type(v) == dict:\n",
    "                temp = temp+dict_values(v)\n",
    "            elif type(v) == list or type(v)==tuple or type(v)==set:\n",
    "                temp = temp +  list_values(v)\n",
    "            else:\n",
    "                temp.append(v)\n",
    "    return temp"
   ]
  },
  {
   "cell_type": "code",
   "execution_count": 11,
   "id": "0b74278a",
   "metadata": {},
   "outputs": [],
   "source": [
    "sample = {\"b\":2,\"a\":{\"a1\":[10,11,12],\"a2\":3},\"c\":[1,2,3],\"d\":(4,5,6),\"e\":{7,8,9}}"
   ]
  },
  {
   "cell_type": "code",
   "execution_count": 12,
   "id": "65c53f99",
   "metadata": {},
   "outputs": [
    {
     "data": {
      "text/plain": [
       "[2, 10, 11, 12, 3, 1, 2, 3, 4, 5, 6, 8, 9, 7]"
      ]
     },
     "execution_count": 12,
     "metadata": {},
     "output_type": "execute_result"
    }
   ],
   "source": [
    "dict_values(sample)"
   ]
  },
  {
   "cell_type": "code",
   "execution_count": null,
   "id": "3e3e8d12",
   "metadata": {},
   "outputs": [],
   "source": []
  },
  {
   "cell_type": "code",
   "execution_count": 13,
   "id": "0e89f79a",
   "metadata": {},
   "outputs": [],
   "source": [
    "# Question - 4\n",
    "# 4 . write a fun which will take another function as an input and return me an output"
   ]
  },
  {
   "cell_type": "code",
   "execution_count": 67,
   "id": "c6f350f2",
   "metadata": {},
   "outputs": [],
   "source": [
    "def sum(vals):\n",
    "    sum_ = 0\n",
    "    for val in vals:\n",
    "        try:\n",
    "            num = int(val)\n",
    "        except ValueError as v:\n",
    "            print(\"enter valid input\",v)\n",
    "        except Exception as e:\n",
    "            print(\"Error\",e)\n",
    "        sum_ += num\n",
    "    return sum_"
   ]
  },
  {
   "cell_type": "code",
   "execution_count": 68,
   "id": "d32085a2",
   "metadata": {},
   "outputs": [],
   "source": [
    "def display(sum):\n",
    "    return sum(input(\"Enter values to add: \").split())"
   ]
  },
  {
   "cell_type": "code",
   "execution_count": 69,
   "id": "cc15bd01",
   "metadata": {},
   "outputs": [
    {
     "name": "stdout",
     "output_type": "stream",
     "text": [
      "Enter values to add: 47 89 7 4 4\n",
      "['47', '89', '7', '4', '4']\n"
     ]
    },
    {
     "data": {
      "text/plain": [
       "151"
      ]
     },
     "execution_count": 69,
     "metadata": {},
     "output_type": "execute_result"
    }
   ],
   "source": [
    "display(sum)"
   ]
  },
  {
   "cell_type": "code",
   "execution_count": null,
   "id": "9d047a53",
   "metadata": {},
   "outputs": [],
   "source": []
  },
  {
   "cell_type": "code",
   "execution_count": 17,
   "id": "e6ce0359",
   "metadata": {},
   "outputs": [],
   "source": [
    "# Question - 5\n",
    "# 5. write a function which will take multiple list as a input and give me concatnation of all \n",
    "# the element as and output "
   ]
  },
  {
   "cell_type": "code",
   "execution_count": 18,
   "id": "5f7d144b",
   "metadata": {},
   "outputs": [],
   "source": [
    "def concat_lists (*lists):\n",
    "    output = []\n",
    "    for list in lists:\n",
    "        output += list\n",
    "    return output"
   ]
  },
  {
   "cell_type": "code",
   "execution_count": 19,
   "id": "f9de9277",
   "metadata": {},
   "outputs": [
    {
     "data": {
      "text/plain": [
       "['a', 'b', 'c', 'd', 1, 2, 3]"
      ]
     },
     "execution_count": 19,
     "metadata": {},
     "output_type": "execute_result"
    }
   ],
   "source": [
    "concat_lists([\"a\",\"b\",\"c\",\"d\"],[1,2,3])"
   ]
  },
  {
   "cell_type": "code",
   "execution_count": null,
   "id": "79194e59",
   "metadata": {},
   "outputs": [],
   "source": []
  },
  {
   "cell_type": "code",
   "execution_count": 74,
   "id": "8d2a995d",
   "metadata": {},
   "outputs": [],
   "source": [
    "def concatenate(*lists):\n",
    "    lengths = list(map(len,lists))\n",
    "    newlen = sum(lengths)\n",
    "    newlist = [None]*newlen\n",
    "    start = 0\n",
    "    end = 0\n",
    "    for l,n in zip(lists,lengths):\n",
    "        end+=n\n",
    "        newlist[start:end] = l\n",
    "        start+=n\n",
    "    return newlist"
   ]
  },
  {
   "cell_type": "code",
   "execution_count": 76,
   "id": "e16e4c94",
   "metadata": {},
   "outputs": [
    {
     "name": "stdout",
     "output_type": "stream",
     "text": [
      "[3, 3]\n"
     ]
    },
    {
     "data": {
      "text/plain": [
       "[1, 2, 3, 3, 4, 5]"
      ]
     },
     "execution_count": 76,
     "metadata": {},
     "output_type": "execute_result"
    }
   ],
   "source": [
    "concatenate([1,2,3],[3,4,5])"
   ]
  },
  {
   "cell_type": "code",
   "execution_count": null,
   "id": "18ff6236",
   "metadata": {},
   "outputs": [],
   "source": []
  },
  {
   "cell_type": "code",
   "execution_count": 22,
   "id": "9935b33e",
   "metadata": {},
   "outputs": [],
   "source": [
    "# Question - 6\n",
    "# 6 . write a function which will be able to take a list as an input return an index of each\n",
    "# element like a inbuilt index function but even if we have repetative element it should return \n",
    "# index "
   ]
  },
  {
   "cell_type": "code",
   "execution_count": 23,
   "id": "ebf4f49a",
   "metadata": {},
   "outputs": [],
   "source": [
    "l1 = [1,1,2,3,4,4,5]"
   ]
  },
  {
   "cell_type": "code",
   "execution_count": 24,
   "id": "522b8c58",
   "metadata": {},
   "outputs": [
    {
     "data": {
      "text/plain": [
       "0"
      ]
     },
     "execution_count": 24,
     "metadata": {},
     "output_type": "execute_result"
    }
   ],
   "source": [
    "l1.index(1)"
   ]
  },
  {
   "cell_type": "code",
   "execution_count": 25,
   "id": "14c8e958",
   "metadata": {},
   "outputs": [],
   "source": [
    "def index (test_list,val):\n",
    "    count = 0\n",
    "    index_lst = []\n",
    "    for i in test_list:\n",
    "        if i == val:\n",
    "            index_lst.append(count)\n",
    "        count+=1\n",
    "    return index_lst"
   ]
  },
  {
   "cell_type": "code",
   "execution_count": 26,
   "id": "92e59e7a",
   "metadata": {},
   "outputs": [
    {
     "data": {
      "text/plain": [
       "[4, 5]"
      ]
     },
     "execution_count": 26,
     "metadata": {},
     "output_type": "execute_result"
    }
   ],
   "source": [
    "index(l1,4)"
   ]
  },
  {
   "cell_type": "code",
   "execution_count": null,
   "id": "b3632051",
   "metadata": {},
   "outputs": [],
   "source": []
  },
  {
   "cell_type": "code",
   "execution_count": 27,
   "id": "e9b14321",
   "metadata": {},
   "outputs": [],
   "source": [
    "# Question - 7 \n",
    "# 7 . Write a function which will whould return list of all the file name from a directory . "
   ]
  },
  {
   "cell_type": "code",
   "execution_count": 90,
   "id": "720c32b2",
   "metadata": {},
   "outputs": [],
   "source": [
    "import os\n",
    "from os import listdir\n",
    "from os.path import isdir,isfile,join"
   ]
  },
  {
   "cell_type": "code",
   "execution_count": 91,
   "id": "f972c1de",
   "metadata": {},
   "outputs": [],
   "source": [
    "def get_file_list (file_path):\n",
    "    \"\"\"It returns all the files in a directory along with a dictionary of dir:files present \n",
    "    inside the target directory\"\"\"\n",
    "    dir_path = None\n",
    "    files = [file for file in listdir(file_path)  if isfile(join(file_path,file))]\n",
    "    dir_path = [join(file_path,dir_) for dir_ in listdir(file_path) if isdir(join(file_path,dir_))]\n",
    "    if dir_path is not None:\n",
    "        dir_dict = dict()\n",
    "        for dir_ in dir_path:\n",
    "            new_files = get_file_list(dir_)\n",
    "            if new_files:\n",
    "                dir_dict[dir_] = new_files\n",
    "        if dir_dict:\n",
    "            files.append(dir_dict)\n",
    "    return files\n",
    "# else  dir_path.append(join(file_path,file))"
   ]
  },
  {
   "cell_type": "code",
   "execution_count": 92,
   "id": "12cc4863",
   "metadata": {},
   "outputs": [],
   "source": [
    "from os import listdir\n",
    "from os.path import isfile,join"
   ]
  },
  {
   "cell_type": "code",
   "execution_count": 93,
   "id": "dfc66e5b",
   "metadata": {},
   "outputs": [],
   "source": [
    "def get_only_files (target_path):\n",
    "    files=[file for file in listdir(target_path) \n",
    "           if isfile(join(target_path,file))]\n",
    "    return files"
   ]
  },
  {
   "cell_type": "code",
   "execution_count": 94,
   "id": "56b77470",
   "metadata": {},
   "outputs": [],
   "source": [
    "file_path = \"c:\\\\Users\\SREEMAN\\AI_and_Machine_Learning\""
   ]
  },
  {
   "cell_type": "code",
   "execution_count": 95,
   "id": "60d7b637",
   "metadata": {},
   "outputs": [
    {
     "data": {
      "text/plain": [
       "['5. os module.ipynb', 'target.ipynb', 'Untitled.ipynb', 'Untitled1.ipynb']"
      ]
     },
     "execution_count": 95,
     "metadata": {},
     "output_type": "execute_result"
    }
   ],
   "source": [
    "files = get_only_files(file_path)\n",
    "files"
   ]
  },
  {
   "cell_type": "code",
   "execution_count": 96,
   "id": "cb968971",
   "metadata": {},
   "outputs": [],
   "source": [
    "files = get_file_list(file_path)"
   ]
  },
  {
   "cell_type": "code",
   "execution_count": 83,
   "id": "f4f523f1",
   "metadata": {},
   "outputs": [
    {
     "data": {
      "text/plain": [
       "['5. os module.ipynb', 'target.ipynb', 'Untitled.ipynb', 'Untitled1.ipynb']"
      ]
     },
     "execution_count": 83,
     "metadata": {},
     "output_type": "execute_result"
    }
   ],
   "source": [
    "files"
   ]
  },
  {
   "cell_type": "code",
   "execution_count": null,
   "id": "9e505eca",
   "metadata": {},
   "outputs": [],
   "source": []
  },
  {
   "cell_type": "code",
   "execution_count": 35,
   "id": "6452e37f",
   "metadata": {},
   "outputs": [],
   "source": [
    "# Question - 8\n",
    "# 8  . write a function which will be able to show your system configuration . "
   ]
  },
  {
   "cell_type": "code",
   "execution_count": 97,
   "id": "0c2f78a7",
   "metadata": {},
   "outputs": [],
   "source": [
    "import platform"
   ]
  },
  {
   "cell_type": "code",
   "execution_count": 98,
   "id": "e9c86f7c",
   "metadata": {},
   "outputs": [],
   "source": [
    "def display_sys_config (my_system):\n",
    "    # return a dictionary with the system info \n",
    "    sys_config = dict()\n",
    "    sys_config[\"System\"] = my_system.system\n",
    "    sys_config[\"Node Name\"] = my_system.node\n",
    "    sys_config[\"Release\"] = my_system.release\n",
    "    sys_config[\"Version\"] = my_system.version\n",
    "    sys_config[\"Machine\"] = my_system.machine\n",
    "    sys_config[\"Processor\"] = my_system.processor\n",
    "    return sys_config"
   ]
  },
  {
   "cell_type": "code",
   "execution_count": 99,
   "id": "0e19efb2",
   "metadata": {},
   "outputs": [],
   "source": [
    "def get_sys_config ():\n",
    "    my_system = platform.uname()\n",
    "    sys_config_details = display_sys_config(my_system)\n",
    "    return sys_config_details"
   ]
  },
  {
   "cell_type": "code",
   "execution_count": 100,
   "id": "e07d4426",
   "metadata": {},
   "outputs": [
    {
     "data": {
      "text/plain": [
       "{'System': 'Windows',\n",
       " 'Node Name': 'DESKTOP-O9S40IJ',\n",
       " 'Release': '10',\n",
       " 'Version': '10.0.22000',\n",
       " 'Machine': 'AMD64',\n",
       " 'Processor': 'Intel64 Family 6 Model 142 Stepping 11, GenuineIntel'}"
      ]
     },
     "execution_count": 100,
     "metadata": {},
     "output_type": "execute_result"
    }
   ],
   "source": [
    "(get_sys_config())"
   ]
  },
  {
   "cell_type": "code",
   "execution_count": null,
   "id": "67412797",
   "metadata": {},
   "outputs": [],
   "source": []
  },
  {
   "cell_type": "code",
   "execution_count": 38,
   "id": "5e84aae5",
   "metadata": {},
   "outputs": [],
   "source": [
    "# Question - 9\n",
    "# 9 . write a function which will be able to show date and time  . "
   ]
  },
  {
   "cell_type": "code",
   "execution_count": 101,
   "id": "9a433680",
   "metadata": {},
   "outputs": [],
   "source": [
    "import datetime"
   ]
  },
  {
   "cell_type": "code",
   "execution_count": 39,
   "id": "ff08a741",
   "metadata": {},
   "outputs": [],
   "source": [
    "def get_date_time():\n",
    "    now = datetime.datetime.now()\n",
    "    return (now.strftime(\"Date- %Y-%m-%d , Time- %Hhr:%Mmin:%Ssec\"))"
   ]
  },
  {
   "cell_type": "code",
   "execution_count": 40,
   "id": "d3f5af23",
   "metadata": {},
   "outputs": [
    {
     "data": {
      "text/plain": [
       "'Date- 2022-01-09 , Time- 08hr:36min:59sec'"
      ]
     },
     "execution_count": 40,
     "metadata": {},
     "output_type": "execute_result"
    }
   ],
   "source": [
    "get_date_time()"
   ]
  },
  {
   "cell_type": "code",
   "execution_count": null,
   "id": "97422d79",
   "metadata": {},
   "outputs": [],
   "source": []
  },
  {
   "cell_type": "code",
   "execution_count": 41,
   "id": "75d7b5b9",
   "metadata": {},
   "outputs": [],
   "source": [
    "# Question - 10\n",
    "# 10 . write a function whihc will be able to read a image file and show it to you ."
   ]
  },
  {
   "cell_type": "code",
   "execution_count": 5,
   "id": "ffa86e9f",
   "metadata": {},
   "outputs": [],
   "source": [
    "import matplotlib.image as mpimg\n",
    "import matplotlib.pyplot as plt"
   ]
  },
  {
   "cell_type": "code",
   "execution_count": 6,
   "id": "14799481",
   "metadata": {},
   "outputs": [],
   "source": [
    "def display_image (img_file):\n",
    "    img = mpimg.imread(img_file)\n",
    "    plt.imshow(img)"
   ]
  },
  {
   "cell_type": "code",
   "execution_count": 7,
   "id": "7e7ce2f7",
   "metadata": {},
   "outputs": [
    {
     "name": "stdout",
     "output_type": "stream",
     "text": [
      "Enter image file: link_feat_new.jpg\n"
     ]
    },
    {
     "data": {
      "image/png": "[encoded data removed]",
      "text/plain": [
       "<Figure size 432x288 with 1 Axes>"
      ]
     },
     "metadata": {
      "needs_background": "light"
     },
     "output_type": "display_data"
    }
   ],
   "source": [
    "img_file = input(\"Enter image file: \")\n",
    "display_image(img_file)"
   ]
  },
  {
   "cell_type": "code",
   "execution_count": null,
   "id": "cbef88b2",
   "metadata": {},
   "outputs": [],
   "source": []
  },
  {
   "cell_type": "code",
   "execution_count": null,
   "id": "ebdfd264",
   "metadata": {},
   "outputs": [],
   "source": [
    "# Question - 11\n",
    "# 11 . write a function which can read video file and play for you . "
   ]
  },
  {
   "cell_type": "code",
   "execution_count": null,
   "id": "a955f615",
   "metadata": {},
   "outputs": [],
   "source": []
  },
  {
   "cell_type": "code",
   "execution_count": null,
   "id": "11656e04",
   "metadata": {},
   "outputs": [],
   "source": []
  },
  {
   "cell_type": "code",
   "execution_count": 45,
   "id": "dbc249ac",
   "metadata": {},
   "outputs": [],
   "source": [
    "# Question - 12\n",
    "# 12  . write a function which can move a file from one directory to another directory . "
   ]
  },
  {
   "cell_type": "code",
   "execution_count": null,
   "id": "111f33f3",
   "metadata": {},
   "outputs": [],
   "source": [
    "import shutil\n",
    "from os.path import join"
   ]
  },
  {
   "cell_type": "code",
   "execution_count": 8,
   "id": "fa09e283",
   "metadata": {},
   "outputs": [],
   "source": [
    "def get_file():\n",
    "    return input(\"Enter file: \")"
   ]
  },
  {
   "cell_type": "code",
   "execution_count": 9,
   "id": "f4dff8e2",
   "metadata": {},
   "outputs": [],
   "source": [
    "def move_file(file_source,file_destination):\n",
    "    \"\"\"We make use of get_only_files function here to fetch the files in a directory\"\"\"\n",
    "    get_files = get_only_files(file_source)\n",
    "    count=1\n",
    "    for file in get_files: \n",
    "        print(count,\". \",file)\n",
    "        count+=1\n",
    "    file = get_file()\n",
    "    shutil.move(join(file_source,file),file_destination)"
   ]
  },
  {
   "cell_type": "code",
   "execution_count": 10,
   "id": "573d5121",
   "metadata": {},
   "outputs": [],
   "source": [
    "file_source = \"c:\\\\Users\\SREEMAN\\iNeuron\"\n",
    "file_destination = \"c:\\\\Users\\SREEMAN\\AI_and_Machine_Learning\""
   ]
  },
  {
   "cell_type": "code",
   "execution_count": 56,
   "id": "2c689567",
   "metadata": {},
   "outputs": [],
   "source": [
    "#move_file(file_source,file_destination)"
   ]
  },
  {
   "cell_type": "code",
   "execution_count": null,
   "id": "c12b543f",
   "metadata": {},
   "outputs": [],
   "source": []
  },
  {
   "cell_type": "code",
   "execution_count": 57,
   "id": "263bfd39",
   "metadata": {},
   "outputs": [],
   "source": [
    "# Question - 14\n",
    "# 14 . write a function which will be able to access your mail . "
   ]
  },
  {
   "cell_type": "code",
   "execution_count": 22,
   "id": "9aaf564a",
   "metadata": {},
   "outputs": [],
   "source": [
    "import imaplib\n",
    "import email\n",
    "import datetime"
   ]
  },
  {
   "cell_type": "code",
   "execution_count": 125,
   "id": "5be4908b",
   "metadata": {},
   "outputs": [],
   "source": [
    "class gmail:\n",
    "    def __init__(self):\n",
    "        email,pswd,smpt = self.get_email_credentials()\n",
    "        self.email = email\n",
    "        self.password = pswd\n",
    "        self.smpt_server = smpt\n",
    "        self.read_email()\n",
    "        \n",
    "    def get_email_credentials(self):\n",
    "        #FROM_EMAIL = input(\"Email: \")\n",
    "        FROM_EMAIL = \"sreemanbitsmech@gmail.com\"\n",
    "        #FROM_PASSWORD = input(\"Password: \")\n",
    "        FROM_PASSWORD = \"fyfzgorbycwekrtv\"\n",
    "        #ACTION = input(\"Read: Y/N | \")\n",
    "        ACTION = \"Y\"\n",
    "        if ACTION == \"Y\" or ACTION == \"y\":\n",
    "            SMPT_SERVER = \"imap.gmail.com\"    # to read gmail\n",
    "        else:\n",
    "            SMPT_SERVER = \"\"\n",
    "            exit(1)\n",
    "        return FROM_EMAIL,FROM_PASSWORD,SMPT_SERVER\n",
    "    \n",
    "    def read_email(self):\n",
    "        self.my_con = imaplib.IMAP4_SSL(self.smpt_server)\n",
    "        #login\n",
    "        self.my_con.login(self.email,self.password)\n",
    "        self.my_con.select(\"inbox\")\n",
    "        # all inbox  \n",
    "        data = self.my_con.uid(\"search\",None,\"ALL\")\n",
    "        self.get_msgs(data)\n",
    "    \n",
    "    def get_msgs(self,result):\n",
    "        mail_ids = result[1]\n",
    "        msg_idx_lst = mail_ids[0].split()\n",
    "        latest_email_id = int(msg_idx_lst[-1])\n",
    "        first_email_id = int(msg_idx_lst[0])\n",
    "        \n",
    "        for id_ in range(latest_email_id,first_email_id,-1):\n",
    "            result,email_data = self.my_con.uid(\"fetch\",str(id_),\"(RFC822)\")\n",
    "            raw_email = (email_data[0][1])\n",
    "            raw_email_string = raw_email.decode(\"utf-8\")\n",
    "            self.email_message = email.message_from_string(raw_email_string)\n",
    "            \n",
    "            # Header Details\n",
    "            # Convert a date string to a time tuple.\n",
    "            date_tuple = email.utils.parsedate_tz(self.email_message['Date'])\n",
    "            if date_tuple:#check for valid date-time\n",
    "                # convert acc. to local time zone from posix date\n",
    "                local_date = datetime.datetime.fromtimestamp(email.utils.mktime_tz(date_tuple))\n",
    "                local_message_date = str(local_date.strftime(\"%a, %d %b %Y %H:%M:%S\"))\n",
    "            # str(make_header_instance(decode(\"to\",\"from\",\"subject\")))\n",
    "            email_from = str(email.header.make_header(\n",
    "                email.header.decode_header(self.email_message['From'])))\n",
    "            email_to = str(email.header.make_header(\n",
    "                email.header.decode_header(self.email_message['To'])))\n",
    "            subject = str(email.header.make_header(\n",
    "                email.header.decode_header(self.email_message['Subject'])))\n",
    "            \n",
    "            #Body Details:\n",
    "            for part in self.email_message.walk():\n",
    "                if part.get_content_type() == \"text/plain\":\n",
    "                    body = part.get_payload(decode=True)\n",
    "                    file_name = \"email_\" + str(id_) + \".txt\"\n",
    "                    output_file = open(file_name, 'w',encoding=\"utf-8\")\n",
    "                    output_file.write(\"From: %s\\nTo: %s\\nDate: %s\\nSubject: %s\\n\\nBody: \\n\\n%s\" %(email_from, email_to,local_message_date, subject, body.decode('utf-8')))\n",
    "                    output_file.close()\n",
    "                else:\n",
    "                    continue\n",
    "            break"
   ]
  },
  {
   "cell_type": "code",
   "execution_count": 126,
   "id": "dc0c9a07",
   "metadata": {},
   "outputs": [],
   "source": [
    "obj = gmail()"
   ]
  },
  {
   "cell_type": "code",
   "execution_count": 46,
   "id": "03b494d9",
   "metadata": {},
   "outputs": [],
   "source": [
    "email.utils.parsedate_tz?"
   ]
  },
  {
   "cell_type": "code",
   "execution_count": 47,
   "id": "47357626",
   "metadata": {},
   "outputs": [],
   "source": [
    "email.utils.mktime_tz?"
   ]
  },
  {
   "cell_type": "code",
   "execution_count": 48,
   "id": "980c0ef6",
   "metadata": {},
   "outputs": [],
   "source": [
    "datetime.datetime.fromtimestamp?"
   ]
  },
  {
   "cell_type": "code",
   "execution_count": 159,
   "id": "6cb9d2bf",
   "metadata": {},
   "outputs": [],
   "source": [
    "obj.email_message?"
   ]
  },
  {
   "cell_type": "code",
   "execution_count": null,
   "id": "3b42b5ba",
   "metadata": {},
   "outputs": [],
   "source": [
    "obj.my_con.search?"
   ]
  },
  {
   "cell_type": "code",
   "execution_count": 35,
   "id": "c8c306ef",
   "metadata": {},
   "outputs": [],
   "source": [
    "email.header.decode_header?"
   ]
  },
  {
   "cell_type": "code",
   "execution_count": 36,
   "id": "b9680f99",
   "metadata": {},
   "outputs": [],
   "source": [
    "email.header.make_header?"
   ]
  },
  {
   "cell_type": "code",
   "execution_count": null,
   "id": "ab58db30",
   "metadata": {},
   "outputs": [],
   "source": [
    "sreemanbitsmech@gmail.com\n",
    "\"fyfzgorbycwekrtv\""
   ]
  }
 ],
 "metadata": {
  "kernelspec": {
   "display_name": "Python 3",
   "language": "python",
   "name": "python3"
  },
  "language_info": {
   "codemirror_mode": {
    "name": "ipython",
    "version": 3
   },
   "file_extension": ".py",
   "mimetype": "text/x-python",
   "name": "python",
   "nbconvert_exporter": "python",
   "pygments_lexer": "ipython3",
   "version": "3.8.8"
  }
 },
 "nbformat": 4,
 "nbformat_minor": 5
}
