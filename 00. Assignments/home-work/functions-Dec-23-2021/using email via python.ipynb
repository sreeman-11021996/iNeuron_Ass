{
 "cells": [
  {
   "cell_type": "code",
   "execution_count": 1,
   "id": "e9b1a594",
   "metadata": {},
   "outputs": [],
   "source": [
    "# Question - 14\n",
    "# 14 . write a function which will be able to access your mail . "
   ]
  },
  {
   "cell_type": "code",
   "execution_count": 2,
   "id": "56646058",
   "metadata": {},
   "outputs": [],
   "source": [
    "import imaplib\n",
    "import email\n",
    "import datetime"
   ]
  },
  {
   "cell_type": "code",
   "execution_count": 3,
   "id": "925295f3",
   "metadata": {},
   "outputs": [],
   "source": [
    "class gmail:\n",
    "    def __init__(self):\n",
    "        email,pswd,smpt = self.get_email_credentials()\n",
    "        self.email = email\n",
    "        self.password = pswd\n",
    "        self.smpt_server = smpt\n",
    "        self.read_email()\n",
    "        \n",
    "    def get_email_credentials(self):\n",
    "        #FROM_EMAIL = input(\"Email: \")\n",
    "        FROM_EMAIL = \"sreemanbitsmech@gmail.com\"\n",
    "        #FROM_PASSWORD = input(\"Password: \")\n",
    "        FROM_PASSWORD = \"fyfzgorbycwekrtv\"\n",
    "        #ACTION = input(\"Read: Y/N | \")\n",
    "        ACTION = \"Y\"\n",
    "        if ACTION == \"Y\" or ACTION == \"y\":\n",
    "            SMPT_SERVER = \"imap.gmail.com\"    # to read gmail\n",
    "        else:\n",
    "            SMPT_SERVER = \"\"\n",
    "            exit(1)\n",
    "        return FROM_EMAIL,FROM_PASSWORD,SMPT_SERVER\n",
    "    \n",
    "    def read_email(self):\n",
    "        self.my_con = imaplib.IMAP4_SSL(self.smpt_server)\n",
    "        #login\n",
    "        self.my_con.login(self.email,self.password)\n",
    "        self.my_con.select(\"inbox\")\n",
    "        # all inbox  \n",
    "        data = self.my_con.uid(\"search\",None,\"ALL\")\n",
    "        self.get_msgs(data)\n",
    "    \n",
    "    def get_msgs(self,result):\n",
    "        mail_ids = result[1]\n",
    "        msg_idx_lst = mail_ids[0].split()\n",
    "        latest_email_id = int(msg_idx_lst[-1])\n",
    "        first_email_id = int(msg_idx_lst[0])\n",
    "        \n",
    "        for id_ in range(latest_email_id,first_email_id,-1):\n",
    "            result,email_data = self.my_con.uid(\"fetch\",str(id_),\"(RFC822)\")\n",
    "            raw_email = (email_data[0][1])\n",
    "            raw_email_string = raw_email.decode(\"utf-8\")\n",
    "            self.email_message = email.message_from_string(raw_email_string)\n",
    "            \n",
    "            # Header Details\n",
    "            # Convert a date string to a time tuple.\n",
    "            date_tuple = email.utils.parsedate_tz(self.email_message['Date'])\n",
    "            if date_tuple:#check for valid date-time\n",
    "                # convert acc. to local time zone from posix date\n",
    "                local_date = datetime.datetime.fromtimestamp(email.utils.mktime_tz(date_tuple))\n",
    "                local_message_date = str(local_date.strftime(\"%a, %d %b %Y %H:%M:%S\"))\n",
    "            # str(make_header_instance(decode(\"to\",\"from\",\"subject\")))\n",
    "            email_from = str(email.header.make_header(\n",
    "                email.header.decode_header(self.email_message['From'])))\n",
    "            email_to = str(email.header.make_header(\n",
    "                email.header.decode_header(self.email_message['To'])))\n",
    "            subject = str(email.header.make_header(\n",
    "                email.header.decode_header(self.email_message['Subject'])))\n",
    "            \n",
    "            #Body Details:\n",
    "            for part in self.email_message.walk():\n",
    "                if part.get_content_type() == \"text/plain\":\n",
    "                    body = part.get_payload(decode=True)\n",
    "                    file_name = \"email_\" + str(id_) + \".txt\"\n",
    "                    output_file = open(file_name, 'w',encoding=\"utf-8\")\n",
    "                    output_file.write(\"From: %s\\nTo: %s\\nDate: %s\\nSubject: %s\\n\\nBody: \\n\\n%s\" %(email_from, email_to,local_message_date, subject, body.decode('utf-8')))\n",
    "                    output_file.close()\n",
    "                else:\n",
    "                    continue\n",
    "            break"
   ]
  },
  {
   "cell_type": "code",
   "execution_count": 4,
   "id": "036a5e84",
   "metadata": {},
   "outputs": [],
   "source": [
    "obj = gmail()"
   ]
  },
  {
   "cell_type": "code",
   "execution_count": null,
   "id": "c6a5ef8e",
   "metadata": {},
   "outputs": [],
   "source": []
  },
  {
   "cell_type": "code",
   "execution_count": null,
   "id": "ff6b6194",
   "metadata": {},
   "outputs": [],
   "source": []
  },
  {
   "cell_type": "code",
   "execution_count": null,
   "id": "4d6bf949",
   "metadata": {},
   "outputs": [],
   "source": [
    "import imapl"
   ]
  }
 ],
 "metadata": {
  "kernelspec": {
   "display_name": "Python 3",
   "language": "python",
   "name": "python3"
  },
  "language_info": {
   "codemirror_mode": {
    "name": "ipython",
    "version": 3
   },
   "file_extension": ".py",
   "mimetype": "text/x-python",
   "name": "python",
   "nbconvert_exporter": "python",
   "pygments_lexer": "ipython3",
   "version": "3.8.8"
  }
 },
 "nbformat": 4,
 "nbformat_minor": 5
}
