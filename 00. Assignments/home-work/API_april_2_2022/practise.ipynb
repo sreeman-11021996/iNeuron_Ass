{
 "cells": [
  {
   "cell_type": "code",
   "execution_count": 1,
   "id": "e22248ae",
   "metadata": {},
   "outputs": [],
   "source": [
    "db_list = [('cardataset',), ('ineuron',), ('information_schema',), \n",
    "           ('mysql',), ('performance_schema',), ('sakila',), ('sys',), \n",
    "           ('world',)]"
   ]
  },
  {
   "cell_type": "code",
   "execution_count": 2,
   "id": "69c36795",
   "metadata": {},
   "outputs": [],
   "source": [
    "db = \"world\""
   ]
  },
  {
   "cell_type": "code",
   "execution_count": 4,
   "id": "1e6ee856",
   "metadata": {},
   "outputs": [
    {
     "name": "stdout",
     "output_type": "stream",
     "text": [
      "ok\n"
     ]
    }
   ],
   "source": [
    "if (db,) in db_list:\n",
    "    print(\"ok\")"
   ]
  },
  {
   "cell_type": "code",
   "execution_count": null,
   "id": "c666a96c",
   "metadata": {},
   "outputs": [],
   "source": []
  }
 ],
 "metadata": {
  "kernelspec": {
   "display_name": "Python 3",
   "language": "python",
   "name": "python3"
  },
  "language_info": {
   "codemirror_mode": {
    "name": "ipython",
    "version": 3
   },
   "file_extension": ".py",
   "mimetype": "text/x-python",
   "name": "python",
   "nbconvert_exporter": "python",
   "pygments_lexer": "ipython3",
   "version": "3.8.8"
  }
 },
 "nbformat": 4,
 "nbformat_minor": 5
}
