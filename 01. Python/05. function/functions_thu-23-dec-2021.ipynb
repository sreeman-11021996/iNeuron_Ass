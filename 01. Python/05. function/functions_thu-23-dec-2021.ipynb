{
 "cells": [
  {
   "cell_type": "code",
   "execution_count": 1,
   "id": "4a0168fe",
   "metadata": {},
   "outputs": [],
   "source": [
    "# Functions"
   ]
  },
  {
   "cell_type": "code",
   "execution_count": 18,
   "id": "76283f03",
   "metadata": {},
   "outputs": [],
   "source": [
    "def test ():\n",
    "    return (\"this is my first func\")"
   ]
  },
  {
   "cell_type": "code",
   "execution_count": 27,
   "id": "5dbe1ee2",
   "metadata": {},
   "outputs": [
    {
     "data": {
      "text/plain": [
       "str"
      ]
     },
     "execution_count": 27,
     "metadata": {},
     "output_type": "execute_result"
    }
   ],
   "source": [
    "test()"
   ]
  },
  {
   "cell_type": "code",
   "execution_count": 20,
   "id": "06f79d60",
   "metadata": {},
   "outputs": [],
   "source": [
    "a = test()"
   ]
  },
  {
   "cell_type": "code",
   "execution_count": 21,
   "id": "27c0737b",
   "metadata": {},
   "outputs": [
    {
     "data": {
      "text/plain": [
       "'this is my first func sudh'"
      ]
     },
     "execution_count": 21,
     "metadata": {},
     "output_type": "execute_result"
    }
   ],
   "source": [
    "a + \" sudh\""
   ]
  },
  {
   "cell_type": "code",
   "execution_count": 22,
   "id": "da0227d4",
   "metadata": {},
   "outputs": [
    {
     "data": {
      "text/plain": [
       "str"
      ]
     },
     "execution_count": 22,
     "metadata": {},
     "output_type": "execute_result"
    }
   ],
   "source": [
    "type(a)"
   ]
  },
  {
   "cell_type": "code",
   "execution_count": 25,
   "id": "bf3efd6b",
   "metadata": {},
   "outputs": [],
   "source": [
    "def test4 ():\n",
    "    return 4,3,\"sudh\",[1,2,3,4,5]"
   ]
  },
  {
   "cell_type": "code",
   "execution_count": 28,
   "id": "414af3ee",
   "metadata": {},
   "outputs": [
    {
     "data": {
      "text/plain": [
       "tuple"
      ]
     },
     "execution_count": 28,
     "metadata": {},
     "output_type": "execute_result"
    }
   ],
   "source": [
    "type(test4())"
   ]
  },
  {
   "cell_type": "code",
   "execution_count": 33,
   "id": "2b99ef30",
   "metadata": {},
   "outputs": [],
   "source": [
    "b,c,d,e = test4()"
   ]
  },
  {
   "cell_type": "code",
   "execution_count": 30,
   "id": "40118c8c",
   "metadata": {},
   "outputs": [
    {
     "name": "stdout",
     "output_type": "stream",
     "text": [
      "4 3 sudh [1, 2, 3, 4, 5]\n"
     ]
    }
   ],
   "source": [
    "print(b,c,d,e)"
   ]
  },
  {
   "cell_type": "code",
   "execution_count": 31,
   "id": "1dbe9674",
   "metadata": {},
   "outputs": [
    {
     "data": {
      "text/plain": [
       "int"
      ]
     },
     "execution_count": 31,
     "metadata": {},
     "output_type": "execute_result"
    }
   ],
   "source": [
    "type(b)"
   ]
  },
  {
   "cell_type": "code",
   "execution_count": 90,
   "id": "bcd93f72",
   "metadata": {},
   "outputs": [],
   "source": [
    "l = [3,4,5,6,7,7, \"sudh\", [1,3,[4,54],56]]"
   ]
  },
  {
   "cell_type": "code",
   "execution_count": 91,
   "id": "f23c952c",
   "metadata": {},
   "outputs": [],
   "source": [
    "def test5 (lst):\n",
    "    temp = []\n",
    "    if type(lst) == list:\n",
    "        for i in lst:\n",
    "            if type(i) == int:\n",
    "                temp.append(i)\n",
    "            elif type(i) == list:\n",
    "                temp.extend(test5(i))\n",
    "    else:\n",
    "        print(TypeError(\"Please pass a list!\"))\n",
    "        return None\n",
    "    return temp "
   ]
  },
  {
   "cell_type": "code",
   "execution_count": 92,
   "id": "b2d72074",
   "metadata": {},
   "outputs": [
    {
     "data": {
      "text/plain": [
       "[3, 4, 5, 6, 7, 7, 1, 3, 4, 54, 56]"
      ]
     },
     "execution_count": 92,
     "metadata": {},
     "output_type": "execute_result"
    }
   ],
   "source": [
    "test5(l)"
   ]
  },
  {
   "cell_type": "code",
   "execution_count": null,
   "id": "fd97eb67",
   "metadata": {},
   "outputs": [],
   "source": []
  },
  {
   "cell_type": "code",
   "execution_count": 96,
   "id": "2b72b75b",
   "metadata": {},
   "outputs": [],
   "source": [
    "def test6 (lst1,lst2):\n",
    "    if type(lst1) == list and type(lst2) == list:\n",
    "        return lst1+lst2\n",
    "    else:\n",
    "        return \"either of your data is not a list\""
   ]
  },
  {
   "cell_type": "code",
   "execution_count": 97,
   "id": "6c1e87f0",
   "metadata": {},
   "outputs": [
    {
     "data": {
      "text/plain": [
       "[1, 2, 3, 4]"
      ]
     },
     "execution_count": 97,
     "metadata": {},
     "output_type": "execute_result"
    }
   ],
   "source": [
    "test6([1,2],[3,4])"
   ]
  },
  {
   "cell_type": "code",
   "execution_count": null,
   "id": "5be6ae34",
   "metadata": {},
   "outputs": [],
   "source": []
  },
  {
   "cell_type": "markdown",
   "id": "aebc3d8d",
   "metadata": {},
   "source": [
    "## enclose your hint in a function in \"\"\" \"\"\""
   ]
  },
  {
   "cell_type": "code",
   "execution_count": 129,
   "id": "35dd462d",
   "metadata": {},
   "outputs": [],
   "source": [
    "def triangle (rows):\n",
    "    \"\"\"\n",
    "    This is a function which will help you create a triangle with any no. of rows.\n",
    "    Input: int\"\"\"\n",
    "    if type(rows) == int:\n",
    "        for i in range(0,rows+1):\n",
    "            for j in range(i):\n",
    "                print(\".\",end=\" \")\n",
    "            print(\"\\n\")"
   ]
  },
  {
   "cell_type": "code",
   "execution_count": 130,
   "id": "e2cf6949",
   "metadata": {},
   "outputs": [
    {
     "name": "stdout",
     "output_type": "stream",
     "text": [
      "\n",
      "\n",
      ". \n",
      "\n",
      ". . \n",
      "\n",
      ". . . \n",
      "\n",
      ". . . . \n",
      "\n",
      ". . . . . \n",
      "\n"
     ]
    }
   ],
   "source": [
    "triangle(5)"
   ]
  },
  {
   "cell_type": "code",
   "execution_count": 133,
   "id": "4c8c9a73",
   "metadata": {},
   "outputs": [
    {
     "name": "stdout",
     "output_type": "stream",
     "text": [
      "Help on function triangle in module __main__:\n",
      "\n",
      "triangle(rows)\n",
      "    This is a function which will help you create a triangle with any no. of rows.\n",
      "    Input: int\n",
      "\n"
     ]
    }
   ],
   "source": [
    "help(triangle)"
   ]
  },
  {
   "cell_type": "code",
   "execution_count": null,
   "id": "439f0e42",
   "metadata": {},
   "outputs": [],
   "source": []
  },
  {
   "cell_type": "code",
   "execution_count": 1,
   "id": "4a564bfc",
   "metadata": {},
   "outputs": [],
   "source": [
    "# Question-1"
   ]
  },
  {
   "cell_type": "code",
   "execution_count": 2,
   "id": "802d92dc",
   "metadata": {},
   "outputs": [],
   "source": [
    "def len_str (string):\n",
    "    \"\"\"\n",
    "    It takes in a string and return its length\"\"\"\n",
    "    if type(string) == str:\n",
    "        count = 0\n",
    "        for i in string:\n",
    "            count+=1\n",
    "        return count\n",
    "    else:\n",
    "        return TypeError(\"Please pass a String\")"
   ]
  },
  {
   "cell_type": "code",
   "execution_count": 3,
   "id": "07b6b7a0",
   "metadata": {},
   "outputs": [
    {
     "data": {
      "text/plain": [
       "TypeError('Please pass a String')"
      ]
     },
     "execution_count": 3,
     "metadata": {},
     "output_type": "execute_result"
    }
   ],
   "source": [
    "len_str([\"sarah\"])"
   ]
  },
  {
   "cell_type": "code",
   "execution_count": null,
   "id": "b32ac9e4",
   "metadata": {},
   "outputs": [],
   "source": []
  },
  {
   "cell_type": "code",
   "execution_count": 4,
   "id": "d8fdd04f",
   "metadata": {},
   "outputs": [],
   "source": [
    "# Question-2"
   ]
  },
  {
   "cell_type": "code",
   "execution_count": 21,
   "id": "72e258e9",
   "metadata": {},
   "outputs": [],
   "source": [
    "def ind_cont (cont):\n",
    "    \"\"\"\n",
    "    Arguments: a set or tuple or list\n",
    "    Function prints the indexes and its values\"\"\"\n",
    "    if type(cont) == set:\n",
    "        cont = list(cont)\n",
    "    if type(cont) == list or type(cont) == tuple or type(cont) == str:\n",
    "        for i in range(len(cont)):\n",
    "            print(i,\" - \",cont[i])\n",
    "    "
   ]
  },
  {
   "cell_type": "code",
   "execution_count": 23,
   "id": "21e6a087",
   "metadata": {},
   "outputs": [
    {
     "name": "stdout",
     "output_type": "stream",
     "text": [
      "0  -  s\n",
      "1  -  a\n",
      "2  -  r\n",
      "3  -  a\n",
      "4  -  h\n"
     ]
    }
   ],
   "source": [
    "ind_cont(\"sarah\")"
   ]
  },
  {
   "cell_type": "code",
   "execution_count": null,
   "id": "98c13c07",
   "metadata": {},
   "outputs": [],
   "source": []
  },
  {
   "cell_type": "code",
   "execution_count": 20,
   "id": "197ed723",
   "metadata": {},
   "outputs": [],
   "source": [
    "# Question - 3"
   ]
  },
  {
   "cell_type": "code",
   "execution_count": 24,
   "id": "9d01df42",
   "metadata": {},
   "outputs": [
    {
     "ename": "SyntaxError",
     "evalue": "unexpected EOF while parsing (<ipython-input-24-3885f264b1a6>, line 4)",
     "output_type": "error",
     "traceback": [
      "\u001b[1;36m  File \u001b[1;32m\"<ipython-input-24-3885f264b1a6>\"\u001b[1;36m, line \u001b[1;32m4\u001b[0m\n\u001b[1;33m    \u001b[0m\n\u001b[1;37m    ^\u001b[0m\n\u001b[1;31mSyntaxError\u001b[0m\u001b[1;31m:\u001b[0m unexpected EOF while parsing\n"
     ]
    }
   ],
   "source": [
    "def dict_values (test_dict):\n",
    "    if type(test_dict) == dict:\n",
    "        for v in test_dict.values():\n",
    "            "
   ]
  },
  {
   "cell_type": "code",
   "execution_count": null,
   "id": "08b5b652",
   "metadata": {},
   "outputs": [],
   "source": []
  },
  {
   "cell_type": "code",
   "execution_count": null,
   "id": "263802c4",
   "metadata": {},
   "outputs": [],
   "source": []
  },
  {
   "cell_type": "code",
   "execution_count": 25,
   "id": "a116b633",
   "metadata": {},
   "outputs": [
    {
     "ename": "SyntaxError",
     "evalue": "invalid syntax (<ipython-input-25-d3cd5d08c9bc>, line 1)",
     "output_type": "error",
     "traceback": [
      "\u001b[1;36m  File \u001b[1;32m\"<ipython-input-25-d3cd5d08c9bc>\"\u001b[1;36m, line \u001b[1;32m1\u001b[0m\n\u001b[1;33m    1 . you have to write a fun which will take string and return a len of\u001b[0m\n\u001b[1;37m            ^\u001b[0m\n\u001b[1;31mSyntaxError\u001b[0m\u001b[1;31m:\u001b[0m invalid syntax\n"
     ]
    }
   ],
   "source": [
    "1 . you have to write a fun which will take string and return a len of \n",
    "it without using a inbuilt fun len\n",
    "2 . write a fun which will be able to print an index of all premitive element which you will pass \n",
    "3 . Write a fun which will take input as a dict and give me out as a list of all the values \n",
    "even in case of 2 level nesting it should work . \n",
    "4 . write a fun which will take another function as an input and return me an output \n",
    "5. write a function whihc will take multiple list as a input and give me concatnation of all the element as \n",
    "and output \n",
    "6 . write a function which will be able to take a list as an input return an index of each element \n",
    "like a inbuilt index function but even if we have repetative element it should return index \n",
    "7 . Write a function which will whould return list of all the file name from a directory . \n",
    "8  . write a function which will be able to show your system configuration . \n",
    "9 . write a function which will be able to show date and time  . \n",
    "10 . write a function whihc will be able to read a image file and show it to you .\n",
    "11 . write a function which can read video file and play for you . \n",
    "12  . write a function whihc can move a file from one directory to another directory . \n",
    "13 . write a function which will be able to shutdonw your system . \n",
    "14 . write a function whihc will be able to access your mail . \n",
    "15 . write a func bywhcih i can send a mail to anyone \n",
    "16. write a func to read a complete PDf file . \n",
    "17. write a function to read a word file . \n",
    "18 . write a function which can help you to filter only word file from a directory . \n",
    "19 . write a function by which you can print an ip address of your system . \n",
    "20 . write a function by whihc you will be able to append two PDF files . "
   ]
  },
  {
   "cell_type": "code",
   "execution_count": null,
   "id": "86902a62",
   "metadata": {},
   "outputs": [],
   "source": []
  }
 ],
 "metadata": {
  "kernelspec": {
   "display_name": "Python 3",
   "language": "python",
   "name": "python3"
  },
  "language_info": {
   "codemirror_mode": {
    "name": "ipython",
    "version": 3
   },
   "file_extension": ".py",
   "mimetype": "text/x-python",
   "name": "python",
   "nbconvert_exporter": "python",
   "pygments_lexer": "ipython3",
   "version": "3.8.8"
  }
 },
 "nbformat": 4,
 "nbformat_minor": 5
}
