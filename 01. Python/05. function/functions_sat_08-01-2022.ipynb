{
 "cells": [
  {
   "cell_type": "code",
   "execution_count": 2,
   "id": "1a697aac",
   "metadata": {
    "scrolled": true
   },
   "outputs": [
    {
     "data": {
      "text/plain": [
       "'sudhanshu@ineuron.ai\\nsend github link'"
      ]
     },
     "execution_count": 2,
     "metadata": {},
     "output_type": "execute_result"
    }
   ],
   "source": [
    "\"\"\"sudhanshu@ineuron.ai\n",
    "send github link\"\"\""
   ]
  },
  {
   "cell_type": "markdown",
   "id": "e46d8975",
   "metadata": {},
   "source": [
    "## *args -> n number of positional args"
   ]
  },
  {
   "cell_type": "code",
   "execution_count": 11,
   "id": "71f8d0a5",
   "metadata": {},
   "outputs": [],
   "source": [
    "# To pass any number of arguments:\n",
    "# *args -> args is a standard notation not\n",
    "# a reserved keyword"
   ]
  },
  {
   "cell_type": "code",
   "execution_count": 8,
   "id": "8c012a3b",
   "metadata": {},
   "outputs": [],
   "source": [
    "def test (*args):\n",
    "    return args"
   ]
  },
  {
   "cell_type": "code",
   "execution_count": 10,
   "id": "fefbb490",
   "metadata": {},
   "outputs": [
    {
     "data": {
      "text/plain": [
       "(34, 54, 76, 787, 878)"
      ]
     },
     "execution_count": 10,
     "metadata": {},
     "output_type": "execute_result"
    }
   ],
   "source": [
    "test(34,54,76,787,878)"
   ]
  },
  {
   "cell_type": "code",
   "execution_count": 12,
   "id": "4891aecb",
   "metadata": {},
   "outputs": [
    {
     "data": {
      "text/plain": [
       "(45, 54, 'krishna', 78.21)"
      ]
     },
     "execution_count": 12,
     "metadata": {},
     "output_type": "execute_result"
    }
   ],
   "source": [
    "test(45,54,\"krishna\",78.21)"
   ]
  },
  {
   "cell_type": "code",
   "execution_count": 14,
   "id": "4842f012",
   "metadata": {},
   "outputs": [
    {
     "data": {
      "text/plain": [
       "([1, 2, 3, 4, 7], (45, 78, 9, 85), 'sam', (345+7j))"
      ]
     },
     "execution_count": 14,
     "metadata": {},
     "output_type": "execute_result"
    }
   ],
   "source": [
    "test([1,2,3,4,7],(45,78,9,85),\"sam\", 345+7j)"
   ]
  },
  {
   "cell_type": "code",
   "execution_count": 16,
   "id": "54cac0e6",
   "metadata": {},
   "outputs": [],
   "source": [
    "def test1 (*var_s):\n",
    "    return var_s"
   ]
  },
  {
   "cell_type": "code",
   "execution_count": 17,
   "id": "89adb2e7",
   "metadata": {},
   "outputs": [
    {
     "data": {
      "text/plain": [
       "(45, 45, 8, 7)"
      ]
     },
     "execution_count": 17,
     "metadata": {},
     "output_type": "execute_result"
    }
   ],
   "source": [
    "test1(45,45,8,7)"
   ]
  },
  {
   "cell_type": "code",
   "execution_count": null,
   "id": "8da86b8c",
   "metadata": {},
   "outputs": [],
   "source": []
  },
  {
   "cell_type": "code",
   "execution_count": 22,
   "id": "b0068615",
   "metadata": {},
   "outputs": [],
   "source": [
    "def test3 (*args,a):\n",
    "    return args,a"
   ]
  },
  {
   "cell_type": "code",
   "execution_count": 23,
   "id": "3e9a29f3",
   "metadata": {},
   "outputs": [
    {
     "data": {
      "text/plain": [
       "((34, 56, 767), 6546)"
      ]
     },
     "execution_count": 23,
     "metadata": {},
     "output_type": "execute_result"
    }
   ],
   "source": [
    "test3(34,56,767, a = 6546)"
   ]
  },
  {
   "cell_type": "code",
   "execution_count": 26,
   "id": "7d9372b2",
   "metadata": {},
   "outputs": [],
   "source": [
    "def test4 (*args, a,b,c,d):\n",
    "    return args,a,b,c,d"
   ]
  },
  {
   "cell_type": "code",
   "execution_count": 27,
   "id": "8964eb04",
   "metadata": {},
   "outputs": [
    {
     "data": {
      "text/plain": [
       "((343, 544, 8, 45), [4, 5, 6, 7], [54, 5, 45, 6, 1], 'rama', 345.45)"
      ]
     },
     "execution_count": 27,
     "metadata": {},
     "output_type": "execute_result"
    }
   ],
   "source": [
    "test4(343,544,8,45, a=[4,5,6,7],b=[54,5,45,6,1],\n",
    "     c = \"rama\", d =345.45)"
   ]
  },
  {
   "cell_type": "code",
   "execution_count": 28,
   "id": "ef9c9ab0",
   "metadata": {},
   "outputs": [],
   "source": [
    "def test5 (a, *args):\n",
    "    return args,a"
   ]
  },
  {
   "cell_type": "code",
   "execution_count": 29,
   "id": "61ec7db0",
   "metadata": {},
   "outputs": [
    {
     "data": {
      "text/plain": [
       "((444, 546, 'dam'), 'sreeman')"
      ]
     },
     "execution_count": 29,
     "metadata": {},
     "output_type": "execute_result"
    }
   ],
   "source": [
    "test5(\"sreeman\",444,546,\"dam\")"
   ]
  },
  {
   "cell_type": "code",
   "execution_count": null,
   "id": "88614c85",
   "metadata": {},
   "outputs": [],
   "source": []
  },
  {
   "cell_type": "code",
   "execution_count": 30,
   "id": "8ed7a20b",
   "metadata": {},
   "outputs": [],
   "source": [
    "def test6 (a,*args,b,c):\n",
    "    return a,args,b,c"
   ]
  },
  {
   "cell_type": "code",
   "execution_count": 32,
   "id": "2ac4ef79",
   "metadata": {},
   "outputs": [
    {
     "data": {
      "text/plain": [
       "('srinivaas', ([1, 2, 4], 234, 345), 45, 4)"
      ]
     },
     "execution_count": 32,
     "metadata": {},
     "output_type": "execute_result"
    }
   ],
   "source": [
    "test6(\"srinivaas\",[1,2,4],234,345,b=45,c=4)"
   ]
  },
  {
   "cell_type": "code",
   "execution_count": null,
   "id": "08ca6977",
   "metadata": {},
   "outputs": [],
   "source": []
  },
  {
   "cell_type": "code",
   "execution_count": 33,
   "id": "4e6f1b44",
   "metadata": {},
   "outputs": [],
   "source": [
    "# user can pass anything\n",
    "# if user has passed list as part of data\n",
    "# func has to only return list"
   ]
  },
  {
   "cell_type": "code",
   "execution_count": 40,
   "id": "f3657aa9",
   "metadata": {},
   "outputs": [],
   "source": [
    "def get_list (*args):\n",
    "    new_lst = []\n",
    "    for arg in args:\n",
    "        if type(arg) == list:\n",
    "            new_lst.append(arg)\n",
    "    return new_lst"
   ]
  },
  {
   "cell_type": "code",
   "execution_count": 41,
   "id": "6bb28e3a",
   "metadata": {},
   "outputs": [
    {
     "data": {
      "text/plain": [
       "[['a', 'b'], [45, 87]]"
      ]
     },
     "execution_count": 41,
     "metadata": {},
     "output_type": "execute_result"
    }
   ],
   "source": [
    "get_list(4,5,7,[\"a\",\"b\"],4,[45,87])"
   ]
  },
  {
   "cell_type": "code",
   "execution_count": null,
   "id": "068d58ec",
   "metadata": {},
   "outputs": [],
   "source": []
  },
  {
   "cell_type": "markdown",
   "id": "c6c1b691",
   "metadata": {},
   "source": [
    "## **kwargs ->  n number of keyword args"
   ]
  },
  {
   "cell_type": "code",
   "execution_count": 42,
   "id": "6bb18dda",
   "metadata": {},
   "outputs": [],
   "source": [
    "# a function which will be able to take n number o data\n",
    "# as a key : value pair"
   ]
  },
  {
   "cell_type": "code",
   "execution_count": 43,
   "id": "e5f875e9",
   "metadata": {},
   "outputs": [],
   "source": [
    "def test7 (**kwargs):\n",
    "    return kwargs"
   ]
  },
  {
   "cell_type": "code",
   "execution_count": 46,
   "id": "00667f31",
   "metadata": {},
   "outputs": [
    {
     "data": {
      "text/plain": [
       "{'a': 4, 'gf5': [45, 58, 87]}"
      ]
     },
     "execution_count": 46,
     "metadata": {},
     "output_type": "execute_result"
    }
   ],
   "source": [
    "test7(a=4,gf5=[45,58,87])"
   ]
  },
  {
   "cell_type": "code",
   "execution_count": null,
   "id": "36f0a534",
   "metadata": {},
   "outputs": [],
   "source": []
  },
  {
   "cell_type": "code",
   "execution_count": 47,
   "id": "8d9324ea",
   "metadata": {},
   "outputs": [],
   "source": [
    "def personel_info(**kwargs):\n",
    "    return kwargs"
   ]
  },
  {
   "cell_type": "code",
   "execution_count": null,
   "id": "9e28a440",
   "metadata": {},
   "outputs": [],
   "source": []
  },
  {
   "cell_type": "code",
   "execution_count": 48,
   "id": "3b5d2bec",
   "metadata": {},
   "outputs": [],
   "source": [
    "def test8 (a,**kwargs):\n",
    "    return kwargs,a"
   ]
  },
  {
   "cell_type": "code",
   "execution_count": 49,
   "id": "9dc3dc44",
   "metadata": {},
   "outputs": [
    {
     "data": {
      "text/plain": [
       "({'t': 67, 'b': 54, 'c': 7}, 45)"
      ]
     },
     "execution_count": 49,
     "metadata": {},
     "output_type": "execute_result"
    }
   ],
   "source": [
    "test8(45,t=67,b=54,c=7)"
   ]
  },
  {
   "cell_type": "code",
   "execution_count": 55,
   "id": "d170dad8",
   "metadata": {},
   "outputs": [],
   "source": [
    "def test9 (a,*args,**kwargs):\n",
    "    return a,args,kwargs"
   ]
  },
  {
   "cell_type": "code",
   "execution_count": 56,
   "id": "22050fd3",
   "metadata": {},
   "outputs": [
    {
     "data": {
      "text/plain": [
       "(45, (87, 8, 98, 5, 22), {'g': 457, 'l': 76454})"
      ]
     },
     "execution_count": 56,
     "metadata": {},
     "output_type": "execute_result"
    }
   ],
   "source": [
    "test9(45,87,8,98,5,22, g=457,l=76454)"
   ]
  },
  {
   "cell_type": "code",
   "execution_count": null,
   "id": "852a6218",
   "metadata": {},
   "outputs": [],
   "source": []
  },
  {
   "cell_type": "markdown",
   "id": "d9226d09",
   "metadata": {},
   "source": [
    "## lambda functions"
   ]
  },
  {
   "cell_type": "code",
   "execution_count": 83,
   "id": "930c20f9",
   "metadata": {},
   "outputs": [],
   "source": [
    "# lambda args : return\n",
    "# It will return only one data type\n",
    "# a list,tuple,dict,set,primitive"
   ]
  },
  {
   "cell_type": "code",
   "execution_count": 71,
   "id": "6734e817",
   "metadata": {},
   "outputs": [
    {
     "data": {
      "text/plain": [
       "20"
      ]
     },
     "execution_count": 71,
     "metadata": {},
     "output_type": "execute_result"
    }
   ],
   "source": [
    "(lambda a,b : a*b)(4,5)"
   ]
  },
  {
   "cell_type": "code",
   "execution_count": 70,
   "id": "692bd9f1",
   "metadata": {},
   "outputs": [
    {
     "data": {
      "text/plain": [
       "3015"
      ]
     },
     "execution_count": 70,
     "metadata": {},
     "output_type": "execute_result"
    }
   ],
   "source": [
    "a(45,67)"
   ]
  },
  {
   "cell_type": "code",
   "execution_count": 78,
   "id": "b8ec5298",
   "metadata": {
    "scrolled": false
   },
   "outputs": [],
   "source": [
    "x = (lambda x: [i for i in x])"
   ]
  },
  {
   "cell_type": "code",
   "execution_count": 79,
   "id": "89aea52c",
   "metadata": {},
   "outputs": [
    {
     "data": {
      "text/plain": [
       "[4, 5, 6]"
      ]
     },
     "execution_count": 79,
     "metadata": {},
     "output_type": "execute_result"
    }
   ],
   "source": [
    "x([4,5,6])"
   ]
  },
  {
   "cell_type": "code",
   "execution_count": 81,
   "id": "b8cb6796",
   "metadata": {},
   "outputs": [
    {
     "data": {
      "text/plain": [
       "[45]"
      ]
     },
     "execution_count": 81,
     "metadata": {},
     "output_type": "execute_result"
    }
   ],
   "source": [
    "x([45])"
   ]
  },
  {
   "cell_type": "code",
   "execution_count": 84,
   "id": "821c054d",
   "metadata": {},
   "outputs": [],
   "source": [
    "a = lambda **kwargs : kwargs"
   ]
  },
  {
   "cell_type": "code",
   "execution_count": 85,
   "id": "f8264005",
   "metadata": {},
   "outputs": [
    {
     "data": {
      "text/plain": [
       "{'a': 45, 'b': 56}"
      ]
     },
     "execution_count": 85,
     "metadata": {},
     "output_type": "execute_result"
    }
   ],
   "source": [
    "a(a=45,b=56)"
   ]
  },
  {
   "cell_type": "code",
   "execution_count": 94,
   "id": "a7564e3b",
   "metadata": {},
   "outputs": [],
   "source": [
    "c = 10\n",
    "def test16 (c,d):\n",
    "    c = 5\n",
    "    return c*d"
   ]
  },
  {
   "cell_type": "code",
   "execution_count": 95,
   "id": "88ad97bd",
   "metadata": {},
   "outputs": [
    {
     "data": {
      "text/plain": [
       "250"
      ]
     },
     "execution_count": 95,
     "metadata": {},
     "output_type": "execute_result"
    }
   ],
   "source": [
    "test16(a,50)"
   ]
  },
  {
   "cell_type": "code",
   "execution_count": 96,
   "id": "daa027f1",
   "metadata": {},
   "outputs": [
    {
     "data": {
      "text/plain": [
       "10"
      ]
     },
     "execution_count": 96,
     "metadata": {},
     "output_type": "execute_result"
    }
   ],
   "source": [
    "c"
   ]
  },
  {
   "cell_type": "code",
   "execution_count": null,
   "id": "694170a7",
   "metadata": {},
   "outputs": [],
   "source": []
  }
 ],
 "metadata": {
  "kernelspec": {
   "display_name": "Python 3",
   "language": "python",
   "name": "python3"
  },
  "language_info": {
   "codemirror_mode": {
    "name": "ipython",
    "version": 3
   },
   "file_extension": ".py",
   "mimetype": "text/x-python",
   "name": "python",
   "nbconvert_exporter": "python",
   "pygments_lexer": "ipython3",
   "version": "3.8.8"
  }
 },
 "nbformat": 4,
 "nbformat_minor": 5
}
