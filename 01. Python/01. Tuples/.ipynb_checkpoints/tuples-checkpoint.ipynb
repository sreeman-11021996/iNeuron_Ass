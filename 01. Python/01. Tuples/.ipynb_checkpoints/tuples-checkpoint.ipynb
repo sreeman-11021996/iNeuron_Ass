{
 "cells": [
  {
   "cell_type": "code",
   "execution_count": 4,
   "id": "65b0aa5a",
   "metadata": {},
   "outputs": [],
   "source": [
    "# Nested tuples"
   ]
  },
  {
   "cell_type": "code",
   "execution_count": 5,
   "id": "5950b03f",
   "metadata": {},
   "outputs": [],
   "source": [
    "t = (45,54,54,5,(4,5,6),(\"sudh\"))"
   ]
  },
  {
   "cell_type": "code",
   "execution_count": 3,
   "id": "915ebe3b",
   "metadata": {},
   "outputs": [],
   "source": [
    "t1 = ([3,4,54,6], (\"sd\",435,56))"
   ]
  },
  {
   "cell_type": "code",
   "execution_count": 7,
   "id": "882af953",
   "metadata": {
    "scrolled": true
   },
   "outputs": [
    {
     "data": {
      "text/plain": [
       "'sd'"
      ]
     },
     "execution_count": 7,
     "metadata": {},
     "output_type": "execute_result"
    }
   ],
   "source": [
    "t1[1][0]"
   ]
  },
  {
   "cell_type": "code",
   "execution_count": null,
   "id": "4c03623f",
   "metadata": {},
   "outputs": [],
   "source": []
  },
  {
   "cell_type": "code",
   "execution_count": 15,
   "id": "ca4e631f",
   "metadata": {},
   "outputs": [],
   "source": [
    "# we can change a list value inside a tuple"
   ]
  },
  {
   "cell_type": "code",
   "execution_count": 8,
   "id": "1c97d766",
   "metadata": {},
   "outputs": [],
   "source": [
    "t1[0][2] = \"srinivaas\""
   ]
  },
  {
   "cell_type": "code",
   "execution_count": 11,
   "id": "289ec4a1",
   "metadata": {},
   "outputs": [
    {
     "data": {
      "text/plain": [
       "([3, 4, 'srinivaas', 6], ('sd', 435, 56))"
      ]
     },
     "execution_count": 11,
     "metadata": {},
     "output_type": "execute_result"
    }
   ],
   "source": [
    "t1"
   ]
  },
  {
   "cell_type": "code",
   "execution_count": 14,
   "id": "6defdc17",
   "metadata": {},
   "outputs": [
    {
     "ename": "TypeError",
     "evalue": "'tuple' object does not support item assignment",
     "output_type": "error",
     "traceback": [
      "\u001b[1;31m---------------------------------------------------------------------------\u001b[0m",
      "\u001b[1;31mTypeError\u001b[0m                                 Traceback (most recent call last)",
      "\u001b[1;32m<ipython-input-14-7934d862ebb5>\u001b[0m in \u001b[0;36m<module>\u001b[1;34m\u001b[0m\n\u001b[0;32m      1\u001b[0m \u001b[1;31m# tuples are immutable\u001b[0m\u001b[1;33m\u001b[0m\u001b[1;33m\u001b[0m\u001b[1;33m\u001b[0m\u001b[0m\n\u001b[1;32m----> 2\u001b[1;33m \u001b[0mt1\u001b[0m\u001b[1;33m[\u001b[0m\u001b[1;36m0\u001b[0m\u001b[1;33m]\u001b[0m \u001b[1;33m=\u001b[0m \u001b[1;34m\"sdf\"\u001b[0m\u001b[1;33m\u001b[0m\u001b[1;33m\u001b[0m\u001b[0m\n\u001b[0m",
      "\u001b[1;31mTypeError\u001b[0m: 'tuple' object does not support item assignment"
     ]
    }
   ],
   "source": [
    "# tuples are immutable\n",
    "t1[0] = \"sdf\""
   ]
  },
  {
   "cell_type": "code",
   "execution_count": null,
   "id": "130d585b",
   "metadata": {},
   "outputs": [],
   "source": []
  },
  {
   "cell_type": "code",
   "execution_count": null,
   "id": "396dcd7b",
   "metadata": {},
   "outputs": [],
   "source": [
    "# we can convert list to tuples and vice versa"
   ]
  },
  {
   "cell_type": "code",
   "execution_count": 16,
   "id": "936fe589",
   "metadata": {},
   "outputs": [],
   "source": [
    "t2 = (53,54,45,4,5,4,87)"
   ]
  },
  {
   "cell_type": "code",
   "execution_count": 17,
   "id": "76ccbf56",
   "metadata": {},
   "outputs": [
    {
     "data": {
      "text/plain": [
       "[53, 54, 45, 4, 5, 4, 87]"
      ]
     },
     "execution_count": 17,
     "metadata": {},
     "output_type": "execute_result"
    }
   ],
   "source": [
    "list(t2)"
   ]
  },
  {
   "cell_type": "code",
   "execution_count": null,
   "id": "b099dbc5",
   "metadata": {},
   "outputs": [],
   "source": []
  }
 ],
 "metadata": {
  "kernelspec": {
   "display_name": "Python 3",
   "language": "python",
   "name": "python3"
  },
  "language_info": {
   "codemirror_mode": {
    "name": "ipython",
    "version": 3
   },
   "file_extension": ".py",
   "mimetype": "text/x-python",
   "name": "python",
   "nbconvert_exporter": "python",
   "pygments_lexer": "ipython3",
   "version": "3.8.8"
  }
 },
 "nbformat": 4,
 "nbformat_minor": 5
}
