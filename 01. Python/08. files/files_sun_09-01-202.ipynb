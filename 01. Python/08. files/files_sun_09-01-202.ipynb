{
 "cells": [
  {
   "cell_type": "markdown",
   "id": "d1f24c66",
   "metadata": {},
   "source": [
    "## Files:"
   ]
  },
  {
   "cell_type": "code",
   "execution_count": 58,
   "id": "f5d14203",
   "metadata": {},
   "outputs": [],
   "source": [
    "#f.name()\n",
    "#f.fileno()\n",
    "#f.writelines()\n",
    "#f.write()\n",
    "#f.read()\n",
    "#f.readline()\n",
    "#f.readlines()"
   ]
  },
  {
   "cell_type": "markdown",
   "id": "2e6d527a",
   "metadata": {},
   "source": [
    "### writing to a file"
   ]
  },
  {
   "cell_type": "markdown",
   "id": "3ed9e5b5",
   "metadata": {},
   "source": [
    "### approach 1:"
   ]
  },
  {
   "cell_type": "code",
   "execution_count": 19,
   "id": "d5d21402",
   "metadata": {},
   "outputs": [],
   "source": [
    "f = open(\"test.txt\",mode=\"w\")"
   ]
  },
  {
   "cell_type": "code",
   "execution_count": 20,
   "id": "90044156",
   "metadata": {},
   "outputs": [
    {
     "name": "stdout",
     "output_type": "stream",
     "text": [
      " Volume in drive C is OS\n",
      " Volume Serial Number is 5C3F-BBFA\n",
      "\n",
      " Directory of C:\\Users\\SREEMAN\\iNeuron\\Python\\08. files\n",
      "\n",
      "09-01-2022  11:59    <DIR>          .\n",
      "09-01-2022  11:49    <DIR>          ..\n",
      "09-01-2022  11:49    <DIR>          .ipynb_checkpoints\n",
      "09-01-2022  11:57             2,571 files_sun_09-01-202.ipynb\n",
      "09-01-2022  11:59                 0 test.txt\n",
      "               2 File(s)          2,571 bytes\n",
      "               3 Dir(s)  182,198,775,808 bytes free\n"
     ]
    }
   ],
   "source": [
    "%ls"
   ]
  },
  {
   "cell_type": "code",
   "execution_count": 21,
   "id": "430eaeaf",
   "metadata": {},
   "outputs": [
    {
     "data": {
      "text/plain": [
       "46"
      ]
     },
     "execution_count": 21,
     "metadata": {},
     "output_type": "execute_result"
    }
   ],
   "source": [
    "f.write(\"this is my 'first' file operation  to test.txt\")"
   ]
  },
  {
   "cell_type": "code",
   "execution_count": 22,
   "id": "4e886548",
   "metadata": {},
   "outputs": [],
   "source": [
    "f.close()"
   ]
  },
  {
   "cell_type": "code",
   "execution_count": null,
   "id": "b1811b2b",
   "metadata": {},
   "outputs": [],
   "source": []
  },
  {
   "cell_type": "markdown",
   "id": "b268764b",
   "metadata": {},
   "source": [
    "### Approach 2:"
   ]
  },
  {
   "cell_type": "code",
   "execution_count": 23,
   "id": "6ede25f0",
   "metadata": {},
   "outputs": [
    {
     "name": "stdout",
     "output_type": "stream",
     "text": [
      "Writing test2.txt\n"
     ]
    }
   ],
   "source": [
    "%%writefile test2.txt\n",
    "this is the data i would like to store"
   ]
  },
  {
   "cell_type": "code",
   "execution_count": null,
   "id": "e1d7e3e3",
   "metadata": {},
   "outputs": [],
   "source": []
  },
  {
   "cell_type": "markdown",
   "id": "b0c6df88",
   "metadata": {},
   "source": [
    "### opening a file:"
   ]
  },
  {
   "cell_type": "code",
   "execution_count": 24,
   "id": "313619c7",
   "metadata": {},
   "outputs": [],
   "source": [
    "f2 = open(\"test.txt\")"
   ]
  },
  {
   "cell_type": "code",
   "execution_count": 25,
   "id": "5170f98f",
   "metadata": {},
   "outputs": [
    {
     "data": {
      "text/plain": [
       "\"this is my 'first' file operation  to test.txt\""
      ]
     },
     "execution_count": 25,
     "metadata": {},
     "output_type": "execute_result"
    }
   ],
   "source": [
    "f2.read()"
   ]
  },
  {
   "cell_type": "code",
   "execution_count": 26,
   "id": "c51dc280",
   "metadata": {},
   "outputs": [
    {
     "data": {
      "text/plain": [
       "''"
      ]
     },
     "execution_count": 26,
     "metadata": {},
     "output_type": "execute_result"
    }
   ],
   "source": [
    "f2.read()"
   ]
  },
  {
   "cell_type": "markdown",
   "id": "d1ffa89e",
   "metadata": {},
   "source": [
    "### reset your cursor:"
   ]
  },
  {
   "cell_type": "code",
   "execution_count": 27,
   "id": "730baf3d",
   "metadata": {},
   "outputs": [
    {
     "data": {
      "text/plain": [
       "5"
      ]
     },
     "execution_count": 27,
     "metadata": {},
     "output_type": "execute_result"
    }
   ],
   "source": [
    "# reset at position \"5\"\n",
    "f2.seek(5)"
   ]
  },
  {
   "cell_type": "code",
   "execution_count": 28,
   "id": "d353005a",
   "metadata": {},
   "outputs": [
    {
     "data": {
      "text/plain": [
       "\"is my 'first' file operation  to test.txt\""
      ]
     },
     "execution_count": 28,
     "metadata": {},
     "output_type": "execute_result"
    }
   ],
   "source": [
    "f2.read()"
   ]
  },
  {
   "cell_type": "code",
   "execution_count": 29,
   "id": "fc73f6c3",
   "metadata": {},
   "outputs": [
    {
     "data": {
      "text/plain": [
       "0"
      ]
     },
     "execution_count": 29,
     "metadata": {},
     "output_type": "execute_result"
    }
   ],
   "source": [
    "# reset the cursorr to beginning\n",
    "f2.seek(0)"
   ]
  },
  {
   "cell_type": "code",
   "execution_count": 30,
   "id": "26cd5732",
   "metadata": {},
   "outputs": [
    {
     "data": {
      "text/plain": [
       "\"this is my 'first' file operation  to test.txt\""
      ]
     },
     "execution_count": 30,
     "metadata": {},
     "output_type": "execute_result"
    }
   ],
   "source": [
    "f2.read()"
   ]
  },
  {
   "cell_type": "code",
   "execution_count": 31,
   "id": "61593f24",
   "metadata": {},
   "outputs": [],
   "source": [
    "# to find the position of cursr"
   ]
  },
  {
   "cell_type": "code",
   "execution_count": 33,
   "id": "9eceebf9",
   "metadata": {},
   "outputs": [
    {
     "data": {
      "text/plain": [
       "46"
      ]
     },
     "execution_count": 33,
     "metadata": {},
     "output_type": "execute_result"
    }
   ],
   "source": [
    "f2.tell()"
   ]
  },
  {
   "cell_type": "code",
   "execution_count": 34,
   "id": "039f1b04",
   "metadata": {},
   "outputs": [
    {
     "data": {
      "text/plain": [
       "5"
      ]
     },
     "execution_count": 34,
     "metadata": {},
     "output_type": "execute_result"
    }
   ],
   "source": [
    "f2.seek(5)"
   ]
  },
  {
   "cell_type": "code",
   "execution_count": 35,
   "id": "0f9ca30c",
   "metadata": {},
   "outputs": [
    {
     "data": {
      "text/plain": [
       "5"
      ]
     },
     "execution_count": 35,
     "metadata": {},
     "output_type": "execute_result"
    }
   ],
   "source": [
    "f2.tell()"
   ]
  },
  {
   "cell_type": "code",
   "execution_count": 36,
   "id": "ec859f47",
   "metadata": {},
   "outputs": [],
   "source": [
    "f2.close()"
   ]
  },
  {
   "cell_type": "code",
   "execution_count": 19,
   "id": "67fc5ab2",
   "metadata": {},
   "outputs": [],
   "source": [
    "f3 = open(\"test.txt\",mode=\"r+\")"
   ]
  },
  {
   "cell_type": "code",
   "execution_count": 20,
   "id": "4bf403d0",
   "metadata": {},
   "outputs": [
    {
     "data": {
      "text/plain": [
       "\"this is my 'first\\nto te\\nefh\\nskldjh\\naldkhka\\nakdnal\\naksdjap\\nasljd\\ndjksahj\""
      ]
     },
     "execution_count": 20,
     "metadata": {},
     "output_type": "execute_result"
    }
   ],
   "source": [
    "f3.read()"
   ]
  },
  {
   "cell_type": "code",
   "execution_count": 21,
   "id": "3986f2b8",
   "metadata": {},
   "outputs": [
    {
     "data": {
      "text/plain": [
       "''"
      ]
     },
     "execution_count": 21,
     "metadata": {},
     "output_type": "execute_result"
    }
   ],
   "source": [
    "f3.readline()"
   ]
  },
  {
   "cell_type": "code",
   "execution_count": 22,
   "id": "1f2be8bd",
   "metadata": {},
   "outputs": [],
   "source": [
    "f3.close()"
   ]
  },
  {
   "cell_type": "markdown",
   "id": "374241a2",
   "metadata": {},
   "source": [
    "### \"r+\" or \"rw\" mode -> open file in both read and write mode"
   ]
  },
  {
   "cell_type": "code",
   "execution_count": 24,
   "id": "2ebe2b86",
   "metadata": {},
   "outputs": [],
   "source": [
    "f = open(\"test.txt\",mode=\"r+\")"
   ]
  },
  {
   "cell_type": "code",
   "execution_count": 25,
   "id": "1813c330",
   "metadata": {},
   "outputs": [
    {
     "data": {
      "text/plain": [
       "5"
      ]
     },
     "execution_count": 25,
     "metadata": {},
     "output_type": "execute_result"
    }
   ],
   "source": [
    "f.seek(5)"
   ]
  },
  {
   "cell_type": "code",
   "execution_count": 26,
   "id": "c001b1d1",
   "metadata": {},
   "outputs": [
    {
     "data": {
      "text/plain": [
       "22"
      ]
     },
     "execution_count": 26,
     "metadata": {},
     "output_type": "execute_result"
    }
   ],
   "source": [
    "f.write(\"cursor at 5th location\")"
   ]
  },
  {
   "cell_type": "code",
   "execution_count": 27,
   "id": "01561ba1",
   "metadata": {},
   "outputs": [],
   "source": [
    "f.close()"
   ]
  },
  {
   "cell_type": "code",
   "execution_count": 28,
   "id": "de6b7978",
   "metadata": {},
   "outputs": [],
   "source": [
    "f = open(\"test.txt\",\"r+\")"
   ]
  },
  {
   "cell_type": "code",
   "execution_count": 29,
   "id": "2390f7ee",
   "metadata": {},
   "outputs": [
    {
     "data": {
      "text/plain": [
       "['this cursor at 5th location\\n',\n",
       " 'skldjh\\n',\n",
       " 'aldkhka\\n',\n",
       " 'akdnal\\n',\n",
       " 'aksdjap\\n',\n",
       " 'asljd\\n',\n",
       " 'djksahj']"
      ]
     },
     "execution_count": 29,
     "metadata": {},
     "output_type": "execute_result"
    }
   ],
   "source": [
    "f.readlines()"
   ]
  },
  {
   "cell_type": "code",
   "execution_count": 30,
   "id": "7833aaee",
   "metadata": {},
   "outputs": [],
   "source": [
    "f.close()"
   ]
  },
  {
   "cell_type": "code",
   "execution_count": 31,
   "id": "316ee621",
   "metadata": {},
   "outputs": [],
   "source": [
    "f = open(\"google.txt\",\"r+\")"
   ]
  },
  {
   "cell_type": "code",
   "execution_count": 32,
   "id": "6a4aa41a",
   "metadata": {},
   "outputs": [
    {
     "data": {
      "text/plain": [
       "2091"
      ]
     },
     "execution_count": 32,
     "metadata": {},
     "output_type": "execute_result"
    }
   ],
   "source": [
    "f.write(\"\"\"Google began in January 1996 as a research project by Larry Page and Sergey Brin when they were both PhD students at Stanford University in California.[16][17][18] The project initially involved an unofficial \"third founder\", Scott Hassan, the original lead programmer who wrote much of the code for the original Google Search engine, but he left before Google was officially founded as a company;[19][20] Hassan went on to pursue a career in robotics and founded the company Willow Garage in 2006.[21][22]\n",
    "\n",
    "While conventional search engines ranked results by counting how many times the search terms appeared on the page, they theorized about a better system that analyzed the relationships among websites.[23] They called this algorithm PageRank; it determined a website's relevance by the number of pages, and the importance of those pages that linked back to the original site.[24][25] Page told his ideas to Hassan, who began writing the code to implement Page's ideas.[19]\n",
    "\n",
    "Page and Brin originally nicknamed the new search engine \"BackRub\", because the system checked backlinks to estimate the importance of a site.[16][26][27] Hassan as well as Alan Steremberg were cited by Page and Brin as being critical to the development of Google. Rajeev Motwani and Terry Winograd later co-authored with Page and Brin the first paper about the project, describing PageRank and the initial prototype of the Google search engine, published in 1998. Héctor García-Molina and Jeff Ullman were also cited as contributors to the project.[28] PageRank was influenced by a similar page-ranking and site-scoring algorithm earlier used for RankDex, developed by Robin Li in 1996, with Larry Page's PageRank patent including a citation to Li's earlier RankDex patent; Li later went on to create the Chinese search engine Baidu.[29][30]\n",
    "\n",
    "Eventually, they changed the name to Google; the name of the search engine was a play on the word \"googol\",[16][31][32] the number 1 followed by 100 zeros, which was picked to signify that the search engine was intended to provide large quantities of information.[33]\"\"\")"
   ]
  },
  {
   "cell_type": "code",
   "execution_count": 37,
   "id": "166f4896",
   "metadata": {},
   "outputs": [
    {
     "data": {
      "text/plain": [
       "0"
      ]
     },
     "execution_count": 37,
     "metadata": {},
     "output_type": "execute_result"
    }
   ],
   "source": [
    "f.seek(0)"
   ]
  },
  {
   "cell_type": "code",
   "execution_count": 38,
   "id": "47512773",
   "metadata": {},
   "outputs": [],
   "source": [
    "l = f.readlines()"
   ]
  },
  {
   "cell_type": "code",
   "execution_count": 41,
   "id": "5d4d00cd",
   "metadata": {},
   "outputs": [
    {
     "data": {
      "text/plain": [
       "['G',\n",
       " 'b',\n",
       " 'i',\n",
       " 'J',\n",
       " '1',\n",
       " 'a',\n",
       " 'a',\n",
       " 'r',\n",
       " 'p',\n",
       " 'b',\n",
       " 'L',\n",
       " 'P',\n",
       " 'a',\n",
       " 'S',\n",
       " 'B',\n",
       " 'w',\n",
       " 't',\n",
       " 'w',\n",
       " 'b',\n",
       " 'P',\n",
       " 's',\n",
       " 'a',\n",
       " 'S',\n",
       " 'U',\n",
       " 'i',\n",
       " 'C',\n",
       " 'T',\n",
       " 'p',\n",
       " 'i',\n",
       " 'i',\n",
       " 'a',\n",
       " 'u',\n",
       " '\"',\n",
       " 'f',\n",
       " 'S',\n",
       " 'H',\n",
       " 't',\n",
       " 'o',\n",
       " 'l',\n",
       " 'p',\n",
       " 'w',\n",
       " 'w',\n",
       " 'm',\n",
       " 'o',\n",
       " 't',\n",
       " 'c',\n",
       " 'f',\n",
       " 't',\n",
       " 'o',\n",
       " 'G',\n",
       " 'S',\n",
       " 'e',\n",
       " 'b',\n",
       " 'h',\n",
       " 'l',\n",
       " 'b',\n",
       " 'G',\n",
       " 'w',\n",
       " 'o',\n",
       " 'f',\n",
       " 'a',\n",
       " 'a',\n",
       " 'c',\n",
       " 'H',\n",
       " 'w',\n",
       " 'o',\n",
       " 't',\n",
       " 'p',\n",
       " 'a',\n",
       " 'c',\n",
       " 'i',\n",
       " 'r',\n",
       " 'a',\n",
       " 'f',\n",
       " 't',\n",
       " 'c',\n",
       " 'W',\n",
       " 'G',\n",
       " 'i',\n",
       " '2']"
      ]
     },
     "execution_count": 41,
     "metadata": {},
     "output_type": "execute_result"
    }
   ],
   "source": [
    "[word[0] for word in l[0].split()]"
   ]
  },
  {
   "cell_type": "code",
   "execution_count": 42,
   "id": "ae208e80",
   "metadata": {},
   "outputs": [],
   "source": [
    "f.close()"
   ]
  },
  {
   "cell_type": "code",
   "execution_count": 43,
   "id": "308fdabd",
   "metadata": {},
   "outputs": [
    {
     "name": "stdout",
     "output_type": "stream",
     "text": [
      " Volume in drive C is OS\n",
      " Volume Serial Number is 5C3F-BBFA\n",
      "\n",
      " Directory of C:\\Users\\SREEMAN\\iNeuron\\Python\\08. files\n",
      "\n",
      "09-01-2022  12:37    <DIR>          .\n",
      "09-01-2022  11:49    <DIR>          ..\n",
      "09-01-2022  11:49    <DIR>          .ipynb_checkpoints\n",
      "09-01-2022  12:37            15,005 files_sun_09-01-202.ipynb\n",
      "09-01-2022  12:34             2,097 google.txt\n",
      "09-01-2022  12:28                71 test.txt\n",
      "09-01-2022  12:02                40 test2.txt\n",
      "               4 File(s)         17,213 bytes\n",
      "               3 Dir(s)  182,191,972,352 bytes free\n"
     ]
    }
   ],
   "source": [
    "%ls"
   ]
  },
  {
   "cell_type": "code",
   "execution_count": 54,
   "id": "4cb32a74",
   "metadata": {},
   "outputs": [
    {
     "data": {
      "text/plain": [
       "'test.txt'"
      ]
     },
     "execution_count": 54,
     "metadata": {},
     "output_type": "execute_result"
    }
   ],
   "source": [
    "f = open(\"test.txt\",\"r+\")\n",
    "f.name"
   ]
  },
  {
   "cell_type": "code",
   "execution_count": 55,
   "id": "cadee7af",
   "metadata": {},
   "outputs": [],
   "source": [
    "l = [\"this is my line1\\n\",\"this is my line2\\n\",\"this is my line3\\n\",\n",
    "    \"this is my line4\\n\"]"
   ]
  },
  {
   "cell_type": "code",
   "execution_count": 56,
   "id": "f0f524ee",
   "metadata": {},
   "outputs": [],
   "source": [
    "f.writelines(l)"
   ]
  },
  {
   "cell_type": "code",
   "execution_count": 57,
   "id": "2c870b97",
   "metadata": {},
   "outputs": [],
   "source": [
    "f.close()"
   ]
  },
  {
   "cell_type": "code",
   "execution_count": null,
   "id": "be1d577f",
   "metadata": {},
   "outputs": [],
   "source": []
  },
  {
   "cell_type": "markdown",
   "id": "788de5a0",
   "metadata": {},
   "source": [
    "### deleting a file:"
   ]
  },
  {
   "cell_type": "code",
   "execution_count": 59,
   "id": "41bfc8c5",
   "metadata": {},
   "outputs": [],
   "source": [
    "import os"
   ]
  },
  {
   "cell_type": "code",
   "execution_count": 60,
   "id": "090220bd",
   "metadata": {},
   "outputs": [],
   "source": [
    "# os.remove(\"file_name.txt\")"
   ]
  },
  {
   "cell_type": "code",
   "execution_count": null,
   "id": "c1f85f3e",
   "metadata": {},
   "outputs": [],
   "source": []
  }
 ],
 "metadata": {
  "kernelspec": {
   "display_name": "Python 3",
   "language": "python",
   "name": "python3"
  },
  "language_info": {
   "codemirror_mode": {
    "name": "ipython",
    "version": 3
   },
   "file_extension": ".py",
   "mimetype": "text/x-python",
   "name": "python",
   "nbconvert_exporter": "python",
   "pygments_lexer": "ipython3",
   "version": "3.8.8"
  }
 },
 "nbformat": 4,
 "nbformat_minor": 5
}
