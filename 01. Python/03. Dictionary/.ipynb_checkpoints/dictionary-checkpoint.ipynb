{
 "cells": [
  {
   "cell_type": "code",
   "execution_count": null,
   "id": "81c70ca8",
   "metadata": {},
   "outputs": [],
   "source": []
  },
  {
   "cell_type": "code",
   "execution_count": 1,
   "id": "97e62158",
   "metadata": {},
   "outputs": [],
   "source": [
    "d = {}"
   ]
  },
  {
   "cell_type": "code",
   "execution_count": 2,
   "id": "3f156062",
   "metadata": {},
   "outputs": [
    {
     "data": {
      "text/plain": [
       "dict"
      ]
     },
     "execution_count": 2,
     "metadata": {},
     "output_type": "execute_result"
    }
   ],
   "source": [
    "type(d)"
   ]
  },
  {
   "cell_type": "code",
   "execution_count": 10,
   "id": "d5fbb7f1",
   "metadata": {},
   "outputs": [],
   "source": [
    "# {key:value,..} -> pair\n",
    "d = {\"key1\":5445,\"key2\":\"sudh\",45:[3,4,5]}"
   ]
  },
  {
   "cell_type": "code",
   "execution_count": 11,
   "id": "2d2d47bf",
   "metadata": {},
   "outputs": [
    {
     "data": {
      "text/plain": [
       "{'key1': 5445, 'key2': 'sudh', 45: [3, 4, 5]}"
      ]
     },
     "execution_count": 11,
     "metadata": {},
     "output_type": "execute_result"
    }
   ],
   "source": [
    "d"
   ]
  },
  {
   "cell_type": "code",
   "execution_count": 12,
   "id": "d66925bd",
   "metadata": {},
   "outputs": [
    {
     "data": {
      "text/plain": [
       "5445"
      ]
     },
     "execution_count": 12,
     "metadata": {},
     "output_type": "execute_result"
    }
   ],
   "source": [
    "d[\"key1\"]"
   ]
  },
  {
   "cell_type": "code",
   "execution_count": 13,
   "id": "fb51531e",
   "metadata": {},
   "outputs": [],
   "source": [
    "d1 = {.4:[\"dsaf\",\"dfsf\",4,5,6,7]}"
   ]
  },
  {
   "cell_type": "code",
   "execution_count": 14,
   "id": "58fb23ca",
   "metadata": {
    "scrolled": true
   },
   "outputs": [
    {
     "data": {
      "text/plain": [
       "{0.4: ['dsaf', 'dfsf', 4, 5, 6, 7]}"
      ]
     },
     "execution_count": 14,
     "metadata": {},
     "output_type": "execute_result"
    }
   ],
   "source": [
    "d1"
   ]
  },
  {
   "cell_type": "code",
   "execution_count": 17,
   "id": "09e9b8c2",
   "metadata": {},
   "outputs": [],
   "source": [
    "# if you duplicate a key, only recent value is held"
   ]
  },
  {
   "cell_type": "code",
   "execution_count": 15,
   "id": "8490c4ed",
   "metadata": {},
   "outputs": [],
   "source": [
    "d1 = {\"key1\" : [2,4,5,6], \"key2\": \"sudh\",\"key1\":45}"
   ]
  },
  {
   "cell_type": "code",
   "execution_count": 16,
   "id": "0fb50a66",
   "metadata": {},
   "outputs": [
    {
     "data": {
      "text/plain": [
       "45"
      ]
     },
     "execution_count": 16,
     "metadata": {},
     "output_type": "execute_result"
    }
   ],
   "source": [
    "d1[\"key1\"]"
   ]
  },
  {
   "cell_type": "code",
   "execution_count": 22,
   "id": "453e0833",
   "metadata": {},
   "outputs": [],
   "source": [
    "d2 = {'name' : \"srinivaas\", \"mob_no\" : 9247886246, \n",
    "      \"mail_id\":\"sreemanbitsmech@gmail.com\",\"key1\":[1,2,3,4],\n",
    "      \"key3\": (3,4,5,7),\"key3\":{3,4,5,7,1,1,13,3,3,3,3,4,4,5,5,7},\n",
    "      \"key4\":{1:5,2:4}}"
   ]
  },
  {
   "cell_type": "code",
   "execution_count": 23,
   "id": "7a1d6dfa",
   "metadata": {},
   "outputs": [
    {
     "data": {
      "text/plain": [
       "{'name': 'srinivaas',\n",
       " 'mob_no': 9247886246,\n",
       " 'mail_id': 'sreemanbitsmech@gmail.com',\n",
       " 'key1': [1, 2, 3, 4],\n",
       " 'key3': {1, 3, 4, 5, 7, 13},\n",
       " 'key4': {1: 5, 2: 4}}"
      ]
     },
     "execution_count": 23,
     "metadata": {},
     "output_type": "execute_result"
    }
   ],
   "source": [
    "d2"
   ]
  },
  {
   "cell_type": "code",
   "execution_count": 30,
   "id": "e5611cb1",
   "metadata": {},
   "outputs": [
    {
     "data": {
      "text/plain": [
       "dict_keys(['name', 'mob_no', 'mail_id', 'key1', 'key3', 'key4'])"
      ]
     },
     "execution_count": 30,
     "metadata": {},
     "output_type": "execute_result"
    }
   ],
   "source": [
    "d2.keys()"
   ]
  },
  {
   "cell_type": "code",
   "execution_count": 25,
   "id": "d9f060cf",
   "metadata": {},
   "outputs": [
    {
     "data": {
      "text/plain": [
       "dict_values(['srinivaas', 9247886246, 'sreemanbitsmech@gmail.com', [1, 2, 3, 4], {1, 3, 4, 5, 7, 13}, {1: 5, 2: 4}])"
      ]
     },
     "execution_count": 25,
     "metadata": {},
     "output_type": "execute_result"
    }
   ],
   "source": [
    "d2.values()"
   ]
  },
  {
   "cell_type": "code",
   "execution_count": 26,
   "id": "5db5c210",
   "metadata": {},
   "outputs": [
    {
     "data": {
      "text/plain": [
       "dict_items([('name', 'srinivaas'), ('mob_no', 9247886246), ('mail_id', 'sreemanbitsmech@gmail.com'), ('key1', [1, 2, 3, 4]), ('key3', {1, 3, 4, 5, 7, 13}), ('key4', {1: 5, 2: 4})])"
      ]
     },
     "execution_count": 26,
     "metadata": {},
     "output_type": "execute_result"
    }
   ],
   "source": [
    "d2.items()"
   ]
  },
  {
   "cell_type": "code",
   "execution_count": null,
   "id": "0e796b6c",
   "metadata": {},
   "outputs": [],
   "source": []
  },
  {
   "cell_type": "code",
   "execution_count": 32,
   "id": "cfaedf44",
   "metadata": {},
   "outputs": [
    {
     "data": {
      "text/plain": [
       "{'key1': 'sudh', 'key2': [1, 2, 3, 4]}"
      ]
     },
     "execution_count": 32,
     "metadata": {},
     "output_type": "execute_result"
    }
   ],
   "source": [
    "d3 = {'key1' : 'sudh','key2':[1,2,3,4]}\n",
    "d3"
   ]
  },
  {
   "cell_type": "code",
   "execution_count": 34,
   "id": "620a83ea",
   "metadata": {},
   "outputs": [
    {
     "data": {
      "text/plain": [
       "{'key1': 'sudh', 'key2': [1, 2, 3, 4], 'key3': 'srinivaas'}"
      ]
     },
     "execution_count": 34,
     "metadata": {},
     "output_type": "execute_result"
    }
   ],
   "source": [
    "d3['key3'] = \"srinivaas\"\n",
    "d3"
   ]
  },
  {
   "cell_type": "code",
   "execution_count": 37,
   "id": "308f6203",
   "metadata": {},
   "outputs": [
    {
     "data": {
      "text/plain": [
       "{'key1': 'sudh',\n",
       " 'key2': [1, 2, 3, 4],\n",
       " 'key3': 'srinivaas',\n",
       " (1, 2, 3): 'iNeuron'}"
      ]
     },
     "execution_count": 37,
     "metadata": {},
     "output_type": "execute_result"
    }
   ],
   "source": [
    "d3[(1,2,3)] = \"iNeuron\"\n",
    "d3"
   ]
  },
  {
   "cell_type": "code",
   "execution_count": null,
   "id": "c9c6aca0",
   "metadata": {},
   "outputs": [],
   "source": []
  },
  {
   "cell_type": "code",
   "execution_count": 38,
   "id": "91b04b42",
   "metadata": {},
   "outputs": [],
   "source": [
    "# get() method - it will get the value of the key or the default value given\n",
    "# dict_var.get(key,default_val)"
   ]
  },
  {
   "cell_type": "code",
   "execution_count": 39,
   "id": "a6e89f3f",
   "metadata": {},
   "outputs": [
    {
     "data": {
      "text/plain": [
       "0"
      ]
     },
     "execution_count": 39,
     "metadata": {},
     "output_type": "execute_result"
    }
   ],
   "source": [
    "d3.get('new',0)"
   ]
  },
  {
   "cell_type": "code",
   "execution_count": null,
   "id": "c7587da5",
   "metadata": {},
   "outputs": [],
   "source": []
  },
  {
   "cell_type": "code",
   "execution_count": 40,
   "id": "d83cb929",
   "metadata": {},
   "outputs": [],
   "source": [
    "# update() method:"
   ]
  },
  {
   "cell_type": "code",
   "execution_count": 41,
   "id": "566c8174",
   "metadata": {},
   "outputs": [],
   "source": [
    "d4 = {'key1':'ineuron','key2':\"FSDS\"}\n",
    "d5 = {'key3': 456,'key4':[1,2,3,4]}"
   ]
  },
  {
   "cell_type": "code",
   "execution_count": 42,
   "id": "102e162f",
   "metadata": {},
   "outputs": [],
   "source": [
    "d4.update(d5)"
   ]
  },
  {
   "cell_type": "code",
   "execution_count": 49,
   "id": "f56e9c2b",
   "metadata": {
    "scrolled": true
   },
   "outputs": [
    {
     "name": "stdout",
     "output_type": "stream",
     "text": [
      "d4: {'key1': 'ineuron', 'key2': 'FSDS', 'key3': 456, 'key4': [1, 2, 3, 4]} \n",
      "\n",
      "d5:  {'key3': 456, 'key4': [1, 2, 3, 4]}\n"
     ]
    }
   ],
   "source": [
    "print(\"d4:\", d4,\"\\n\")\n",
    "print(\"d5: \",d5)"
   ]
  },
  {
   "cell_type": "code",
   "execution_count": 44,
   "id": "1bc131e6",
   "metadata": {},
   "outputs": [
    {
     "ename": "TypeError",
     "evalue": "unsupported operand type(s) for +: 'dict' and 'dict'",
     "output_type": "error",
     "traceback": [
      "\u001b[1;31m---------------------------------------------------------------------------\u001b[0m",
      "\u001b[1;31mTypeError\u001b[0m                                 Traceback (most recent call last)",
      "\u001b[1;32m<ipython-input-44-10cf25f463aa>\u001b[0m in \u001b[0;36m<module>\u001b[1;34m\u001b[0m\n\u001b[1;32m----> 1\u001b[1;33m \u001b[0md4\u001b[0m\u001b[1;33m+\u001b[0m\u001b[0md5\u001b[0m\u001b[1;33m\u001b[0m\u001b[1;33m\u001b[0m\u001b[0m\n\u001b[0m",
      "\u001b[1;31mTypeError\u001b[0m: unsupported operand type(s) for +: 'dict' and 'dict'"
     ]
    }
   ],
   "source": [
    "# '+' operation does not work for dict\n",
    "d4+d5"
   ]
  },
  {
   "cell_type": "code",
   "execution_count": null,
   "id": "8bf809a4",
   "metadata": {},
   "outputs": [],
   "source": []
  },
  {
   "cell_type": "code",
   "execution_count": null,
   "id": "ddf69301",
   "metadata": {},
   "outputs": [],
   "source": []
  },
  {
   "cell_type": "code",
   "execution_count": 52,
   "id": "e8abc246",
   "metadata": {},
   "outputs": [],
   "source": [
    "d6={}\n",
    "key = (\"name\", \"mobile_no\", \"email_id\")\n",
    "value = \"sudh\""
   ]
  },
  {
   "cell_type": "code",
   "execution_count": 55,
   "id": "fb0574a2",
   "metadata": {},
   "outputs": [
    {
     "data": {
      "text/plain": [
       "{'name': 'sudh', 'mobile_no': 'sudh', 'email_id': 'sudh'}"
      ]
     },
     "execution_count": 55,
     "metadata": {},
     "output_type": "execute_result"
    }
   ],
   "source": [
    "d6 = d6.fromkeys(key,value)\n",
    "d6"
   ]
  },
  {
   "cell_type": "code",
   "execution_count": null,
   "id": "71807b75",
   "metadata": {},
   "outputs": [],
   "source": []
  }
 ],
 "metadata": {
  "kernelspec": {
   "display_name": "Python 3",
   "language": "python",
   "name": "python3"
  },
  "language_info": {
   "codemirror_mode": {
    "name": "ipython",
    "version": 3
   },
   "file_extension": ".py",
   "mimetype": "text/x-python",
   "name": "python",
   "nbconvert_exporter": "python",
   "pygments_lexer": "ipython3",
   "version": "3.8.8"
  }
 },
 "nbformat": 4,
 "nbformat_minor": 5
}
