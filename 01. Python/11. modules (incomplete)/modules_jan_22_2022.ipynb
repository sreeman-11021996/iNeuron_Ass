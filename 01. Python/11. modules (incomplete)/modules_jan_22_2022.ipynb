{
 "cells": [
  {
   "cell_type": "code",
   "execution_count": 11,
   "id": "6d6bc67a",
   "metadata": {},
   "outputs": [
    {
     "name": "stdout",
     "output_type": "stream",
     "text": [
      " Volume in drive C is OS\n",
      " Volume Serial Number is 5C3F-BBFA\n",
      "\n",
      " Directory of C:\\Users\\SREEMAN\\iNeuron\\Python\\11. modules\n",
      "\n",
      "22-01-2022  10:28    <DIR>          .\n",
      "22-01-2022  10:07    <DIR>          ..\n",
      "22-01-2022  10:08    <DIR>          .ipynb_checkpoints\n",
      "22-01-2022  10:26                 0 module_1.py\n",
      "22-01-2022  10:21             1,192 modules_jan_22_2022.ipynb\n",
      "               2 File(s)          1,192 bytes\n",
      "               3 Dir(s)  182,203,707,392 bytes free\n"
     ]
    }
   ],
   "source": [
    "ls"
   ]
  },
  {
   "cell_type": "code",
   "execution_count": 1,
   "id": "0c2e9fd3",
   "metadata": {},
   "outputs": [],
   "source": [
    "import module_1"
   ]
  },
  {
   "cell_type": "code",
   "execution_count": 2,
   "id": "6b77f2bc",
   "metadata": {},
   "outputs": [
    {
     "data": {
      "text/plain": [
       "4"
      ]
     },
     "execution_count": 2,
     "metadata": {},
     "output_type": "execute_result"
    }
   ],
   "source": [
    "module_1.add_test(4,5)"
   ]
  },
  {
   "cell_type": "code",
   "execution_count": 3,
   "id": "11bca958",
   "metadata": {},
   "outputs": [
    {
     "data": {
      "text/plain": [
       "80"
      ]
     },
     "execution_count": 3,
     "metadata": {},
     "output_type": "execute_result"
    }
   ],
   "source": [
    "module_1.multiply_test(4,5,4)"
   ]
  },
  {
   "cell_type": "code",
   "execution_count": 4,
   "id": "75f0cc79",
   "metadata": {},
   "outputs": [
    {
     "name": "stdout",
     "output_type": "stream",
     "text": [
      "this is the module:  module_1\n"
     ]
    }
   ],
   "source": [
    "module_1.display()"
   ]
  },
  {
   "cell_type": "code",
   "execution_count": 5,
   "id": "29577ec3",
   "metadata": {},
   "outputs": [
    {
     "data": {
      "text/plain": [
       "1.25"
      ]
     },
     "execution_count": 5,
     "metadata": {},
     "output_type": "execute_result"
    }
   ],
   "source": [
    "module_1.division_test(4,5)"
   ]
  },
  {
   "cell_type": "code",
   "execution_count": 6,
   "id": "ba1cc245",
   "metadata": {},
   "outputs": [],
   "source": [
    "from module_1 import add_test"
   ]
  },
  {
   "cell_type": "code",
   "execution_count": 7,
   "id": "0b033660",
   "metadata": {},
   "outputs": [
    {
     "data": {
      "text/plain": [
       "7"
      ]
     },
     "execution_count": 7,
     "metadata": {},
     "output_type": "execute_result"
    }
   ],
   "source": [
    "add_test(7,8,9)"
   ]
  },
  {
   "cell_type": "code",
   "execution_count": 2,
   "id": "b0468fff",
   "metadata": {},
   "outputs": [],
   "source": [
    "# do this"
   ]
  },
  {
   "cell_type": "code",
   "execution_count": 1,
   "id": "8a399272",
   "metadata": {},
   "outputs": [],
   "source": [
    "#create a kind of tool by which you will be able to browse each and everything\n",
    "\n",
    "#-> list down all the files\n",
    "#-> find wether in the current directory, we have pdf or not\n",
    "#-> if pdf = 0, do nothing\n",
    "#-> if pdf > 0, merge all pdf's\n",
    "\n",
    "#by using tkinter, kivy library\n",
    "#kivy is the best\n",
    "\n",
    "#RESTRICTION:\n",
    "#use logging\n",
    "#use modular coding - packages & modules\n",
    "#use exception handling"
   ]
  },
  {
   "cell_type": "code",
   "execution_count": null,
   "id": "ac60da3f",
   "metadata": {},
   "outputs": [],
   "source": []
  },
  {
   "cell_type": "code",
   "execution_count": null,
   "id": "6c848d52",
   "metadata": {},
   "outputs": [],
   "source": []
  },
  {
   "cell_type": "code",
   "execution_count": 1,
   "id": "8b7a0b44",
   "metadata": {},
   "outputs": [
    {
     "data": {
      "text/plain": [
       "<_io.TextIOWrapper name='my_module.py' mode='w' encoding='cp1252'>"
      ]
     },
     "execution_count": 1,
     "metadata": {},
     "output_type": "execute_result"
    }
   ],
   "source": [
    "open(\"my_module.py\",\"w\")"
   ]
  },
  {
   "cell_type": "code",
   "execution_count": 2,
   "id": "fe836038",
   "metadata": {},
   "outputs": [],
   "source": [
    "import my_module"
   ]
  },
  {
   "cell_type": "code",
   "execution_count": 3,
   "id": "bcaada7b",
   "metadata": {},
   "outputs": [
    {
     "data": {
      "text/plain": [
       "['data science', 'blockchain', 'drone', 'robotics', 'cloud']"
      ]
     },
     "execution_count": 3,
     "metadata": {},
     "output_type": "execute_result"
    }
   ],
   "source": [
    "my_module.get_couse()"
   ]
  },
  {
   "cell_type": "code",
   "execution_count": 4,
   "id": "d3552e7b",
   "metadata": {},
   "outputs": [
    {
     "data": {
      "text/plain": [
       "'greeting from inueron'"
      ]
     },
     "execution_count": 4,
     "metadata": {},
     "output_type": "execute_result"
    }
   ],
   "source": [
    "my_module.greetings()"
   ]
  },
  {
   "cell_type": "code",
   "execution_count": null,
   "id": "43a8518c",
   "metadata": {},
   "outputs": [],
   "source": []
  }
 ],
 "metadata": {
  "kernelspec": {
   "display_name": "Python 3",
   "language": "python",
   "name": "python3"
  },
  "language_info": {
   "codemirror_mode": {
    "name": "ipython",
    "version": 3
   },
   "file_extension": ".py",
   "mimetype": "text/x-python",
   "name": "python",
   "nbconvert_exporter": "python",
   "pygments_lexer": "ipython3",
   "version": "3.8.8"
  }
 },
 "nbformat": 4,
 "nbformat_minor": 5
}
