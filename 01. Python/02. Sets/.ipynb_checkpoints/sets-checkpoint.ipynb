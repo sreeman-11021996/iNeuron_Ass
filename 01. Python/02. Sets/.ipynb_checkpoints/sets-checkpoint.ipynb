{
 "cells": [
  {
   "cell_type": "code",
   "execution_count": null,
   "id": "4f2e84c4",
   "metadata": {},
   "outputs": [],
   "source": []
  },
  {
   "cell_type": "code",
   "execution_count": 2,
   "id": "2ae3bc60",
   "metadata": {},
   "outputs": [],
   "source": [
    "#lets suppose\n",
    "l = [1,2,3,4,5,6,76,5,5,5,5,5,5,5,2,3,4,5,6,1,2,3]"
   ]
  },
  {
   "cell_type": "code",
   "execution_count": 4,
   "id": "dd22a1e2",
   "metadata": {},
   "outputs": [
    {
     "data": {
      "text/plain": [
       "{1, 2, 3, 4, 5, 6, 76}"
      ]
     },
     "execution_count": 4,
     "metadata": {},
     "output_type": "execute_result"
    }
   ],
   "source": [
    "# can you remove all duplicate elements in list l\n",
    "set(l)"
   ]
  },
  {
   "cell_type": "code",
   "execution_count": 5,
   "id": "c8745be4",
   "metadata": {},
   "outputs": [],
   "source": [
    "# Set - Build an unordered collection of unique elements."
   ]
  },
  {
   "cell_type": "code",
   "execution_count": 6,
   "id": "cea4298f",
   "metadata": {},
   "outputs": [],
   "source": [
    "s = {}"
   ]
  },
  {
   "cell_type": "code",
   "execution_count": 7,
   "id": "d343cbc1",
   "metadata": {},
   "outputs": [
    {
     "data": {
      "text/plain": [
       "dict"
      ]
     },
     "execution_count": 7,
     "metadata": {},
     "output_type": "execute_result"
    }
   ],
   "source": [
    "type(s)"
   ]
  },
  {
   "cell_type": "code",
   "execution_count": 8,
   "id": "151a99a7",
   "metadata": {},
   "outputs": [],
   "source": [
    "s1 = {2,3,4}"
   ]
  },
  {
   "cell_type": "code",
   "execution_count": 9,
   "id": "36a31bc6",
   "metadata": {},
   "outputs": [
    {
     "data": {
      "text/plain": [
       "set"
      ]
     },
     "execution_count": 9,
     "metadata": {},
     "output_type": "execute_result"
    }
   ],
   "source": [
    "type(s1)"
   ]
  },
  {
   "cell_type": "code",
   "execution_count": 10,
   "id": "90ebaba0",
   "metadata": {},
   "outputs": [],
   "source": [
    "s2 = {1,1,1,1,1,1,2,3,4,54,5,4,4,4,3,3,2,54}"
   ]
  },
  {
   "cell_type": "code",
   "execution_count": 12,
   "id": "b89d0017",
   "metadata": {},
   "outputs": [
    {
     "data": {
      "text/plain": [
       "{1, 2, 3, 4, 5, 54}"
      ]
     },
     "execution_count": 12,
     "metadata": {},
     "output_type": "execute_result"
    }
   ],
   "source": [
    "# set removes all duplicate elements\n",
    "s2"
   ]
  },
  {
   "cell_type": "code",
   "execution_count": 16,
   "id": "53e68269",
   "metadata": {},
   "outputs": [
    {
     "ename": "TypeError",
     "evalue": "'set' object is not subscriptable",
     "output_type": "error",
     "traceback": [
      "\u001b[1;31m---------------------------------------------------------------------------\u001b[0m",
      "\u001b[1;31mTypeError\u001b[0m                                 Traceback (most recent call last)",
      "\u001b[1;32m<ipython-input-16-2521bb1b9dde>\u001b[0m in \u001b[0;36m<module>\u001b[1;34m\u001b[0m\n\u001b[0;32m      1\u001b[0m \u001b[1;31m# set does not store elements in order\u001b[0m\u001b[1;33m\u001b[0m\u001b[1;33m\u001b[0m\u001b[1;33m\u001b[0m\u001b[0m\n\u001b[1;32m----> 2\u001b[1;33m \u001b[0ms2\u001b[0m\u001b[1;33m[\u001b[0m\u001b[1;36m0\u001b[0m\u001b[1;33m]\u001b[0m\u001b[1;33m\u001b[0m\u001b[1;33m\u001b[0m\u001b[0m\n\u001b[0m",
      "\u001b[1;31mTypeError\u001b[0m: 'set' object is not subscriptable"
     ]
    }
   ],
   "source": [
    "# set does not store elements in order\n",
    "s2[0]"
   ]
  },
  {
   "cell_type": "code",
   "execution_count": 17,
   "id": "6f562cbb",
   "metadata": {},
   "outputs": [],
   "source": [
    "# we cannot access the elements in set directly"
   ]
  },
  {
   "cell_type": "code",
   "execution_count": 19,
   "id": "50a518dd",
   "metadata": {},
   "outputs": [
    {
     "data": {
      "text/plain": [
       "1"
      ]
     },
     "execution_count": 19,
     "metadata": {},
     "output_type": "execute_result"
    }
   ],
   "source": [
    "# to access elements in set this is the way\n",
    "list(s2)[0]"
   ]
  },
  {
   "cell_type": "code",
   "execution_count": null,
   "id": "693f7e7b",
   "metadata": {},
   "outputs": [],
   "source": [
    "# add operation:"
   ]
  },
  {
   "cell_type": "code",
   "execution_count": 21,
   "id": "97d71b86",
   "metadata": {},
   "outputs": [],
   "source": [
    "s2.add(\"sudh\")"
   ]
  },
  {
   "cell_type": "code",
   "execution_count": 22,
   "id": "1487968b",
   "metadata": {},
   "outputs": [
    {
     "data": {
      "text/plain": [
       "{1, 2, 3, 4, 5, 54, 'sudh'}"
      ]
     },
     "execution_count": 22,
     "metadata": {},
     "output_type": "execute_result"
    }
   ],
   "source": [
    "s2"
   ]
  },
  {
   "cell_type": "code",
   "execution_count": 24,
   "id": "23410cab",
   "metadata": {},
   "outputs": [
    {
     "ename": "TypeError",
     "evalue": "unhashable type: 'list'",
     "output_type": "error",
     "traceback": [
      "\u001b[1;31m---------------------------------------------------------------------------\u001b[0m",
      "\u001b[1;31mTypeError\u001b[0m                                 Traceback (most recent call last)",
      "\u001b[1;32m<ipython-input-24-c5fecd3a52e8>\u001b[0m in \u001b[0;36m<module>\u001b[1;34m\u001b[0m\n\u001b[0;32m      1\u001b[0m \u001b[1;31m# we cannot add a list inside a set\u001b[0m\u001b[1;33m\u001b[0m\u001b[1;33m\u001b[0m\u001b[1;33m\u001b[0m\u001b[0m\n\u001b[1;32m----> 2\u001b[1;33m \u001b[0ms2\u001b[0m\u001b[1;33m.\u001b[0m\u001b[0madd\u001b[0m\u001b[1;33m(\u001b[0m\u001b[1;33m[\u001b[0m\u001b[1;36m3\u001b[0m\u001b[1;33m,\u001b[0m\u001b[1;36m4\u001b[0m\u001b[1;33m,\u001b[0m\u001b[1;36m5\u001b[0m\u001b[1;33m,\u001b[0m\u001b[1;36m6\u001b[0m\u001b[1;33m]\u001b[0m\u001b[1;33m)\u001b[0m\u001b[1;33m\u001b[0m\u001b[1;33m\u001b[0m\u001b[0m\n\u001b[0m",
      "\u001b[1;31mTypeError\u001b[0m: unhashable type: 'list'"
     ]
    }
   ],
   "source": [
    "# we cannot add a list inside a set\n",
    "s2.add([3,4,5,6])"
   ]
  },
  {
   "cell_type": "code",
   "execution_count": 25,
   "id": "2cc2636a",
   "metadata": {},
   "outputs": [],
   "source": [
    "s2.add((3,4,5,6))"
   ]
  },
  {
   "cell_type": "code",
   "execution_count": 29,
   "id": "f65ed564",
   "metadata": {},
   "outputs": [],
   "source": [
    "# set will remove duplicates of tuples"
   ]
  },
  {
   "cell_type": "code",
   "execution_count": 27,
   "id": "a0395a87",
   "metadata": {},
   "outputs": [],
   "source": [
    "s2.add((3,4,5,6))"
   ]
  },
  {
   "cell_type": "code",
   "execution_count": 28,
   "id": "510ec766",
   "metadata": {
    "scrolled": true
   },
   "outputs": [
    {
     "data": {
      "text/plain": [
       "{(3, 4, 5, 6), 1, 2, 3, 4, 5, 54, 'sudh'}"
      ]
     },
     "execution_count": 28,
     "metadata": {},
     "output_type": "execute_result"
    }
   ],
   "source": [
    "s2"
   ]
  },
  {
   "cell_type": "code",
   "execution_count": null,
   "id": "9cec66e0",
   "metadata": {},
   "outputs": [],
   "source": []
  },
  {
   "cell_type": "code",
   "execution_count": 32,
   "id": "8c0eac80",
   "metadata": {},
   "outputs": [],
   "source": [
    "s3 = {(3,4,5,6), (3,4,5,6), 3,4,5,3,4,5}"
   ]
  },
  {
   "cell_type": "code",
   "execution_count": 33,
   "id": "fa40570d",
   "metadata": {},
   "outputs": [
    {
     "data": {
      "text/plain": [
       "{(3, 4, 5, 6), 3, 4, 5}"
      ]
     },
     "execution_count": 33,
     "metadata": {},
     "output_type": "execute_result"
    }
   ],
   "source": [
    "s3"
   ]
  },
  {
   "cell_type": "code",
   "execution_count": null,
   "id": "aa4aeb83",
   "metadata": {},
   "outputs": [],
   "source": [
    "# remove operation:"
   ]
  },
  {
   "cell_type": "code",
   "execution_count": 35,
   "id": "47f75224",
   "metadata": {},
   "outputs": [],
   "source": [
    "s3.remove(4)"
   ]
  },
  {
   "cell_type": "code",
   "execution_count": 36,
   "id": "5a7455c8",
   "metadata": {},
   "outputs": [
    {
     "data": {
      "text/plain": [
       "{(3, 4, 5, 6), 3, 5}"
      ]
     },
     "execution_count": 36,
     "metadata": {},
     "output_type": "execute_result"
    }
   ],
   "source": [
    "s3"
   ]
  },
  {
   "cell_type": "code",
   "execution_count": 37,
   "id": "be544061",
   "metadata": {},
   "outputs": [],
   "source": [
    "# discard operation"
   ]
  },
  {
   "cell_type": "code",
   "execution_count": 39,
   "id": "f3ffcf51",
   "metadata": {},
   "outputs": [],
   "source": [
    "s3.discard(5)"
   ]
  },
  {
   "cell_type": "code",
   "execution_count": 40,
   "id": "d9caaee5",
   "metadata": {},
   "outputs": [
    {
     "data": {
      "text/plain": [
       "{(3, 4, 5, 6), 3}"
      ]
     },
     "execution_count": 40,
     "metadata": {},
     "output_type": "execute_result"
    }
   ],
   "source": [
    "s3"
   ]
  },
  {
   "cell_type": "code",
   "execution_count": 41,
   "id": "2100fa75",
   "metadata": {},
   "outputs": [],
   "source": [
    "# discard does nothing if element is not inside set\n",
    "# but remove will raise KeyError if element is not inside set"
   ]
  },
  {
   "cell_type": "code",
   "execution_count": null,
   "id": "369719f5",
   "metadata": {},
   "outputs": [],
   "source": []
  }
 ],
 "metadata": {
  "kernelspec": {
   "display_name": "Python 3",
   "language": "python",
   "name": "python3"
  },
  "language_info": {
   "codemirror_mode": {
    "name": "ipython",
    "version": 3
   },
   "file_extension": ".py",
   "mimetype": "text/x-python",
   "name": "python",
   "nbconvert_exporter": "python",
   "pygments_lexer": "ipython3",
   "version": "3.8.8"
  }
 },
 "nbformat": 4,
 "nbformat_minor": 5
}
