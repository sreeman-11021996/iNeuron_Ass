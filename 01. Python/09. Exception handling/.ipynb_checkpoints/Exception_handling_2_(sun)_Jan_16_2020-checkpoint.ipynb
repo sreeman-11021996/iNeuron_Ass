{
 "cells": [
  {
   "cell_type": "code",
   "execution_count": 4,
   "id": "7c790fad",
   "metadata": {},
   "outputs": [
    {
     "name": "stdout",
     "output_type": "stream",
     "text": [
      "error [Errno 2] No such file or directory: 'test1'\n",
      "1\n",
      "2\n",
      "3\n",
      "4\n",
      "5\n"
     ]
    }
   ],
   "source": [
    "try:\n",
    "    f = open(\"test1\", \"r\")\n",
    "    f.write(\"Code with exception\")\n",
    "    print(\"Code after suspicious statement\")\n",
    "except Exception as e:\n",
    "    print(\"error\",e)\n",
    "try:\n",
    "    l = [1,2,3,4,5]\n",
    "    for i in l:\n",
    "        print(i)\n",
    "except:\n",
    "    print(\"this is my handler for loop\")"
   ]
  },
  {
   "cell_type": "code",
   "execution_count": null,
   "id": "22c3112b",
   "metadata": {},
   "outputs": [],
   "source": []
  },
  {
   "cell_type": "code",
   "execution_count": 10,
   "id": "0d88aeac",
   "metadata": {},
   "outputs": [
    {
     "name": "stdout",
     "output_type": "stream",
     "text": [
      "dsg\n",
      "Value-Error:  invalid literal for int() with base 10: 'dsg'\n"
     ]
    }
   ],
   "source": [
    "try:\n",
    "    d = {\"key1\": \"srinivaas\", \"key2\": [1,2,3,4,5],\n",
    "        \"key3\": (4,5,6,7,8)}\n",
    "    d[\"key4\"] = int(input())\n",
    "except ValueError as te:\n",
    "    print(\"Value-Error: \",te)\n",
    "except Exception as e:\n",
    "    print(e)"
   ]
  },
  {
   "cell_type": "code",
   "execution_count": null,
   "id": "4bd13ceb",
   "metadata": {},
   "outputs": [],
   "source": []
  },
  {
   "cell_type": "code",
   "execution_count": 12,
   "id": "d3d6f7ba",
   "metadata": {},
   "outputs": [
    {
     "name": "stdout",
     "output_type": "stream",
     "text": [
      "45\n"
     ]
    },
    {
     "ename": "FileNotFoundError",
     "evalue": "[Errno 2] No such file or directory: 'test2'",
     "output_type": "error",
     "traceback": [
      "\u001b[1;31m---------------------------------------------------------------------------\u001b[0m",
      "\u001b[1;31mFileNotFoundError\u001b[0m                         Traceback (most recent call last)",
      "\u001b[1;32m<ipython-input-12-a4af71c88cf7>\u001b[0m in \u001b[0;36m<module>\u001b[1;34m\u001b[0m\n\u001b[0;32m      3\u001b[0m         \"key3\": (4,5,6,7,8)}\n\u001b[0;32m      4\u001b[0m     \u001b[0md\u001b[0m\u001b[1;33m[\u001b[0m\u001b[1;34m\"key4\"\u001b[0m\u001b[1;33m]\u001b[0m \u001b[1;33m=\u001b[0m \u001b[0mint\u001b[0m\u001b[1;33m(\u001b[0m\u001b[0minput\u001b[0m\u001b[1;33m(\u001b[0m\u001b[1;33m)\u001b[0m\u001b[1;33m)\u001b[0m\u001b[1;33m\u001b[0m\u001b[1;33m\u001b[0m\u001b[0m\n\u001b[1;32m----> 5\u001b[1;33m     \u001b[0mf\u001b[0m \u001b[1;33m=\u001b[0m \u001b[0mopen\u001b[0m\u001b[1;33m(\u001b[0m\u001b[1;34m\"test2\"\u001b[0m\u001b[1;33m,\u001b[0m \u001b[1;34m\"r\"\u001b[0m\u001b[1;33m)\u001b[0m\u001b[1;33m\u001b[0m\u001b[1;33m\u001b[0m\u001b[0m\n\u001b[0m\u001b[0;32m      6\u001b[0m \u001b[1;32mexcept\u001b[0m \u001b[0mValueError\u001b[0m \u001b[1;32mas\u001b[0m \u001b[0mte\u001b[0m\u001b[1;33m:\u001b[0m\u001b[1;33m\u001b[0m\u001b[1;33m\u001b[0m\u001b[0m\n\u001b[0;32m      7\u001b[0m     \u001b[0mprint\u001b[0m\u001b[1;33m(\u001b[0m\u001b[1;34m\"Value-Error: \"\u001b[0m\u001b[1;33m,\u001b[0m\u001b[0mte\u001b[0m\u001b[1;33m)\u001b[0m\u001b[1;33m\u001b[0m\u001b[1;33m\u001b[0m\u001b[0m\n",
      "\u001b[1;31mFileNotFoundError\u001b[0m: [Errno 2] No such file or directory: 'test2'"
     ]
    }
   ],
   "source": [
    "try:\n",
    "    d = {\"key1\": \"srinivaas\", \"key2\": [1,2,3,4,5],\n",
    "        \"key3\": (4,5,6,7,8)}\n",
    "    d[\"key4\"] = int(input())\n",
    "    f = open(\"test2\", \"r\")\n",
    "except ValueError as te:\n",
    "    print(\"Value-Error: \",te)"
   ]
  },
  {
   "cell_type": "code",
   "execution_count": 18,
   "id": "ed5d45da",
   "metadata": {},
   "outputs": [
    {
     "name": "stdout",
     "output_type": "stream",
     "text": [
      "456\n",
      "[Errno 2] No such file or directory: 'test2'\n"
     ]
    }
   ],
   "source": [
    "try:\n",
    "    d = {\"key1\": \"srinivaas\", \"key2\": [1,2,3,4,5],\n",
    "        \"key3\": (4,5,6,7,8)}\n",
    "    d[\"key4\"] = int(input())\n",
    "    f = open(\"test2\", \"r\")\n",
    "except ValueError as te:\n",
    "    print(\"Value-Error: \",te)\n",
    "except FileNotFoundError as fnfe:\n",
    "    print(fnfe)\n",
    "except Exception as e:\n",
    "    print(e)"
   ]
  },
  {
   "cell_type": "code",
   "execution_count": 23,
   "id": "013e882c",
   "metadata": {},
   "outputs": [
    {
     "name": "stdout",
     "output_type": "stream",
     "text": [
      "succesfully executed all statements in try block\n"
     ]
    }
   ],
   "source": [
    "try:\n",
    "    f = open(\"test1.txt\",\"w\")\n",
    "    f.write(\"this is my code in try block\")\n",
    "except Exception as e:\n",
    "    print(\"handling error!\",e)\n",
    "else:\n",
    "    print(\"succesfully executed all statements in try block\")\n",
    "    f.close()"
   ]
  },
  {
   "cell_type": "code",
   "execution_count": 25,
   "id": "b332c99f",
   "metadata": {},
   "outputs": [
    {
     "name": "stdout",
     "output_type": "stream",
     "text": [
      "error hndled!  [Errno 2] No such file or directory: 'test43'\n",
      "execute all the time!\n"
     ]
    }
   ],
   "source": [
    "try:\n",
    "    f = open(\"test43\", \"r\")\n",
    "except Exception as e:\n",
    "    print(\"error hndled! \",e)\n",
    "else:\n",
    "    print(\"succesfully executed all statements in try block\")\n",
    "finally:\n",
    "    print(\"execute all the time!\")"
   ]
  },
  {
   "cell_type": "code",
   "execution_count": 29,
   "id": "623350d3",
   "metadata": {},
   "outputs": [],
   "source": [
    "def get_int ():\n",
    "    num = input(\"Enter an integer: \")\n",
    "    try:\n",
    "        return int(num)\n",
    "    except Exception as e:\n",
    "        print(\"Please enter an integer\",e)\n",
    "        return 0"
   ]
  },
  {
   "cell_type": "code",
   "execution_count": 30,
   "id": "050a7a0c",
   "metadata": {},
   "outputs": [
    {
     "name": "stdout",
     "output_type": "stream",
     "text": [
      "Enter an integer: khjk\n",
      "Please enter an integer invalid literal for int() with base 10: 'khjk'\n"
     ]
    },
    {
     "data": {
      "text/plain": [
       "0"
      ]
     },
     "execution_count": 30,
     "metadata": {},
     "output_type": "execute_result"
    }
   ],
   "source": [
    "get_int()"
   ]
  },
  {
   "cell_type": "code",
   "execution_count": 31,
   "id": "8d081236",
   "metadata": {},
   "outputs": [],
   "source": [
    "# function which will keep on asking you to enter an int"
   ]
  },
  {
   "cell_type": "code",
   "execution_count": 38,
   "id": "e310c0aa",
   "metadata": {},
   "outputs": [],
   "source": [
    "def get_int ():\n",
    "    \"\"\"This function gets a integer\"\"\"\n",
    "    num = input(\"Enter an integer: \")\n",
    "    try:\n",
    "        return int(num)\n",
    "    except Exception as e:\n",
    "        print(\"Please enter an integer\",e)\n",
    "        get_int()"
   ]
  },
  {
   "cell_type": "code",
   "execution_count": 37,
   "id": "45546095",
   "metadata": {},
   "outputs": [
    {
     "name": "stdout",
     "output_type": "stream",
     "text": [
      "Enter an integer: 4+7j\n",
      "Please enter an integer invalid literal for int() with base 10: '4+7j'\n",
      "Enter an integer: 78.54\n",
      "Please enter an integer invalid literal for int() with base 10: '78.54'\n",
      "Enter an integer: 45\n"
     ]
    }
   ],
   "source": [
    "get_int()"
   ]
  },
  {
   "cell_type": "code",
   "execution_count": null,
   "id": "ca162795",
   "metadata": {},
   "outputs": [],
   "source": []
  },
  {
   "cell_type": "markdown",
   "id": "ac05f01d",
   "metadata": {},
   "source": [
    "### raise - Reserved Keyword"
   ]
  },
  {
   "cell_type": "code",
   "execution_count": 55,
   "id": "cfdc47e5",
   "metadata": {},
   "outputs": [],
   "source": [
    "# its a keyword that lets you raise exceptions based on your own \n",
    "# conditions"
   ]
  },
  {
   "cell_type": "code",
   "execution_count": 45,
   "id": "acd9ac08",
   "metadata": {},
   "outputs": [],
   "source": [
    "def test (num):\n",
    "    if num < 0:\n",
    "        raise Exception(\"you have entered a negetive value\")\n",
    "    return num"
   ]
  },
  {
   "cell_type": "code",
   "execution_count": 46,
   "id": "17090101",
   "metadata": {},
   "outputs": [
    {
     "ename": "Exception",
     "evalue": "you have entered a negetive value",
     "output_type": "error",
     "traceback": [
      "\u001b[1;31m---------------------------------------------------------------------------\u001b[0m",
      "\u001b[1;31mException\u001b[0m                                 Traceback (most recent call last)",
      "\u001b[1;32m<ipython-input-46-547866542c19>\u001b[0m in \u001b[0;36m<module>\u001b[1;34m\u001b[0m\n\u001b[1;32m----> 1\u001b[1;33m \u001b[0mtest\u001b[0m \u001b[1;33m(\u001b[0m\u001b[1;33m-\u001b[0m\u001b[1;36m10\u001b[0m\u001b[1;33m)\u001b[0m\u001b[1;33m\u001b[0m\u001b[1;33m\u001b[0m\u001b[0m\n\u001b[0m",
      "\u001b[1;32m<ipython-input-45-0c0e912f7524>\u001b[0m in \u001b[0;36mtest\u001b[1;34m(num)\u001b[0m\n\u001b[0;32m      1\u001b[0m \u001b[1;32mdef\u001b[0m \u001b[0mtest\u001b[0m \u001b[1;33m(\u001b[0m\u001b[0mnum\u001b[0m\u001b[1;33m)\u001b[0m\u001b[1;33m:\u001b[0m\u001b[1;33m\u001b[0m\u001b[1;33m\u001b[0m\u001b[0m\n\u001b[0;32m      2\u001b[0m     \u001b[1;32mif\u001b[0m \u001b[0mnum\u001b[0m \u001b[1;33m<\u001b[0m \u001b[1;36m0\u001b[0m\u001b[1;33m:\u001b[0m\u001b[1;33m\u001b[0m\u001b[1;33m\u001b[0m\u001b[0m\n\u001b[1;32m----> 3\u001b[1;33m         \u001b[1;32mraise\u001b[0m \u001b[0mException\u001b[0m\u001b[1;33m(\u001b[0m\u001b[1;34m\"you have entered a negetive value\"\u001b[0m\u001b[1;33m)\u001b[0m\u001b[1;33m\u001b[0m\u001b[1;33m\u001b[0m\u001b[0m\n\u001b[0m\u001b[0;32m      4\u001b[0m     \u001b[1;32mreturn\u001b[0m \u001b[0mnum\u001b[0m\u001b[1;33m\u001b[0m\u001b[1;33m\u001b[0m\u001b[0m\n",
      "\u001b[1;31mException\u001b[0m: you have entered a negetive value"
     ]
    }
   ],
   "source": [
    "test (-10)"
   ]
  },
  {
   "cell_type": "code",
   "execution_count": 50,
   "id": "c6c30257",
   "metadata": {},
   "outputs": [],
   "source": [
    "#We can override existing subclass exceptions:"
   ]
  },
  {
   "cell_type": "code",
   "execution_count": 53,
   "id": "28d98a3e",
   "metadata": {},
   "outputs": [],
   "source": [
    "def test (num):\n",
    "    if num < 0:\n",
    "        raise ZeroDivisionError(\"you have entered a negetive value\",num)\n",
    "    return num"
   ]
  },
  {
   "cell_type": "code",
   "execution_count": 54,
   "id": "692e456c",
   "metadata": {},
   "outputs": [
    {
     "ename": "ZeroDivisionError",
     "evalue": "('you have entered a negetive value', -4)",
     "output_type": "error",
     "traceback": [
      "\u001b[1;31m---------------------------------------------------------------------------\u001b[0m",
      "\u001b[1;31mZeroDivisionError\u001b[0m                         Traceback (most recent call last)",
      "\u001b[1;32m<ipython-input-54-d2bb95962d49>\u001b[0m in \u001b[0;36m<module>\u001b[1;34m\u001b[0m\n\u001b[1;32m----> 1\u001b[1;33m \u001b[0mtest\u001b[0m\u001b[1;33m(\u001b[0m\u001b[1;33m-\u001b[0m\u001b[1;36m4\u001b[0m\u001b[1;33m)\u001b[0m\u001b[1;33m\u001b[0m\u001b[1;33m\u001b[0m\u001b[0m\n\u001b[0m",
      "\u001b[1;32m<ipython-input-53-922d1e95caed>\u001b[0m in \u001b[0;36mtest\u001b[1;34m(num)\u001b[0m\n\u001b[0;32m      1\u001b[0m \u001b[1;32mdef\u001b[0m \u001b[0mtest\u001b[0m \u001b[1;33m(\u001b[0m\u001b[0mnum\u001b[0m\u001b[1;33m)\u001b[0m\u001b[1;33m:\u001b[0m\u001b[1;33m\u001b[0m\u001b[1;33m\u001b[0m\u001b[0m\n\u001b[0;32m      2\u001b[0m     \u001b[1;32mif\u001b[0m \u001b[0mnum\u001b[0m \u001b[1;33m<\u001b[0m \u001b[1;36m0\u001b[0m\u001b[1;33m:\u001b[0m\u001b[1;33m\u001b[0m\u001b[1;33m\u001b[0m\u001b[0m\n\u001b[1;32m----> 3\u001b[1;33m         \u001b[1;32mraise\u001b[0m \u001b[0mZeroDivisionError\u001b[0m\u001b[1;33m(\u001b[0m\u001b[1;34m\"you have entered a negetive value\"\u001b[0m\u001b[1;33m,\u001b[0m\u001b[0mnum\u001b[0m\u001b[1;33m)\u001b[0m\u001b[1;33m\u001b[0m\u001b[1;33m\u001b[0m\u001b[0m\n\u001b[0m\u001b[0;32m      4\u001b[0m     \u001b[1;32mreturn\u001b[0m \u001b[0mnum\u001b[0m\u001b[1;33m\u001b[0m\u001b[1;33m\u001b[0m\u001b[0m\n",
      "\u001b[1;31mZeroDivisionError\u001b[0m: ('you have entered a negetive value', -4)"
     ]
    }
   ],
   "source": [
    "test(-4)"
   ]
  },
  {
   "cell_type": "code",
   "execution_count": 57,
   "id": "7280ec96",
   "metadata": {},
   "outputs": [],
   "source": [
    "# handling custom exceptions"
   ]
  },
  {
   "cell_type": "code",
   "execution_count": 67,
   "id": "13c2edb6",
   "metadata": {},
   "outputs": [
    {
     "name": "stdout",
     "output_type": "stream",
     "text": [
      "ujas\n",
      "String cannot be processed\n",
      "'<' not supported between instances of 'str' and 'int'\n"
     ]
    }
   ],
   "source": [
    "try:\n",
    "    num = input()\n",
    "    try:\n",
    "        num = int(num)\n",
    "    except:\n",
    "        print(\"String cannot be processed\")\n",
    "    test(num)\n",
    "except Exception as e:\n",
    "    print(e)"
   ]
  },
  {
   "cell_type": "markdown",
   "id": "6c89e645",
   "metadata": {},
   "source": [
    "### Custom Exception class"
   ]
  },
  {
   "cell_type": "code",
   "execution_count": null,
   "id": "4c432fbc",
   "metadata": {},
   "outputs": [],
   "source": []
  }
 ],
 "metadata": {
  "kernelspec": {
   "display_name": "Python 3",
   "language": "python",
   "name": "python3"
  },
  "language_info": {
   "codemirror_mode": {
    "name": "ipython",
    "version": 3
   },
   "file_extension": ".py",
   "mimetype": "text/x-python",
   "name": "python",
   "nbconvert_exporter": "python",
   "pygments_lexer": "ipython3",
   "version": "3.8.8"
  }
 },
 "nbformat": 4,
 "nbformat_minor": 5
}
