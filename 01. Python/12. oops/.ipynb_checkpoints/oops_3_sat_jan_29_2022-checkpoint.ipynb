{
 "cells": [
  {
   "cell_type": "code",
   "execution_count": 1,
   "id": "0a102117",
   "metadata": {},
   "outputs": [],
   "source": [
    "# Jan -> 29th 2022"
   ]
  },
  {
   "cell_type": "code",
   "execution_count": 3,
   "id": "79082f5a",
   "metadata": {},
   "outputs": [],
   "source": [
    "# --To Do--\n",
    "# Inheritence\n",
    "# Polymorphism\n",
    "# Encapsulation"
   ]
  },
  {
   "cell_type": "markdown",
   "id": "7a4dba7b",
   "metadata": {},
   "source": [
    "### Inheritence"
   ]
  },
  {
   "cell_type": "code",
   "execution_count": 11,
   "id": "afb144cd",
   "metadata": {},
   "outputs": [],
   "source": [
    "class xyz:\n",
    "    def __init__ (self, a,b,c):\n",
    "        self.a = a\n",
    "        self.b = b\n",
    "        self.c = c\n",
    "    \n",
    "    def test(self):\n",
    "        print(\"this is my test method of xyz class\")\n",
    "        \n",
    "    def test1 (self):\n",
    "        print(\"this is my test1 method of xyz class\")\n",
    "\n",
    "    def test2 (self):\n",
    "        print(\"this is my test2 method of xyz class\")\n",
    "        "
   ]
  },
  {
   "cell_type": "code",
   "execution_count": 23,
   "id": "6c2a9a08",
   "metadata": {},
   "outputs": [],
   "source": [
    "p = xyz(1,2,3)"
   ]
  },
  {
   "cell_type": "code",
   "execution_count": 24,
   "id": "e2d98b73",
   "metadata": {},
   "outputs": [
    {
     "name": "stdout",
     "output_type": "stream",
     "text": [
      "this is my test1 method of xyz class\n"
     ]
    }
   ],
   "source": [
    "p.test1()"
   ]
  },
  {
   "cell_type": "code",
   "execution_count": null,
   "id": "1332d934",
   "metadata": {},
   "outputs": [],
   "source": []
  },
  {
   "cell_type": "code",
   "execution_count": 39,
   "id": "a40d38a0",
   "metadata": {},
   "outputs": [],
   "source": [
    "class xyz1 (xyz):\n",
    "    pass"
   ]
  },
  {
   "cell_type": "code",
   "execution_count": 40,
   "id": "95610cc9",
   "metadata": {},
   "outputs": [],
   "source": [
    "q = xyz1(3,4,5)"
   ]
  },
  {
   "cell_type": "code",
   "execution_count": 41,
   "id": "ee787f0c",
   "metadata": {},
   "outputs": [
    {
     "name": "stdout",
     "output_type": "stream",
     "text": [
      "this is my test1 method of xyz class\n"
     ]
    }
   ],
   "source": [
    "q.test1()"
   ]
  },
  {
   "cell_type": "code",
   "execution_count": 45,
   "id": "1fd23c92",
   "metadata": {},
   "outputs": [],
   "source": [
    "class xyz1 (xyz):\n",
    "    def test (self):\n",
    "        print(\"this is my test method of xyz1 class\")"
   ]
  },
  {
   "cell_type": "code",
   "execution_count": 46,
   "id": "1dd02ca4",
   "metadata": {},
   "outputs": [],
   "source": [
    "q = xyz1(1,2,3)"
   ]
  },
  {
   "cell_type": "code",
   "execution_count": 47,
   "id": "88ad72c7",
   "metadata": {},
   "outputs": [
    {
     "name": "stdout",
     "output_type": "stream",
     "text": [
      "this is my test method of xyz1 class\n"
     ]
    }
   ],
   "source": [
    "q.test()"
   ]
  },
  {
   "cell_type": "code",
   "execution_count": 67,
   "id": "55123591",
   "metadata": {},
   "outputs": [],
   "source": [
    "class xyz:\n",
    "    def __init__ (self, a,b,c):\n",
    "        self.a = a\n",
    "        self.b = b\n",
    "        self.c = c\n",
    "    \n",
    "    def test(self):\n",
    "        print(\"this is my test method of xyz class\")\n",
    "        \n",
    "class xyz1:\n",
    "    def __init__ (self,p,q,v):\n",
    "        self.p = p\n",
    "        self.v = v\n",
    "        self.q = q\n",
    "    \n",
    "    def test1 (self):\n",
    "        print(\"this is my test1 method of xyz1 class\")        \n",
    "    \n",
    "    def test(self):\n",
    "        print(\"this is my test method of xyz1 class\")\n",
    "    \n",
    "class child(xyz,xyz1):\n",
    "    def __init__ (self,*args,**kwargs):\n",
    "        xyz.__init__(self,*args)\n",
    "        xyz1.__init__(self,**kwargs)\n"
   ]
  },
  {
   "cell_type": "code",
   "execution_count": 69,
   "id": "55fba0c4",
   "metadata": {},
   "outputs": [],
   "source": [
    "n = child(1,2,3,p = 4,q = 5,v = 6)"
   ]
  },
  {
   "cell_type": "code",
   "execution_count": 60,
   "id": "42885085",
   "metadata": {},
   "outputs": [
    {
     "name": "stdout",
     "output_type": "stream",
     "text": [
      "this is my test method of xyz class\n"
     ]
    }
   ],
   "source": [
    "n.test()"
   ]
  },
  {
   "cell_type": "code",
   "execution_count": 57,
   "id": "224f559b",
   "metadata": {},
   "outputs": [
    {
     "data": {
      "text/plain": [
       "1"
      ]
     },
     "execution_count": 57,
     "metadata": {},
     "output_type": "execute_result"
    }
   ],
   "source": [
    "n."
   ]
  },
  {
   "cell_type": "code",
   "execution_count": 73,
   "id": "2ec4ab2a",
   "metadata": {},
   "outputs": [],
   "source": [
    "class xyz:\n",
    "    def __init__ (self, a,b,c):\n",
    "        self.a = a\n",
    "        self.b = b\n",
    "        self.c = c\n",
    "    \n",
    "    def test(self):\n",
    "        print(\"this is my test method of xyz class\")\n",
    "        \n",
    "class xyz1(xyz):\n",
    "    \n",
    "    def test1(self):\n",
    "        print(\"this is my test1 method of xyz1 class\")\n",
    "\n",
    "class xyz2 (xyz1):\n",
    "    \n",
    "     def test2(self):\n",
    "        print(\"this is my test2 method of xyz2 class\")\n",
    "\n",
    "class xyz3 (xyz2):\n",
    "    \n",
    "     def test3(self):\n",
    "        print(\"this is my test3 method of xyz3 class\")\n"
   ]
  },
  {
   "cell_type": "code",
   "execution_count": 74,
   "id": "bbae2b96",
   "metadata": {},
   "outputs": [],
   "source": [
    "v = xyz3(1,2,3)"
   ]
  },
  {
   "cell_type": "code",
   "execution_count": 75,
   "id": "d040d2ab",
   "metadata": {},
   "outputs": [
    {
     "name": "stdout",
     "output_type": "stream",
     "text": [
      "this is my test method of xyz class\n"
     ]
    }
   ],
   "source": [
    "v.test()"
   ]
  },
  {
   "cell_type": "code",
   "execution_count": null,
   "id": "2f30e69e",
   "metadata": {},
   "outputs": [],
   "source": []
  },
  {
   "cell_type": "code",
   "execution_count": 76,
   "id": "1706e01f",
   "metadata": {},
   "outputs": [],
   "source": [
    "# q1 -> create a file class for reading data from \n",
    "# respective file with a method name read and write\n",
    "\n",
    "# q2 - try to inherit read and write method from\n",
    "# parent class to child class to perform read and \n",
    "# write operations"
   ]
  },
  {
   "cell_type": "code",
   "execution_count": 85,
   "id": "c603829f",
   "metadata": {},
   "outputs": [],
   "source": [
    "class file:\n",
    "    def __init__ (self,file_name=None):\n",
    "        self.file_name = file_name\n",
    "    \n",
    "    def read (self):\n",
    "        try:\n",
    "            fhand = open(self.file_name,\"r\")\n",
    "        except Exception as e:\n",
    "            print(e)\n",
    "            return None\n",
    "        string = fhand.read()\n",
    "        fhand.close()\n",
    "        return string\n",
    "    \n",
    "    def write (self,file_name=None):\n",
    "        if file:\n",
    "            self.file_name = file_name\n",
    "        fhand = open(self.file_name,\"w\")\n",
    "        string_write = input(\"Write: \")\n",
    "        fhand.write(string_write)\n",
    "        fhand.close()\n",
    "        return\n",
    "    \n",
    "class child (file):\n",
    "    pass"
   ]
  },
  {
   "cell_type": "code",
   "execution_count": 86,
   "id": "526cc1c5",
   "metadata": {},
   "outputs": [],
   "source": [
    "sample = child()"
   ]
  },
  {
   "cell_type": "code",
   "execution_count": 87,
   "id": "e8ca1258",
   "metadata": {},
   "outputs": [
    {
     "name": "stdout",
     "output_type": "stream",
     "text": [
      "Write: hello world\n"
     ]
    }
   ],
   "source": [
    "sample.write(\"test1.txt\")"
   ]
  },
  {
   "cell_type": "code",
   "execution_count": 88,
   "id": "3fbbc2fc",
   "metadata": {},
   "outputs": [
    {
     "data": {
      "text/plain": [
       "'hello world'"
      ]
     },
     "execution_count": 88,
     "metadata": {},
     "output_type": "execute_result"
    }
   ],
   "source": [
    "sample.read()"
   ]
  },
  {
   "cell_type": "code",
   "execution_count": null,
   "id": "0a6a81c5",
   "metadata": {},
   "outputs": [],
   "source": []
  },
  {
   "cell_type": "markdown",
   "id": "8bff095c",
   "metadata": {},
   "source": [
    "### Publiic, Private & Protected"
   ]
  },
  {
   "cell_type": "code",
   "execution_count": 92,
   "id": "679c889c",
   "metadata": {},
   "outputs": [],
   "source": [
    "class test:\n",
    "    def __init__ (self,a,b,c):\n",
    "        self.a = a\n",
    "        self.b = b\n",
    "        self.c = c\n",
    "class test1 (test):\n",
    "    pass"
   ]
  },
  {
   "cell_type": "code",
   "execution_count": 90,
   "id": "67b7280b",
   "metadata": {},
   "outputs": [],
   "source": [
    "u = test(4,5,6)"
   ]
  },
  {
   "cell_type": "code",
   "execution_count": 91,
   "id": "f98ab976",
   "metadata": {},
   "outputs": [
    {
     "data": {
      "text/plain": [
       "4"
      ]
     },
     "execution_count": 91,
     "metadata": {},
     "output_type": "execute_result"
    }
   ],
   "source": [
    "u.a"
   ]
  },
  {
   "cell_type": "code",
   "execution_count": 93,
   "id": "e2d7bbb8",
   "metadata": {},
   "outputs": [],
   "source": [
    "v = test1(3,4,5)"
   ]
  },
  {
   "cell_type": "code",
   "execution_count": 96,
   "id": "00a84a93",
   "metadata": {},
   "outputs": [],
   "source": [
    "# we can override the variable values -> a,b,c"
   ]
  },
  {
   "cell_type": "code",
   "execution_count": 95,
   "id": "08b57338",
   "metadata": {},
   "outputs": [
    {
     "name": "stdout",
     "output_type": "stream",
     "text": [
      "100\n"
     ]
    }
   ],
   "source": [
    "v.a = 100\n",
    "print(v.a)"
   ]
  },
  {
   "cell_type": "code",
   "execution_count": 114,
   "id": "5bd54556",
   "metadata": {},
   "outputs": [],
   "source": [
    "class test:\n",
    "    def __init__ (self):\n",
    "        self.a = 4\n",
    "class test1 (test):\n",
    "    def __init__ (self):\n",
    "        self.a = 7"
   ]
  },
  {
   "cell_type": "code",
   "execution_count": 115,
   "id": "17063b8c",
   "metadata": {},
   "outputs": [],
   "source": [
    "u = test()"
   ]
  },
  {
   "cell_type": "code",
   "execution_count": 116,
   "id": "72c0f215",
   "metadata": {},
   "outputs": [
    {
     "data": {
      "text/plain": [
       "4"
      ]
     },
     "execution_count": 116,
     "metadata": {},
     "output_type": "execute_result"
    }
   ],
   "source": [
    "u.a"
   ]
  },
  {
   "cell_type": "code",
   "execution_count": 117,
   "id": "2c1a3d8f",
   "metadata": {},
   "outputs": [],
   "source": [
    "v = test1()"
   ]
  },
  {
   "cell_type": "code",
   "execution_count": 118,
   "id": "ab06c64f",
   "metadata": {},
   "outputs": [
    {
     "data": {
      "text/plain": [
       "7"
      ]
     },
     "execution_count": 118,
     "metadata": {},
     "output_type": "execute_result"
    }
   ],
   "source": [
    "v.a"
   ]
  },
  {
   "cell_type": "code",
   "execution_count": null,
   "id": "f266e63e",
   "metadata": {},
   "outputs": [],
   "source": []
  }
 ],
 "metadata": {
  "kernelspec": {
   "display_name": "Python 3",
   "language": "python",
   "name": "python3"
  },
  "language_info": {
   "codemirror_mode": {
    "name": "ipython",
    "version": 3
   },
   "file_extension": ".py",
   "mimetype": "text/x-python",
   "name": "python",
   "nbconvert_exporter": "python",
   "pygments_lexer": "ipython3",
   "version": "3.8.8"
  }
 },
 "nbformat": 4,
 "nbformat_minor": 5
}
