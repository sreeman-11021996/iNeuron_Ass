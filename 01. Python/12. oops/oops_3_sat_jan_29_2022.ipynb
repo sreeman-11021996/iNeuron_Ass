{
 "cells": [
  {
   "cell_type": "code",
   "execution_count": 1,
   "id": "631d93e5",
   "metadata": {},
   "outputs": [],
   "source": [
    "# Jan -> 29th 2022"
   ]
  },
  {
   "cell_type": "code",
   "execution_count": 3,
   "id": "3ad57f69",
   "metadata": {},
   "outputs": [],
   "source": [
    "# --To Do--\n",
    "# Inheritence\n",
    "# Polymorphism\n",
    "# Encapsulation"
   ]
  },
  {
   "cell_type": "markdown",
   "id": "0b6cec10",
   "metadata": {},
   "source": [
    "### Inheritence"
   ]
  },
  {
   "cell_type": "code",
   "execution_count": 11,
   "id": "393184e5",
   "metadata": {},
   "outputs": [],
   "source": [
    "class xyz:\n",
    "    def __init__ (self, a,b,c):\n",
    "        self.a = a\n",
    "        self.b = b\n",
    "        self.c = c\n",
    "    \n",
    "    def test(self):\n",
    "        print(\"this is my test method of xyz class\")\n",
    "        \n",
    "    def test1 (self):\n",
    "        print(\"this is my test1 method of xyz class\")\n",
    "\n",
    "    def test2 (self):\n",
    "        print(\"this is my test2 method of xyz class\")\n",
    "        "
   ]
  },
  {
   "cell_type": "code",
   "execution_count": 23,
   "id": "59704762",
   "metadata": {},
   "outputs": [],
   "source": [
    "p = xyz(1,2,3)"
   ]
  },
  {
   "cell_type": "code",
   "execution_count": 24,
   "id": "27a9adc3",
   "metadata": {},
   "outputs": [
    {
     "name": "stdout",
     "output_type": "stream",
     "text": [
      "this is my test1 method of xyz class\n"
     ]
    }
   ],
   "source": [
    "p.test1()"
   ]
  },
  {
   "cell_type": "code",
   "execution_count": null,
   "id": "232c33fd",
   "metadata": {},
   "outputs": [],
   "source": []
  },
  {
   "cell_type": "code",
   "execution_count": 39,
   "id": "2a4d7b8d",
   "metadata": {},
   "outputs": [],
   "source": [
    "class xyz1 (xyz):\n",
    "    pass"
   ]
  },
  {
   "cell_type": "code",
   "execution_count": 40,
   "id": "fd433347",
   "metadata": {},
   "outputs": [],
   "source": [
    "q = xyz1(3,4,5)"
   ]
  },
  {
   "cell_type": "code",
   "execution_count": 41,
   "id": "ed77ee90",
   "metadata": {},
   "outputs": [
    {
     "name": "stdout",
     "output_type": "stream",
     "text": [
      "this is my test1 method of xyz class\n"
     ]
    }
   ],
   "source": [
    "q.test1()"
   ]
  },
  {
   "cell_type": "code",
   "execution_count": 45,
   "id": "5428fc9b",
   "metadata": {},
   "outputs": [],
   "source": [
    "class xyz1 (xyz):\n",
    "    def test (self):\n",
    "        print(\"this is my test method of xyz1 class\")"
   ]
  },
  {
   "cell_type": "code",
   "execution_count": 46,
   "id": "b1cadab8",
   "metadata": {},
   "outputs": [],
   "source": [
    "q = xyz1(1,2,3)"
   ]
  },
  {
   "cell_type": "code",
   "execution_count": 47,
   "id": "2da50df7",
   "metadata": {},
   "outputs": [
    {
     "name": "stdout",
     "output_type": "stream",
     "text": [
      "this is my test method of xyz1 class\n"
     ]
    }
   ],
   "source": [
    "q.test()"
   ]
  },
  {
   "cell_type": "code",
   "execution_count": 67,
   "id": "16537f4e",
   "metadata": {},
   "outputs": [],
   "source": [
    "class xyz:\n",
    "    def __init__ (self, a,b,c):\n",
    "        self.a = a\n",
    "        self.b = b\n",
    "        self.c = c\n",
    "    \n",
    "    def test(self):\n",
    "        print(\"this is my test method of xyz class\")\n",
    "        \n",
    "class xyz1:\n",
    "    def __init__ (self,p,q,v):\n",
    "        self.p = p\n",
    "        self.v = v\n",
    "        self.q = q\n",
    "    \n",
    "    def test1 (self):\n",
    "        print(\"this is my test1 method of xyz1 class\")        \n",
    "    \n",
    "    def test(self):\n",
    "        print(\"this is my test method of xyz1 class\")\n",
    "    \n",
    "class child(xyz,xyz1):\n",
    "    def __init__ (self,*args,**kwargs):\n",
    "        xyz.__init__(self,*args)\n",
    "        xyz1.__init__(self,**kwargs)\n"
   ]
  },
  {
   "cell_type": "code",
   "execution_count": 69,
   "id": "de020c7e",
   "metadata": {},
   "outputs": [],
   "source": [
    "n = child(1,2,3,p = 4,q = 5,v = 6)"
   ]
  },
  {
   "cell_type": "code",
   "execution_count": 60,
   "id": "db357eff",
   "metadata": {},
   "outputs": [
    {
     "name": "stdout",
     "output_type": "stream",
     "text": [
      "this is my test method of xyz class\n"
     ]
    }
   ],
   "source": [
    "n.test()"
   ]
  },
  {
   "cell_type": "code",
   "execution_count": 57,
   "id": "6ac4942d",
   "metadata": {},
   "outputs": [
    {
     "data": {
      "text/plain": [
       "1"
      ]
     },
     "execution_count": 57,
     "metadata": {},
     "output_type": "execute_result"
    }
   ],
   "source": [
    "n."
   ]
  },
  {
   "cell_type": "code",
   "execution_count": 73,
   "id": "5ca5fe76",
   "metadata": {},
   "outputs": [],
   "source": [
    "class xyz:\n",
    "    def __init__ (self, a,b,c):\n",
    "        self.a = a\n",
    "        self.b = b\n",
    "        self.c = c\n",
    "    \n",
    "    def test(self):\n",
    "        print(\"this is my test method of xyz class\")\n",
    "        \n",
    "class xyz1(xyz):\n",
    "    \n",
    "    def test1(self):\n",
    "        print(\"this is my test1 method of xyz1 class\")\n",
    "\n",
    "class xyz2 (xyz1):\n",
    "    \n",
    "     def test2(self):\n",
    "        print(\"this is my test2 method of xyz2 class\")\n",
    "\n",
    "class xyz3 (xyz2):\n",
    "    \n",
    "     def test3(self):\n",
    "        print(\"this is my test3 method of xyz3 class\")\n"
   ]
  },
  {
   "cell_type": "code",
   "execution_count": 74,
   "id": "6b622b52",
   "metadata": {},
   "outputs": [],
   "source": [
    "v = xyz3(1,2,3)"
   ]
  },
  {
   "cell_type": "code",
   "execution_count": 75,
   "id": "4de8bfe5",
   "metadata": {},
   "outputs": [
    {
     "name": "stdout",
     "output_type": "stream",
     "text": [
      "this is my test method of xyz class\n"
     ]
    }
   ],
   "source": [
    "v.test()"
   ]
  },
  {
   "cell_type": "code",
   "execution_count": null,
   "id": "940cce50",
   "metadata": {},
   "outputs": [],
   "source": []
  },
  {
   "cell_type": "code",
   "execution_count": 76,
   "id": "32f16b86",
   "metadata": {},
   "outputs": [],
   "source": [
    "# q1 -> create a file class for reading data from \n",
    "# respective file with a method name read and write\n",
    "\n",
    "# q2 - try to inherit read and write method from\n",
    "# parent class to child class to perform read and \n",
    "# write operations"
   ]
  },
  {
   "cell_type": "code",
   "execution_count": 85,
   "id": "c56d4375",
   "metadata": {},
   "outputs": [],
   "source": [
    "class file:\n",
    "    def __init__ (self,file_name=None):\n",
    "        self.file_name = file_name\n",
    "    \n",
    "    def read (self):\n",
    "        try:\n",
    "            fhand = open(self.file_name,\"r\")\n",
    "        except Exception as e:\n",
    "            print(e)\n",
    "            return None\n",
    "        string = fhand.read()\n",
    "        fhand.close()\n",
    "        return string\n",
    "    \n",
    "    def write (self,file_name=None):\n",
    "        if file:\n",
    "            self.file_name = file_name\n",
    "        fhand = open(self.file_name,\"w\")\n",
    "        string_write = input(\"Write: \")\n",
    "        fhand.write(string_write)\n",
    "        fhand.close()\n",
    "        return\n",
    "    \n",
    "class child (file):\n",
    "    pass"
   ]
  },
  {
   "cell_type": "code",
   "execution_count": 86,
   "id": "5b9c0a49",
   "metadata": {},
   "outputs": [],
   "source": [
    "sample = child()"
   ]
  },
  {
   "cell_type": "code",
   "execution_count": 87,
   "id": "fb77157e",
   "metadata": {},
   "outputs": [
    {
     "name": "stdout",
     "output_type": "stream",
     "text": [
      "Write: hello world\n"
     ]
    }
   ],
   "source": [
    "sample.write(\"test1.txt\")"
   ]
  },
  {
   "cell_type": "code",
   "execution_count": 88,
   "id": "262005c9",
   "metadata": {},
   "outputs": [
    {
     "data": {
      "text/plain": [
       "'hello world'"
      ]
     },
     "execution_count": 88,
     "metadata": {},
     "output_type": "execute_result"
    }
   ],
   "source": [
    "sample.read()"
   ]
  },
  {
   "cell_type": "code",
   "execution_count": null,
   "id": "fc4e58aa",
   "metadata": {},
   "outputs": [],
   "source": []
  },
  {
   "cell_type": "markdown",
   "id": "33032393",
   "metadata": {},
   "source": [
    "### Publiic, Private & Protected"
   ]
  },
  {
   "cell_type": "code",
   "execution_count": 92,
   "id": "bb53a833",
   "metadata": {},
   "outputs": [],
   "source": [
    "class test:\n",
    "    def __init__ (self,a,b,c):\n",
    "        self.a = a\n",
    "        self.b = b\n",
    "        self.c = c\n",
    "class test1 (test):\n",
    "    pass"
   ]
  },
  {
   "cell_type": "code",
   "execution_count": 90,
   "id": "13ea8f74",
   "metadata": {},
   "outputs": [],
   "source": [
    "u = test(4,5,6)"
   ]
  },
  {
   "cell_type": "code",
   "execution_count": 91,
   "id": "fb524a22",
   "metadata": {},
   "outputs": [
    {
     "data": {
      "text/plain": [
       "4"
      ]
     },
     "execution_count": 91,
     "metadata": {},
     "output_type": "execute_result"
    }
   ],
   "source": [
    "u.a"
   ]
  },
  {
   "cell_type": "code",
   "execution_count": 93,
   "id": "d4ad5cdf",
   "metadata": {},
   "outputs": [],
   "source": [
    "v = test1(3,4,5)"
   ]
  },
  {
   "cell_type": "code",
   "execution_count": 96,
   "id": "6a38162f",
   "metadata": {},
   "outputs": [],
   "source": [
    "# we can override the variable values -> a,b,c"
   ]
  },
  {
   "cell_type": "code",
   "execution_count": 95,
   "id": "94afad46",
   "metadata": {},
   "outputs": [
    {
     "name": "stdout",
     "output_type": "stream",
     "text": [
      "100\n"
     ]
    }
   ],
   "source": [
    "v.a = 100\n",
    "print(v.a)"
   ]
  },
  {
   "cell_type": "code",
   "execution_count": 137,
   "id": "b8148d3e",
   "metadata": {},
   "outputs": [],
   "source": [
    "class test:\n",
    "    def __init__ (self):\n",
    "        self.__a = 4\n",
    "class test1 (test):\n",
    "    def __init__ (self):\n",
    "        self.__a = 7"
   ]
  },
  {
   "cell_type": "code",
   "execution_count": 138,
   "id": "610f6ec6",
   "metadata": {},
   "outputs": [],
   "source": [
    "u = test()"
   ]
  },
  {
   "cell_type": "code",
   "execution_count": 139,
   "id": "10c288f0",
   "metadata": {},
   "outputs": [
    {
     "ename": "AttributeError",
     "evalue": "'test' object has no attribute '__a'",
     "output_type": "error",
     "traceback": [
      "\u001b[1;31m---------------------------------------------------------------------------\u001b[0m",
      "\u001b[1;31mAttributeError\u001b[0m                            Traceback (most recent call last)",
      "\u001b[1;32m<ipython-input-139-45f5c7f66ea7>\u001b[0m in \u001b[0;36m<module>\u001b[1;34m\u001b[0m\n\u001b[1;32m----> 1\u001b[1;33m \u001b[0mu\u001b[0m\u001b[1;33m.\u001b[0m\u001b[0m__a\u001b[0m\u001b[1;33m\u001b[0m\u001b[1;33m\u001b[0m\u001b[0m\n\u001b[0m",
      "\u001b[1;31mAttributeError\u001b[0m: 'test' object has no attribute '__a'"
     ]
    }
   ],
   "source": [
    "u.__a"
   ]
  },
  {
   "cell_type": "code",
   "execution_count": 123,
   "id": "e47956d2",
   "metadata": {},
   "outputs": [],
   "source": [
    "v = test1()"
   ]
  },
  {
   "cell_type": "code",
   "execution_count": 124,
   "id": "ac7e0af2",
   "metadata": {},
   "outputs": [
    {
     "data": {
      "text/plain": [
       "7"
      ]
     },
     "execution_count": 124,
     "metadata": {},
     "output_type": "execute_result"
    }
   ],
   "source": [
    "v.a"
   ]
  },
  {
   "cell_type": "code",
   "execution_count": 140,
   "id": "de6c20da",
   "metadata": {},
   "outputs": [],
   "source": [
    "class test:\n",
    "    def __init__ (self,a,b,c):\n",
    "        self._a = a\n",
    "        self.__b = b\n",
    "        self.c = c\n",
    "        \n",
    "v = test(4,5,6)"
   ]
  },
  {
   "cell_type": "code",
   "execution_count": 141,
   "id": "edd380fc",
   "metadata": {},
   "outputs": [
    {
     "data": {
      "text/plain": [
       "4"
      ]
     },
     "execution_count": 141,
     "metadata": {},
     "output_type": "execute_result"
    }
   ],
   "source": [
    "v._a"
   ]
  },
  {
   "cell_type": "code",
   "execution_count": null,
   "id": "97014f49",
   "metadata": {},
   "outputs": [],
   "source": [
    "v.__"
   ]
  }
 ],
 "metadata": {
  "kernelspec": {
   "display_name": "Python 3",
   "language": "python",
   "name": "python3"
  },
  "language_info": {
   "codemirror_mode": {
    "name": "ipython",
    "version": 3
   },
   "file_extension": ".py",
   "mimetype": "text/x-python",
   "name": "python",
   "nbconvert_exporter": "python",
   "pygments_lexer": "ipython3",
   "version": "3.8.8"
  }
 },
 "nbformat": 4,
 "nbformat_minor": 5
}
