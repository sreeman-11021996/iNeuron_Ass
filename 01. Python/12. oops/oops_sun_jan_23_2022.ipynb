{
 "cells": [
  {
   "cell_type": "code",
   "execution_count": 1,
   "id": "feb4e5ab",
   "metadata": {},
   "outputs": [],
   "source": [
    "# self is not a keyword but a pointer to object"
   ]
  },
  {
   "cell_type": "code",
   "execution_count": 2,
   "id": "6e41e0e7",
   "metadata": {},
   "outputs": [],
   "source": [
    "class car:\n",
    "    \n",
    "    def __init__ (rama, body_type, engine, fuel_type):\n",
    "        rama.body_type = body_type\n",
    "        rama.engine = engine\n",
    "        rama.fuel_type = fuel_type\n",
    "        \n",
    "    def display (self):\n",
    "        print(\"Body_type: \",self.body_type)\n",
    "        print(\"Engine: \",self.engine)\n",
    "        print(\"Fuel_type: \",self.fuel_type)"
   ]
  },
  {
   "cell_type": "code",
   "execution_count": 3,
   "id": "452d6fd7",
   "metadata": {},
   "outputs": [],
   "source": [
    "fortuner = car(\"suv\",\"bs4\",\"petrol\")"
   ]
  },
  {
   "cell_type": "code",
   "execution_count": 4,
   "id": "abf572cb",
   "metadata": {},
   "outputs": [],
   "source": [
    "nexon = car(\"suv\",\"abc\",\"disel\")"
   ]
  },
  {
   "cell_type": "code",
   "execution_count": 5,
   "id": "a55f17e8",
   "metadata": {},
   "outputs": [
    {
     "name": "stdout",
     "output_type": "stream",
     "text": [
      "<class '__main__.car'>\n"
     ]
    }
   ],
   "source": [
    "print(type(fortuner))"
   ]
  },
  {
   "cell_type": "code",
   "execution_count": 6,
   "id": "661e1d5e",
   "metadata": {},
   "outputs": [
    {
     "data": {
      "text/plain": [
       "'suv'"
      ]
     },
     "execution_count": 6,
     "metadata": {},
     "output_type": "execute_result"
    }
   ],
   "source": [
    "fortuner.body_type"
   ]
  },
  {
   "cell_type": "code",
   "execution_count": 7,
   "id": "5bd8ce8c",
   "metadata": {},
   "outputs": [
    {
     "data": {
      "text/plain": [
       "'abc'"
      ]
     },
     "execution_count": 7,
     "metadata": {},
     "output_type": "execute_result"
    }
   ],
   "source": [
    "nexon.engine"
   ]
  },
  {
   "cell_type": "code",
   "execution_count": 8,
   "id": "7261036d",
   "metadata": {},
   "outputs": [
    {
     "name": "stdout",
     "output_type": "stream",
     "text": [
      "Body_type:  suv\n",
      "Engine:  bs4\n",
      "Fuel_type:  petrol\n"
     ]
    }
   ],
   "source": [
    "fortuner.display()"
   ]
  },
  {
   "cell_type": "code",
   "execution_count": null,
   "id": "cbd83b3d",
   "metadata": {},
   "outputs": [],
   "source": []
  },
  {
   "cell_type": "code",
   "execution_count": 18,
   "id": "e51601aa",
   "metadata": {},
   "outputs": [],
   "source": [
    "class car:\n",
    "    \n",
    "    def test (self):\n",
    "        print(\"this is my first method\")"
   ]
  },
  {
   "cell_type": "code",
   "execution_count": 19,
   "id": "63e1c40e",
   "metadata": {},
   "outputs": [],
   "source": [
    "nano = car()"
   ]
  },
  {
   "cell_type": "code",
   "execution_count": 20,
   "id": "ff183553",
   "metadata": {
    "scrolled": false
   },
   "outputs": [
    {
     "name": "stdout",
     "output_type": "stream",
     "text": [
      "this is my first method\n"
     ]
    }
   ],
   "source": [
    "nano.test()"
   ]
  },
  {
   "cell_type": "code",
   "execution_count": 22,
   "id": "83c5b5cf",
   "metadata": {},
   "outputs": [],
   "source": [
    "# __main__ is the super class of all classes"
   ]
  },
  {
   "cell_type": "code",
   "execution_count": 21,
   "id": "3ef32a18",
   "metadata": {},
   "outputs": [
    {
     "name": "stdout",
     "output_type": "stream",
     "text": [
      "<class '__main__.car'>\n"
     ]
    }
   ],
   "source": [
    "print(type(nano))"
   ]
  },
  {
   "cell_type": "code",
   "execution_count": null,
   "id": "17d315df",
   "metadata": {},
   "outputs": [],
   "source": []
  },
  {
   "cell_type": "code",
   "execution_count": 41,
   "id": "afca9735",
   "metadata": {},
   "outputs": [],
   "source": [
    "class list_parser:\n",
    "    \n",
    "    def __init__ (self,my_list):\n",
    "        if type(my_list) == list:\n",
    "            self.my_list = my_list\n",
    "        else:\n",
    "            raise TypeError(\"Pass a List\")\n",
    "    def parser (self):\n",
    "        for i in self.my_list:\n",
    "            print(i)\n",
    "    \n",
    "    def reverse_list (self):\n",
    "        return self.my_list[::-1]"
   ]
  },
  {
   "cell_type": "code",
   "execution_count": 43,
   "id": "c5964e36",
   "metadata": {},
   "outputs": [],
   "source": [
    "test = list_parser([2,3,4,6,7,78])"
   ]
  },
  {
   "cell_type": "code",
   "execution_count": 44,
   "id": "6eb72e2a",
   "metadata": {},
   "outputs": [
    {
     "name": "stdout",
     "output_type": "stream",
     "text": [
      "2\n",
      "3\n",
      "4\n",
      "6\n",
      "7\n",
      "78\n"
     ]
    }
   ],
   "source": [
    "test.parser()"
   ]
  },
  {
   "cell_type": "code",
   "execution_count": 45,
   "id": "ab5f37d8",
   "metadata": {},
   "outputs": [
    {
     "data": {
      "text/plain": [
       "[78, 7, 6, 4, 3, 2]"
      ]
     },
     "execution_count": 45,
     "metadata": {},
     "output_type": "execute_result"
    }
   ],
   "source": [
    "test.reverse_list()"
   ]
  },
  {
   "cell_type": "code",
   "execution_count": null,
   "id": "c782213f",
   "metadata": {},
   "outputs": [],
   "source": []
  },
  {
   "cell_type": "code",
   "execution_count": 46,
   "id": "39eb646a",
   "metadata": {},
   "outputs": [],
   "source": [
    "# create a class for dictionary parsing\n",
    "# 1. function to give all keys\n",
    "# 2. function to give all values\n",
    "# 3. function to throw an exception in case input is not a dictionary\n",
    "# 4. function to take user input and then parse a key and value out of \n",
    "# dictionary\n",
    "# 5. function to insert new key value pair into dictionary"
   ]
  },
  {
   "cell_type": "markdown",
   "id": "18713b00",
   "metadata": {},
   "source": [
    "### eval() -> new function understand"
   ]
  },
  {
   "cell_type": "code",
   "execution_count": 100,
   "id": "0f953a94",
   "metadata": {},
   "outputs": [],
   "source": [
    "class dict_parser:\n",
    "    \n",
    "    def __init__ (self,test_dict):\n",
    "        try:\n",
    "            if type(test_dict) == dict:\n",
    "                self.dict = test_dict\n",
    "            else:\n",
    "                raise Exception(test_dict,\" - Not a dictionary\")\n",
    "        except Exception as e:\n",
    "            print(\"Error! -> \",e)\n",
    "    \n",
    "    def get_keys (self):\n",
    "        return self.dict.keys()\n",
    "    \n",
    "    def get_values (self):\n",
    "        return self.dict.values()\n",
    "    \n",
    "    def insert_dict (self,key,value):\n",
    "        self.dict[key] = value\n",
    "    \n",
    "    def display (self):\n",
    "        print(self.dict)\n",
    "    \n",
    "    def user_input (self):\n",
    "        self.dict = eval(input())\n",
    "        print(type(self.dict))\n",
    "        print(self.get_keys())\n",
    "        print(self.get_values())"
   ]
  },
  {
   "cell_type": "code",
   "execution_count": 101,
   "id": "bda47879",
   "metadata": {},
   "outputs": [],
   "source": [
    "new = dict_parser({\"k1\":\"v1\",\"k2\":\"v2\",\"k3\":\"v3\"})"
   ]
  },
  {
   "cell_type": "code",
   "execution_count": 102,
   "id": "dec7f493",
   "metadata": {},
   "outputs": [
    {
     "data": {
      "text/plain": [
       "dict_keys(['k1', 'k2', 'k3'])"
      ]
     },
     "execution_count": 102,
     "metadata": {},
     "output_type": "execute_result"
    }
   ],
   "source": [
    "new.get_keys()"
   ]
  },
  {
   "cell_type": "code",
   "execution_count": 103,
   "id": "9a9af820",
   "metadata": {},
   "outputs": [
    {
     "data": {
      "text/plain": [
       "dict_values(['v1', 'v2', 'v3'])"
      ]
     },
     "execution_count": 103,
     "metadata": {},
     "output_type": "execute_result"
    }
   ],
   "source": [
    "new.get_values()"
   ]
  },
  {
   "cell_type": "code",
   "execution_count": 104,
   "id": "76a0cf22",
   "metadata": {},
   "outputs": [],
   "source": [
    "new.insert_dict(\"k4\",\"v4\")"
   ]
  },
  {
   "cell_type": "code",
   "execution_count": 105,
   "id": "ff7aff35",
   "metadata": {},
   "outputs": [
    {
     "name": "stdout",
     "output_type": "stream",
     "text": [
      "{'k1': 'v1', 'k2': 'v2', 'k3': 'v3', 'k4': 'v4'}\n"
     ]
    }
   ],
   "source": [
    "new.display()"
   ]
  },
  {
   "cell_type": "code",
   "execution_count": 106,
   "id": "038f2dc0",
   "metadata": {},
   "outputs": [
    {
     "name": "stdout",
     "output_type": "stream",
     "text": [
      "{\"k1\":\"v1\",\"k2\":\"v2\",\"k3\":\"v3\"}\n",
      "<class 'dict'>\n",
      "dict_keys(['k1', 'k2', 'k3'])\n",
      "dict_values(['v1', 'v2', 'v3'])\n"
     ]
    }
   ],
   "source": [
    "new.user_input()"
   ]
  },
  {
   "cell_type": "code",
   "execution_count": 87,
   "id": "7c8cf97a",
   "metadata": {},
   "outputs": [
    {
     "name": "stdout",
     "output_type": "stream",
     "text": [
      "Error!  ([1, 23, 4], ' - Not a dictionary')\n"
     ]
    }
   ],
   "source": [
    "new_2 = dict_parser([1,23,4])"
   ]
  },
  {
   "cell_type": "code",
   "execution_count": null,
   "id": "211cec41",
   "metadata": {},
   "outputs": [],
   "source": []
  },
  {
   "cell_type": "code",
   "execution_count": null,
   "id": "c34308f4",
   "metadata": {},
   "outputs": [],
   "source": [
    "\"key:val, key:val, key:val\""
   ]
  },
  {
   "cell_type": "code",
   "execution_count": 62,
   "id": "e67fd61a",
   "metadata": {},
   "outputs": [
    {
     "name": "stdout",
     "output_type": "stream",
     "text": [
      "4,5\n"
     ]
    }
   ],
   "source": [
    "d = input().split(\",\")"
   ]
  },
  {
   "cell_type": "code",
   "execution_count": 60,
   "id": "ac4276f1",
   "metadata": {},
   "outputs": [
    {
     "data": {
      "text/plain": [
       "['4', '5']"
      ]
     },
     "execution_count": 60,
     "metadata": {},
     "output_type": "execute_result"
    }
   ],
   "source": [
    "d"
   ]
  },
  {
   "cell_type": "code",
   "execution_count": 107,
   "id": "31f4e719",
   "metadata": {},
   "outputs": [
    {
     "data": {
      "text/plain": [
       "<_io.TextIOWrapper name='my_dict.py' mode='w' encoding='cp1252'>"
      ]
     },
     "execution_count": 107,
     "metadata": {},
     "output_type": "execute_result"
    }
   ],
   "source": [
    "open(\"my_dict.py\",\"w\")"
   ]
  },
  {
   "cell_type": "code",
   "execution_count": null,
   "id": "046c7db6",
   "metadata": {},
   "outputs": [],
   "source": []
  }
 ],
 "metadata": {
  "kernelspec": {
   "display_name": "Python 3",
   "language": "python",
   "name": "python3"
  },
  "language_info": {
   "codemirror_mode": {
    "name": "ipython",
    "version": 3
   },
   "file_extension": ".py",
   "mimetype": "text/x-python",
   "name": "python",
   "nbconvert_exporter": "python",
   "pygments_lexer": "ipython3",
   "version": "3.8.8"
  }
 },
 "nbformat": 4,
 "nbformat_minor": 5
}
