{
 "cells": [
  {
   "cell_type": "code",
   "execution_count": 1,
   "id": "6291d7ca",
   "metadata": {},
   "outputs": [],
   "source": [
    "s = \"This is basci python class\""
   ]
  },
  {
   "cell_type": "code",
   "execution_count": 5,
   "id": "4ff26799",
   "metadata": {},
   "outputs": [
    {
     "data": {
      "text/plain": [
       "26"
      ]
     },
     "execution_count": 5,
     "metadata": {},
     "output_type": "execute_result"
    }
   ],
   "source": [
    "len(s)"
   ]
  },
  {
   "cell_type": "code",
   "execution_count": 4,
   "id": "eca491d9",
   "metadata": {},
   "outputs": [
    {
     "name": "stdout",
     "output_type": "stream",
     "text": [
      "26\n"
     ]
    }
   ],
   "source": [
    "count = 0\n",
    "for i in s:\n",
    "    count+=1\n",
    "print(count)"
   ]
  },
  {
   "cell_type": "code",
   "execution_count": 6,
   "id": "73b3b8bc",
   "metadata": {},
   "outputs": [
    {
     "data": {
      "text/plain": [
       "'ssalc nohtyp icsab si sihT'"
      ]
     },
     "execution_count": 6,
     "metadata": {},
     "output_type": "execute_result"
    }
   ],
   "source": [
    "s[::-1]"
   ]
  },
  {
   "cell_type": "code",
   "execution_count": 8,
   "id": "387aba6e",
   "metadata": {},
   "outputs": [
    {
     "name": "stdout",
     "output_type": "stream",
     "text": [
      "ssalc nohtyp icsab si sihT\n"
     ]
    }
   ],
   "source": [
    "rev_str = \"\"\n",
    "for i in range(len(s)-1,-1,-1):\n",
    "    rev_str+=s[i]\n",
    "print(rev_str)"
   ]
  },
  {
   "cell_type": "code",
   "execution_count": 10,
   "id": "b2452c97",
   "metadata": {},
   "outputs": [
    {
     "name": "stdout",
     "output_type": "stream",
     "text": [
      "ssalc nohtyp icsab si sihT"
     ]
    }
   ],
   "source": [
    "count = len(s)-1\n",
    "while count >= 0:\n",
    "    print(s[count],end=\"\")\n",
    "    count-=1"
   ]
  },
  {
   "cell_type": "code",
   "execution_count": null,
   "id": "4fb4361b",
   "metadata": {},
   "outputs": [],
   "source": []
  },
  {
   "cell_type": "code",
   "execution_count": 12,
   "id": "87022d08",
   "metadata": {},
   "outputs": [],
   "source": [
    "s = \"ineuron\"\n",
    "v = \"AaEeIiOoUu\""
   ]
  },
  {
   "cell_type": "code",
   "execution_count": 14,
   "id": "f9ee7b71",
   "metadata": {},
   "outputs": [
    {
     "name": "stdout",
     "output_type": "stream",
     "text": [
      "i  - vowel\n",
      "n  - not a vowel\n",
      "e  - vowel\n",
      "u  - vowel\n",
      "r  - not a vowel\n",
      "o  - vowel\n",
      "n  - not a vowel\n"
     ]
    }
   ],
   "source": [
    "for i in s:\n",
    "    if i in v:\n",
    "        print(i,\" - vowel\")\n",
    "    else:\n",
    "        print(i,\" - not a vowel\")"
   ]
  },
  {
   "cell_type": "code",
   "execution_count": null,
   "id": "bb784068",
   "metadata": {},
   "outputs": [],
   "source": []
  },
  {
   "cell_type": "code",
   "execution_count": 25,
   "id": "f5221129",
   "metadata": {},
   "outputs": [
    {
     "name": "stdout",
     "output_type": "stream",
     "text": [
      "\n"
     ]
    }
   ],
   "source": []
  },
  {
   "cell_type": "code",
   "execution_count": 34,
   "id": "31975375",
   "metadata": {},
   "outputs": [
    {
     "name": "stdout",
     "output_type": "stream",
     "text": [
      "Anksa\n",
      "anksa  - Not a palendrome\n"
     ]
    }
   ],
   "source": [
    "word = input().lower()\n",
    "for i in range(len(word)):\n",
    "    if word[i] == word[len(word)-1-i]:\n",
    "        continue\n",
    "    else:\n",
    "        print(word,\" - Not a palendrome\")\n",
    "        break\n",
    "else:\n",
    "    print(word,\" - is a palendrome\")"
   ]
  },
  {
   "cell_type": "code",
   "execution_count": null,
   "id": "437f531f",
   "metadata": {},
   "outputs": [],
   "source": []
  },
  {
   "cell_type": "code",
   "execution_count": 35,
   "id": "7571ee63",
   "metadata": {},
   "outputs": [],
   "source": [
    "d = {'india' : \"IN\",\"canada\":\"CA\",\n",
    "     \"china\":\"CH\",\"united state\":\"US\"}"
   ]
  },
  {
   "cell_type": "code",
   "execution_count": 38,
   "id": "090abc49",
   "metadata": {},
   "outputs": [
    {
     "data": {
      "text/plain": [
       "True"
      ]
     },
     "execution_count": 38,
     "metadata": {},
     "output_type": "execute_result"
    }
   ],
   "source": [
    "\"india\" in d"
   ]
  },
  {
   "cell_type": "code",
   "execution_count": 40,
   "id": "8a798aaa",
   "metadata": {},
   "outputs": [
    {
     "data": {
      "text/plain": [
       "True"
      ]
     },
     "execution_count": 40,
     "metadata": {},
     "output_type": "execute_result"
    }
   ],
   "source": [
    "\"IN\" in d.values()"
   ]
  },
  {
   "cell_type": "code",
   "execution_count": 42,
   "id": "c6edec5d",
   "metadata": {},
   "outputs": [
    {
     "name": "stdout",
     "output_type": "stream",
     "text": [
      "Less than 5 -  ['india', 'china']\n",
      "Greater than 5 -  ['canada', 'united state']\n"
     ]
    }
   ],
   "source": [
    "less_5 = []\n",
    "greater_5 = []\n",
    "for i in d:\n",
    "    if len(i) <= 5:\n",
    "        less_5.append(i)\n",
    "    else:\n",
    "        greater_5.append(i)\n",
    "print(\"Less than 5 - \",less_5)\n",
    "print(\"Greater than 5 - \",greater_5)"
   ]
  },
  {
   "cell_type": "code",
   "execution_count": null,
   "id": "b46eee2d",
   "metadata": {},
   "outputs": [],
   "source": []
  },
  {
   "cell_type": "code",
   "execution_count": 44,
   "id": "7026211e",
   "metadata": {},
   "outputs": [],
   "source": [
    "d_1 = {\"ineuron\":{\"a\":14,\"b\":10,\"c\":4},\n",
    "      \"course\":{\"d\":45,\"e\":34,\"f\":1}}"
   ]
  },
  {
   "cell_type": "code",
   "execution_count": 48,
   "id": "883cccdd",
   "metadata": {},
   "outputs": [
    {
     "name": "stdout",
     "output_type": "stream",
     "text": [
      "Max of  ineuron  -  a  :  14\n",
      "Max of  course  -  d  :  45\n"
     ]
    }
   ],
   "source": [
    "for i in d_1:\n",
    "    temp = None\n",
    "    key = None\n",
    "    for k,j in d_1[i].items():\n",
    "        if temp is None or temp < j:\n",
    "            temp = j\n",
    "            key = k\n",
    "    print(\"Max of \",i,\" - \",key,\" : \",temp)"
   ]
  },
  {
   "cell_type": "code",
   "execution_count": 104,
   "id": "94b9a9eb",
   "metadata": {},
   "outputs": [],
   "source": [
    "d_2 = d_1 = {\"ineuron\":{\"a\":102,\"b\":10,\"c\":4},\n",
    "      \"course\":{\"d\":89,\"e\":34,\"f\":1},\n",
    "            \"g\":122,\"h\":[120,6,7,8,9,3],\n",
    "            \"i\":(215,34,2),\"k\":\"sudh\"}"
   ]
  },
  {
   "cell_type": "code",
   "execution_count": 105,
   "id": "373f52c5",
   "metadata": {},
   "outputs": [
    {
     "name": "stdout",
     "output_type": "stream",
     "text": [
      "215\n"
     ]
    }
   ],
   "source": [
    "lst = []\n",
    "for i in d_2.values():\n",
    "    if type(i) != str and type(i) != complex:    \n",
    "        if type(i) == dict:\n",
    "            for j in i.values():\n",
    "                lst.append(j)\n",
    "\n",
    "        elif type(i) == int or type(i) == float:\n",
    "            lst.append(i)\n",
    "        elif type(i) == tuple or type(i) == list:\n",
    "            lst.extend(list(i))\n",
    "print(max(lst))"
   ]
  },
  {
   "cell_type": "code",
   "execution_count": null,
   "id": "d6d4ab2c",
   "metadata": {},
   "outputs": [],
   "source": []
  },
  {
   "cell_type": "code",
   "execution_count": null,
   "id": "c082478f",
   "metadata": {},
   "outputs": [],
   "source": []
  }
 ],
 "metadata": {
  "kernelspec": {
   "display_name": "Python 3",
   "language": "python",
   "name": "python3"
  },
  "language_info": {
   "codemirror_mode": {
    "name": "ipython",
    "version": 3
   },
   "file_extension": ".py",
   "mimetype": "text/x-python",
   "name": "python",
   "nbconvert_exporter": "python",
   "pygments_lexer": "ipython3",
   "version": "3.8.8"
  }
 },
 "nbformat": 4,
 "nbformat_minor": 5
}
