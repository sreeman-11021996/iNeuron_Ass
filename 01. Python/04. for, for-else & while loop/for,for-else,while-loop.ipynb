{
 "cells": [
  {
   "cell_type": "code",
   "execution_count": null,
   "id": "707c6033",
   "metadata": {},
   "outputs": [],
   "source": []
  },
  {
   "cell_type": "code",
   "execution_count": 2,
   "id": "fc3c3318",
   "metadata": {},
   "outputs": [
    {
     "name": "stdout",
     "output_type": "stream",
     "text": [
      "srinivaas"
     ]
    }
   ],
   "source": [
    "for i in \"srinivaas\":\n",
    "    print(i,end=\"\")"
   ]
  },
  {
   "cell_type": "code",
   "execution_count": 3,
   "id": "e4e649cb",
   "metadata": {},
   "outputs": [],
   "source": [
    "t = (1,2,3,4,5,6,6)"
   ]
  },
  {
   "cell_type": "code",
   "execution_count": 5,
   "id": "03200dbb",
   "metadata": {},
   "outputs": [
    {
     "name": "stdout",
     "output_type": "stream",
     "text": [
      "1\n",
      "2\n",
      "3\n",
      "4\n",
      "5\n",
      "6\n",
      "6\n"
     ]
    }
   ],
   "source": [
    "for i in t:\n",
    "    print(i)"
   ]
  },
  {
   "cell_type": "code",
   "execution_count": 6,
   "id": "99e5056c",
   "metadata": {},
   "outputs": [],
   "source": [
    "l = [1,4,5.6,4+7j,\"sudh\"]"
   ]
  },
  {
   "cell_type": "code",
   "execution_count": 7,
   "id": "74810844",
   "metadata": {},
   "outputs": [
    {
     "name": "stdout",
     "output_type": "stream",
     "text": [
      "1  -  <class 'int'>\n",
      "4  -  <class 'int'>\n",
      "5.6  -  <class 'float'>\n",
      "(4+7j)  -  <class 'complex'>\n",
      "sudh  -  <class 'str'>\n"
     ]
    }
   ],
   "source": [
    "for i in l:\n",
    "    print(i,\" - \",type(i))"
   ]
  },
  {
   "cell_type": "code",
   "execution_count": 8,
   "id": "530644e9",
   "metadata": {},
   "outputs": [
    {
     "name": "stdout",
     "output_type": "stream",
     "text": [
      "{<class 'int'>: 2, <class 'float'>: 1, <class 'complex'>: 1, <class 'str'>: 1}\n"
     ]
    }
   ],
   "source": [
    "type_lst = dict()\n",
    "for i in l:\n",
    "    ty = type(i)\n",
    "    type_lst[ty] = type_lst.get(ty,0)+1\n",
    "print(type_lst)"
   ]
  },
  {
   "cell_type": "code",
   "execution_count": 17,
   "id": "045978e8",
   "metadata": {},
   "outputs": [
    {
     "name": "stdout",
     "output_type": "stream",
     "text": [
      "[3, 6, 7.6, 0]\n"
     ]
    }
   ],
   "source": [
    "l = [1,4,5.6,\"sudh\"]\n",
    "temp = []\n",
    "for i in l:\n",
    "    if type(i) == str:\n",
    "        new_num = 0\n",
    "    else:\n",
    "        new_num = i + 2\n",
    "    temp.append(new_num)\n",
    "print(temp)"
   ]
  },
  {
   "cell_type": "code",
   "execution_count": 14,
   "id": "e21fb0e6",
   "metadata": {},
   "outputs": [],
   "source": [
    "lst = [2,45,78,12,\"sudh\",6+7j,[56,67,78,\"dsf\"]]"
   ]
  },
  {
   "cell_type": "code",
   "execution_count": 17,
   "id": "edd4d81f",
   "metadata": {},
   "outputs": [
    {
     "name": "stdout",
     "output_type": "stream",
     "text": [
      "0  -  2\n",
      "1  -  45\n",
      "2  -  78\n",
      "3  -  12\n",
      "4  -  sudh\n",
      "5  -  (6+7j)\n",
      "6  -  [56, 67, 78, 'dsf']\n",
      "[4, 2025, 6084, 144]\n",
      "['s', 'u', 'd', 'h']\n"
     ]
    }
   ],
   "source": [
    "sqr = []\n",
    "for i in range(len(lst)):\n",
    "    print(i,\" - \",lst[i])\n",
    "    if type(lst[i]) == str:\n",
    "        chr_lst = []\n",
    "        for j in lst[i]:\n",
    "            chr_lst.append(j)\n",
    "    if type(lst[i]) == int:\n",
    "        sqr.append(lst[i]*lst[i])\n",
    "print(sqr)\n",
    "print(chr_lst)"
   ]
  },
  {
   "cell_type": "code",
   "execution_count": null,
   "id": "2c83f271",
   "metadata": {},
   "outputs": [],
   "source": []
  },
  {
   "cell_type": "markdown",
   "id": "355d6821",
   "metadata": {},
   "source": [
    "### enumerate()"
   ]
  },
  {
   "cell_type": "code",
   "execution_count": 9,
   "id": "1a4cf0f7",
   "metadata": {},
   "outputs": [
    {
     "name": "stdout",
     "output_type": "stream",
     "text": [
      "(0, 2)\n",
      "(1, 45)\n",
      "(2, 78)\n",
      "(3, 12)\n",
      "(4, 'sudh')\n",
      "(5, (6+7j))\n",
      "(6, [56, 67, 78, 'dsf'])\n"
     ]
    }
   ],
   "source": [
    "for i in enumerate(lst):\n",
    "    print(i)"
   ]
  },
  {
   "cell_type": "code",
   "execution_count": 10,
   "id": "8451f2a2",
   "metadata": {},
   "outputs": [
    {
     "name": "stdout",
     "output_type": "stream",
     "text": [
      "0 2\n",
      "1 45\n",
      "2 78\n",
      "3 12\n",
      "4 sudh\n",
      "5 (6+7j)\n",
      "6 [56, 67, 78, 'dsf']\n"
     ]
    }
   ],
   "source": [
    "for i,j in enumerate(lst):\n",
    "    print(i,j)"
   ]
  },
  {
   "cell_type": "code",
   "execution_count": 12,
   "id": "56ba056a",
   "metadata": {},
   "outputs": [
    {
     "name": "stdout",
     "output_type": "stream",
     "text": [
      "['s', 'u', 'd', 'h']\n"
     ]
    }
   ],
   "source": [
    "for i in lst:\n",
    "    if type(i) == str:\n",
    "        chr_lst = []\n",
    "        for j in i:\n",
    "            chr_lst.append(j)\n",
    "        print(chr_lst)"
   ]
  },
  {
   "cell_type": "code",
   "execution_count": null,
   "id": "1b2315af",
   "metadata": {},
   "outputs": [],
   "source": []
  },
  {
   "cell_type": "markdown",
   "id": "b95d5827",
   "metadata": {},
   "source": [
    "## Monday - 20-12-2021"
   ]
  },
  {
   "cell_type": "code",
   "execution_count": 1,
   "id": "7fe604b3",
   "metadata": {},
   "outputs": [
    {
     "name": "stdout",
     "output_type": "stream",
     "text": [
      "i\n",
      "n\n",
      "e\n",
      "u\n",
      "r\n",
      "o\n",
      "n\n"
     ]
    }
   ],
   "source": [
    "s = \"ineuron\"\n",
    "for i in s:\n",
    "    print(i)"
   ]
  },
  {
   "cell_type": "code",
   "execution_count": null,
   "id": "da1cd843",
   "metadata": {},
   "outputs": [],
   "source": []
  },
  {
   "cell_type": "markdown",
   "id": "bc24c51d",
   "metadata": {},
   "source": [
    "### for - else "
   ]
  },
  {
   "cell_type": "code",
   "execution_count": 3,
   "id": "8738e089",
   "metadata": {},
   "outputs": [
    {
     "data": {
      "text/plain": [
       "['name', 'emailid', 'phoneno', 'address']"
      ]
     },
     "execution_count": 3,
     "metadata": {},
     "output_type": "execute_result"
    }
   ],
   "source": [
    "l = [\"name\",\"emailid\",\"phoneno\",\"address\"]\n",
    "l"
   ]
  },
  {
   "cell_type": "code",
   "execution_count": 4,
   "id": "62680310",
   "metadata": {},
   "outputs": [
    {
     "name": "stdout",
     "output_type": "stream",
     "text": [
      "name\n",
      "emailid\n",
      "phoneno\n",
      "address\n",
      "Else Statement\n"
     ]
    }
   ],
   "source": [
    "for i in l:\n",
    "    print(i)\n",
    "else:\n",
    "    print(\"Else Statement\")"
   ]
  },
  {
   "cell_type": "code",
   "execution_count": 5,
   "id": "728e59e6",
   "metadata": {},
   "outputs": [],
   "source": [
    "# if for loop gets interrupted in between \n",
    "# then else statement will not get executed"
   ]
  },
  {
   "cell_type": "code",
   "execution_count": 6,
   "id": "f8e67171",
   "metadata": {},
   "outputs": [
    {
     "name": "stdout",
     "output_type": "stream",
     "text": [
      "name\n",
      "emailid\n",
      "phoneno\n"
     ]
    }
   ],
   "source": [
    "for i in l:\n",
    "    print(i)\n",
    "    if i == \"phoneno\":\n",
    "        break\n",
    "else:\n",
    "    print(\"Else Statement\")"
   ]
  },
  {
   "cell_type": "code",
   "execution_count": 7,
   "id": "319fd6d2",
   "metadata": {},
   "outputs": [],
   "source": [
    "def loop(l):\n",
    "    for i in l:\n",
    "        print(i)\n",
    "        if i == \"phoneno\":\n",
    "            return\n",
    "    else:\n",
    "        print(\"Else statement\")"
   ]
  },
  {
   "cell_type": "code",
   "execution_count": 8,
   "id": "42b0b66b",
   "metadata": {},
   "outputs": [
    {
     "name": "stdout",
     "output_type": "stream",
     "text": [
      "name\n",
      "emailid\n",
      "phoneno\n"
     ]
    }
   ],
   "source": [
    "loop(l)"
   ]
  },
  {
   "cell_type": "code",
   "execution_count": null,
   "id": "23a6adeb",
   "metadata": {},
   "outputs": [],
   "source": []
  },
  {
   "cell_type": "markdown",
   "id": "24f28c84",
   "metadata": {},
   "source": [
    "## while loop"
   ]
  },
  {
   "cell_type": "code",
   "execution_count": 10,
   "id": "56b7571a",
   "metadata": {},
   "outputs": [
    {
     "name": "stdout",
     "output_type": "stream",
     "text": [
      "1\n",
      "2\n",
      "3\n",
      "4\n",
      "5\n",
      "6\n"
     ]
    }
   ],
   "source": [
    "a = 0\n",
    "while a < 6:\n",
    "    a+=1\n",
    "    print(a)\n"
   ]
  },
  {
   "cell_type": "code",
   "execution_count": 13,
   "id": "526bef50",
   "metadata": {},
   "outputs": [
    {
     "name": "stdout",
     "output_type": "stream",
     "text": [
      "1\n",
      "2\n",
      "3\n",
      "4\n"
     ]
    }
   ],
   "source": [
    "a = 1\n",
    "while a < 5:\n",
    "    print(a)\n",
    "    if a == 4:\n",
    "        break\n",
    "    a+=1"
   ]
  },
  {
   "cell_type": "code",
   "execution_count": null,
   "id": "46b53472",
   "metadata": {},
   "outputs": [],
   "source": []
  },
  {
   "cell_type": "code",
   "execution_count": 14,
   "id": "cf82486d",
   "metadata": {},
   "outputs": [],
   "source": [
    "# range()"
   ]
  },
  {
   "cell_type": "code",
   "execution_count": 15,
   "id": "463e1b54",
   "metadata": {},
   "outputs": [
    {
     "data": {
      "text/plain": [
       "[]"
      ]
     },
     "execution_count": 15,
     "metadata": {},
     "output_type": "execute_result"
    }
   ],
   "source": [
    "list(range(3,10,-1))"
   ]
  },
  {
   "cell_type": "code",
   "execution_count": 16,
   "id": "33fff5d1",
   "metadata": {},
   "outputs": [
    {
     "data": {
      "text/plain": [
       "[10, 9, 8, 7]"
      ]
     },
     "execution_count": 16,
     "metadata": {},
     "output_type": "execute_result"
    }
   ],
   "source": [
    "list(range(10,6,-1))"
   ]
  },
  {
   "cell_type": "code",
   "execution_count": null,
   "id": "b83c1838",
   "metadata": {},
   "outputs": [],
   "source": []
  }
 ],
 "metadata": {
  "kernelspec": {
   "display_name": "Python 3",
   "language": "python",
   "name": "python3"
  },
  "language_info": {
   "codemirror_mode": {
    "name": "ipython",
    "version": 3
   },
   "file_extension": ".py",
   "mimetype": "text/x-python",
   "name": "python",
   "nbconvert_exporter": "python",
   "pygments_lexer": "ipython3",
   "version": "3.8.8"
  }
 },
 "nbformat": 4,
 "nbformat_minor": 5
}
