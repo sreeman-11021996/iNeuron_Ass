{
 "cells": [
  {
   "cell_type": "code",
   "execution_count": 1,
   "id": "7c93fd76",
   "metadata": {},
   "outputs": [],
   "source": [
    "def f1(func):\n",
    "    def wrapper():\n",
    "        print(\"Started\")\n",
    "        func()\n",
    "        print(\"Ended\")\n",
    "    \n",
    "    return wrapper"
   ]
  },
  {
   "cell_type": "code",
   "execution_count": 2,
   "id": "1c31a5b9",
   "metadata": {},
   "outputs": [],
   "source": [
    "## @f1 ==> f = f1(f) => f = wrapper function object\n",
    "@f1\n",
    "def f():\n",
    "    print(\"Hello\")"
   ]
  },
  {
   "cell_type": "code",
   "execution_count": 3,
   "id": "a3c5935c",
   "metadata": {},
   "outputs": [
    {
     "name": "stdout",
     "output_type": "stream",
     "text": [
      "Started\n",
      "Hello\n",
      "Ended\n"
     ]
    }
   ],
   "source": [
    "f()"
   ]
  },
  {
   "cell_type": "code",
   "execution_count": null,
   "id": "4bf6693f",
   "metadata": {},
   "outputs": [],
   "source": [
    "## We can pass arguments to the function we want to decorate"
   ]
  },
  {
   "cell_type": "code",
   "execution_count": 4,
   "id": "d33e7211",
   "metadata": {},
   "outputs": [],
   "source": [
    "def f1(func):\n",
    "    def wrapper(*args, **kwargs):\n",
    "        print(\"Started\")\n",
    "        func(*args, **kwargs)\n",
    "        print(\"Ended\")\n",
    "    \n",
    "    return wrapper\n",
    "\n",
    "@f1\n",
    "def f(a, b=9):\n",
    "    print(a,b)"
   ]
  },
  {
   "cell_type": "code",
   "execution_count": 5,
   "id": "76f2dd02",
   "metadata": {},
   "outputs": [
    {
     "name": "stdout",
     "output_type": "stream",
     "text": [
      "Started\n",
      "Hi 9\n",
      "Ended\n"
     ]
    }
   ],
   "source": [
    "f(\"Hi\")"
   ]
  },
  {
   "cell_type": "code",
   "execution_count": null,
   "id": "b3f5033a",
   "metadata": {},
   "outputs": [],
   "source": []
  },
  {
   "cell_type": "code",
   "execution_count": 6,
   "id": "46345aae",
   "metadata": {},
   "outputs": [],
   "source": [
    "# if we want to return the value of our function f"
   ]
  },
  {
   "cell_type": "code",
   "execution_count": 17,
   "id": "39c12c2c",
   "metadata": {},
   "outputs": [
    {
     "ename": "TypeError",
     "evalue": "f1() missing 1 required positional argument: 'func'",
     "output_type": "error",
     "traceback": [
      "\u001b[1;31m---------------------------------------------------------------------------\u001b[0m",
      "\u001b[1;31mTypeError\u001b[0m                                 Traceback (most recent call last)",
      "\u001b[1;32m<ipython-input-17-adab0e114fe2>\u001b[0m in \u001b[0;36m<module>\u001b[1;34m\u001b[0m\n\u001b[0;32m      8\u001b[0m     \u001b[1;32mreturn\u001b[0m \u001b[0mwrapper\u001b[0m\u001b[1;33m\u001b[0m\u001b[1;33m\u001b[0m\u001b[0m\n\u001b[0;32m      9\u001b[0m \u001b[1;33m\u001b[0m\u001b[0m\n\u001b[1;32m---> 10\u001b[1;33m \u001b[1;33m@\u001b[0m\u001b[0mf1\u001b[0m\u001b[1;33m(\u001b[0m\u001b[0mname\u001b[0m \u001b[1;33m=\u001b[0m\u001b[1;34m\"5\"\u001b[0m\u001b[1;33m)\u001b[0m\u001b[1;33m\u001b[0m\u001b[1;33m\u001b[0m\u001b[0m\n\u001b[0m\u001b[0;32m     11\u001b[0m \u001b[1;32mdef\u001b[0m \u001b[0msum\u001b[0m\u001b[1;33m(\u001b[0m\u001b[0mx\u001b[0m\u001b[1;33m,\u001b[0m \u001b[0my\u001b[0m\u001b[1;33m)\u001b[0m\u001b[1;33m:\u001b[0m\u001b[1;33m\u001b[0m\u001b[1;33m\u001b[0m\u001b[0m\n\u001b[0;32m     12\u001b[0m     \u001b[1;32mreturn\u001b[0m \u001b[0mx\u001b[0m\u001b[1;33m+\u001b[0m\u001b[0my\u001b[0m\u001b[1;33m\u001b[0m\u001b[1;33m\u001b[0m\u001b[0m\n",
      "\u001b[1;31mTypeError\u001b[0m: f1() missing 1 required positional argument: 'func'"
     ]
    }
   ],
   "source": [
    "def f1(func,**name):\n",
    "    def wrapper(*args, **kwargs):\n",
    "        print(\"Started\")\n",
    "        val = func(*args, **kwargs)\n",
    "        print(\"Ended\")\n",
    "        return val\n",
    "    \n",
    "    return wrapper\n",
    "\n",
    "@f1(name =\"5\")\n",
    "def sum(x, y):\n",
    "    return x+y"
   ]
  },
  {
   "cell_type": "code",
   "execution_count": 12,
   "id": "2426a612",
   "metadata": {},
   "outputs": [
    {
     "name": "stdout",
     "output_type": "stream",
     "text": [
      "Started\n",
      "Ended\n",
      "9\n"
     ]
    }
   ],
   "source": [
    "print(sum(4,5))"
   ]
  },
  {
   "cell_type": "code",
   "execution_count": null,
   "id": "3dde3589",
   "metadata": {},
   "outputs": [],
   "source": []
  },
  {
   "cell_type": "code",
   "execution_count": 18,
   "id": "fe10e4ce",
   "metadata": {},
   "outputs": [],
   "source": [
    "## if we want to pass parameters to decorator"
   ]
  },
  {
   "cell_type": "code",
   "execution_count": 41,
   "id": "9e08c0cc",
   "metadata": {},
   "outputs": [
    {
     "name": "stdout",
     "output_type": "stream",
     "text": [
      "[27, 64, 125, 216, 343, 512, 729]\n"
     ]
    }
   ],
   "source": [
    "def exp_num(num):\n",
    "    def exp_calc (func):\n",
    "        def wrapper(x,y):\n",
    "            return [val**num for val in func(x,y)]\n",
    "        return wrapper\n",
    "    return exp_calc\n",
    "\n",
    "@exp_num(3)\n",
    "def return_list (val1,val2):\n",
    "    return range(val1+1,val2)\n",
    "\n",
    "print(return_list(2,10))"
   ]
  },
  {
   "cell_type": "code",
   "execution_count": 11,
   "id": "7f24b25b",
   "metadata": {},
   "outputs": [],
   "source": [
    "def exp_num(num):\n",
    "    def exp_calc (func):\n",
    "        def wrapper(x,y):\n",
    "            return [val**num for val in func(x,y)]\n",
    "        return wrapper\n",
    "    return exp_calc\n",
    "\n",
    "def return_list (val1,val2):\n",
    "    return range(val1+1,val2)"
   ]
  },
  {
   "cell_type": "code",
   "execution_count": 12,
   "id": "f09889ce",
   "metadata": {},
   "outputs": [
    {
     "data": {
      "text/plain": [
       "[9, 16, 25, 36, 49, 64, 81]"
      ]
     },
     "execution_count": 12,
     "metadata": {},
     "output_type": "execute_result"
    }
   ],
   "source": [
    "return_list = exp_num(2)(return_list)\n",
    "return_list(2,10)"
   ]
  },
  {
   "cell_type": "code",
   "execution_count": null,
   "id": "48b61dcc",
   "metadata": {},
   "outputs": [],
   "source": []
  }
 ],
 "metadata": {
  "kernelspec": {
   "display_name": "Python 3",
   "language": "python",
   "name": "python3"
  },
  "language_info": {
   "codemirror_mode": {
    "name": "ipython",
    "version": 3
   },
   "file_extension": ".py",
   "mimetype": "text/x-python",
   "name": "python",
   "nbconvert_exporter": "python",
   "pygments_lexer": "ipython3",
   "version": "3.8.8"
  }
 },
 "nbformat": 4,
 "nbformat_minor": 5
}
